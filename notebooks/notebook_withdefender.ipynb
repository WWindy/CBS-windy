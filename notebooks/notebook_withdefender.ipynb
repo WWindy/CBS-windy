{
 "cells": [
  {
   "cell_type": "code",
   "execution_count": 1,
   "id": "seven-brave",
   "metadata": {
    "execution": {
     "iopub.execute_input": "2021-09-06T21:30:26.160852Z",
     "iopub.status.busy": "2021-09-06T21:30:26.160206Z",
     "iopub.status.idle": "2021-09-06T21:30:26.164014Z",
     "shell.execute_reply": "2021-09-06T21:30:26.164519Z"
    },
    "papermill": {
     "duration": 0.0212,
     "end_time": "2021-09-06T21:30:26.164779",
     "exception": false,
     "start_time": "2021-09-06T21:30:26.143579",
     "status": "completed"
    },
    "tags": []
   },
   "outputs": [
    {
     "data": {
      "text/plain": [
       "'Attacker agent benchmark comparison in presence of a basic defender\\n\\nThis notebooks can be run directly from VSCode, to generate a\\ntraditional Jupyter Notebook to open in your browser\\n you can run the VSCode command `Export Currenty Python File As Jupyter Notebook`.\\n'"
      ]
     },
     "execution_count": 1,
     "metadata": {},
     "output_type": "execute_result"
    }
   ],
   "source": [
    "# Copyright (c) Microsoft Corporation.\n",
    "# Licensed under the MIT License.\n",
    "\n",
    "\"\"\"Attacker agent benchmark comparison in presence of a basic defender\n",
    "\n",
    "This notebooks can be run directly from VSCode, to generate a\n",
    "traditional Jupyter Notebook to open in your browser\n",
    " you can run the VSCode command `Export Currenty Python File As Jupyter Notebook`.\n",
    "\"\"\""
   ]
  },
  {
   "cell_type": "code",
   "execution_count": 1,
   "id": "macro-definition",
   "metadata": {
    "execution": {
     "iopub.execute_input": "2021-09-06T21:30:26.189987Z",
     "iopub.status.busy": "2021-09-06T21:30:26.189388Z",
     "iopub.status.idle": "2021-09-06T21:30:27.462678Z",
     "shell.execute_reply": "2021-09-06T21:30:27.463163Z"
    },
    "lines_to_next_cell": 2,
    "papermill": {
     "duration": 1.289318,
     "end_time": "2021-09-06T21:30:27.463323",
     "exception": false,
     "start_time": "2021-09-06T21:30:26.174005",
     "status": "completed"
    },
    "tags": []
   },
   "outputs": [
    {
     "name": "stderr",
     "output_type": "stream",
     "text": [
      "/home/windy/anaconda3/envs/cyberbattle/lib/python3.8/site-packages/torch/cuda/__init__.py:141: UserWarning: CUDA initialization: The NVIDIA driver on your system is too old (found version 11040). Please update your GPU driver by downloading and installing a new version from the URL: http://www.nvidia.com/Download/index.aspx Alternatively, go to: https://pytorch.org to install a PyTorch version that has been compiled with your version of the CUDA driver. (Triggered internally at ../c10/cuda/CUDAFunctions.cpp:108.)\n",
      "  return torch._C._cuda_getDeviceCount() > 0\n"
     ]
    }
   ],
   "source": [
    "import sys\n",
    "import logging\n",
    "import gym\n",
    "import importlib\n",
    "import sys\n",
    "sys.path.append('/home/windy/Desktop/experiment/CyberBattleSim')\n",
    "import cyberbattle.agents.baseline.learner as learner\n",
    "import cyberbattle.agents.baseline.plotting as p\n",
    "import cyberbattle.agents.baseline.agent_wrapper as w\n",
    "import cyberbattle.agents.baseline.agent_dql as dqla\n",
    "import cyberbattle.agents.baseline.agent_randomcredlookup as rca\n",
    "from cyberbattle.agents.baseline.agent_wrapper import Verbosity\n",
    "from cyberbattle._env.defender import ScanAndReimageCompromisedMachines\n",
    "from cyberbattle._env.defender1 import LearningDefender\n",
    "from cyberbattle._env.cyberbattle_env import AttackerGoal, DefenderConstraint,CyberBattleEnv\n",
    "\n",
    "importlib.reload(learner)\n",
    "importlib.reload(p)\n",
    "\n",
    "logging.basicConfig(stream=sys.stdout, level=logging.ERROR, format=\"%(levelname)s: %(message)s\")\n",
    "\n",
    "\n",
    "cyberbattlechain_defender = gym.make('CyberBattleToyCtf-v0',\n",
    "                                     attacker_goal=AttackerGoal(\n",
    "                                         own_atleast=0,\n",
    "                                         own_atleast_percent=1.0\n",
    "                                     ),\n",
    "                                     defender_constraint=DefenderConstraint(\n",
    "                                         maintain_sla=0.80\n",
    "                                     ),\n",
    "                                     defender_agent=ScanAndReimageCompromisedMachines(\n",
    "                                         probability=0.6,\n",
    "                                         scan_capacity=2,\n",
    "                                         scan_frequency=5))\n",
    "\n",
    "\n",
    "ep = w.EnvironmentBounds.of_identifiers(\n",
    "    maximum_total_credentials=22,\n",
    "    maximum_node_count=22,\n",
    "    identifiers=cyberbattlechain_defender.identifiers\n",
    ")\n",
    "\n",
    "iteration_count = 600\n",
    "training_episode_count = 10"
   ]
  },
  {
   "cell_type": "code",
   "execution_count": 7,
   "id": "floating-cambridge",
   "metadata": {
    "execution": {
     "iopub.execute_input": "2021-09-06T21:30:27.483522Z",
     "iopub.status.busy": "2021-09-06T21:30:27.482924Z",
     "iopub.status.idle": "2021-09-06T21:31:15.629422Z",
     "shell.execute_reply": "2021-09-06T21:31:15.629934Z"
    },
    "lines_to_next_cell": 2,
    "papermill": {
     "duration": 48.159492,
     "end_time": "2021-09-06T21:31:15.630154",
     "exception": false,
     "start_time": "2021-09-06T21:30:27.470662",
     "status": "completed"
    },
    "tags": []
   },
   "outputs": [
    {
     "name": "stdout",
     "output_type": "stream",
     "text": [
      "###### DQL\n",
      "Learning with: episode_count=10,iteration_count=600,ϵ=0.9,ϵ_min=0.1, ϵ_expdecay=5000,γ=0.15, lr=0.01, replaymemory=10000,\n",
      "batch=256, target_update=5\n",
      "  ## Episode: 1/10 'DQL' ϵ=0.9000, γ=0.15, lr=0.01, replaymemory=10000,\n",
      "batch=256, target_update=5\n"
     ]
    },
    {
     "name": "stderr",
     "output_type": "stream",
     "text": [
      "Episode 1|Iteration 0|reward: ------|last_reward_at: ----|Elapsed Time: 0:00:00||\n",
      "Episode 1|Iteration 1|reward:    6.0|last_reward_at: ----|Elapsed Time: 0:00:00||\n",
      "Episode 1|Iteration 1|reward:    6.0|last_reward_at:    1|Elapsed Time: 0:00:00||\n",
      "Episode 1|Iteration 4|reward:    6.0|last_reward_at:    1|Elapsed Time: 0:00:00||\n",
      "Episode 1|Iteration 12|reward:   12.0|last_reward_at:    1|Elapsed Time: 0:00:00||\n",
      "Episode 1|Iteration 12|reward:   12.0|last_reward_at:   12|Elapsed Time: 0:00:00||\n",
      "Episode 1|Iteration 13|reward:   18.0|last_reward_at:   12|Elapsed Time: 0:00:00||\n",
      "Episode 1|Iteration 13|reward:   18.0|last_reward_at:   13|Elapsed Time: 0:00:00||\n",
      "Episode 1|Iteration 23|reward:   18.0|last_reward_at:   13|Elapsed Time: 0:00:00||\n",
      "Episode 1|Iteration 23|reward:   27.0|last_reward_at:   13|Elapsed Time: 0:00:00||\n",
      "Episode 1|Iteration 23|reward:   27.0|last_reward_at:   23|Elapsed Time: 0:00:00||\n",
      "Episode 1|Iteration 31|reward:   27.0|last_reward_at:   23|Elapsed Time: 0:00:00||\n",
      "Episode 1|Iteration 38|reward:   36.0|last_reward_at:   23|Elapsed Time: 0:00:00||\n",
      "Episode 1|Iteration 38|reward:   36.0|last_reward_at:   38|Elapsed Time: 0:00:00||\n",
      "Episode 1|Iteration 44|reward:   42.0|last_reward_at:   38|Elapsed Time: 0:00:00||\n",
      "Episode 1|Iteration 44|reward:   42.0|last_reward_at:   44|Elapsed Time: 0:00:00||\n",
      "Episode 1|Iteration 54|reward:   42.0|last_reward_at:   44|Elapsed Time: 0:00:00||\n",
      "Episode 1|Iteration 57|reward:   48.0|last_reward_at:   44|Elapsed Time: 0:00:00||\n",
      "Episode 1|Iteration 57|reward:   48.0|last_reward_at:   57|Elapsed Time: 0:00:00||\n",
      "Episode 1|Iteration 69|reward:   48.0|last_reward_at:   57|Elapsed Time: 0:00:00||\n",
      "Episode 1|Iteration 84|reward:   48.0|last_reward_at:   57|Elapsed Time: 0:00:00||\n",
      "Episode 1|Iteration 94|reward:   57.0|last_reward_at:   57|Elapsed Time: 0:00:00||\n",
      "Episode 1|Iteration 94|reward:   57.0|last_reward_at:   94|Elapsed Time: 0:00:00||\n",
      "Episode 1|Iteration 104|reward:   63.0|last_reward_at:   94|Elapsed Time: 0:00:00||\n",
      "Episode 1|Iteration 104|reward:   63.0|last_reward_at:  104|Elapsed Time: 0:00:00||\n",
      "Episode 1|Iteration 114|reward:   63.0|last_reward_at:  104|Elapsed Time: 0:00:00||\n",
      "Episode 1|Iteration 128|reward:  113.0|last_reward_at:  104|Elapsed Time: 0:00:00||\n",
      "Episode 1|Iteration 128|reward:  113.0|last_reward_at:  128|Elapsed Time: 0:00:00||\n",
      "Episode 1|Iteration 145|reward:  113.0|last_reward_at:  128|Elapsed Time: 0:00:01||\n",
      "Episode 1|Iteration 160|reward:  113.0|last_reward_at:  128|Elapsed Time: 0:00:01||\n",
      "Episode 1|Iteration 175|reward:  113.0|last_reward_at:  128|Elapsed Time: 0:00:01||\n",
      "Episode 1|Iteration 190|reward:  113.0|last_reward_at:  128|Elapsed Time: 0:00:01||\n",
      "Episode 1|Iteration 206|reward:  113.0|last_reward_at:  128|Elapsed Time: 0:00:01||\n",
      "Episode 1|Iteration 221|reward:  113.0|last_reward_at:  128|Elapsed Time: 0:00:01||\n",
      "Episode 1|Iteration 236|reward:  113.0|last_reward_at:  128|Elapsed Time: 0:00:01||\n",
      "Episode 1|Iteration 250|reward:  113.0|last_reward_at:  128|Elapsed Time: 0:00:01||\n",
      "Episode 1|Iteration 251|reward:  113.0|last_reward_at:  128|Elapsed Time: 0:00:01||\n",
      "Episode 1|Iteration 252|reward:  113.0|last_reward_at:  128|Elapsed Time: 0:00:01||\n",
      "Episode 1|Iteration 256|reward:  113.0|last_reward_at:  128|Elapsed Time: 0:00:01||\n",
      "Episode 1|Iteration 259|reward:  113.0|last_reward_at:  128|Elapsed Time: 0:00:02||\n",
      "Episode 1|Iteration 262|reward:  113.0|last_reward_at:  128|Elapsed Time: 0:00:02||\n",
      "Episode 1|Iteration 265|reward:  113.0|last_reward_at:  128|Elapsed Time: 0:00:02||\n",
      "Episode 1|Iteration 269|reward:  113.0|last_reward_at:  128|Elapsed Time: 0:00:02||\n",
      "Episode 1|Iteration 273|reward:  113.0|last_reward_at:  128|Elapsed Time: 0:00:02||\n",
      "Episode 1|Iteration 277|reward:  113.0|last_reward_at:  128|Elapsed Time: 0:00:02||\n",
      "Episode 1|Iteration 281|reward:  113.0|last_reward_at:  128|Elapsed Time: 0:00:02||\n",
      "Episode 1|Iteration 285|reward:  113.0|last_reward_at:  128|Elapsed Time: 0:00:02||\n",
      "Episode 1|Iteration 289|reward:  113.0|last_reward_at:  128|Elapsed Time: 0:00:02||\n",
      "Episode 1|Iteration 292|reward:  113.0|last_reward_at:  128|Elapsed Time: 0:00:03||\n",
      "Episode 1|Iteration 296|reward:  113.0|last_reward_at:  128|Elapsed Time: 0:00:03||\n",
      "Episode 1|Iteration 300|reward:  113.0|last_reward_at:  128|Elapsed Time: 0:00:03||\n",
      "Episode 1|Iteration 304|reward:  113.0|last_reward_at:  128|Elapsed Time: 0:00:03||\n",
      "Episode 1|Iteration 307|reward:  113.0|last_reward_at:  128|Elapsed Time: 0:00:03||\n",
      "Episode 1|Iteration 311|reward:  113.0|last_reward_at:  128|Elapsed Time: 0:00:03||\n",
      "Episode 1|Iteration 315|reward:  113.0|last_reward_at:  128|Elapsed Time: 0:00:03||\n",
      "Episode 1|Iteration 319|reward:  113.0|last_reward_at:  128|Elapsed Time: 0:00:03||\n",
      "Episode 1|Iteration 322|reward:  113.0|last_reward_at:  128|Elapsed Time: 0:00:03||\n",
      "Episode 1|Iteration 326|reward:  113.0|last_reward_at:  128|Elapsed Time: 0:00:03||\n",
      "Episode 1|Iteration 330|reward:  113.0|last_reward_at:  128|Elapsed Time: 0:00:04||\n",
      "Episode 1|Iteration 334|reward:  113.0|last_reward_at:  128|Elapsed Time: 0:00:04||\n",
      "Episode 1|Iteration 338|reward:  113.0|last_reward_at:  128|Elapsed Time: 0:00:04||\n",
      "Episode 1|Iteration 342|reward:  113.0|last_reward_at:  128|Elapsed Time: 0:00:04||\n",
      "Episode 1|Iteration 345|reward:  113.0|last_reward_at:  128|Elapsed Time: 0:00:04||\n",
      "Episode 1|Iteration 348|reward:  113.0|last_reward_at:  128|Elapsed Time: 0:00:04||\n",
      "Episode 1|Iteration 351|reward:  113.0|last_reward_at:  128|Elapsed Time: 0:00:04||\n",
      "Episode 1|Iteration 354|reward:  113.0|last_reward_at:  128|Elapsed Time: 0:00:04||\n",
      "Episode 1|Iteration 357|reward:  113.0|last_reward_at:  128|Elapsed Time: 0:00:04||\n",
      "Episode 1|Iteration 360|reward:  113.0|last_reward_at:  128|Elapsed Time: 0:00:05||\n",
      "Episode 1|Iteration 364|reward:  113.0|last_reward_at:  128|Elapsed Time: 0:00:05||\n",
      "Episode 1|Iteration 367|reward:  113.0|last_reward_at:  128|Elapsed Time: 0:00:05||\n",
      "Episode 1|Iteration 371|reward:  113.0|last_reward_at:  128|Elapsed Time: 0:00:05||\n",
      "Episode 1|Iteration 375|reward:  113.0|last_reward_at:  128|Elapsed Time: 0:00:05||\n",
      "Episode 1|Iteration 379|reward:  113.0|last_reward_at:  128|Elapsed Time: 0:00:05||\n",
      "Episode 1|Iteration 383|reward:  113.0|last_reward_at:  128|Elapsed Time: 0:00:05||\n",
      "Episode 1|Iteration 387|reward:  113.0|last_reward_at:  128|Elapsed Time: 0:01:10||\n",
      "Episode 1|Iteration 388|reward:  113.0|last_reward_at:  128|Elapsed Time: 0:12:42||\n",
      "Episode 1|Iteration 389|reward:  113.0|last_reward_at:  128|Elapsed Time: 0:12:42||\n",
      "Episode 1|Iteration 391|reward:  113.0|last_reward_at:  128|Elapsed Time: 0:12:42||\n",
      "Episode 1|Iteration 394|reward:  113.0|last_reward_at:  128|Elapsed Time: 0:12:42||\n",
      "Episode 1|Iteration 398|reward:  113.0|last_reward_at:  128|Elapsed Time: 0:12:42||\n",
      "Episode 1|Iteration 402|reward:  113.0|last_reward_at:  128|Elapsed Time: 0:12:42||\n",
      "Episode 1|Iteration 406|reward:  113.0|last_reward_at:  128|Elapsed Time: 0:12:43||\n",
      "Episode 1|Iteration 410|reward:  113.0|last_reward_at:  128|Elapsed Time: 0:12:43||\n",
      "Episode 1|Iteration 414|reward:  113.0|last_reward_at:  128|Elapsed Time: 0:12:43||\n",
      "Episode 1|Iteration 418|reward:  113.0|last_reward_at:  128|Elapsed Time: 0:12:43||\n",
      "Episode 1|Iteration 420|reward:  113.0|last_reward_at:  128|Elapsed Time: 0:12:43||\n",
      "Episode 1|Iteration 421|reward:  113.0|last_reward_at:  128|Elapsed Time: 0:12:43||\n",
      "Episode 1|Iteration 422|reward:  113.0|last_reward_at:  128|Elapsed Time: 0:12:44||\n",
      "Episode 1|Iteration 423|reward:  113.0|last_reward_at:  128|Elapsed Time: 0:12:44||\n",
      "Episode 1|Iteration 424|reward:  113.0|last_reward_at:  128|Elapsed Time: 0:12:44||\n",
      "Episode 1|Iteration 426|reward:  113.0|last_reward_at:  128|Elapsed Time: 0:12:44||\n",
      "Episode 1|Iteration 426|reward:  113.0|last_reward_at:  128|Elapsed Time: 0:12:44||\n",
      "Episode 1|Iteration 427|reward:  113.0|last_reward_at:  128|Elapsed Time: 0:12:45||\n",
      "Episode 1|Iteration 428|reward:  113.0|last_reward_at:  128|Elapsed Time: 0:12:45||\n",
      "Episode 1|Iteration 429|reward:  113.0|last_reward_at:  128|Elapsed Time: 0:12:45||\n",
      "Episode 1|Iteration 430|reward:  113.0|last_reward_at:  128|Elapsed Time: 0:12:46||\n",
      "Episode 1|Iteration 431|reward:  113.0|last_reward_at:  128|Elapsed Time: 0:12:46||\n",
      "Episode 1|Iteration 432|reward:  113.0|last_reward_at:  128|Elapsed Time: 0:12:47||\n",
      "Episode 1|Iteration 434|reward:  113.0|last_reward_at:  128|Elapsed Time: 0:12:47||\n",
      "Episode 1|Iteration 436|reward:  113.0|last_reward_at:  128|Elapsed Time: 0:12:47||\n",
      "Episode 1|Iteration 438|reward:  113.0|last_reward_at:  128|Elapsed Time: 0:12:47||\n",
      "Episode 1|Iteration 440|reward:  113.0|last_reward_at:  128|Elapsed Time: 0:12:48||\n",
      "Episode 1|Iteration 441|reward:  113.0|last_reward_at:  128|Elapsed Time: 0:12:48||\n",
      "Episode 1|Iteration 443|reward:  113.0|last_reward_at:  128|Elapsed Time: 0:12:48||\n",
      "Episode 1|Iteration 446|reward:  113.0|last_reward_at:  128|Elapsed Time: 0:12:48||\n",
      "Episode 1|Iteration 448|reward:  113.0|last_reward_at:  128|Elapsed Time: 0:12:48||\n",
      "Episode 1|Iteration 450|reward:  113.0|last_reward_at:  128|Elapsed Time: 0:12:48||\n",
      "Episode 1|Iteration 452|reward:  113.0|last_reward_at:  128|Elapsed Time: 0:12:49||\n",
      "Episode 1|Iteration 453|reward:  113.0|last_reward_at:  128|Elapsed Time: 0:12:49||\n",
      "Episode 1|Iteration 455|reward:  113.0|last_reward_at:  128|Elapsed Time: 0:12:49||\n",
      "Episode 1|Iteration 457|reward:  113.0|last_reward_at:  128|Elapsed Time: 0:12:49||\n",
      "Episode 1|Iteration 459|reward:  113.0|last_reward_at:  128|Elapsed Time: 0:12:49||\n",
      "Episode 1|Iteration 460|reward:  113.0|last_reward_at:  128|Elapsed Time: 0:12:49||\n",
      "Episode 1|Iteration 462|reward:  113.0|last_reward_at:  128|Elapsed Time: 0:12:49||\n",
      "Episode 1|Iteration 464|reward:  113.0|last_reward_at:  128|Elapsed Time: 0:12:49||\n",
      "Episode 1|Iteration 466|reward:  113.0|last_reward_at:  128|Elapsed Time: 0:12:49||\n",
      "Episode 1|Iteration 468|reward:  113.0|last_reward_at:  128|Elapsed Time: 0:12:50||\n",
      "Episode 1|Iteration 469|reward:  113.0|last_reward_at:  128|Elapsed Time: 0:12:50||\n",
      "Episode 1|Iteration 471|reward:  113.0|last_reward_at:  128|Elapsed Time: 0:12:50||\n",
      "Episode 1|Iteration 473|reward:  113.0|last_reward_at:  128|Elapsed Time: 0:12:50||\n",
      "Episode 1|Iteration 474|reward:  113.0|last_reward_at:  128|Elapsed Time: 0:12:50||\n",
      "Episode 1|Iteration 476|reward:  113.0|last_reward_at:  128|Elapsed Time: 0:12:50||\n",
      "Episode 1|Iteration 479|reward:  113.0|last_reward_at:  128|Elapsed Time: 0:12:50||\n",
      "Episode 1|Iteration 479|reward:  113.0|last_reward_at:  128|Elapsed Time: 0:12:50||\n",
      "Episode 1|Iteration 480|reward:  113.0|last_reward_at:  128|Elapsed Time: 0:12:51||\n",
      "Episode 1|Iteration 483|reward:  113.0|last_reward_at:  128|Elapsed Time: 0:12:51||\n",
      "Episode 1|Iteration 486|reward:  113.0|last_reward_at:  128|Elapsed Time: 0:12:51||\n",
      "Episode 1|Iteration 488|reward:  113.0|last_reward_at:  128|Elapsed Time: 0:12:51||\n",
      "Episode 1|Iteration 489|reward:  113.0|last_reward_at:  128|Elapsed Time: 0:12:51||\n",
      "Episode 1|Iteration 491|reward:  113.0|last_reward_at:  128|Elapsed Time: 0:12:51||\n",
      "Episode 1|Iteration 493|reward:  113.0|last_reward_at:  128|Elapsed Time: 0:12:51||\n",
      "Episode 1|Iteration 495|reward:  113.0|last_reward_at:  128|Elapsed Time: 0:12:51||\n",
      "Episode 1|Iteration 498|reward:  113.0|last_reward_at:  128|Elapsed Time: 0:12:52||\n",
      "Episode 1|Iteration 502|reward:  113.0|last_reward_at:  128|Elapsed Time: 0:12:52||\n",
      "Episode 1|Iteration 506|reward:  113.0|last_reward_at:  128|Elapsed Time: 0:12:52||\n",
      "Episode 1|Iteration 509|reward:  113.0|last_reward_at:  128|Elapsed Time: 0:12:52||\n",
      "Episode 1|Iteration 513|reward:  113.0|last_reward_at:  128|Elapsed Time: 0:12:52||\n",
      "Episode 1|Iteration 517|reward:  113.0|last_reward_at:  128|Elapsed Time: 0:12:52||\n",
      "Episode 1|Iteration 521|reward:  113.0|last_reward_at:  128|Elapsed Time: 0:12:52||\n",
      "Episode 1|Iteration 525|reward:  113.0|last_reward_at:  128|Elapsed Time: 0:12:52||\n",
      "Episode 1|Iteration 529|reward:  113.0|last_reward_at:  128|Elapsed Time: 0:12:52||\n",
      "Episode 1|Iteration 534|reward:  113.0|last_reward_at:  128|Elapsed Time: 0:12:52||\n",
      "Episode 1|Iteration 539|reward:  113.0|last_reward_at:  128|Elapsed Time: 0:12:53||\n",
      "Episode 1|Iteration 543|reward:  113.0|last_reward_at:  128|Elapsed Time: 0:12:53||\n",
      "Episode 1|Iteration 547|reward:  113.0|last_reward_at:  128|Elapsed Time: 0:12:53||\n",
      "Episode 1|Iteration 551|reward:  113.0|last_reward_at:  128|Elapsed Time: 0:12:53||\n",
      "Episode 1|Iteration 555|reward:  113.0|last_reward_at:  128|Elapsed Time: 0:12:53||\n",
      "Episode 1|Iteration 555|reward:  113.0|last_reward_at:  128|Elapsed Time: 0:12:53||\n",
      "Episode 1|Iteration 560|reward:  113.0|last_reward_at:  128|Elapsed Time: 0:12:53||\n",
      "Episode 1|Iteration 563|reward:  113.0|last_reward_at:  128|Elapsed Time: 0:12:53||\n",
      "Episode 1|Iteration 566|reward:  113.0|last_reward_at:  128|Elapsed Time: 0:12:53||\n",
      "Episode 1|Iteration 568|reward:  113.0|last_reward_at:  128|Elapsed Time: 0:12:53||\n",
      "Episode 1|Iteration 572|reward:  113.0|last_reward_at:  128|Elapsed Time: 0:12:54||\n",
      "Episode 1|Iteration 576|reward:  113.0|last_reward_at:  128|Elapsed Time: 0:12:54||\n",
      "Episode 1|Iteration 580|reward:  113.0|last_reward_at:  128|Elapsed Time: 0:12:54||\n",
      "Episode 1|Iteration 583|reward:  113.0|last_reward_at:  128|Elapsed Time: 0:12:54||\n",
      "Episode 1|Iteration 586|reward:  113.0|last_reward_at:  128|Elapsed Time: 0:12:54||\n",
      "Episode 1|Iteration 589|reward:  113.0|last_reward_at:  128|Elapsed Time: 0:12:54||\n",
      "Episode 1|Iteration 592|reward:  113.0|last_reward_at:  128|Elapsed Time: 0:12:54||\n",
      "Episode 1|Iteration 595|reward:  113.0|last_reward_at:  128|Elapsed Time: 0:12:54||\n",
      "Episode 1|Iteration 599|reward:  113.0|last_reward_at:  128|Elapsed Time: 0:12:55||\n",
      "Episode 1|Iteration 600|reward:  113.0|last_reward_at:  128|Elapsed Time: 0:12:55||\n"
     ]
    },
    {
     "name": "stdout",
     "output_type": "stream",
     "text": [
      "  Episode 1 stopped at t=600 \n",
      "  Breakdown [Reward/NoReward (Success rate)]\n",
      "    explore-local: 1/63 (0.02)\n",
      "    explore-remote: 8/218 (0.04)\n",
      "    explore-connect: 1/225 (0.00)\n",
      "    exploit-local: 0/20 (0.00)\n",
      "    exploit-remote: 0/64 (0.00)\n",
      "    exploit-connect: 0/0 (NaN)\n",
      "  exploit deflected to exploration: 6\n",
      "  ## Episode: 2/10 'DQL' ϵ=0.8097, γ=0.15, lr=0.01, replaymemory=10000,\n",
      "batch=256, target_update=5\n"
     ]
    },
    {
     "name": "stderr",
     "output_type": "stream",
     "text": [
      "Episode 2|Iteration 0|reward: ------|last_reward_at: ----|Elapsed Time: 0:00:00||\n",
      "Episode 2|Iteration 1|reward:    0.0|last_reward_at: ----|Elapsed Time: 0:00:00||\n",
      "Episode 2|Iteration 3|reward:    0.0|last_reward_at: ----|Elapsed Time: 0:00:00||\n",
      "Episode 2|Iteration 5|reward:    6.0|last_reward_at: ----|Elapsed Time: 0:00:00||\n",
      "Episode 2|Iteration 5|reward:    6.0|last_reward_at:    5|Elapsed Time: 0:00:00||\n",
      "Episode 2|Iteration 10|reward:    6.0|last_reward_at:    5|Elapsed Time: 0:00:00||\n",
      "Episode 2|Iteration 15|reward:    6.0|last_reward_at:    5|Elapsed Time: 0:00:00||\n",
      "Episode 2|Iteration 20|reward:    6.0|last_reward_at:    5|Elapsed Time: 0:00:00||\n",
      "Episode 2|Iteration 23|reward:    6.0|last_reward_at:    5|Elapsed Time: 0:00:00||\n",
      "Episode 2|Iteration 25|reward:    6.0|last_reward_at:    5|Elapsed Time: 0:00:00||\n",
      "Episode 2|Iteration 28|reward:    6.0|last_reward_at:    5|Elapsed Time: 0:00:00||\n",
      "Episode 2|Iteration 31|reward:    6.0|last_reward_at:    5|Elapsed Time: 0:00:01||\n",
      "Episode 2|Iteration 34|reward:    6.0|last_reward_at:    5|Elapsed Time: 0:00:01||\n",
      "Episode 2|Iteration 37|reward:    6.0|last_reward_at:    5|Elapsed Time: 0:00:01||\n",
      "Episode 2|Iteration 41|reward:    6.0|last_reward_at:    5|Elapsed Time: 0:00:01||\n",
      "Episode 2|Iteration 42|reward:   12.0|last_reward_at:    5|Elapsed Time: 0:00:01||\n",
      "Episode 2|Iteration 42|reward:   12.0|last_reward_at:   42|Elapsed Time: 0:00:01||\n",
      "Episode 2|Iteration 46|reward:   12.0|last_reward_at:   42|Elapsed Time: 0:00:01||\n",
      "Episode 2|Iteration 49|reward:   12.0|last_reward_at:   42|Elapsed Time: 0:00:01||\n",
      "Episode 2|Iteration 50|reward:   21.0|last_reward_at:   42|Elapsed Time: 0:00:01||\n",
      "Episode 2|Iteration 50|reward:   21.0|last_reward_at:   50|Elapsed Time: 0:00:01||\n",
      "Episode 2|Iteration 53|reward:  121.0|last_reward_at:   50|Elapsed Time: 0:00:01||\n",
      "Episode 2|Iteration 53|reward:  121.0|last_reward_at:   53|Elapsed Time: 0:00:01||\n",
      "Episode 2|Iteration 56|reward:  121.0|last_reward_at:   53|Elapsed Time: 0:00:01||\n",
      "Episode 2|Iteration 61|reward:  121.0|last_reward_at:   53|Elapsed Time: 0:00:01||\n",
      "Episode 2|Iteration 65|reward:  121.0|last_reward_at:   53|Elapsed Time: 0:00:02||\n",
      "Episode 2|Iteration 69|reward:  121.0|last_reward_at:   53|Elapsed Time: 0:00:02||\n",
      "Episode 2|Iteration 73|reward:  121.0|last_reward_at:   53|Elapsed Time: 0:00:02||\n",
      "Episode 2|Iteration 78|reward:  121.0|last_reward_at:   53|Elapsed Time: 0:00:02||\n",
      "Episode 2|Iteration 82|reward:  130.0|last_reward_at:   53|Elapsed Time: 0:00:02||\n",
      "Episode 2|Iteration 82|reward:  130.0|last_reward_at:   82|Elapsed Time: 0:00:02||\n",
      "Episode 2|Iteration 87|reward:  130.0|last_reward_at:   82|Elapsed Time: 0:00:02||\n",
      "Episode 2|Iteration 92|reward:  130.0|last_reward_at:   82|Elapsed Time: 0:00:02||\n",
      "Episode 2|Iteration 92|reward:  136.0|last_reward_at:   82|Elapsed Time: 0:00:02||\n",
      "Episode 2|Iteration 92|reward:  136.0|last_reward_at:   92|Elapsed Time: 0:00:02||\n",
      "Episode 2|Iteration 97|reward:  136.0|last_reward_at:   92|Elapsed Time: 0:00:02||\n",
      "Episode 2|Iteration 99|reward:  136.0|last_reward_at:   92|Elapsed Time: 0:00:02||\n",
      "Episode 2|Iteration 101|reward:  136.0|last_reward_at:   92|Elapsed Time: 0:00:02||\n",
      "Episode 2|Iteration 104|reward:  136.0|last_reward_at:   92|Elapsed Time: 0:00:03||\n",
      "Episode 2|Iteration 107|reward:  136.0|last_reward_at:   92|Elapsed Time: 0:00:03||\n",
      "Episode 2|Iteration 108|reward:  136.0|last_reward_at:   92|Elapsed Time: 0:00:03||\n",
      "Episode 2|Iteration 111|reward:  136.0|last_reward_at:   92|Elapsed Time: 0:00:03||\n",
      "Episode 2|Iteration 113|reward:  136.0|last_reward_at:   92|Elapsed Time: 0:00:03||\n",
      "Episode 2|Iteration 115|reward:  136.0|last_reward_at:   92|Elapsed Time: 0:00:03||\n",
      "Episode 2|Iteration 119|reward:  136.0|last_reward_at:   92|Elapsed Time: 0:00:03||\n",
      "Episode 2|Iteration 122|reward:  136.0|last_reward_at:   92|Elapsed Time: 0:00:03||\n",
      "Episode 2|Iteration 124|reward:  136.0|last_reward_at:   92|Elapsed Time: 0:00:04||\n",
      "Episode 2|Iteration 127|reward:  136.0|last_reward_at:   92|Elapsed Time: 0:00:04||\n",
      "Episode 2|Iteration 130|reward:  136.0|last_reward_at:   92|Elapsed Time: 0:00:04||\n",
      "Episode 2|Iteration 132|reward:  136.0|last_reward_at:   92|Elapsed Time: 0:00:04||\n",
      "Episode 2|Iteration 136|reward:  136.0|last_reward_at:   92|Elapsed Time: 0:00:04||\n",
      "Episode 2|Iteration 140|reward:  136.0|last_reward_at:   92|Elapsed Time: 0:00:04||\n",
      "Episode 2|Iteration 143|reward:  136.0|last_reward_at:   92|Elapsed Time: 0:00:04||\n",
      "Episode 2|Iteration 146|reward:  136.0|last_reward_at:   92|Elapsed Time: 0:00:04||\n",
      "Episode 2|Iteration 148|reward:  136.0|last_reward_at:   92|Elapsed Time: 0:00:04||\n",
      "Episode 2|Iteration 152|reward:  136.0|last_reward_at:   92|Elapsed Time: 0:00:05||\n",
      "Episode 2|Iteration 155|reward:  136.0|last_reward_at:   92|Elapsed Time: 0:00:05||\n",
      "Episode 2|Iteration 156|reward:  136.0|last_reward_at:   92|Elapsed Time: 0:00:05||\n",
      "Episode 2|Iteration 158|reward:  136.0|last_reward_at:   92|Elapsed Time: 0:00:05||\n",
      "Episode 2|Iteration 162|reward:  136.0|last_reward_at:   92|Elapsed Time: 0:00:05||\n",
      "Episode 2|Iteration 164|reward:  136.0|last_reward_at:   92|Elapsed Time: 0:00:05||\n",
      "Episode 2|Iteration 168|reward:  136.0|last_reward_at:   92|Elapsed Time: 0:00:05||\n",
      "Episode 2|Iteration 170|reward:  136.0|last_reward_at:   92|Elapsed Time: 0:00:05||\n",
      "Episode 2|Iteration 171|reward:  136.0|last_reward_at:   92|Elapsed Time: 0:00:06||\n",
      "Episode 2|Iteration 174|reward:  136.0|last_reward_at:   92|Elapsed Time: 0:00:06||\n",
      "Episode 2|Iteration 179|reward:  136.0|last_reward_at:   92|Elapsed Time: 0:00:06||\n",
      "Episode 2|Iteration 183|reward:  136.0|last_reward_at:   92|Elapsed Time: 0:00:06||\n",
      "Episode 2|Iteration 187|reward:  136.0|last_reward_at:   92|Elapsed Time: 0:00:06||\n",
      "Episode 2|Iteration 192|reward:  136.0|last_reward_at:   92|Elapsed Time: 0:00:06||\n",
      "Episode 2|Iteration 194|reward:  136.0|last_reward_at:   92|Elapsed Time: 0:00:06||\n",
      "Episode 2|Iteration 198|reward:  136.0|last_reward_at:   92|Elapsed Time: 0:00:06||\n",
      "Episode 2|Iteration 202|reward:  136.0|last_reward_at:   92|Elapsed Time: 0:00:06||\n",
      "Episode 2|Iteration 206|reward:  136.0|last_reward_at:   92|Elapsed Time: 0:00:06||\n",
      "Episode 2|Iteration 208|reward:  136.0|last_reward_at:   92|Elapsed Time: 0:00:07||\n",
      "Episode 2|Iteration 209|reward:  136.0|last_reward_at:   92|Elapsed Time: 0:00:07||\n",
      "Episode 2|Iteration 212|reward:  136.0|last_reward_at:   92|Elapsed Time: 0:00:07||\n",
      "Episode 2|Iteration 215|reward:  136.0|last_reward_at:   92|Elapsed Time: 0:00:07||\n",
      "Episode 2|Iteration 220|reward:  136.0|last_reward_at:   92|Elapsed Time: 0:00:07||\n",
      "Episode 2|Iteration 222|reward:  136.0|last_reward_at:   92|Elapsed Time: 0:00:07||\n",
      "Episode 2|Iteration 226|reward:  136.0|last_reward_at:   92|Elapsed Time: 0:00:07||\n",
      "Episode 2|Iteration 231|reward:  136.0|last_reward_at:   92|Elapsed Time: 0:00:07||\n",
      "Episode 2|Iteration 234|reward:  136.0|last_reward_at:   92|Elapsed Time: 0:00:08||\n",
      "Episode 2|Iteration 237|reward:  136.0|last_reward_at:   92|Elapsed Time: 0:00:08||\n",
      "Episode 2|Iteration 242|reward:  136.0|last_reward_at:   92|Elapsed Time: 0:00:08||\n",
      "Episode 2|Iteration 245|reward:  136.0|last_reward_at:   92|Elapsed Time: 0:00:08||\n",
      "Episode 2|Iteration 248|reward:  136.0|last_reward_at:   92|Elapsed Time: 0:00:08||\n",
      "Episode 2|Iteration 251|reward:  136.0|last_reward_at:   92|Elapsed Time: 0:00:08||\n",
      "Episode 2|Iteration 253|reward:  136.0|last_reward_at:   92|Elapsed Time: 0:00:08||\n",
      "Episode 2|Iteration 256|reward:  136.0|last_reward_at:   92|Elapsed Time: 0:00:08||\n",
      "Episode 2|Iteration 259|reward:  136.0|last_reward_at:   92|Elapsed Time: 0:00:08||\n",
      "Episode 2|Iteration 262|reward:  136.0|last_reward_at:   92|Elapsed Time: 0:00:08||\n",
      "Episode 2|Iteration 266|reward:  136.0|last_reward_at:   92|Elapsed Time: 0:00:09||\n",
      "Episode 2|Iteration 267|reward:  136.0|last_reward_at:   92|Elapsed Time: 0:00:09||\n",
      "Episode 2|Iteration 271|reward:  136.0|last_reward_at:   92|Elapsed Time: 0:00:09||\n",
      "Episode 2|Iteration 274|reward:  136.0|last_reward_at:   92|Elapsed Time: 0:00:09||\n",
      "Episode 2|Iteration 274|reward:  136.0|last_reward_at:   92|Elapsed Time: 0:00:09||\n",
      "Episode 2|Iteration 275|reward:  136.0|last_reward_at:   92|Elapsed Time: 0:00:09||\n",
      "Episode 2|Iteration 278|reward:  136.0|last_reward_at:   92|Elapsed Time: 0:00:09||\n",
      "Episode 2|Iteration 281|reward:  136.0|last_reward_at:   92|Elapsed Time: 0:00:09||\n",
      "Episode 2|Iteration 285|reward:  136.0|last_reward_at:   92|Elapsed Time: 0:00:09||\n",
      "Episode 2|Iteration 289|reward:  136.0|last_reward_at:   92|Elapsed Time: 0:00:10||\n",
      "Episode 2|Iteration 291|reward:  136.0|last_reward_at:   92|Elapsed Time: 0:00:10||\n",
      "Episode 2|Iteration 295|reward:  136.0|last_reward_at:   92|Elapsed Time: 0:00:10||\n",
      "Episode 2|Iteration 299|reward:  136.0|last_reward_at:   92|Elapsed Time: 0:00:10||\n",
      "Episode 2|Iteration 303|reward:  136.0|last_reward_at:   92|Elapsed Time: 0:00:10||\n",
      "Episode 2|Iteration 307|reward:  136.0|last_reward_at:   92|Elapsed Time: 0:00:10||\n",
      "Episode 2|Iteration 312|reward:  136.0|last_reward_at:   92|Elapsed Time: 0:00:10||\n",
      "Episode 2|Iteration 315|reward:  136.0|last_reward_at:   92|Elapsed Time: 0:00:10||\n",
      "Episode 2|Iteration 318|reward:  136.0|last_reward_at:   92|Elapsed Time: 0:00:10||\n",
      "Episode 2|Iteration 321|reward:  136.0|last_reward_at:   92|Elapsed Time: 0:00:11||\n",
      "Episode 2|Iteration 324|reward:  136.0|last_reward_at:   92|Elapsed Time: 0:00:11||\n",
      "Episode 2|Iteration 327|reward:  136.0|last_reward_at:   92|Elapsed Time: 0:00:11||\n",
      "Episode 2|Iteration 330|reward:  136.0|last_reward_at:   92|Elapsed Time: 0:00:11||\n",
      "Episode 2|Iteration 334|reward:  136.0|last_reward_at:   92|Elapsed Time: 0:00:11||\n",
      "Episode 2|Iteration 338|reward:  136.0|last_reward_at:   92|Elapsed Time: 0:00:11||\n",
      "Episode 2|Iteration 342|reward:  136.0|last_reward_at:   92|Elapsed Time: 0:00:11||\n",
      "Episode 2|Iteration 345|reward:  136.0|last_reward_at:   92|Elapsed Time: 0:00:11||\n",
      "Episode 2|Iteration 349|reward:  136.0|last_reward_at:   92|Elapsed Time: 0:00:11||\n",
      "Episode 2|Iteration 354|reward:  136.0|last_reward_at:   92|Elapsed Time: 0:00:11||\n",
      "Episode 2|Iteration 357|reward:  136.0|last_reward_at:   92|Elapsed Time: 0:00:12||\n",
      "Episode 2|Iteration 360|reward:  136.0|last_reward_at:   92|Elapsed Time: 0:00:12||\n",
      "Episode 2|Iteration 364|reward:  136.0|last_reward_at:   92|Elapsed Time: 0:00:12||\n",
      "Episode 2|Iteration 369|reward:  136.0|last_reward_at:   92|Elapsed Time: 0:00:12||\n",
      "Episode 2|Iteration 373|reward:  136.0|last_reward_at:   92|Elapsed Time: 0:00:12||\n",
      "Episode 2|Iteration 376|reward:  136.0|last_reward_at:   92|Elapsed Time: 0:00:12||\n",
      "Episode 2|Iteration 380|reward:  136.0|last_reward_at:   92|Elapsed Time: 0:00:12||\n",
      "Episode 2|Iteration 384|reward:  136.0|last_reward_at:   92|Elapsed Time: 0:00:12||\n",
      "Episode 2|Iteration 386|reward:  136.0|last_reward_at:   92|Elapsed Time: 0:00:12||\n",
      "Episode 2|Iteration 391|reward:  136.0|last_reward_at:   92|Elapsed Time: 0:00:12||\n",
      "Episode 2|Iteration 395|reward:  136.0|last_reward_at:   92|Elapsed Time: 0:00:13||\n",
      "Episode 2|Iteration 397|reward:  136.0|last_reward_at:   92|Elapsed Time: 0:00:13||\n",
      "Episode 2|Iteration 402|reward:  136.0|last_reward_at:   92|Elapsed Time: 0:00:13||\n",
      "Episode 2|Iteration 405|reward:  136.0|last_reward_at:   92|Elapsed Time: 0:00:13||\n",
      "Episode 2|Iteration 407|reward:  136.0|last_reward_at:   92|Elapsed Time: 0:00:13||\n",
      "Episode 2|Iteration 408|reward:  136.0|last_reward_at:   92|Elapsed Time: 0:00:13||\n",
      "Episode 2|Iteration 409|reward:  136.0|last_reward_at:   92|Elapsed Time: 0:00:13||\n",
      "Episode 2|Iteration 411|reward:  136.0|last_reward_at:   92|Elapsed Time: 0:00:13||\n",
      "Episode 2|Iteration 414|reward:  136.0|last_reward_at:   92|Elapsed Time: 0:00:14||\n",
      "Episode 2|Iteration 416|reward:  136.0|last_reward_at:   92|Elapsed Time: 0:00:14||\n",
      "Episode 2|Iteration 418|reward:  136.0|last_reward_at:   92|Elapsed Time: 0:00:14||\n",
      "Episode 2|Iteration 420|reward:  136.0|last_reward_at:   92|Elapsed Time: 0:00:14||\n",
      "Episode 2|Iteration 422|reward:  136.0|last_reward_at:   92|Elapsed Time: 0:00:14||\n",
      "Episode 2|Iteration 425|reward:  136.0|last_reward_at:   92|Elapsed Time: 0:00:14||\n",
      "Episode 2|Iteration 428|reward:  136.0|last_reward_at:   92|Elapsed Time: 0:00:14||\n",
      "Episode 2|Iteration 431|reward:  136.0|last_reward_at:   92|Elapsed Time: 0:00:14||\n",
      "Episode 2|Iteration 435|reward:  136.0|last_reward_at:   92|Elapsed Time: 0:00:14||\n",
      "Episode 2|Iteration 436|reward:  136.0|last_reward_at:   92|Elapsed Time: 0:00:15||\n",
      "Episode 2|Iteration 437|reward:  136.0|last_reward_at:   92|Elapsed Time: 0:00:15||\n",
      "Episode 2|Iteration 439|reward:  136.0|last_reward_at:   92|Elapsed Time: 0:00:15||\n",
      "Episode 2|Iteration 440|reward:  136.0|last_reward_at:   92|Elapsed Time: 0:00:15||\n",
      "Episode 2|Iteration 442|reward:  136.0|last_reward_at:   92|Elapsed Time: 0:00:15||\n",
      "Episode 2|Iteration 443|reward:  136.0|last_reward_at:   92|Elapsed Time: 0:00:15||\n",
      "Episode 2|Iteration 445|reward:  136.0|last_reward_at:   92|Elapsed Time: 0:00:16||\n",
      "Episode 2|Iteration 448|reward:  136.0|last_reward_at:   92|Elapsed Time: 0:00:16||\n",
      "Episode 2|Iteration 451|reward:  136.0|last_reward_at:   92|Elapsed Time: 0:00:16||\n",
      "Episode 2|Iteration 454|reward:  136.0|last_reward_at:   92|Elapsed Time: 0:00:16||\n",
      "Episode 2|Iteration 455|reward:  142.0|last_reward_at:   92|Elapsed Time: 0:00:16||\n",
      "Episode 2|Iteration 455|reward:  142.0|last_reward_at:  455|Elapsed Time: 0:00:16||\n",
      "Episode 2|Iteration 458|reward:  142.0|last_reward_at:  455|Elapsed Time: 0:00:16||\n",
      "Episode 2|Iteration 460|reward:  142.0|last_reward_at:  455|Elapsed Time: 0:00:16||\n",
      "Episode 2|Iteration 463|reward:  142.0|last_reward_at:  455|Elapsed Time: 0:00:16||\n",
      "Episode 2|Iteration 464|reward:  151.0|last_reward_at:  455|Elapsed Time: 0:00:16||\n",
      "Episode 2|Iteration 464|reward:  151.0|last_reward_at:  464|Elapsed Time: 0:00:16||\n",
      "Episode 2|Iteration 467|reward:  151.0|last_reward_at:  464|Elapsed Time: 0:00:16||\n",
      "Episode 2|Iteration 471|reward:  151.0|last_reward_at:  464|Elapsed Time: 0:00:17||\n",
      "Episode 2|Iteration 473|reward:  151.0|last_reward_at:  464|Elapsed Time: 0:00:17||\n",
      "Episode 2|Iteration 476|reward:  151.0|last_reward_at:  464|Elapsed Time: 0:00:17||\n",
      "Episode 2|Iteration 479|reward:  151.0|last_reward_at:  464|Elapsed Time: 0:00:17||\n",
      "Episode 2|Iteration 482|reward:  151.0|last_reward_at:  464|Elapsed Time: 0:00:17||\n",
      "Episode 2|Iteration 485|reward:  160.0|last_reward_at:  464|Elapsed Time: 0:00:17||\n",
      "Episode 2|Iteration 485|reward:  160.0|last_reward_at:  485|Elapsed Time: 0:00:17||\n",
      "Episode 2|Iteration 488|reward:  160.0|last_reward_at:  485|Elapsed Time: 0:00:17||\n",
      "Episode 2|Iteration 491|reward:  160.0|last_reward_at:  485|Elapsed Time: 0:00:17||\n",
      "Episode 2|Iteration 494|reward:  160.0|last_reward_at:  485|Elapsed Time: 0:00:17||\n",
      "Episode 2|Iteration 497|reward:  160.0|last_reward_at:  485|Elapsed Time: 0:00:18||\n",
      "Episode 2|Iteration 501|reward:  160.0|last_reward_at:  485|Elapsed Time: 0:00:18||\n",
      "Episode 2|Iteration 505|reward:  160.0|last_reward_at:  485|Elapsed Time: 0:00:18||\n",
      "Episode 2|Iteration 507|reward:  160.0|last_reward_at:  485|Elapsed Time: 0:00:18||\n",
      "Episode 2|Iteration 509|reward:  160.0|last_reward_at:  485|Elapsed Time: 0:00:18||\n",
      "Episode 2|Iteration 510|reward:  160.0|last_reward_at:  485|Elapsed Time: 0:00:18||\n",
      "Episode 2|Iteration 512|reward:  160.0|last_reward_at:  485|Elapsed Time: 0:00:18||\n",
      "Episode 2|Iteration 513|reward:  160.0|last_reward_at:  485|Elapsed Time: 0:00:19||\n",
      "Episode 2|Iteration 515|reward:  160.0|last_reward_at:  485|Elapsed Time: 0:00:19||\n",
      "Episode 2|Iteration 517|reward:  160.0|last_reward_at:  485|Elapsed Time: 0:00:19||\n",
      "Episode 2|Iteration 517|reward:  166.0|last_reward_at:  485|Elapsed Time: 0:00:19||\n",
      "Episode 2|Iteration 517|reward:  166.0|last_reward_at:  517|Elapsed Time: 0:00:19||\n",
      "Episode 2|Iteration 519|reward:  166.0|last_reward_at:  517|Elapsed Time: 0:00:19||\n",
      "Episode 2|Iteration 521|reward:  166.0|last_reward_at:  517|Elapsed Time: 0:00:19||\n",
      "Episode 2|Iteration 523|reward:  166.0|last_reward_at:  517|Elapsed Time: 0:00:19||\n",
      "Episode 2|Iteration 527|reward:  166.0|last_reward_at:  517|Elapsed Time: 0:00:19||\n",
      "Episode 2|Iteration 528|reward:  172.0|last_reward_at:  517|Elapsed Time: 0:00:19||\n",
      "Episode 2|Iteration 528|reward:  172.0|last_reward_at:  528|Elapsed Time: 0:00:19||\n",
      "Episode 2|Iteration 531|reward:  172.0|last_reward_at:  528|Elapsed Time: 0:00:19||\n",
      "Episode 2|Iteration 534|reward:  172.0|last_reward_at:  528|Elapsed Time: 0:00:20||\n",
      "Episode 2|Iteration 538|reward:  172.0|last_reward_at:  528|Elapsed Time: 0:00:20||\n",
      "Episode 2|Iteration 541|reward:  172.0|last_reward_at:  528|Elapsed Time: 0:00:20||\n",
      "Episode 2|Iteration 545|reward:  172.0|last_reward_at:  528|Elapsed Time: 0:00:20||\n",
      "Episode 2|Iteration 547|reward:  172.0|last_reward_at:  528|Elapsed Time: 0:00:20||\n",
      "Episode 2|Iteration 550|reward:  172.0|last_reward_at:  528|Elapsed Time: 0:00:20||\n",
      "Episode 2|Iteration 554|reward:  172.0|last_reward_at:  528|Elapsed Time: 0:00:20||\n",
      "Episode 2|Iteration 558|reward:  172.0|last_reward_at:  528|Elapsed Time: 0:00:20||\n",
      "Episode 2|Iteration 562|reward:  172.0|last_reward_at:  528|Elapsed Time: 0:00:20||\n",
      "Episode 2|Iteration 566|reward:  172.0|last_reward_at:  528|Elapsed Time: 0:00:21||\n",
      "Episode 2|Iteration 569|reward:  172.0|last_reward_at:  528|Elapsed Time: 0:00:21||\n",
      "Episode 2|Iteration 571|reward:  172.0|last_reward_at:  528|Elapsed Time: 0:00:21||\n",
      "Episode 2|Iteration 572|reward:  172.0|last_reward_at:  528|Elapsed Time: 0:00:21||\n",
      "Episode 2|Iteration 574|reward:  172.0|last_reward_at:  528|Elapsed Time: 0:00:21||\n",
      "Episode 2|Iteration 576|reward:  172.0|last_reward_at:  528|Elapsed Time: 0:00:21||\n",
      "Episode 2|Iteration 578|reward:  172.0|last_reward_at:  528|Elapsed Time: 0:00:21||\n",
      "Episode 2|Iteration 579|reward:  172.0|last_reward_at:  528|Elapsed Time: 0:00:21||\n",
      "Episode 2|Iteration 582|reward:  172.0|last_reward_at:  528|Elapsed Time: 0:00:21||\n",
      "Episode 2|Iteration 584|reward:  172.0|last_reward_at:  528|Elapsed Time: 0:00:22||\n",
      "Episode 2|Iteration 586|reward:  172.0|last_reward_at:  528|Elapsed Time: 0:00:22||\n",
      "Episode 2|Iteration 589|reward:  172.0|last_reward_at:  528|Elapsed Time: 0:00:22||\n",
      "Episode 2|Iteration 592|reward:  172.0|last_reward_at:  528|Elapsed Time: 0:00:22||\n",
      "Episode 2|Iteration 595|reward:  172.0|last_reward_at:  528|Elapsed Time: 0:00:22||\n",
      "Episode 2|Iteration 599|reward:  172.0|last_reward_at:  528|Elapsed Time: 0:00:22||\n",
      "Episode 2|Iteration 600|reward:  172.0|last_reward_at:  528|Elapsed Time: 0:00:22||\n"
     ]
    },
    {
     "name": "stdout",
     "output_type": "stream",
     "text": [
      "  Episode 2 stopped at t=600 \n",
      "  Breakdown [Reward/NoReward (Success rate)]\n",
      "    explore-local: 2/71 (0.03)\n",
      "    explore-remote: 7/197 (0.03)\n",
      "    explore-connect: 1/182 (0.01)\n",
      "    exploit-local: 0/4 (0.00)\n",
      "    exploit-remote: 1/105 (0.01)\n",
      "    exploit-connect: 0/30 (0.00)\n",
      "  exploit deflected to exploration: 2\n",
      "  ## Episode: 3/10 'DQL' ϵ=0.7294, γ=0.15, lr=0.01, replaymemory=10000,\n",
      "batch=256, target_update=5\n"
     ]
    },
    {
     "name": "stderr",
     "output_type": "stream",
     "text": [
      "Episode 3|Iteration 0|reward: ------|last_reward_at: ----|Elapsed Time: 0:00:00||\n",
      "Episode 3|Iteration 1|reward:    6.0|last_reward_at: ----|Elapsed Time: 0:00:00||\n",
      "Episode 3|Iteration 1|reward:    6.0|last_reward_at:    1|Elapsed Time: 0:00:00||\n",
      "Episode 3|Iteration 3|reward:    6.0|last_reward_at:    1|Elapsed Time: 0:00:00||\n",
      "Episode 3|Iteration 4|reward:    6.0|last_reward_at:    1|Elapsed Time: 0:00:00||\n",
      "Episode 3|Iteration 5|reward:    6.0|last_reward_at:    1|Elapsed Time: 0:00:00||\n",
      "Episode 3|Iteration 8|reward:    6.0|last_reward_at:    1|Elapsed Time: 0:00:00||\n",
      "Episode 3|Iteration 10|reward:    6.0|last_reward_at:    1|Elapsed Time: 0:00:01||\n",
      "Episode 3|Iteration 12|reward:    6.0|last_reward_at:    1|Elapsed Time: 0:00:01||\n",
      "Episode 3|Iteration 13|reward:   12.0|last_reward_at:    1|Elapsed Time: 0:00:01||\n",
      "Episode 3|Iteration 13|reward:   12.0|last_reward_at:   13|Elapsed Time: 0:00:01||\n",
      "Episode 3|Iteration 15|reward:   12.0|last_reward_at:   13|Elapsed Time: 0:00:01||\n",
      "Episode 3|Iteration 18|reward:   21.0|last_reward_at:   13|Elapsed Time: 0:00:01||\n",
      "Episode 3|Iteration 18|reward:   21.0|last_reward_at:   18|Elapsed Time: 0:00:01||\n",
      "Episode 3|Iteration 22|reward:   21.0|last_reward_at:   18|Elapsed Time: 0:00:01||\n",
      "Episode 3|Iteration 27|reward:   21.0|last_reward_at:   18|Elapsed Time: 0:00:01||\n",
      "Episode 3|Iteration 31|reward:   21.0|last_reward_at:   18|Elapsed Time: 0:00:01||\n",
      "Episode 3|Iteration 34|reward:   21.0|last_reward_at:   18|Elapsed Time: 0:00:01||\n",
      "Episode 3|Iteration 38|reward:   21.0|last_reward_at:   18|Elapsed Time: 0:00:01||\n",
      "Episode 3|Iteration 42|reward:   21.0|last_reward_at:   18|Elapsed Time: 0:00:02||\n",
      "Episode 3|Iteration 46|reward:   21.0|last_reward_at:   18|Elapsed Time: 0:00:02||\n",
      "Episode 3|Iteration 51|reward:   21.0|last_reward_at:   18|Elapsed Time: 0:00:02||\n",
      "Episode 3|Iteration 54|reward:   21.0|last_reward_at:   18|Elapsed Time: 0:00:02||\n",
      "Episode 3|Iteration 58|reward:   21.0|last_reward_at:   18|Elapsed Time: 0:00:02||\n",
      "Episode 3|Iteration 64|reward:   21.0|last_reward_at:   18|Elapsed Time: 0:00:02||\n",
      "Episode 3|Iteration 69|reward:   21.0|last_reward_at:   18|Elapsed Time: 0:00:02||\n",
      "Episode 3|Iteration 73|reward:   21.0|last_reward_at:   18|Elapsed Time: 0:00:02||\n",
      "Episode 3|Iteration 78|reward:   21.0|last_reward_at:   18|Elapsed Time: 0:00:02||\n",
      "Episode 3|Iteration 81|reward:   21.0|last_reward_at:   18|Elapsed Time: 0:00:02||\n",
      "Episode 3|Iteration 83|reward:   21.0|last_reward_at:   18|Elapsed Time: 0:00:03||\n",
      "Episode 3|Iteration 85|reward:   21.0|last_reward_at:   18|Elapsed Time: 0:00:03||\n",
      "Episode 3|Iteration 86|reward:   21.0|last_reward_at:   18|Elapsed Time: 0:00:03||\n",
      "Episode 3|Iteration 90|reward:   21.0|last_reward_at:   18|Elapsed Time: 0:00:03||\n",
      "Episode 3|Iteration 94|reward:   21.0|last_reward_at:   18|Elapsed Time: 0:00:03||\n",
      "Episode 3|Iteration 98|reward:   21.0|last_reward_at:   18|Elapsed Time: 0:00:03||\n",
      "Episode 3|Iteration 101|reward:   21.0|last_reward_at:   18|Elapsed Time: 0:00:03||\n",
      "Episode 3|Iteration 104|reward:   21.0|last_reward_at:   18|Elapsed Time: 0:00:03||\n",
      "Episode 3|Iteration 107|reward:   21.0|last_reward_at:   18|Elapsed Time: 0:00:04||\n",
      "Episode 3|Iteration 110|reward:   21.0|last_reward_at:   18|Elapsed Time: 0:00:04||\n",
      "Episode 3|Iteration 111|reward:   21.0|last_reward_at:   18|Elapsed Time: 0:00:04||\n",
      "Episode 3|Iteration 114|reward:   21.0|last_reward_at:   18|Elapsed Time: 0:00:04||\n",
      "Episode 3|Iteration 115|reward:   21.0|last_reward_at:   18|Elapsed Time: 0:00:04||\n",
      "Episode 3|Iteration 119|reward:   21.0|last_reward_at:   18|Elapsed Time: 0:00:04||\n",
      "Episode 3|Iteration 122|reward:   21.0|last_reward_at:   18|Elapsed Time: 0:00:04||\n",
      "Episode 3|Iteration 124|reward:   21.0|last_reward_at:   18|Elapsed Time: 0:00:04||\n",
      "Episode 3|Iteration 127|reward:   21.0|last_reward_at:   18|Elapsed Time: 0:00:04||\n",
      "Episode 3|Iteration 129|reward:   21.0|last_reward_at:   18|Elapsed Time: 0:00:05||\n",
      "Episode 3|Iteration 132|reward:   21.0|last_reward_at:   18|Elapsed Time: 0:00:05||\n",
      "Episode 3|Iteration 134|reward:   71.0|last_reward_at:   18|Elapsed Time: 0:00:05||\n",
      "Episode 3|Iteration 134|reward:   71.0|last_reward_at:  134|Elapsed Time: 0:00:05||\n",
      "Episode 3|Iteration 135|reward:   71.0|last_reward_at:  134|Elapsed Time: 0:00:05||\n",
      "Episode 3|Iteration 136|reward:   71.0|last_reward_at:  134|Elapsed Time: 0:00:05||\n",
      "Episode 3|Iteration 137|reward:   71.0|last_reward_at:  134|Elapsed Time: 0:00:06||\n",
      "Episode 3|Iteration 138|reward:   71.0|last_reward_at:  134|Elapsed Time: 0:00:06||\n",
      "Episode 3|Iteration 140|reward:   71.0|last_reward_at:  134|Elapsed Time: 0:00:06||\n",
      "Episode 3|Iteration 142|reward:   71.0|last_reward_at:  134|Elapsed Time: 0:00:06||\n",
      "Episode 3|Iteration 144|reward:   71.0|last_reward_at:  134|Elapsed Time: 0:00:07||\n",
      "Episode 3|Iteration 145|reward:   71.0|last_reward_at:  134|Elapsed Time: 0:00:07||\n",
      "Episode 3|Iteration 146|reward:   71.0|last_reward_at:  134|Elapsed Time: 0:00:07||\n",
      "Episode 3|Iteration 147|reward:   71.0|last_reward_at:  134|Elapsed Time: 0:00:07||\n",
      "Episode 3|Iteration 148|reward:   71.0|last_reward_at:  134|Elapsed Time: 0:00:07||\n",
      "Episode 3|Iteration 150|reward:   71.0|last_reward_at:  134|Elapsed Time: 0:00:07||\n",
      "Episode 3|Iteration 152|reward:   71.0|last_reward_at:  134|Elapsed Time: 0:00:07||\n",
      "Episode 3|Iteration 153|reward:   71.0|last_reward_at:  134|Elapsed Time: 0:00:07||\n",
      "Episode 3|Iteration 154|reward:   77.0|last_reward_at:  134|Elapsed Time: 0:00:08||\n",
      "Episode 3|Iteration 154|reward:   77.0|last_reward_at:  154|Elapsed Time: 0:00:08||\n",
      "Episode 3|Iteration 155|reward:   77.0|last_reward_at:  154|Elapsed Time: 0:00:08||\n",
      "Episode 3|Iteration 157|reward:   77.0|last_reward_at:  154|Elapsed Time: 0:00:08||\n",
      "Episode 3|Iteration 159|reward:   77.0|last_reward_at:  154|Elapsed Time: 0:00:08||\n",
      "Episode 3|Iteration 161|reward:   77.0|last_reward_at:  154|Elapsed Time: 0:00:08||\n",
      "Episode 3|Iteration 163|reward:   77.0|last_reward_at:  154|Elapsed Time: 0:00:08||\n",
      "Episode 3|Iteration 165|reward:   77.0|last_reward_at:  154|Elapsed Time: 0:00:08||\n",
      "Episode 3|Iteration 166|reward:   77.0|last_reward_at:  154|Elapsed Time: 0:00:09||\n",
      "Episode 3|Iteration 167|reward:   77.0|last_reward_at:  154|Elapsed Time: 0:00:09||\n",
      "Episode 3|Iteration 168|reward:   77.0|last_reward_at:  154|Elapsed Time: 0:00:09||\n",
      "Episode 3|Iteration 169|reward:   77.0|last_reward_at:  154|Elapsed Time: 0:00:09||\n",
      "Episode 3|Iteration 171|reward:   77.0|last_reward_at:  154|Elapsed Time: 0:00:09||\n",
      "Episode 3|Iteration 173|reward:   77.0|last_reward_at:  154|Elapsed Time: 0:00:09||\n",
      "Episode 3|Iteration 175|reward:   77.0|last_reward_at:  154|Elapsed Time: 0:00:09||\n",
      "Episode 3|Iteration 175|reward:   77.0|last_reward_at:  154|Elapsed Time: 0:00:10||\n",
      "Episode 3|Iteration 176|reward:   77.0|last_reward_at:  154|Elapsed Time: 0:00:10||\n",
      "Episode 3|Iteration 177|reward:   77.0|last_reward_at:  154|Elapsed Time: 0:00:10||\n",
      "Episode 3|Iteration 179|reward:   77.0|last_reward_at:  154|Elapsed Time: 0:00:10||\n",
      "Episode 3|Iteration 181|reward:   77.0|last_reward_at:  154|Elapsed Time: 0:00:10||\n",
      "Episode 3|Iteration 182|reward:   77.0|last_reward_at:  154|Elapsed Time: 0:00:10||\n",
      "Episode 3|Iteration 184|reward:   77.0|last_reward_at:  154|Elapsed Time: 0:00:11||\n",
      "Episode 3|Iteration 186|reward:   77.0|last_reward_at:  154|Elapsed Time: 0:00:11||\n",
      "Episode 3|Iteration 187|reward:   77.0|last_reward_at:  154|Elapsed Time: 0:00:11||\n",
      "Episode 3|Iteration 188|reward:   77.0|last_reward_at:  154|Elapsed Time: 0:00:11||\n",
      "Episode 3|Iteration 191|reward:   77.0|last_reward_at:  154|Elapsed Time: 0:00:12||\n",
      "Episode 3|Iteration 194|reward:   77.0|last_reward_at:  154|Elapsed Time: 0:00:12||\n",
      "Episode 3|Iteration 195|reward:   86.0|last_reward_at:  154|Elapsed Time: 0:00:12||\n",
      "Episode 3|Iteration 195|reward:   86.0|last_reward_at:  195|Elapsed Time: 0:00:12||\n",
      "Episode 3|Iteration 198|reward:   86.0|last_reward_at:  195|Elapsed Time: 0:00:12||\n",
      "Episode 3|Iteration 198|reward:   86.0|last_reward_at:  195|Elapsed Time: 0:00:12||\n",
      "Episode 3|Iteration 200|reward:   86.0|last_reward_at:  195|Elapsed Time: 0:00:12||\n",
      "Episode 3|Iteration 202|reward:  186.0|last_reward_at:  195|Elapsed Time: 0:00:12||\n",
      "Episode 3|Iteration 202|reward:  186.0|last_reward_at:  202|Elapsed Time: 0:00:12||\n",
      "Episode 3|Iteration 203|reward:  195.0|last_reward_at:  202|Elapsed Time: 0:00:12||\n",
      "Episode 3|Iteration 203|reward:  195.0|last_reward_at:  203|Elapsed Time: 0:00:13||\n",
      "Episode 3|Iteration 205|reward:  195.0|last_reward_at:  203|Elapsed Time: 0:00:13||\n",
      "Episode 3|Iteration 208|reward:  195.0|last_reward_at:  203|Elapsed Time: 0:00:13||\n",
      "Episode 3|Iteration 210|reward:  195.0|last_reward_at:  203|Elapsed Time: 0:00:13||\n",
      "Episode 3|Iteration 212|reward:  195.0|last_reward_at:  203|Elapsed Time: 0:00:13||\n",
      "Episode 3|Iteration 214|reward:  195.0|last_reward_at:  203|Elapsed Time: 0:00:13||\n",
      "Episode 3|Iteration 217|reward:  195.0|last_reward_at:  203|Elapsed Time: 0:00:13||\n",
      "Episode 3|Iteration 220|reward:  195.0|last_reward_at:  203|Elapsed Time: 0:00:13||\n",
      "Episode 3|Iteration 221|reward:  195.0|last_reward_at:  203|Elapsed Time: 0:00:14||\n",
      "Episode 3|Iteration 224|reward:  195.0|last_reward_at:  203|Elapsed Time: 0:00:14||\n",
      "Episode 3|Iteration 227|reward:  195.0|last_reward_at:  203|Elapsed Time: 0:00:14||\n",
      "Episode 3|Iteration 230|reward:  195.0|last_reward_at:  203|Elapsed Time: 0:00:14||\n",
      "Episode 3|Iteration 234|reward:  195.0|last_reward_at:  203|Elapsed Time: 0:00:14||\n",
      "Episode 3|Iteration 235|reward:  195.0|last_reward_at:  203|Elapsed Time: 0:00:14||\n",
      "Episode 3|Iteration 236|reward:  195.0|last_reward_at:  203|Elapsed Time: 0:00:14||\n",
      "Episode 3|Iteration 237|reward:  201.0|last_reward_at:  203|Elapsed Time: 0:00:15||\n",
      "Episode 3|Iteration 237|reward:  201.0|last_reward_at:  237|Elapsed Time: 0:00:15||\n",
      "Episode 3|Iteration 238|reward:  201.0|last_reward_at:  237|Elapsed Time: 0:00:15||\n",
      "Episode 3|Iteration 239|reward:  201.0|last_reward_at:  237|Elapsed Time: 0:00:15||\n",
      "Episode 3|Iteration 240|reward:  201.0|last_reward_at:  237|Elapsed Time: 0:00:15||\n",
      "Episode 3|Iteration 242|reward:  201.0|last_reward_at:  237|Elapsed Time: 0:00:15||\n",
      "Episode 3|Iteration 245|reward:  201.0|last_reward_at:  237|Elapsed Time: 0:00:16||\n",
      "Episode 3|Iteration 246|reward:  201.0|last_reward_at:  237|Elapsed Time: 0:00:16||\n",
      "Episode 3|Iteration 249|reward:  201.0|last_reward_at:  237|Elapsed Time: 0:00:16||\n",
      "Episode 3|Iteration 251|reward:  201.0|last_reward_at:  237|Elapsed Time: 0:00:16||\n",
      "Episode 3|Iteration 251|reward:  201.0|last_reward_at:  237|Elapsed Time: 0:00:16||\n",
      "Episode 3|Iteration 252|reward:  201.0|last_reward_at:  237|Elapsed Time: 0:00:16||\n",
      "Episode 3|Iteration 253|reward:  201.0|last_reward_at:  237|Elapsed Time: 0:00:16||\n",
      "Episode 3|Iteration 254|reward:  201.0|last_reward_at:  237|Elapsed Time: 0:00:17||\n",
      "Episode 3|Iteration 256|reward:  201.0|last_reward_at:  237|Elapsed Time: 0:00:17||\n",
      "Episode 3|Iteration 258|reward:  201.0|last_reward_at:  237|Elapsed Time: 0:00:17||\n",
      "Episode 3|Iteration 260|reward:  201.0|last_reward_at:  237|Elapsed Time: 0:00:17||\n",
      "Episode 3|Iteration 262|reward:  201.0|last_reward_at:  237|Elapsed Time: 0:00:17||\n",
      "Episode 3|Iteration 264|reward:  201.0|last_reward_at:  237|Elapsed Time: 0:00:17||\n",
      "Episode 3|Iteration 267|reward:  201.0|last_reward_at:  237|Elapsed Time: 0:00:18||\n",
      "Episode 3|Iteration 269|reward:  207.0|last_reward_at:  237|Elapsed Time: 0:00:18||\n",
      "Episode 3|Iteration 269|reward:  207.0|last_reward_at:  269|Elapsed Time: 0:00:18||\n",
      "Episode 3|Iteration 270|reward:  207.0|last_reward_at:  269|Elapsed Time: 0:00:18||\n",
      "Episode 3|Iteration 272|reward:  207.0|last_reward_at:  269|Elapsed Time: 0:00:18||\n",
      "Episode 3|Iteration 276|reward:  207.0|last_reward_at:  269|Elapsed Time: 0:00:18||\n",
      "Episode 3|Iteration 280|reward:  207.0|last_reward_at:  269|Elapsed Time: 0:00:18||\n",
      "Episode 3|Iteration 285|reward:  207.0|last_reward_at:  269|Elapsed Time: 0:00:18||\n",
      "Episode 3|Iteration 289|reward:  207.0|last_reward_at:  269|Elapsed Time: 0:00:18||\n",
      "Episode 3|Iteration 293|reward:  207.0|last_reward_at:  269|Elapsed Time: 0:00:19||\n",
      "Episode 3|Iteration 297|reward:  207.0|last_reward_at:  269|Elapsed Time: 0:00:19||\n",
      "Episode 3|Iteration 299|reward:  216.0|last_reward_at:  269|Elapsed Time: 0:00:19||\n",
      "Episode 3|Iteration 299|reward:  216.0|last_reward_at:  299|Elapsed Time: 0:00:19||\n",
      "Episode 3|Iteration 303|reward:  216.0|last_reward_at:  299|Elapsed Time: 0:00:19||\n",
      "Episode 3|Iteration 307|reward:  216.0|last_reward_at:  299|Elapsed Time: 0:00:19||\n",
      "Episode 3|Iteration 310|reward:  216.0|last_reward_at:  299|Elapsed Time: 0:00:19||\n",
      "Episode 3|Iteration 313|reward:  216.0|last_reward_at:  299|Elapsed Time: 0:00:19||\n",
      "Episode 3|Iteration 315|reward:  216.0|last_reward_at:  299|Elapsed Time: 0:00:19||\n",
      "Episode 3|Iteration 317|reward:  216.0|last_reward_at:  299|Elapsed Time: 0:00:19||\n",
      "Episode 3|Iteration 319|reward:  216.0|last_reward_at:  299|Elapsed Time: 0:00:20||\n",
      "Episode 3|Iteration 320|reward:  216.0|last_reward_at:  299|Elapsed Time: 0:00:20||\n",
      "Episode 3|Iteration 323|reward:  216.0|last_reward_at:  299|Elapsed Time: 0:00:20||\n",
      "Episode 3|Iteration 326|reward:  216.0|last_reward_at:  299|Elapsed Time: 0:00:20||\n",
      "Episode 3|Iteration 329|reward:  216.0|last_reward_at:  299|Elapsed Time: 0:00:20||\n",
      "Episode 3|Iteration 332|reward:  216.0|last_reward_at:  299|Elapsed Time: 0:00:20||\n",
      "Episode 3|Iteration 335|reward:  216.0|last_reward_at:  299|Elapsed Time: 0:00:20||\n",
      "Episode 3|Iteration 337|reward:  216.0|last_reward_at:  299|Elapsed Time: 0:00:20||\n",
      "Episode 3|Iteration 341|reward:  216.0|last_reward_at:  299|Elapsed Time: 0:00:20||\n",
      "Episode 3|Iteration 345|reward:  216.0|last_reward_at:  299|Elapsed Time: 0:00:20||\n",
      "Episode 3|Iteration 349|reward:  216.0|last_reward_at:  299|Elapsed Time: 0:00:21||\n",
      "Episode 3|Iteration 353|reward:  216.0|last_reward_at:  299|Elapsed Time: 0:00:21||\n",
      "Episode 3|Iteration 357|reward:  216.0|last_reward_at:  299|Elapsed Time: 0:00:21||\n",
      "Episode 3|Iteration 360|reward:  216.0|last_reward_at:  299|Elapsed Time: 0:00:21||\n",
      "Episode 3|Iteration 364|reward:  216.0|last_reward_at:  299|Elapsed Time: 0:00:21||\n",
      "Episode 3|Iteration 367|reward:  216.0|last_reward_at:  299|Elapsed Time: 0:00:21||\n",
      "Episode 3|Iteration 368|reward:  216.0|last_reward_at:  299|Elapsed Time: 0:00:21||\n",
      "Episode 3|Iteration 370|reward:  216.0|last_reward_at:  299|Elapsed Time: 0:00:22||\n",
      "Episode 3|Iteration 373|reward:  216.0|last_reward_at:  299|Elapsed Time: 0:00:22||\n",
      "Episode 3|Iteration 375|reward:  216.0|last_reward_at:  299|Elapsed Time: 0:00:22||\n",
      "Episode 3|Iteration 379|reward:  216.0|last_reward_at:  299|Elapsed Time: 0:00:22||\n",
      "Episode 3|Iteration 382|reward:  216.0|last_reward_at:  299|Elapsed Time: 0:00:22||\n",
      "Episode 3|Iteration 384|reward:  216.0|last_reward_at:  299|Elapsed Time: 0:00:22||\n",
      "Episode 3|Iteration 387|reward:  216.0|last_reward_at:  299|Elapsed Time: 0:00:22||\n",
      "Episode 3|Iteration 390|reward:  216.0|last_reward_at:  299|Elapsed Time: 0:00:22||\n",
      "Episode 3|Iteration 394|reward:  216.0|last_reward_at:  299|Elapsed Time: 0:00:22||\n",
      "Episode 3|Iteration 396|reward:  266.0|last_reward_at:  299|Elapsed Time: 0:00:23||\n",
      "Episode 3|Iteration 396|reward:  266.0|last_reward_at:  396|Elapsed Time: 0:00:23||\n",
      "Episode 3|Iteration 398|reward:  266.0|last_reward_at:  396|Elapsed Time: 0:00:23||\n",
      "Episode 3|Iteration 400|reward:  266.0|last_reward_at:  396|Elapsed Time: 0:00:23||\n",
      "Episode 3|Iteration 403|reward:  266.0|last_reward_at:  396|Elapsed Time: 0:00:23||\n",
      "Episode 3|Iteration 406|reward:  266.0|last_reward_at:  396|Elapsed Time: 0:00:23||\n",
      "Episode 3|Iteration 409|reward:  266.0|last_reward_at:  396|Elapsed Time: 0:00:23||\n",
      "Episode 3|Iteration 411|reward:  266.0|last_reward_at:  396|Elapsed Time: 0:00:23||\n",
      "Episode 3|Iteration 412|reward:  266.0|last_reward_at:  396|Elapsed Time: 0:00:23||\n",
      "Episode 3|Iteration 413|reward:  266.0|last_reward_at:  396|Elapsed Time: 0:00:24||\n",
      "Episode 3|Iteration 415|reward:  266.0|last_reward_at:  396|Elapsed Time: 0:00:24||\n",
      "Episode 3|Iteration 418|reward:  266.0|last_reward_at:  396|Elapsed Time: 0:00:24||\n",
      "Episode 3|Iteration 420|reward:  266.0|last_reward_at:  396|Elapsed Time: 0:00:24||\n",
      "Episode 3|Iteration 424|reward:  266.0|last_reward_at:  396|Elapsed Time: 0:00:24||\n",
      "Episode 3|Iteration 427|reward:  266.0|last_reward_at:  396|Elapsed Time: 0:00:24||\n",
      "Episode 3|Iteration 431|reward:  266.0|last_reward_at:  396|Elapsed Time: 0:00:24||\n",
      "Episode 3|Iteration 435|reward:  266.0|last_reward_at:  396|Elapsed Time: 0:00:24||\n",
      "Episode 3|Iteration 440|reward:  266.0|last_reward_at:  396|Elapsed Time: 0:00:24||\n",
      "Episode 3|Iteration 444|reward:  266.0|last_reward_at:  396|Elapsed Time: 0:00:25||\n",
      "Episode 3|Iteration 448|reward:  266.0|last_reward_at:  396|Elapsed Time: 0:00:25||\n",
      "Episode 3|Iteration 453|reward:  266.0|last_reward_at:  396|Elapsed Time: 0:00:25||\n",
      "Episode 3|Iteration 456|reward:  266.0|last_reward_at:  396|Elapsed Time: 0:00:25||\n",
      "Episode 3|Iteration 460|reward:  266.0|last_reward_at:  396|Elapsed Time: 0:00:25||\n",
      "Episode 3|Iteration 464|reward:  266.0|last_reward_at:  396|Elapsed Time: 0:00:25||\n",
      "Episode 3|Iteration 465|reward:  266.0|last_reward_at:  396|Elapsed Time: 0:00:25||\n",
      "Episode 3|Iteration 467|reward:  266.0|last_reward_at:  396|Elapsed Time: 0:00:25||\n",
      "Episode 3|Iteration 471|reward:  266.0|last_reward_at:  396|Elapsed Time: 0:00:25||\n",
      "Episode 3|Iteration 474|reward:  266.0|last_reward_at:  396|Elapsed Time: 0:00:26||\n",
      "Episode 3|Iteration 478|reward:  266.0|last_reward_at:  396|Elapsed Time: 0:00:26||\n",
      "Episode 3|Iteration 481|reward:  266.0|last_reward_at:  396|Elapsed Time: 0:00:26||\n",
      "Episode 3|Iteration 484|reward:  266.0|last_reward_at:  396|Elapsed Time: 0:00:26||\n",
      "Episode 3|Iteration 487|reward:  266.0|last_reward_at:  396|Elapsed Time: 0:00:26||\n",
      "Episode 3|Iteration 490|reward:  266.0|last_reward_at:  396|Elapsed Time: 0:00:26||\n",
      "Episode 3|Iteration 493|reward:  266.0|last_reward_at:  396|Elapsed Time: 0:00:26||\n",
      "Episode 3|Iteration 496|reward:  266.0|last_reward_at:  396|Elapsed Time: 0:00:26||\n",
      "Episode 3|Iteration 498|reward:  266.0|last_reward_at:  396|Elapsed Time: 0:00:27||\n",
      "Episode 3|Iteration 502|reward:  266.0|last_reward_at:  396|Elapsed Time: 0:00:27||\n",
      "Episode 3|Iteration 506|reward:  266.0|last_reward_at:  396|Elapsed Time: 0:00:27||\n",
      "Episode 3|Iteration 509|reward:  266.0|last_reward_at:  396|Elapsed Time: 0:00:27||\n",
      "Episode 3|Iteration 509|reward:  266.0|last_reward_at:  396|Elapsed Time: 0:00:27||\n",
      "Episode 3|Iteration 511|reward:  266.0|last_reward_at:  396|Elapsed Time: 0:00:27||\n",
      "Episode 3|Iteration 515|reward:  266.0|last_reward_at:  396|Elapsed Time: 0:00:27||\n",
      "Episode 3|Iteration 520|reward:  266.0|last_reward_at:  396|Elapsed Time: 0:00:28||\n",
      "Episode 3|Iteration 524|reward:  266.0|last_reward_at:  396|Elapsed Time: 0:00:28||\n",
      "Episode 3|Iteration 526|reward:  266.0|last_reward_at:  396|Elapsed Time: 0:00:28||\n",
      "Episode 3|Iteration 528|reward:  266.0|last_reward_at:  396|Elapsed Time: 0:00:28||\n",
      "Episode 3|Iteration 532|reward:  266.0|last_reward_at:  396|Elapsed Time: 0:00:28||\n",
      "Episode 3|Iteration 536|reward:  266.0|last_reward_at:  396|Elapsed Time: 0:00:28||\n",
      "Episode 3|Iteration 540|reward:  266.0|last_reward_at:  396|Elapsed Time: 0:00:28||\n",
      "Episode 3|Iteration 542|reward:  266.0|last_reward_at:  396|Elapsed Time: 0:00:28||\n",
      "Episode 3|Iteration 543|reward:  266.0|last_reward_at:  396|Elapsed Time: 0:00:29||\n",
      "Episode 3|Iteration 546|reward:  266.0|last_reward_at:  396|Elapsed Time: 0:00:29||\n",
      "Episode 3|Iteration 551|reward:  266.0|last_reward_at:  396|Elapsed Time: 0:00:29||\n",
      "Episode 3|Iteration 555|reward:  266.0|last_reward_at:  396|Elapsed Time: 0:00:29||\n",
      "Episode 3|Iteration 559|reward:  266.0|last_reward_at:  396|Elapsed Time: 0:00:29||\n",
      "Episode 3|Iteration 562|reward:  266.0|last_reward_at:  396|Elapsed Time: 0:00:29||\n",
      "Episode 3|Iteration 565|reward:  266.0|last_reward_at:  396|Elapsed Time: 0:00:29||\n",
      "Episode 3|Iteration 570|reward:  266.0|last_reward_at:  396|Elapsed Time: 0:00:29||\n",
      "Episode 3|Iteration 573|reward:  266.0|last_reward_at:  396|Elapsed Time: 0:00:30||\n",
      "Episode 3|Iteration 575|reward:  272.0|last_reward_at:  396|Elapsed Time: 0:00:30||\n",
      "Episode 3|Iteration 575|reward:  272.0|last_reward_at:  575|Elapsed Time: 0:00:30||\n",
      "Episode 3|Iteration 577|reward:  272.0|last_reward_at:  575|Elapsed Time: 0:00:30||\n",
      "Episode 3|Iteration 580|reward:  272.0|last_reward_at:  575|Elapsed Time: 0:00:30||\n",
      "Episode 3|Iteration 583|reward:  272.0|last_reward_at:  575|Elapsed Time: 0:00:30||\n",
      "Episode 3|Iteration 585|reward:  272.0|last_reward_at:  575|Elapsed Time: 0:00:30||\n",
      "Episode 3|Iteration 586|reward:  272.0|last_reward_at:  575|Elapsed Time: 0:00:30||\n",
      "Episode 3|Iteration 588|reward:  272.0|last_reward_at:  575|Elapsed Time: 0:00:31||\n",
      "Episode 3|Iteration 589|reward:  272.0|last_reward_at:  575|Elapsed Time: 0:00:31||\n",
      "Episode 3|Iteration 590|reward:  272.0|last_reward_at:  575|Elapsed Time: 0:00:31||\n",
      "Episode 3|Iteration 593|reward:  272.0|last_reward_at:  575|Elapsed Time: 0:00:31||\n",
      "Episode 3|Iteration 595|reward:  272.0|last_reward_at:  575|Elapsed Time: 0:00:31||\n",
      "Episode 3|Iteration 597|reward:  272.0|last_reward_at:  575|Elapsed Time: 0:00:31||\n",
      "Episode 3|Iteration 599|reward:  272.0|last_reward_at:  575|Elapsed Time: 0:00:31||\n",
      "Episode 3|Iteration 600|reward:  272.0|last_reward_at:  575|Elapsed Time: 0:00:31||\n"
     ]
    },
    {
     "name": "stdout",
     "output_type": "stream",
     "text": [
      "  Episode 3 stopped at t=600 \n",
      "  Breakdown [Reward/NoReward (Success rate)]\n",
      "    explore-local: 1/48 (0.02)\n",
      "    explore-remote: 7/179 (0.04)\n",
      "    explore-connect: 2/183 (0.01)\n",
      "    exploit-local: 1/0 (1.00)\n",
      "    exploit-remote: 1/124 (0.01)\n",
      "    exploit-connect: 1/53 (0.02)\n",
      "  exploit deflected to exploration: 16\n",
      "  ## Episode: 4/10 'DQL' ϵ=0.6583, γ=0.15, lr=0.01, replaymemory=10000,\n",
      "batch=256, target_update=5\n"
     ]
    },
    {
     "name": "stderr",
     "output_type": "stream",
     "text": [
      "Episode 4|Iteration 0|reward: ------|last_reward_at: ----|Elapsed Time: 0:00:00||\n",
      "Episode 4|Iteration 1|reward:    6.0|last_reward_at: ----|Elapsed Time: 0:00:00||\n",
      "Episode 4|Iteration 1|reward:    6.0|last_reward_at:    1|Elapsed Time: 0:00:00||\n",
      "Episode 4|Iteration 4|reward:   12.0|last_reward_at:    1|Elapsed Time: 0:00:00||\n",
      "Episode 4|Iteration 4|reward:   12.0|last_reward_at:    4|Elapsed Time: 0:00:00||\n",
      "Episode 4|Iteration 7|reward:   12.0|last_reward_at:    4|Elapsed Time: 0:00:00||\n",
      "Episode 4|Iteration 9|reward:   12.0|last_reward_at:    4|Elapsed Time: 0:00:00||\n",
      "Episode 4|Iteration 11|reward:   12.0|last_reward_at:    4|Elapsed Time: 0:00:00||\n",
      "Episode 4|Iteration 12|reward:   12.0|last_reward_at:    4|Elapsed Time: 0:00:00||\n",
      "Episode 4|Iteration 14|reward:   12.0|last_reward_at:    4|Elapsed Time: 0:00:00||\n",
      "Episode 4|Iteration 17|reward:   12.0|last_reward_at:    4|Elapsed Time: 0:00:01||\n",
      "Episode 4|Iteration 19|reward:   12.0|last_reward_at:    4|Elapsed Time: 0:00:01||\n",
      "Episode 4|Iteration 21|reward:   12.0|last_reward_at:    4|Elapsed Time: 0:00:01||\n",
      "Episode 4|Iteration 24|reward:   12.0|last_reward_at:    4|Elapsed Time: 0:00:01||\n",
      "Episode 4|Iteration 26|reward:   12.0|last_reward_at:    4|Elapsed Time: 0:00:01||\n",
      "Episode 4|Iteration 29|reward:   12.0|last_reward_at:    4|Elapsed Time: 0:00:01||\n",
      "Episode 4|Iteration 32|reward:   12.0|last_reward_at:    4|Elapsed Time: 0:00:01||\n",
      "Episode 4|Iteration 34|reward:   12.0|last_reward_at:    4|Elapsed Time: 0:00:02||\n",
      "Episode 4|Iteration 37|reward:   12.0|last_reward_at:    4|Elapsed Time: 0:00:02||\n",
      "Episode 4|Iteration 39|reward:   12.0|last_reward_at:    4|Elapsed Time: 0:00:02||\n",
      "Episode 4|Iteration 42|reward:   12.0|last_reward_at:    4|Elapsed Time: 0:00:02||\n",
      "Episode 4|Iteration 44|reward:   12.0|last_reward_at:    4|Elapsed Time: 0:00:02||\n",
      "Episode 4|Iteration 46|reward:   12.0|last_reward_at:    4|Elapsed Time: 0:00:02||\n",
      "Episode 4|Iteration 49|reward:   12.0|last_reward_at:    4|Elapsed Time: 0:00:02||\n",
      "Episode 4|Iteration 52|reward:   18.0|last_reward_at:    4|Elapsed Time: 0:00:02||\n",
      "Episode 4|Iteration 52|reward:   18.0|last_reward_at:   52|Elapsed Time: 0:00:02||\n",
      "Episode 4|Iteration 55|reward:   24.0|last_reward_at:   52|Elapsed Time: 0:00:02||\n",
      "Episode 4|Iteration 55|reward:   24.0|last_reward_at:   55|Elapsed Time: 0:00:02||\n",
      "Episode 4|Iteration 59|reward:   24.0|last_reward_at:   55|Elapsed Time: 0:00:03||\n",
      "Episode 4|Iteration 63|reward:   24.0|last_reward_at:   55|Elapsed Time: 0:00:03||\n",
      "Episode 4|Iteration 64|reward:   24.0|last_reward_at:   55|Elapsed Time: 0:00:03||\n",
      "Episode 4|Iteration 69|reward:   24.0|last_reward_at:   55|Elapsed Time: 0:00:03||\n",
      "Episode 4|Iteration 72|reward:   24.0|last_reward_at:   55|Elapsed Time: 0:00:03||\n",
      "Episode 4|Iteration 76|reward:   24.0|last_reward_at:   55|Elapsed Time: 0:00:03||\n",
      "Episode 4|Iteration 78|reward:   24.0|last_reward_at:   55|Elapsed Time: 0:00:03||\n",
      "Episode 4|Iteration 80|reward:   24.0|last_reward_at:   55|Elapsed Time: 0:00:04||\n",
      "Episode 4|Iteration 84|reward:   24.0|last_reward_at:   55|Elapsed Time: 0:00:04||\n",
      "Episode 4|Iteration 87|reward:   24.0|last_reward_at:   55|Elapsed Time: 0:00:04||\n",
      "Episode 4|Iteration 91|reward:   24.0|last_reward_at:   55|Elapsed Time: 0:00:04||\n",
      "Episode 4|Iteration 93|reward:   24.0|last_reward_at:   55|Elapsed Time: 0:00:04||\n",
      "Episode 4|Iteration 95|reward:   24.0|last_reward_at:   55|Elapsed Time: 0:00:04||\n",
      "Episode 4|Iteration 96|reward:   24.0|last_reward_at:   55|Elapsed Time: 0:00:04||\n",
      "Episode 4|Iteration 98|reward:   24.0|last_reward_at:   55|Elapsed Time: 0:00:04||\n",
      "Episode 4|Iteration 103|reward:   24.0|last_reward_at:   55|Elapsed Time: 0:00:04||\n",
      "Episode 4|Iteration 104|reward:   33.0|last_reward_at:   55|Elapsed Time: 0:00:05||\n",
      "Episode 4|Iteration 104|reward:   33.0|last_reward_at:  104|Elapsed Time: 0:00:05||\n",
      "Episode 4|Iteration 107|reward:   33.0|last_reward_at:  104|Elapsed Time: 0:00:05||\n",
      "Episode 4|Iteration 107|reward:   83.0|last_reward_at:  104|Elapsed Time: 0:00:05||\n",
      "Episode 4|Iteration 107|reward:   83.0|last_reward_at:  107|Elapsed Time: 0:00:05||\n",
      "Episode 4|Iteration 109|reward:   83.0|last_reward_at:  107|Elapsed Time: 0:00:05||\n",
      "Episode 4|Iteration 111|reward:   83.0|last_reward_at:  107|Elapsed Time: 0:00:05||\n",
      "Episode 4|Iteration 112|reward:   83.0|last_reward_at:  107|Elapsed Time: 0:00:05||\n",
      "Episode 4|Iteration 115|reward:   83.0|last_reward_at:  107|Elapsed Time: 0:00:05||\n",
      "Episode 4|Iteration 117|reward:   83.0|last_reward_at:  107|Elapsed Time: 0:00:05||\n",
      "Episode 4|Iteration 120|reward:   83.0|last_reward_at:  107|Elapsed Time: 0:00:05||\n",
      "Episode 4|Iteration 122|reward:   83.0|last_reward_at:  107|Elapsed Time: 0:00:05||\n",
      "Episode 4|Iteration 123|reward:   83.0|last_reward_at:  107|Elapsed Time: 0:00:06||\n",
      "Episode 4|Iteration 125|reward:   83.0|last_reward_at:  107|Elapsed Time: 0:00:06||\n",
      "Episode 4|Iteration 128|reward:   83.0|last_reward_at:  107|Elapsed Time: 0:00:06||\n",
      "Episode 4|Iteration 129|reward:   83.0|last_reward_at:  107|Elapsed Time: 0:00:06||\n",
      "Episode 4|Iteration 130|reward:   83.0|last_reward_at:  107|Elapsed Time: 0:00:06||\n",
      "Episode 4|Iteration 133|reward:   83.0|last_reward_at:  107|Elapsed Time: 0:00:06||\n",
      "Episode 4|Iteration 136|reward:   92.0|last_reward_at:  107|Elapsed Time: 0:00:07||\n",
      "Episode 4|Iteration 136|reward:   92.0|last_reward_at:  136|Elapsed Time: 0:00:07||\n",
      "Episode 4|Iteration 141|reward:   92.0|last_reward_at:  136|Elapsed Time: 0:00:07||\n",
      "Episode 4|Iteration 144|reward:   92.0|last_reward_at:  136|Elapsed Time: 0:00:07||\n",
      "Episode 4|Iteration 145|reward:   92.0|last_reward_at:  136|Elapsed Time: 0:00:07||\n",
      "Episode 4|Iteration 147|reward:  142.0|last_reward_at:  136|Elapsed Time: 0:00:07||\n",
      "Episode 4|Iteration 147|reward:  142.0|last_reward_at:  147|Elapsed Time: 0:00:07||\n",
      "Episode 4|Iteration 151|reward:  142.0|last_reward_at:  147|Elapsed Time: 0:00:07||\n",
      "Episode 4|Iteration 156|reward:  142.0|last_reward_at:  147|Elapsed Time: 0:00:07||\n",
      "Episode 4|Iteration 159|reward:  142.0|last_reward_at:  147|Elapsed Time: 0:00:08||\n",
      "Episode 4|Iteration 162|reward:  142.0|last_reward_at:  147|Elapsed Time: 0:00:08||\n",
      "Episode 4|Iteration 163|reward:  142.0|last_reward_at:  147|Elapsed Time: 0:00:08||\n",
      "Episode 4|Iteration 166|reward:  142.0|last_reward_at:  147|Elapsed Time: 0:00:08||\n",
      "Episode 4|Iteration 169|reward:  142.0|last_reward_at:  147|Elapsed Time: 0:00:08||\n",
      "Episode 4|Iteration 174|reward:  142.0|last_reward_at:  147|Elapsed Time: 0:00:08||\n",
      "Episode 4|Iteration 178|reward:  142.0|last_reward_at:  147|Elapsed Time: 0:00:08||\n",
      "Episode 4|Iteration 183|reward:  142.0|last_reward_at:  147|Elapsed Time: 0:00:08||\n",
      "Episode 4|Iteration 187|reward:  142.0|last_reward_at:  147|Elapsed Time: 0:00:09||\n",
      "Episode 4|Iteration 191|reward:  142.0|last_reward_at:  147|Elapsed Time: 0:00:09||\n",
      "Episode 4|Iteration 196|reward:  142.0|last_reward_at:  147|Elapsed Time: 0:00:09||\n",
      "Episode 4|Iteration 201|reward:  142.0|last_reward_at:  147|Elapsed Time: 0:00:09||\n",
      "Episode 4|Iteration 206|reward:  142.0|last_reward_at:  147|Elapsed Time: 0:00:09||\n",
      "Episode 4|Iteration 207|reward:  142.0|last_reward_at:  147|Elapsed Time: 0:00:09||\n",
      "Episode 4|Iteration 210|reward:  142.0|last_reward_at:  147|Elapsed Time: 0:00:09||\n",
      "Episode 4|Iteration 212|reward:  142.0|last_reward_at:  147|Elapsed Time: 0:00:09||\n",
      "Episode 4|Iteration 213|reward:  142.0|last_reward_at:  147|Elapsed Time: 0:00:10||\n",
      "Episode 4|Iteration 216|reward:  142.0|last_reward_at:  147|Elapsed Time: 0:00:10||\n",
      "Episode 4|Iteration 217|reward:  142.0|last_reward_at:  147|Elapsed Time: 0:00:10||\n",
      "Episode 4|Iteration 218|reward:  142.0|last_reward_at:  147|Elapsed Time: 0:00:10||\n",
      "Episode 4|Iteration 221|reward:  142.0|last_reward_at:  147|Elapsed Time: 0:00:10||\n",
      "Episode 4|Iteration 223|reward:  142.0|last_reward_at:  147|Elapsed Time: 0:00:10||\n",
      "Episode 4|Iteration 226|reward:  142.0|last_reward_at:  147|Elapsed Time: 0:00:11||\n",
      "Episode 4|Iteration 229|reward:  142.0|last_reward_at:  147|Elapsed Time: 0:00:11||\n",
      "Episode 4|Iteration 232|reward:  142.0|last_reward_at:  147|Elapsed Time: 0:00:11||\n",
      "Episode 4|Iteration 236|reward:  142.0|last_reward_at:  147|Elapsed Time: 0:00:11||\n",
      "Episode 4|Iteration 240|reward:  142.0|last_reward_at:  147|Elapsed Time: 0:00:11||\n",
      "Episode 4|Iteration 244|reward:  142.0|last_reward_at:  147|Elapsed Time: 0:00:11||\n",
      "Episode 4|Iteration 246|reward:  142.0|last_reward_at:  147|Elapsed Time: 0:00:11||\n",
      "Episode 4|Iteration 250|reward:  142.0|last_reward_at:  147|Elapsed Time: 0:00:11||\n",
      "Episode 4|Iteration 254|reward:  142.0|last_reward_at:  147|Elapsed Time: 0:00:11||\n",
      "Episode 4|Iteration 259|reward:  142.0|last_reward_at:  147|Elapsed Time: 0:00:12||\n",
      "Episode 4|Iteration 263|reward:  142.0|last_reward_at:  147|Elapsed Time: 0:00:12||\n",
      "Episode 4|Iteration 266|reward:  142.0|last_reward_at:  147|Elapsed Time: 0:00:12||\n",
      "Episode 4|Iteration 270|reward:  142.0|last_reward_at:  147|Elapsed Time: 0:00:12||\n",
      "Episode 4|Iteration 274|reward:  142.0|last_reward_at:  147|Elapsed Time: 0:00:12||\n",
      "Episode 4|Iteration 278|reward:  142.0|last_reward_at:  147|Elapsed Time: 0:00:12||\n",
      "Episode 4|Iteration 282|reward:  142.0|last_reward_at:  147|Elapsed Time: 0:00:12||\n",
      "Episode 4|Iteration 286|reward:  142.0|last_reward_at:  147|Elapsed Time: 0:00:12||\n",
      "Episode 4|Iteration 290|reward:  142.0|last_reward_at:  147|Elapsed Time: 0:00:12||\n",
      "Episode 4|Iteration 292|reward:  142.0|last_reward_at:  147|Elapsed Time: 0:00:12||\n",
      "Episode 4|Iteration 294|reward:  142.0|last_reward_at:  147|Elapsed Time: 0:00:13||\n",
      "Episode 4|Iteration 295|reward:  151.0|last_reward_at:  147|Elapsed Time: 0:00:13||\n",
      "Episode 4|Iteration 295|reward:  151.0|last_reward_at:  295|Elapsed Time: 0:00:13||\n",
      "Episode 4|Iteration 298|reward:  151.0|last_reward_at:  295|Elapsed Time: 0:00:13||\n",
      "Episode 4|Iteration 300|reward:  151.0|last_reward_at:  295|Elapsed Time: 0:00:13||\n",
      "Episode 4|Iteration 301|reward:  251.0|last_reward_at:  295|Elapsed Time: 0:00:13||\n",
      "Episode 4|Iteration 301|reward:  251.0|last_reward_at:  301|Elapsed Time: 0:00:13||\n",
      "Episode 4|Iteration 302|reward:  251.0|last_reward_at:  301|Elapsed Time: 0:00:14||\n",
      "Episode 4|Iteration 303|reward:  251.0|last_reward_at:  301|Elapsed Time: 0:00:14||\n",
      "Episode 4|Iteration 305|reward:  251.0|last_reward_at:  301|Elapsed Time: 0:00:14||\n",
      "Episode 4|Iteration 307|reward:  251.0|last_reward_at:  301|Elapsed Time: 0:00:14||\n",
      "Episode 4|Iteration 308|reward:  251.0|last_reward_at:  301|Elapsed Time: 0:00:14||\n",
      "Episode 4|Iteration 312|reward:  251.0|last_reward_at:  301|Elapsed Time: 0:00:14||\n",
      "Episode 4|Iteration 315|reward:  251.0|last_reward_at:  301|Elapsed Time: 0:00:15||\n",
      "Episode 4|Iteration 319|reward:  251.0|last_reward_at:  301|Elapsed Time: 0:00:15||\n",
      "Episode 4|Iteration 322|reward:  251.0|last_reward_at:  301|Elapsed Time: 0:00:15||\n",
      "Episode 4|Iteration 326|reward:  251.0|last_reward_at:  301|Elapsed Time: 0:00:15||\n",
      "Episode 4|Iteration 330|reward:  251.0|last_reward_at:  301|Elapsed Time: 0:00:15||\n",
      "Episode 4|Iteration 333|reward:  257.0|last_reward_at:  301|Elapsed Time: 0:00:15||\n",
      "Episode 4|Iteration 333|reward:  257.0|last_reward_at:  333|Elapsed Time: 0:00:15||\n",
      "Episode 4|Iteration 336|reward:  257.0|last_reward_at:  333|Elapsed Time: 0:00:15||\n",
      "Episode 4|Iteration 339|reward:  257.0|last_reward_at:  333|Elapsed Time: 0:00:15||\n",
      "Episode 4|Iteration 342|reward:  257.0|last_reward_at:  333|Elapsed Time: 0:00:15||\n",
      "Episode 4|Iteration 345|reward:  257.0|last_reward_at:  333|Elapsed Time: 0:00:15||\n",
      "Episode 4|Iteration 349|reward:  257.0|last_reward_at:  333|Elapsed Time: 0:00:16||\n",
      "Episode 4|Iteration 354|reward:  263.0|last_reward_at:  333|Elapsed Time: 0:00:16||\n",
      "Episode 4|Iteration 354|reward:  263.0|last_reward_at:  354|Elapsed Time: 0:00:16||\n",
      "Episode 4|Iteration 357|reward:  263.0|last_reward_at:  354|Elapsed Time: 0:00:16||\n",
      "Episode 4|Iteration 360|reward:  263.0|last_reward_at:  354|Elapsed Time: 0:00:16||\n",
      "Episode 4|Iteration 365|reward:  263.0|last_reward_at:  354|Elapsed Time: 0:00:16||\n",
      "Episode 4|Iteration 369|reward:  263.0|last_reward_at:  354|Elapsed Time: 0:00:16||\n",
      "Episode 4|Iteration 370|reward:  263.0|last_reward_at:  354|Elapsed Time: 0:00:16||\n",
      "Episode 4|Iteration 371|reward:  263.0|last_reward_at:  354|Elapsed Time: 0:00:16||\n",
      "Episode 4|Iteration 373|reward:  263.0|last_reward_at:  354|Elapsed Time: 0:00:16||\n",
      "Episode 4|Iteration 376|reward:  263.0|last_reward_at:  354|Elapsed Time: 0:00:17||\n",
      "Episode 4|Iteration 380|reward:  263.0|last_reward_at:  354|Elapsed Time: 0:00:17||\n",
      "Episode 4|Iteration 383|reward:  263.0|last_reward_at:  354|Elapsed Time: 0:00:17||\n",
      "Episode 4|Iteration 388|reward:  263.0|last_reward_at:  354|Elapsed Time: 0:00:17||\n",
      "Episode 4|Iteration 392|reward:  263.0|last_reward_at:  354|Elapsed Time: 0:00:17||\n",
      "Episode 4|Iteration 397|reward:  263.0|last_reward_at:  354|Elapsed Time: 0:00:17||\n",
      "Episode 4|Iteration 402|reward:  263.0|last_reward_at:  354|Elapsed Time: 0:00:17||\n",
      "Episode 4|Iteration 407|reward:  263.0|last_reward_at:  354|Elapsed Time: 0:00:17||\n",
      "Episode 4|Iteration 411|reward:  263.0|last_reward_at:  354|Elapsed Time: 0:00:17||\n",
      "Episode 4|Iteration 415|reward:  263.0|last_reward_at:  354|Elapsed Time: 0:00:17||\n",
      "Episode 4|Iteration 418|reward:  263.0|last_reward_at:  354|Elapsed Time: 0:00:17||\n",
      "Episode 4|Iteration 422|reward:  263.0|last_reward_at:  354|Elapsed Time: 0:00:18||\n",
      "Episode 4|Iteration 426|reward:  263.0|last_reward_at:  354|Elapsed Time: 0:00:18||\n",
      "Episode 4|Iteration 428|reward:  263.0|last_reward_at:  354|Elapsed Time: 0:00:18||\n",
      "Episode 4|Iteration 431|reward:  263.0|last_reward_at:  354|Elapsed Time: 0:00:18||\n",
      "Episode 4|Iteration 435|reward:  263.0|last_reward_at:  354|Elapsed Time: 0:00:18||\n",
      "Episode 4|Iteration 439|reward:  263.0|last_reward_at:  354|Elapsed Time: 0:00:18||\n",
      "Episode 4|Iteration 443|reward:  263.0|last_reward_at:  354|Elapsed Time: 0:00:18||\n",
      "Episode 4|Iteration 446|reward:  263.0|last_reward_at:  354|Elapsed Time: 0:00:18||\n",
      "Episode 4|Iteration 449|reward:  263.0|last_reward_at:  354|Elapsed Time: 0:00:18||\n",
      "Episode 4|Iteration 452|reward:  263.0|last_reward_at:  354|Elapsed Time: 0:00:19||\n",
      "Episode 4|Iteration 456|reward:  263.0|last_reward_at:  354|Elapsed Time: 0:00:19||\n",
      "Episode 4|Iteration 460|reward:  263.0|last_reward_at:  354|Elapsed Time: 0:00:19||\n",
      "Episode 4|Iteration 464|reward:  263.0|last_reward_at:  354|Elapsed Time: 0:00:19||\n",
      "Episode 4|Iteration 468|reward:  263.0|last_reward_at:  354|Elapsed Time: 0:00:19||\n",
      "Episode 4|Iteration 473|reward:  263.0|last_reward_at:  354|Elapsed Time: 0:00:19||\n",
      "Episode 4|Iteration 476|reward:  263.0|last_reward_at:  354|Elapsed Time: 0:00:19||\n",
      "Episode 4|Iteration 479|reward:  263.0|last_reward_at:  354|Elapsed Time: 0:00:19||\n",
      "Episode 4|Iteration 482|reward:  263.0|last_reward_at:  354|Elapsed Time: 0:00:19||\n",
      "Episode 4|Iteration 486|reward:  263.0|last_reward_at:  354|Elapsed Time: 0:00:19||\n",
      "Episode 4|Iteration 491|reward:  263.0|last_reward_at:  354|Elapsed Time: 0:00:20||\n",
      "Episode 4|Iteration 496|reward:  263.0|last_reward_at:  354|Elapsed Time: 0:00:20||\n",
      "Episode 4|Iteration 501|reward:  263.0|last_reward_at:  354|Elapsed Time: 0:00:20||\n",
      "Episode 4|Iteration 506|reward:  263.0|last_reward_at:  354|Elapsed Time: 0:00:20||\n",
      "Episode 4|Iteration 509|reward:  263.0|last_reward_at:  354|Elapsed Time: 0:00:20||\n",
      "Episode 4|Iteration 513|reward:  263.0|last_reward_at:  354|Elapsed Time: 0:00:20||\n",
      "Episode 4|Iteration 517|reward:  263.0|last_reward_at:  354|Elapsed Time: 0:00:20||\n",
      "Episode 4|Iteration 520|reward:  263.0|last_reward_at:  354|Elapsed Time: 0:00:20||\n",
      "Episode 4|Iteration 525|reward:  263.0|last_reward_at:  354|Elapsed Time: 0:00:20||\n",
      "Episode 4|Iteration 529|reward:  263.0|last_reward_at:  354|Elapsed Time: 0:00:20||\n",
      "Episode 4|Iteration 534|reward:  263.0|last_reward_at:  354|Elapsed Time: 0:00:21||\n",
      "Episode 4|Iteration 539|reward:  263.0|last_reward_at:  354|Elapsed Time: 0:00:21||\n",
      "Episode 4|Iteration 544|reward:  263.0|last_reward_at:  354|Elapsed Time: 0:00:21||\n",
      "Episode 4|Iteration 547|reward:  263.0|last_reward_at:  354|Elapsed Time: 0:00:21||\n",
      "Episode 4|Iteration 550|reward:  263.0|last_reward_at:  354|Elapsed Time: 0:00:21||\n",
      "Episode 4|Iteration 554|reward:  263.0|last_reward_at:  354|Elapsed Time: 0:00:21||\n",
      "Episode 4|Iteration 558|reward:  263.0|last_reward_at:  354|Elapsed Time: 0:00:21||\n",
      "Episode 4|Iteration 562|reward:  263.0|last_reward_at:  354|Elapsed Time: 0:00:21||\n",
      "Episode 4|Iteration 567|reward:  263.0|last_reward_at:  354|Elapsed Time: 0:00:21||\n",
      "Episode 4|Iteration 572|reward:  263.0|last_reward_at:  354|Elapsed Time: 0:00:22||\n",
      "Episode 4|Iteration 577|reward:  263.0|last_reward_at:  354|Elapsed Time: 0:00:22||\n",
      "Episode 4|Iteration 582|reward:  263.0|last_reward_at:  354|Elapsed Time: 0:00:22||\n",
      "Episode 4|Iteration 587|reward:  263.0|last_reward_at:  354|Elapsed Time: 0:00:22||\n",
      "Episode 4|Iteration 592|reward:  263.0|last_reward_at:  354|Elapsed Time: 0:00:22||\n",
      "Episode 4|Iteration 597|reward:  263.0|last_reward_at:  354|Elapsed Time: 0:00:22||\n",
      "Episode 4|Iteration 600|reward:  263.0|last_reward_at:  354|Elapsed Time: 0:00:22||\n",
      "Episode 4|Iteration 600|reward:  263.0|last_reward_at:  354|Elapsed Time: 0:00:22||\n"
     ]
    },
    {
     "name": "stdout",
     "output_type": "stream",
     "text": [
      "  Episode 4 stopped at t=600 \n",
      "  Breakdown [Reward/NoReward (Success rate)]\n",
      "    explore-local: 1/61 (0.02)\n",
      "    explore-remote: 6/199 (0.03)\n",
      "    explore-connect: 0/143 (0.00)\n",
      "    exploit-local: 0/0 (NaN)\n",
      "    exploit-remote: 2/133 (0.01)\n",
      "    exploit-connect: 3/52 (0.05)\n",
      "  exploit deflected to exploration: 25\n",
      "  ## Episode: 5/10 'DQL' ϵ=0.5951, γ=0.15, lr=0.01, replaymemory=10000,\n",
      "batch=256, target_update=5\n"
     ]
    },
    {
     "name": "stderr",
     "output_type": "stream",
     "text": [
      "Episode 5|Iteration 0|reward: ------|last_reward_at: ----|Elapsed Time: 0:00:00||\n",
      "Episode 5|Iteration 1|reward:    6.0|last_reward_at: ----|Elapsed Time: 0:00:00||\n",
      "Episode 5|Iteration 1|reward:    6.0|last_reward_at:    1|Elapsed Time: 0:00:00||\n",
      "Episode 5|Iteration 6|reward:    6.0|last_reward_at:    1|Elapsed Time: 0:00:00||\n",
      "Episode 5|Iteration 7|reward:   12.0|last_reward_at:    1|Elapsed Time: 0:00:00||\n",
      "Episode 5|Iteration 7|reward:   12.0|last_reward_at:    7|Elapsed Time: 0:00:00||\n",
      "Episode 5|Iteration 10|reward:   18.0|last_reward_at:    7|Elapsed Time: 0:00:00||\n",
      "Episode 5|Iteration 10|reward:   18.0|last_reward_at:   10|Elapsed Time: 0:00:00||\n",
      "Episode 5|Iteration 12|reward:   27.0|last_reward_at:   10|Elapsed Time: 0:00:00||\n",
      "Episode 5|Iteration 12|reward:   27.0|last_reward_at:   12|Elapsed Time: 0:00:00||\n",
      "Episode 5|Iteration 13|reward:  127.0|last_reward_at:   12|Elapsed Time: 0:00:00||\n",
      "Episode 5|Iteration 13|reward:  127.0|last_reward_at:   13|Elapsed Time: 0:00:00||\n",
      "Episode 5|Iteration 15|reward:  136.0|last_reward_at:   13|Elapsed Time: 0:00:00||\n",
      "Episode 5|Iteration 15|reward:  136.0|last_reward_at:   15|Elapsed Time: 0:00:00||\n",
      "Episode 5|Iteration 20|reward:  136.0|last_reward_at:   15|Elapsed Time: 0:00:00||\n",
      "Episode 5|Iteration 25|reward:  136.0|last_reward_at:   15|Elapsed Time: 0:00:00||\n",
      "Episode 5|Iteration 30|reward:  136.0|last_reward_at:   15|Elapsed Time: 0:00:00||\n",
      "Episode 5|Iteration 35|reward:  136.0|last_reward_at:   15|Elapsed Time: 0:00:00||\n",
      "Episode 5|Iteration 40|reward:  136.0|last_reward_at:   15|Elapsed Time: 0:00:00||\n",
      "Episode 5|Iteration 43|reward:  142.0|last_reward_at:   15|Elapsed Time: 0:00:01||\n",
      "Episode 5|Iteration 43|reward:  142.0|last_reward_at:   43|Elapsed Time: 0:00:01||\n",
      "Episode 5|Iteration 48|reward:  142.0|last_reward_at:   43|Elapsed Time: 0:00:01||\n",
      "Episode 5|Iteration 51|reward:  151.0|last_reward_at:   43|Elapsed Time: 0:00:01||\n",
      "Episode 5|Iteration 51|reward:  151.0|last_reward_at:   51|Elapsed Time: 0:00:01||\n",
      "Episode 5|Iteration 56|reward:  151.0|last_reward_at:   51|Elapsed Time: 0:00:01||\n",
      "Episode 5|Iteration 60|reward:  151.0|last_reward_at:   51|Elapsed Time: 0:00:01||\n",
      "Episode 5|Iteration 65|reward:  151.0|last_reward_at:   51|Elapsed Time: 0:00:01||\n",
      "Episode 5|Iteration 69|reward:  151.0|last_reward_at:   51|Elapsed Time: 0:00:01||\n",
      "Episode 5|Iteration 72|reward:  151.0|last_reward_at:   51|Elapsed Time: 0:00:01||\n",
      "Episode 5|Iteration 75|reward:  151.0|last_reward_at:   51|Elapsed Time: 0:00:01||\n",
      "Episode 5|Iteration 80|reward:  151.0|last_reward_at:   51|Elapsed Time: 0:00:01||\n",
      "Episode 5|Iteration 83|reward:  151.0|last_reward_at:   51|Elapsed Time: 0:00:02||\n",
      "Episode 5|Iteration 85|reward:  201.0|last_reward_at:   51|Elapsed Time: 0:00:02||\n",
      "Episode 5|Iteration 85|reward:  201.0|last_reward_at:   85|Elapsed Time: 0:00:02||\n",
      "Episode 5|Iteration 89|reward:  201.0|last_reward_at:   85|Elapsed Time: 0:00:02||\n",
      "Episode 5|Iteration 91|reward:  201.0|last_reward_at:   85|Elapsed Time: 0:00:02||\n",
      "Episode 5|Iteration 95|reward:  201.0|last_reward_at:   85|Elapsed Time: 0:00:02||\n",
      "Episode 5|Iteration 96|reward:  210.0|last_reward_at:   85|Elapsed Time: 0:00:02||\n",
      "Episode 5|Iteration 96|reward:  210.0|last_reward_at:   96|Elapsed Time: 0:00:02||\n",
      "Episode 5|Iteration 101|reward:  210.0|last_reward_at:   96|Elapsed Time: 0:00:02||\n",
      "Episode 5|Iteration 102|reward:  216.0|last_reward_at:   96|Elapsed Time: 0:00:02||\n",
      "Episode 5|Iteration 102|reward:  216.0|last_reward_at:  102|Elapsed Time: 0:00:02||\n",
      "Episode 5|Iteration 104|reward:  216.0|last_reward_at:  102|Elapsed Time: 0:00:02||\n",
      "Episode 5|Iteration 105|reward:  216.0|last_reward_at:  102|Elapsed Time: 0:00:03||\n",
      "Episode 5|Iteration 109|reward:  216.0|last_reward_at:  102|Elapsed Time: 0:00:03||\n",
      "Episode 5|Iteration 113|reward:  216.0|last_reward_at:  102|Elapsed Time: 0:00:03||\n",
      "Episode 5|Iteration 116|reward:  216.0|last_reward_at:  102|Elapsed Time: 0:00:03||\n",
      "Episode 5|Iteration 118|reward:  216.0|last_reward_at:  102|Elapsed Time: 0:00:03||\n",
      "Episode 5|Iteration 121|reward:  216.0|last_reward_at:  102|Elapsed Time: 0:00:03||\n",
      "Episode 5|Iteration 122|reward:  222.0|last_reward_at:  102|Elapsed Time: 0:00:03||\n",
      "Episode 5|Iteration 122|reward:  222.0|last_reward_at:  122|Elapsed Time: 0:00:03||\n",
      "Episode 5|Iteration 126|reward:  222.0|last_reward_at:  122|Elapsed Time: 0:00:03||\n",
      "Episode 5|Iteration 130|reward:  222.0|last_reward_at:  122|Elapsed Time: 0:00:03||\n",
      "Episode 5|Iteration 133|reward:  222.0|last_reward_at:  122|Elapsed Time: 0:00:04||\n",
      "Episode 5|Iteration 136|reward:  222.0|last_reward_at:  122|Elapsed Time: 0:00:04||\n",
      "Episode 5|Iteration 140|reward:  222.0|last_reward_at:  122|Elapsed Time: 0:00:04||\n",
      "Episode 5|Iteration 142|reward:  222.0|last_reward_at:  122|Elapsed Time: 0:00:04||\n",
      "Episode 5|Iteration 144|reward:  222.0|last_reward_at:  122|Elapsed Time: 0:00:04||\n",
      "Episode 5|Iteration 146|reward:  222.0|last_reward_at:  122|Elapsed Time: 0:00:04||\n",
      "Episode 5|Iteration 147|reward:  222.0|last_reward_at:  122|Elapsed Time: 0:00:04||\n",
      "Episode 5|Iteration 148|reward:  222.0|last_reward_at:  122|Elapsed Time: 0:00:05||\n",
      "Episode 5|Iteration 149|reward:  222.0|last_reward_at:  122|Elapsed Time: 0:00:05||\n",
      "Episode 5|Iteration 150|reward:  222.0|last_reward_at:  122|Elapsed Time: 0:00:05||\n",
      "Episode 5|Iteration 152|reward:  222.0|last_reward_at:  122|Elapsed Time: 0:00:06||\n",
      "Episode 5|Iteration 153|reward:  222.0|last_reward_at:  122|Elapsed Time: 0:00:06||\n",
      "Episode 5|Iteration 155|reward:  222.0|last_reward_at:  122|Elapsed Time: 0:00:06||\n",
      "Episode 5|Iteration 157|reward:  222.0|last_reward_at:  122|Elapsed Time: 0:00:06||\n",
      "Episode 5|Iteration 160|reward:  222.0|last_reward_at:  122|Elapsed Time: 0:00:06||\n",
      "Episode 5|Iteration 162|reward:  222.0|last_reward_at:  122|Elapsed Time: 0:00:06||\n",
      "Episode 5|Iteration 166|reward:  222.0|last_reward_at:  122|Elapsed Time: 0:00:06||\n",
      "Episode 5|Iteration 169|reward:  222.0|last_reward_at:  122|Elapsed Time: 0:00:06||\n",
      "Episode 5|Iteration 170|reward:  272.0|last_reward_at:  122|Elapsed Time: 0:00:06||\n",
      "Episode 5|Iteration 170|reward:  272.0|last_reward_at:  170|Elapsed Time: 0:00:06||\n",
      "Episode 5|Iteration 174|reward:  272.0|last_reward_at:  170|Elapsed Time: 0:00:07||\n",
      "Episode 5|Iteration 177|reward:  272.0|last_reward_at:  170|Elapsed Time: 0:00:07||\n",
      "Episode 5|Iteration 180|reward:  272.0|last_reward_at:  170|Elapsed Time: 0:00:07||\n",
      "Episode 5|Iteration 183|reward:  272.0|last_reward_at:  170|Elapsed Time: 0:00:07||\n",
      "Episode 5|Iteration 187|reward:  272.0|last_reward_at:  170|Elapsed Time: 0:00:07||\n",
      "Episode 5|Iteration 190|reward:  272.0|last_reward_at:  170|Elapsed Time: 0:00:07||\n",
      "Episode 5|Iteration 193|reward:  272.0|last_reward_at:  170|Elapsed Time: 0:00:07||\n",
      "Episode 5|Iteration 197|reward:  272.0|last_reward_at:  170|Elapsed Time: 0:00:07||\n",
      "Episode 5|Iteration 201|reward:  272.0|last_reward_at:  170|Elapsed Time: 0:00:07||\n",
      "Episode 5|Iteration 205|reward:  272.0|last_reward_at:  170|Elapsed Time: 0:00:08||\n",
      "Episode 5|Iteration 210|reward:  272.0|last_reward_at:  170|Elapsed Time: 0:00:08||\n",
      "Episode 5|Iteration 213|reward:  272.0|last_reward_at:  170|Elapsed Time: 0:00:08||\n",
      "Episode 5|Iteration 217|reward:  272.0|last_reward_at:  170|Elapsed Time: 0:00:08||\n",
      "Episode 5|Iteration 221|reward:  272.0|last_reward_at:  170|Elapsed Time: 0:00:08||\n",
      "Episode 5|Iteration 225|reward:  272.0|last_reward_at:  170|Elapsed Time: 0:00:08||\n",
      "Episode 5|Iteration 230|reward:  272.0|last_reward_at:  170|Elapsed Time: 0:00:08||\n",
      "Episode 5|Iteration 235|reward:  272.0|last_reward_at:  170|Elapsed Time: 0:00:08||\n",
      "Episode 5|Iteration 240|reward:  272.0|last_reward_at:  170|Elapsed Time: 0:00:08||\n",
      "Episode 5|Iteration 244|reward:  272.0|last_reward_at:  170|Elapsed Time: 0:00:08||\n",
      "Episode 5|Iteration 248|reward:  272.0|last_reward_at:  170|Elapsed Time: 0:00:09||\n",
      "Episode 5|Iteration 251|reward:  272.0|last_reward_at:  170|Elapsed Time: 0:00:09||\n",
      "Episode 5|Iteration 254|reward:  272.0|last_reward_at:  170|Elapsed Time: 0:00:09||\n",
      "Episode 5|Iteration 259|reward:  272.0|last_reward_at:  170|Elapsed Time: 0:00:09||\n",
      "Episode 5|Iteration 263|reward:  272.0|last_reward_at:  170|Elapsed Time: 0:00:09||\n",
      "Episode 5|Iteration 268|reward:  272.0|last_reward_at:  170|Elapsed Time: 0:00:09||\n",
      "Episode 5|Iteration 269|reward:  272.0|last_reward_at:  170|Elapsed Time: 0:00:09||\n",
      "Episode 5|Iteration 273|reward:  272.0|last_reward_at:  170|Elapsed Time: 0:00:09||\n",
      "Episode 5|Iteration 278|reward:  272.0|last_reward_at:  170|Elapsed Time: 0:00:09||\n",
      "Episode 5|Iteration 282|reward:  272.0|last_reward_at:  170|Elapsed Time: 0:00:09||\n",
      "Episode 5|Iteration 286|reward:  272.0|last_reward_at:  170|Elapsed Time: 0:00:10||\n",
      "Episode 5|Iteration 291|reward:  272.0|last_reward_at:  170|Elapsed Time: 0:00:10||\n",
      "Episode 5|Iteration 296|reward:  272.0|last_reward_at:  170|Elapsed Time: 0:00:10||\n",
      "Episode 5|Iteration 300|reward:  272.0|last_reward_at:  170|Elapsed Time: 0:00:10||\n",
      "Episode 5|Iteration 304|reward:  272.0|last_reward_at:  170|Elapsed Time: 0:00:10||\n",
      "Episode 5|Iteration 308|reward:  272.0|last_reward_at:  170|Elapsed Time: 0:00:10||\n",
      "Episode 5|Iteration 312|reward:  272.0|last_reward_at:  170|Elapsed Time: 0:00:10||\n",
      "Episode 5|Iteration 316|reward:  272.0|last_reward_at:  170|Elapsed Time: 0:00:10||\n",
      "Episode 5|Iteration 320|reward:  272.0|last_reward_at:  170|Elapsed Time: 0:00:10||\n",
      "Episode 5|Iteration 325|reward:  272.0|last_reward_at:  170|Elapsed Time: 0:00:10||\n",
      "Episode 5|Iteration 330|reward:  272.0|last_reward_at:  170|Elapsed Time: 0:00:11||\n",
      "Episode 5|Iteration 335|reward:  272.0|last_reward_at:  170|Elapsed Time: 0:00:11||\n",
      "Episode 5|Iteration 338|reward:  272.0|last_reward_at:  170|Elapsed Time: 0:00:11||\n",
      "Episode 5|Iteration 342|reward:  272.0|last_reward_at:  170|Elapsed Time: 0:00:11||\n",
      "Episode 5|Iteration 346|reward:  272.0|last_reward_at:  170|Elapsed Time: 0:00:11||\n",
      "Episode 5|Iteration 350|reward:  272.0|last_reward_at:  170|Elapsed Time: 0:00:11||\n",
      "Episode 5|Iteration 354|reward:  272.0|last_reward_at:  170|Elapsed Time: 0:00:11||\n",
      "Episode 5|Iteration 359|reward:  272.0|last_reward_at:  170|Elapsed Time: 0:00:11||\n",
      "Episode 5|Iteration 363|reward:  272.0|last_reward_at:  170|Elapsed Time: 0:00:11||\n",
      "Episode 5|Iteration 368|reward:  272.0|last_reward_at:  170|Elapsed Time: 0:00:11||\n",
      "Episode 5|Iteration 372|reward:  272.0|last_reward_at:  170|Elapsed Time: 0:00:12||\n",
      "Episode 5|Iteration 377|reward:  272.0|last_reward_at:  170|Elapsed Time: 0:00:12||\n",
      "Episode 5|Iteration 380|reward:  272.0|last_reward_at:  170|Elapsed Time: 0:00:12||\n",
      "Episode 5|Iteration 383|reward:  272.0|last_reward_at:  170|Elapsed Time: 0:00:12||\n",
      "Episode 5|Iteration 388|reward:  272.0|last_reward_at:  170|Elapsed Time: 0:00:12||\n",
      "Episode 5|Iteration 391|reward:  272.0|last_reward_at:  170|Elapsed Time: 0:00:12||\n",
      "Episode 5|Iteration 395|reward:  272.0|last_reward_at:  170|Elapsed Time: 0:00:12||\n",
      "Episode 5|Iteration 399|reward:  272.0|last_reward_at:  170|Elapsed Time: 0:00:12||\n",
      "Episode 5|Iteration 403|reward:  272.0|last_reward_at:  170|Elapsed Time: 0:00:12||\n",
      "Episode 5|Iteration 407|reward:  272.0|last_reward_at:  170|Elapsed Time: 0:00:12||\n",
      "Episode 5|Iteration 411|reward:  272.0|last_reward_at:  170|Elapsed Time: 0:00:12||\n",
      "Episode 5|Iteration 415|reward:  272.0|last_reward_at:  170|Elapsed Time: 0:00:13||\n",
      "Episode 5|Iteration 420|reward:  272.0|last_reward_at:  170|Elapsed Time: 0:00:13||\n",
      "Episode 5|Iteration 425|reward:  272.0|last_reward_at:  170|Elapsed Time: 0:00:13||\n",
      "Episode 5|Iteration 429|reward:  272.0|last_reward_at:  170|Elapsed Time: 0:00:13||\n",
      "Episode 5|Iteration 433|reward:  272.0|last_reward_at:  170|Elapsed Time: 0:00:13||\n",
      "Episode 5|Iteration 437|reward:  272.0|last_reward_at:  170|Elapsed Time: 0:00:13||\n",
      "Episode 5|Iteration 441|reward:  272.0|last_reward_at:  170|Elapsed Time: 0:00:13||\n",
      "Episode 5|Iteration 443|reward:  272.0|last_reward_at:  170|Elapsed Time: 0:00:13||\n",
      "Episode 5|Iteration 446|reward:  272.0|last_reward_at:  170|Elapsed Time: 0:00:13||\n",
      "Episode 5|Iteration 449|reward:  272.0|last_reward_at:  170|Elapsed Time: 0:00:13||\n",
      "Episode 5|Iteration 452|reward:  272.0|last_reward_at:  170|Elapsed Time: 0:00:14||\n",
      "Episode 5|Iteration 455|reward:  272.0|last_reward_at:  170|Elapsed Time: 0:00:14||\n",
      "Episode 5|Iteration 458|reward:  272.0|last_reward_at:  170|Elapsed Time: 0:00:14||\n",
      "Episode 5|Iteration 460|reward:  272.0|last_reward_at:  170|Elapsed Time: 0:00:14||\n",
      "Episode 5|Iteration 464|reward:  272.0|last_reward_at:  170|Elapsed Time: 0:00:14||\n",
      "Episode 5|Iteration 466|reward:  272.0|last_reward_at:  170|Elapsed Time: 0:00:14||\n",
      "Episode 5|Iteration 469|reward:  272.0|last_reward_at:  170|Elapsed Time: 0:00:14||\n",
      "Episode 5|Iteration 471|reward:  272.0|last_reward_at:  170|Elapsed Time: 0:00:14||\n",
      "Episode 5|Iteration 472|reward:  272.0|last_reward_at:  170|Elapsed Time: 0:00:14||\n",
      "Episode 5|Iteration 476|reward:  272.0|last_reward_at:  170|Elapsed Time: 0:00:15||\n",
      "Episode 5|Iteration 478|reward:  272.0|last_reward_at:  170|Elapsed Time: 0:00:15||\n",
      "Episode 5|Iteration 481|reward:  272.0|last_reward_at:  170|Elapsed Time: 0:00:15||\n",
      "Episode 5|Iteration 484|reward:  272.0|last_reward_at:  170|Elapsed Time: 0:00:15||\n",
      "Episode 5|Iteration 487|reward:  272.0|last_reward_at:  170|Elapsed Time: 0:00:15||\n",
      "Episode 5|Iteration 490|reward:  272.0|last_reward_at:  170|Elapsed Time: 0:00:15||\n",
      "Episode 5|Iteration 491|reward:  272.0|last_reward_at:  170|Elapsed Time: 0:00:15||\n",
      "Episode 5|Iteration 493|reward:  272.0|last_reward_at:  170|Elapsed Time: 0:00:15||\n",
      "Episode 5|Iteration 497|reward:  272.0|last_reward_at:  170|Elapsed Time: 0:00:16||\n",
      "Episode 5|Iteration 500|reward:  272.0|last_reward_at:  170|Elapsed Time: 0:00:16||\n",
      "Episode 5|Iteration 504|reward:  272.0|last_reward_at:  170|Elapsed Time: 0:00:16||\n",
      "Episode 5|Iteration 507|reward:  272.0|last_reward_at:  170|Elapsed Time: 0:00:16||\n",
      "Episode 5|Iteration 511|reward:  272.0|last_reward_at:  170|Elapsed Time: 0:00:16||\n",
      "Episode 5|Iteration 514|reward:  272.0|last_reward_at:  170|Elapsed Time: 0:00:16||\n",
      "Episode 5|Iteration 517|reward:  272.0|last_reward_at:  170|Elapsed Time: 0:00:16||\n",
      "Episode 5|Iteration 521|reward:  272.0|last_reward_at:  170|Elapsed Time: 0:00:16||\n",
      "Episode 5|Iteration 525|reward:  272.0|last_reward_at:  170|Elapsed Time: 0:00:16||\n",
      "Episode 5|Iteration 529|reward:  272.0|last_reward_at:  170|Elapsed Time: 0:00:17||\n",
      "Episode 5|Iteration 534|reward:  272.0|last_reward_at:  170|Elapsed Time: 0:00:17||\n",
      "Episode 5|Iteration 539|reward:  272.0|last_reward_at:  170|Elapsed Time: 0:00:17||\n",
      "Episode 5|Iteration 544|reward:  272.0|last_reward_at:  170|Elapsed Time: 0:00:17||\n",
      "Episode 5|Iteration 547|reward:  272.0|last_reward_at:  170|Elapsed Time: 0:00:17||\n",
      "Episode 5|Iteration 550|reward:  272.0|last_reward_at:  170|Elapsed Time: 0:00:17||\n",
      "Episode 5|Iteration 555|reward:  272.0|last_reward_at:  170|Elapsed Time: 0:00:17||\n",
      "Episode 5|Iteration 559|reward:  272.0|last_reward_at:  170|Elapsed Time: 0:00:17||\n",
      "Episode 5|Iteration 563|reward:  272.0|last_reward_at:  170|Elapsed Time: 0:00:17||\n",
      "Episode 5|Iteration 567|reward:  272.0|last_reward_at:  170|Elapsed Time: 0:00:17||\n",
      "Episode 5|Iteration 572|reward:  272.0|last_reward_at:  170|Elapsed Time: 0:00:18||\n",
      "Episode 5|Iteration 577|reward:  272.0|last_reward_at:  170|Elapsed Time: 0:00:18||\n",
      "Episode 5|Iteration 582|reward:  272.0|last_reward_at:  170|Elapsed Time: 0:00:18||\n",
      "Episode 5|Iteration 585|reward:  272.0|last_reward_at:  170|Elapsed Time: 0:00:18||\n",
      "Episode 5|Iteration 588|reward:  272.0|last_reward_at:  170|Elapsed Time: 0:00:18||\n",
      "Episode 5|Iteration 592|reward:  272.0|last_reward_at:  170|Elapsed Time: 0:00:18||\n",
      "Episode 5|Iteration 596|reward:  272.0|last_reward_at:  170|Elapsed Time: 0:00:18||\n",
      "Episode 5|Iteration 600|reward:  272.0|last_reward_at:  170|Elapsed Time: 0:00:18||\n",
      "Episode 5|Iteration 600|reward:  272.0|last_reward_at:  170|Elapsed Time: 0:00:18||\n"
     ]
    },
    {
     "name": "stdout",
     "output_type": "stream",
     "text": [
      "  Episode 5 stopped at t=600 \n",
      "  Breakdown [Reward/NoReward (Success rate)]\n",
      "    explore-local: 1/49 (0.02)\n",
      "    explore-remote: 6/144 (0.04)\n",
      "    explore-connect: 0/140 (0.00)\n",
      "    exploit-local: 1/1 (0.50)\n",
      "    exploit-remote: 2/191 (0.01)\n",
      "    exploit-connect: 3/62 (0.05)\n",
      "  exploit deflected to exploration: 11\n",
      "  ## Episode: 6/10 'DQL' ϵ=0.5391, γ=0.15, lr=0.01, replaymemory=10000,\n",
      "batch=256, target_update=5\n"
     ]
    },
    {
     "name": "stderr",
     "output_type": "stream",
     "text": [
      "Episode 6|Iteration 0|reward: ------|last_reward_at: ----|Elapsed Time: 0:00:00||\n",
      "Episode 6|Iteration 1|reward:    0.0|last_reward_at: ----|Elapsed Time: 0:00:00||\n",
      "Episode 6|Iteration 2|reward:    6.0|last_reward_at: ----|Elapsed Time: 0:00:00||\n",
      "Episode 6|Iteration 2|reward:    6.0|last_reward_at:    2|Elapsed Time: 0:00:00||\n",
      "Episode 6|Iteration 6|reward:    6.0|last_reward_at:    2|Elapsed Time: 0:00:00||\n",
      "Episode 6|Iteration 9|reward:    6.0|last_reward_at:    2|Elapsed Time: 0:00:00||\n",
      "Episode 6|Iteration 10|reward:    6.0|last_reward_at:    2|Elapsed Time: 0:00:00||\n",
      "Episode 6|Iteration 11|reward:    6.0|last_reward_at:    2|Elapsed Time: 0:00:00||\n",
      "Episode 6|Iteration 12|reward:    6.0|last_reward_at:    2|Elapsed Time: 0:00:00||\n",
      "Episode 6|Iteration 15|reward:   12.0|last_reward_at:    2|Elapsed Time: 0:00:00||\n",
      "Episode 6|Iteration 15|reward:   12.0|last_reward_at:   15|Elapsed Time: 0:00:00||\n",
      "Episode 6|Iteration 18|reward:   12.0|last_reward_at:   15|Elapsed Time: 0:00:01||\n",
      "Episode 6|Iteration 19|reward:   12.0|last_reward_at:   15|Elapsed Time: 0:00:01||\n",
      "Episode 6|Iteration 22|reward:   12.0|last_reward_at:   15|Elapsed Time: 0:00:01||\n",
      "Episode 6|Iteration 25|reward:   12.0|last_reward_at:   15|Elapsed Time: 0:00:01||\n",
      "Episode 6|Iteration 28|reward:   12.0|last_reward_at:   15|Elapsed Time: 0:00:01||\n",
      "Episode 6|Iteration 31|reward:   12.0|last_reward_at:   15|Elapsed Time: 0:00:01||\n",
      "Episode 6|Iteration 32|reward:   12.0|last_reward_at:   15|Elapsed Time: 0:00:01||\n",
      "Episode 6|Iteration 33|reward:   12.0|last_reward_at:   15|Elapsed Time: 0:00:01||\n",
      "Episode 6|Iteration 35|reward:   12.0|last_reward_at:   15|Elapsed Time: 0:00:02||\n",
      "Episode 6|Iteration 36|reward:   18.0|last_reward_at:   15|Elapsed Time: 0:00:02||\n",
      "Episode 6|Iteration 36|reward:   18.0|last_reward_at:   36|Elapsed Time: 0:00:02||\n",
      "Episode 6|Iteration 39|reward:   18.0|last_reward_at:   36|Elapsed Time: 0:00:02||\n",
      "Episode 6|Iteration 42|reward:   18.0|last_reward_at:   36|Elapsed Time: 0:00:02||\n",
      "Episode 6|Iteration 43|reward:   24.0|last_reward_at:   36|Elapsed Time: 0:00:02||\n",
      "Episode 6|Iteration 43|reward:   24.0|last_reward_at:   43|Elapsed Time: 0:00:02||\n",
      "Episode 6|Iteration 46|reward:   24.0|last_reward_at:   43|Elapsed Time: 0:00:02||\n",
      "Episode 6|Iteration 46|reward:   33.0|last_reward_at:   43|Elapsed Time: 0:00:02||\n",
      "Episode 6|Iteration 46|reward:   33.0|last_reward_at:   46|Elapsed Time: 0:00:02||\n",
      "Episode 6|Iteration 49|reward:   33.0|last_reward_at:   46|Elapsed Time: 0:00:02||\n",
      "Episode 6|Iteration 50|reward:   33.0|last_reward_at:   46|Elapsed Time: 0:00:02||\n",
      "Episode 6|Iteration 54|reward:   33.0|last_reward_at:   46|Elapsed Time: 0:00:03||\n",
      "Episode 6|Iteration 56|reward:   42.0|last_reward_at:   46|Elapsed Time: 0:00:03||\n",
      "Episode 6|Iteration 56|reward:   42.0|last_reward_at:   56|Elapsed Time: 0:00:03||\n",
      "Episode 6|Iteration 61|reward:   42.0|last_reward_at:   56|Elapsed Time: 0:00:03||\n",
      "Episode 6|Iteration 63|reward:   42.0|last_reward_at:   56|Elapsed Time: 0:00:03||\n",
      "Episode 6|Iteration 65|reward:   42.0|last_reward_at:   56|Elapsed Time: 0:00:03||\n",
      "Episode 6|Iteration 66|reward:   42.0|last_reward_at:   56|Elapsed Time: 0:00:03||\n",
      "Episode 6|Iteration 67|reward:   42.0|last_reward_at:   56|Elapsed Time: 0:00:03||\n",
      "Episode 6|Iteration 68|reward:   42.0|last_reward_at:   56|Elapsed Time: 0:00:04||\n",
      "Episode 6|Iteration 71|reward:   42.0|last_reward_at:   56|Elapsed Time: 0:00:04||\n",
      "Episode 6|Iteration 76|reward:   42.0|last_reward_at:   56|Elapsed Time: 0:00:04||\n",
      "Episode 6|Iteration 80|reward:   42.0|last_reward_at:   56|Elapsed Time: 0:00:04||\n",
      "Episode 6|Iteration 84|reward:   42.0|last_reward_at:   56|Elapsed Time: 0:00:04||\n",
      "Episode 6|Iteration 87|reward:   42.0|last_reward_at:   56|Elapsed Time: 0:00:04||\n",
      "Episode 6|Iteration 91|reward:   42.0|last_reward_at:   56|Elapsed Time: 0:00:04||\n",
      "Episode 6|Iteration 92|reward:  142.0|last_reward_at:   56|Elapsed Time: 0:00:04||\n",
      "Episode 6|Iteration 92|reward:  142.0|last_reward_at:   92|Elapsed Time: 0:00:04||\n",
      "Episode 6|Iteration 95|reward:  142.0|last_reward_at:   92|Elapsed Time: 0:00:04||\n",
      "Episode 6|Iteration 98|reward:  151.0|last_reward_at:   92|Elapsed Time: 0:00:04||\n",
      "Episode 6|Iteration 98|reward:  151.0|last_reward_at:   98|Elapsed Time: 0:00:04||\n",
      "Episode 6|Iteration 99|reward:  160.0|last_reward_at:   98|Elapsed Time: 0:00:05||\n",
      "Episode 6|Iteration 99|reward:  160.0|last_reward_at:   99|Elapsed Time: 0:00:05||\n",
      "Episode 6|Iteration 102|reward:  160.0|last_reward_at:   99|Elapsed Time: 0:00:05||\n",
      "Episode 6|Iteration 105|reward:  160.0|last_reward_at:   99|Elapsed Time: 0:00:05||\n",
      "Episode 6|Iteration 108|reward:  160.0|last_reward_at:   99|Elapsed Time: 0:00:05||\n",
      "Episode 6|Iteration 111|reward:  160.0|last_reward_at:   99|Elapsed Time: 0:00:05||\n",
      "Episode 6|Iteration 114|reward:  160.0|last_reward_at:   99|Elapsed Time: 0:00:05||\n",
      "Episode 6|Iteration 116|reward:  160.0|last_reward_at:   99|Elapsed Time: 0:00:05||\n",
      "Episode 6|Iteration 120|reward:  160.0|last_reward_at:   99|Elapsed Time: 0:00:05||\n",
      "Episode 6|Iteration 123|reward:  160.0|last_reward_at:   99|Elapsed Time: 0:00:05||\n",
      "Episode 6|Iteration 127|reward:  160.0|last_reward_at:   99|Elapsed Time: 0:00:06||\n",
      "Episode 6|Iteration 130|reward:  160.0|last_reward_at:   99|Elapsed Time: 0:00:06||\n",
      "Episode 6|Iteration 132|reward:  160.0|last_reward_at:   99|Elapsed Time: 0:00:06||\n",
      "Episode 6|Iteration 136|reward:  160.0|last_reward_at:   99|Elapsed Time: 0:00:06||\n",
      "Episode 6|Iteration 140|reward:  160.0|last_reward_at:   99|Elapsed Time: 0:00:06||\n",
      "Episode 6|Iteration 143|reward:  160.0|last_reward_at:   99|Elapsed Time: 0:00:06||\n",
      "Episode 6|Iteration 147|reward:  160.0|last_reward_at:   99|Elapsed Time: 0:00:06||\n",
      "Episode 6|Iteration 151|reward:  160.0|last_reward_at:   99|Elapsed Time: 0:00:06||\n",
      "Episode 6|Iteration 155|reward:  160.0|last_reward_at:   99|Elapsed Time: 0:00:06||\n",
      "Episode 6|Iteration 157|reward:  160.0|last_reward_at:   99|Elapsed Time: 0:00:07||\n",
      "Episode 6|Iteration 159|reward:  160.0|last_reward_at:   99|Elapsed Time: 0:00:07||\n",
      "Episode 6|Iteration 161|reward:  160.0|last_reward_at:   99|Elapsed Time: 0:00:07||\n",
      "Episode 6|Iteration 163|reward:  160.0|last_reward_at:   99|Elapsed Time: 0:00:07||\n",
      "Episode 6|Iteration 164|reward:  210.0|last_reward_at:   99|Elapsed Time: 0:00:07||\n",
      "Episode 6|Iteration 164|reward:  210.0|last_reward_at:  164|Elapsed Time: 0:00:07||\n",
      "Episode 6|Iteration 166|reward:  260.0|last_reward_at:  164|Elapsed Time: 0:00:07||\n",
      "Episode 6|Iteration 166|reward:  260.0|last_reward_at:  166|Elapsed Time: 0:00:07||\n",
      "Episode 6|Iteration 168|reward:  260.0|last_reward_at:  166|Elapsed Time: 0:00:07||\n",
      "Episode 6|Iteration 171|reward:  260.0|last_reward_at:  166|Elapsed Time: 0:00:07||\n",
      "Episode 6|Iteration 172|reward:  266.0|last_reward_at:  166|Elapsed Time: 0:00:07||\n",
      "Episode 6|Iteration 172|reward:  266.0|last_reward_at:  172|Elapsed Time: 0:00:07||\n",
      "Episode 6|Iteration 175|reward:  266.0|last_reward_at:  172|Elapsed Time: 0:00:07||\n",
      "Episode 6|Iteration 178|reward:  266.0|last_reward_at:  172|Elapsed Time: 0:00:08||\n",
      "Episode 6|Iteration 183|reward:  266.0|last_reward_at:  172|Elapsed Time: 0:00:08||\n",
      "Episode 6|Iteration 187|reward:  266.0|last_reward_at:  172|Elapsed Time: 0:00:08||\n",
      "Episode 6|Iteration 190|reward:  266.0|last_reward_at:  172|Elapsed Time: 0:00:08||\n",
      "Episode 6|Iteration 194|reward:  266.0|last_reward_at:  172|Elapsed Time: 0:00:08||\n",
      "Episode 6|Iteration 198|reward:  266.0|last_reward_at:  172|Elapsed Time: 0:00:08||\n",
      "Episode 6|Iteration 201|reward:  266.0|last_reward_at:  172|Elapsed Time: 0:00:08||\n",
      "Episode 6|Iteration 205|reward:  266.0|last_reward_at:  172|Elapsed Time: 0:00:08||\n",
      "Episode 6|Iteration 207|reward:  266.0|last_reward_at:  172|Elapsed Time: 0:00:08||\n",
      "Episode 6|Iteration 209|reward:  266.0|last_reward_at:  172|Elapsed Time: 0:00:09||\n",
      "Episode 6|Iteration 210|reward:  266.0|last_reward_at:  172|Elapsed Time: 0:00:09||\n",
      "Episode 6|Iteration 211|reward:  266.0|last_reward_at:  172|Elapsed Time: 0:00:09||\n",
      "Episode 6|Iteration 215|reward:  266.0|last_reward_at:  172|Elapsed Time: 0:00:09||\n",
      "Episode 6|Iteration 218|reward:  266.0|last_reward_at:  172|Elapsed Time: 0:00:09||\n",
      "Episode 6|Iteration 221|reward:  266.0|last_reward_at:  172|Elapsed Time: 0:00:09||\n",
      "Episode 6|Iteration 223|reward:  266.0|last_reward_at:  172|Elapsed Time: 0:00:09||\n",
      "Episode 6|Iteration 226|reward:  266.0|last_reward_at:  172|Elapsed Time: 0:00:10||\n",
      "Episode 6|Iteration 229|reward:  266.0|last_reward_at:  172|Elapsed Time: 0:00:10||\n",
      "Episode 6|Iteration 233|reward:  266.0|last_reward_at:  172|Elapsed Time: 0:00:10||\n",
      "Episode 6|Iteration 236|reward:  266.0|last_reward_at:  172|Elapsed Time: 0:00:10||\n",
      "Episode 6|Iteration 238|reward:  266.0|last_reward_at:  172|Elapsed Time: 0:00:10||\n",
      "Episode 6|Iteration 241|reward:  266.0|last_reward_at:  172|Elapsed Time: 0:00:10||\n",
      "Episode 6|Iteration 244|reward:  266.0|last_reward_at:  172|Elapsed Time: 0:00:10||\n",
      "Episode 6|Iteration 247|reward:  266.0|last_reward_at:  172|Elapsed Time: 0:00:10||\n",
      "Episode 6|Iteration 250|reward:  266.0|last_reward_at:  172|Elapsed Time: 0:00:10||\n",
      "Episode 6|Iteration 255|reward:  266.0|last_reward_at:  172|Elapsed Time: 0:00:11||\n",
      "Episode 6|Iteration 259|reward:  266.0|last_reward_at:  172|Elapsed Time: 0:00:11||\n",
      "Episode 6|Iteration 262|reward:  266.0|last_reward_at:  172|Elapsed Time: 0:00:11||\n",
      "Episode 6|Iteration 265|reward:  266.0|last_reward_at:  172|Elapsed Time: 0:00:11||\n",
      "Episode 6|Iteration 268|reward:  266.0|last_reward_at:  172|Elapsed Time: 0:00:11||\n",
      "Episode 6|Iteration 271|reward:  266.0|last_reward_at:  172|Elapsed Time: 0:00:11||\n",
      "Episode 6|Iteration 274|reward:  266.0|last_reward_at:  172|Elapsed Time: 0:00:11||\n",
      "Episode 6|Iteration 276|reward:  266.0|last_reward_at:  172|Elapsed Time: 0:00:11||\n",
      "Episode 6|Iteration 280|reward:  266.0|last_reward_at:  172|Elapsed Time: 0:00:11||\n",
      "Episode 6|Iteration 283|reward:  266.0|last_reward_at:  172|Elapsed Time: 0:00:12||\n",
      "Episode 6|Iteration 287|reward:  266.0|last_reward_at:  172|Elapsed Time: 0:00:12||\n",
      "Episode 6|Iteration 292|reward:  266.0|last_reward_at:  172|Elapsed Time: 0:00:12||\n",
      "Episode 6|Iteration 297|reward:  266.0|last_reward_at:  172|Elapsed Time: 0:00:12||\n",
      "Episode 6|Iteration 301|reward:  266.0|last_reward_at:  172|Elapsed Time: 0:00:12||\n",
      "Episode 6|Iteration 306|reward:  266.0|last_reward_at:  172|Elapsed Time: 0:00:12||\n",
      "Episode 6|Iteration 311|reward:  266.0|last_reward_at:  172|Elapsed Time: 0:00:12||\n",
      "Episode 6|Iteration 315|reward:  266.0|last_reward_at:  172|Elapsed Time: 0:00:12||\n",
      "Episode 6|Iteration 319|reward:  266.0|last_reward_at:  172|Elapsed Time: 0:00:12||\n",
      "Episode 6|Iteration 322|reward:  266.0|last_reward_at:  172|Elapsed Time: 0:00:13||\n",
      "Episode 6|Iteration 326|reward:  266.0|last_reward_at:  172|Elapsed Time: 0:00:13||\n",
      "Episode 6|Iteration 330|reward:  266.0|last_reward_at:  172|Elapsed Time: 0:00:13||\n",
      "Episode 6|Iteration 334|reward:  266.0|last_reward_at:  172|Elapsed Time: 0:00:13||\n",
      "Episode 6|Iteration 336|reward:  266.0|last_reward_at:  172|Elapsed Time: 0:00:13||\n",
      "Episode 6|Iteration 340|reward:  266.0|last_reward_at:  172|Elapsed Time: 0:00:13||\n",
      "Episode 6|Iteration 345|reward:  266.0|last_reward_at:  172|Elapsed Time: 0:00:13||\n",
      "Episode 6|Iteration 350|reward:  266.0|last_reward_at:  172|Elapsed Time: 0:00:13||\n",
      "Episode 6|Iteration 354|reward:  266.0|last_reward_at:  172|Elapsed Time: 0:00:13||\n",
      "Episode 6|Iteration 359|reward:  266.0|last_reward_at:  172|Elapsed Time: 0:00:13||\n",
      "Episode 6|Iteration 360|reward:  272.0|last_reward_at:  172|Elapsed Time: 0:00:14||\n",
      "Episode 6|Iteration 360|reward:  272.0|last_reward_at:  360|Elapsed Time: 0:00:14||\n",
      "Episode 6|Iteration 365|reward:  272.0|last_reward_at:  360|Elapsed Time: 0:00:14||\n",
      "Episode 6|Iteration 369|reward:  272.0|last_reward_at:  360|Elapsed Time: 0:00:14||\n",
      "Episode 6|Iteration 373|reward:  272.0|last_reward_at:  360|Elapsed Time: 0:00:14||\n",
      "Episode 6|Iteration 377|reward:  272.0|last_reward_at:  360|Elapsed Time: 0:00:14||\n",
      "Episode 6|Iteration 382|reward:  272.0|last_reward_at:  360|Elapsed Time: 0:00:14||\n",
      "Episode 6|Iteration 386|reward:  272.0|last_reward_at:  360|Elapsed Time: 0:00:14||\n",
      "Episode 6|Iteration 389|reward:  272.0|last_reward_at:  360|Elapsed Time: 0:00:14||\n",
      "Episode 6|Iteration 392|reward:  272.0|last_reward_at:  360|Elapsed Time: 0:00:14||\n",
      "Episode 6|Iteration 395|reward:  272.0|last_reward_at:  360|Elapsed Time: 0:00:14||\n",
      "Episode 6|Iteration 398|reward:  272.0|last_reward_at:  360|Elapsed Time: 0:00:15||\n",
      "Episode 6|Iteration 403|reward:  272.0|last_reward_at:  360|Elapsed Time: 0:00:15||\n",
      "Episode 6|Iteration 407|reward:  272.0|last_reward_at:  360|Elapsed Time: 0:00:15||\n",
      "Episode 6|Iteration 411|reward:  272.0|last_reward_at:  360|Elapsed Time: 0:00:15||\n",
      "Episode 6|Iteration 414|reward:  272.0|last_reward_at:  360|Elapsed Time: 0:00:15||\n",
      "Episode 6|Iteration 418|reward:  272.0|last_reward_at:  360|Elapsed Time: 0:00:15||\n",
      "Episode 6|Iteration 421|reward:  272.0|last_reward_at:  360|Elapsed Time: 0:00:15||\n",
      "Episode 6|Iteration 425|reward:  272.0|last_reward_at:  360|Elapsed Time: 0:00:15||\n",
      "Episode 6|Iteration 426|reward:  272.0|last_reward_at:  360|Elapsed Time: 0:00:15||\n",
      "Episode 6|Iteration 429|reward:  272.0|last_reward_at:  360|Elapsed Time: 0:00:16||\n",
      "Episode 6|Iteration 433|reward:  272.0|last_reward_at:  360|Elapsed Time: 0:00:16||\n",
      "Episode 6|Iteration 436|reward:  272.0|last_reward_at:  360|Elapsed Time: 0:00:16||\n",
      "Episode 6|Iteration 441|reward:  272.0|last_reward_at:  360|Elapsed Time: 0:00:16||\n",
      "Episode 6|Iteration 445|reward:  272.0|last_reward_at:  360|Elapsed Time: 0:00:16||\n",
      "Episode 6|Iteration 449|reward:  272.0|last_reward_at:  360|Elapsed Time: 0:00:16||\n",
      "Episode 6|Iteration 452|reward:  272.0|last_reward_at:  360|Elapsed Time: 0:00:16||\n",
      "Episode 6|Iteration 456|reward:  272.0|last_reward_at:  360|Elapsed Time: 0:00:16||\n",
      "Episode 6|Iteration 459|reward:  272.0|last_reward_at:  360|Elapsed Time: 0:00:16||\n",
      "Episode 6|Iteration 464|reward:  272.0|last_reward_at:  360|Elapsed Time: 0:00:16||\n",
      "Episode 6|Iteration 468|reward:  272.0|last_reward_at:  360|Elapsed Time: 0:00:17||\n",
      "Episode 6|Iteration 473|reward:  272.0|last_reward_at:  360|Elapsed Time: 0:00:17||\n",
      "Episode 6|Iteration 478|reward:  272.0|last_reward_at:  360|Elapsed Time: 0:00:17||\n",
      "Episode 6|Iteration 483|reward:  272.0|last_reward_at:  360|Elapsed Time: 0:00:17||\n",
      "Episode 6|Iteration 487|reward:  272.0|last_reward_at:  360|Elapsed Time: 0:00:17||\n",
      "Episode 6|Iteration 490|reward:  272.0|last_reward_at:  360|Elapsed Time: 0:00:17||\n",
      "Episode 6|Iteration 494|reward:  272.0|last_reward_at:  360|Elapsed Time: 0:00:17||\n",
      "Episode 6|Iteration 496|reward:  272.0|last_reward_at:  360|Elapsed Time: 0:00:17||\n",
      "Episode 6|Iteration 500|reward:  272.0|last_reward_at:  360|Elapsed Time: 0:00:17||\n",
      "Episode 6|Iteration 505|reward:  272.0|last_reward_at:  360|Elapsed Time: 0:00:18||\n",
      "Episode 6|Iteration 509|reward:  272.0|last_reward_at:  360|Elapsed Time: 0:00:18||\n",
      "Episode 6|Iteration 513|reward:  272.0|last_reward_at:  360|Elapsed Time: 0:00:18||\n",
      "Episode 6|Iteration 517|reward:  272.0|last_reward_at:  360|Elapsed Time: 0:00:18||\n",
      "Episode 6|Iteration 519|reward:  272.0|last_reward_at:  360|Elapsed Time: 0:00:18||\n",
      "Episode 6|Iteration 524|reward:  272.0|last_reward_at:  360|Elapsed Time: 0:00:18||\n",
      "Episode 6|Iteration 528|reward:  272.0|last_reward_at:  360|Elapsed Time: 0:00:18||\n",
      "Episode 6|Iteration 531|reward:  272.0|last_reward_at:  360|Elapsed Time: 0:00:18||\n",
      "Episode 6|Iteration 534|reward:  272.0|last_reward_at:  360|Elapsed Time: 0:00:18||\n",
      "Episode 6|Iteration 536|reward:  272.0|last_reward_at:  360|Elapsed Time: 0:00:18||\n",
      "Episode 6|Iteration 540|reward:  272.0|last_reward_at:  360|Elapsed Time: 0:00:19||\n",
      "Episode 6|Iteration 544|reward:  272.0|last_reward_at:  360|Elapsed Time: 0:00:19||\n",
      "Episode 6|Iteration 547|reward:  272.0|last_reward_at:  360|Elapsed Time: 0:00:19||\n",
      "Episode 6|Iteration 551|reward:  272.0|last_reward_at:  360|Elapsed Time: 0:00:19||\n",
      "Episode 6|Iteration 555|reward:  272.0|last_reward_at:  360|Elapsed Time: 0:00:19||\n",
      "Episode 6|Iteration 559|reward:  272.0|last_reward_at:  360|Elapsed Time: 0:00:19||\n",
      "Episode 6|Iteration 563|reward:  272.0|last_reward_at:  360|Elapsed Time: 0:00:19||\n",
      "Episode 6|Iteration 567|reward:  272.0|last_reward_at:  360|Elapsed Time: 0:00:19||\n",
      "Episode 6|Iteration 570|reward:  272.0|last_reward_at:  360|Elapsed Time: 0:00:19||\n",
      "Episode 6|Iteration 573|reward:  272.0|last_reward_at:  360|Elapsed Time: 0:00:19||\n",
      "Episode 6|Iteration 577|reward:  272.0|last_reward_at:  360|Elapsed Time: 0:00:20||\n",
      "Episode 6|Iteration 581|reward:  272.0|last_reward_at:  360|Elapsed Time: 0:00:20||\n",
      "Episode 6|Iteration 585|reward:  272.0|last_reward_at:  360|Elapsed Time: 0:00:20||\n",
      "Episode 6|Iteration 588|reward:  272.0|last_reward_at:  360|Elapsed Time: 0:00:20||\n",
      "Episode 6|Iteration 592|reward:  272.0|last_reward_at:  360|Elapsed Time: 0:00:20||\n",
      "Episode 6|Iteration 596|reward:  272.0|last_reward_at:  360|Elapsed Time: 0:00:20||\n",
      "Episode 6|Iteration 600|reward:  272.0|last_reward_at:  360|Elapsed Time: 0:00:20||\n",
      "Episode 6|Iteration 600|reward:  272.0|last_reward_at:  360|Elapsed Time: 0:00:20||\n"
     ]
    },
    {
     "name": "stdout",
     "output_type": "stream",
     "text": [
      "  Episode 6 stopped at t=600 \n",
      "  Breakdown [Reward/NoReward (Success rate)]\n",
      "    explore-local: 0/52 (0.00)\n",
      "    explore-remote: 5/178 (0.03)\n",
      "    explore-connect: 1/142 (0.01)\n",
      "    exploit-local: 2/0 (1.00)\n",
      "    exploit-remote: 3/185 (0.02)\n",
      "    exploit-connect: 2/30 (0.06)\n",
      "  exploit deflected to exploration: 81\n",
      "  ## Episode: 7/10 'DQL' ϵ=0.4895, γ=0.15, lr=0.01, replaymemory=10000,\n",
      "batch=256, target_update=5\n"
     ]
    },
    {
     "name": "stderr",
     "output_type": "stream",
     "text": [
      "Episode 7|Iteration 0|reward: ------|last_reward_at: ----|Elapsed Time: 0:00:00||\n",
      "Episode 7|Iteration 1|reward:    0.0|last_reward_at: ----|Elapsed Time: 0:00:00||\n",
      "Episode 7|Iteration 4|reward:    6.0|last_reward_at: ----|Elapsed Time: 0:00:00||\n",
      "Episode 7|Iteration 4|reward:    6.0|last_reward_at:    4|Elapsed Time: 0:00:00||\n",
      "Episode 7|Iteration 8|reward:    6.0|last_reward_at:    4|Elapsed Time: 0:00:00||\n",
      "Episode 7|Iteration 12|reward:   12.0|last_reward_at:    4|Elapsed Time: 0:00:00||\n",
      "Episode 7|Iteration 12|reward:   12.0|last_reward_at:   12|Elapsed Time: 0:00:00||\n",
      "Episode 7|Iteration 15|reward:   12.0|last_reward_at:   12|Elapsed Time: 0:00:00||\n",
      "Episode 7|Iteration 19|reward:   12.0|last_reward_at:   12|Elapsed Time: 0:00:00||\n",
      "Episode 7|Iteration 21|reward:   18.0|last_reward_at:   12|Elapsed Time: 0:00:00||\n",
      "Episode 7|Iteration 21|reward:   18.0|last_reward_at:   21|Elapsed Time: 0:00:00||\n",
      "Episode 7|Iteration 24|reward:   18.0|last_reward_at:   21|Elapsed Time: 0:00:00||\n",
      "Episode 7|Iteration 25|reward:   27.0|last_reward_at:   21|Elapsed Time: 0:00:00||\n",
      "Episode 7|Iteration 25|reward:   27.0|last_reward_at:   25|Elapsed Time: 0:00:00||\n",
      "Episode 7|Iteration 27|reward:   27.0|last_reward_at:   25|Elapsed Time: 0:00:01||\n",
      "Episode 7|Iteration 31|reward:   27.0|last_reward_at:   25|Elapsed Time: 0:00:01||\n",
      "Episode 7|Iteration 34|reward:   27.0|last_reward_at:   25|Elapsed Time: 0:00:01||\n",
      "Episode 7|Iteration 36|reward:   27.0|last_reward_at:   25|Elapsed Time: 0:00:01||\n",
      "Episode 7|Iteration 39|reward:   27.0|last_reward_at:   25|Elapsed Time: 0:00:01||\n",
      "Episode 7|Iteration 42|reward:   27.0|last_reward_at:   25|Elapsed Time: 0:00:01||\n",
      "Episode 7|Iteration 46|reward:   27.0|last_reward_at:   25|Elapsed Time: 0:00:01||\n",
      "Episode 7|Iteration 49|reward:   27.0|last_reward_at:   25|Elapsed Time: 0:00:01||\n",
      "Episode 7|Iteration 52|reward:   27.0|last_reward_at:   25|Elapsed Time: 0:00:01||\n",
      "Episode 7|Iteration 55|reward:   27.0|last_reward_at:   25|Elapsed Time: 0:00:02||\n",
      "Episode 7|Iteration 59|reward:   27.0|last_reward_at:   25|Elapsed Time: 0:00:02||\n",
      "Episode 7|Iteration 64|reward:   27.0|last_reward_at:   25|Elapsed Time: 0:00:02||\n",
      "Episode 7|Iteration 69|reward:   27.0|last_reward_at:   25|Elapsed Time: 0:00:02||\n",
      "Episode 7|Iteration 73|reward:   77.0|last_reward_at:   25|Elapsed Time: 0:00:02||\n",
      "Episode 7|Iteration 73|reward:   77.0|last_reward_at:   73|Elapsed Time: 0:00:02||\n",
      "Episode 7|Iteration 76|reward:   77.0|last_reward_at:   73|Elapsed Time: 0:00:02||\n",
      "Episode 7|Iteration 76|reward:   77.0|last_reward_at:   73|Elapsed Time: 0:00:02||\n",
      "Episode 7|Iteration 78|reward:   77.0|last_reward_at:   73|Elapsed Time: 0:00:03||\n",
      "Episode 7|Iteration 81|reward:   77.0|last_reward_at:   73|Elapsed Time: 0:00:03||\n",
      "Episode 7|Iteration 84|reward:   77.0|last_reward_at:   73|Elapsed Time: 0:00:03||\n",
      "Episode 7|Iteration 86|reward:   77.0|last_reward_at:   73|Elapsed Time: 0:00:03||\n",
      "Episode 7|Iteration 88|reward:   77.0|last_reward_at:   73|Elapsed Time: 0:00:03||\n",
      "Episode 7|Iteration 91|reward:   77.0|last_reward_at:   73|Elapsed Time: 0:00:03||\n",
      "Episode 7|Iteration 94|reward:   83.0|last_reward_at:   73|Elapsed Time: 0:00:03||\n",
      "Episode 7|Iteration 94|reward:   83.0|last_reward_at:   94|Elapsed Time: 0:00:03||\n",
      "Episode 7|Iteration 97|reward:   83.0|last_reward_at:   94|Elapsed Time: 0:00:03||\n",
      "Episode 7|Iteration 99|reward:   83.0|last_reward_at:   94|Elapsed Time: 0:00:03||\n",
      "Episode 7|Iteration 101|reward:   83.0|last_reward_at:   94|Elapsed Time: 0:00:04||\n",
      "Episode 7|Iteration 102|reward:   83.0|last_reward_at:   94|Elapsed Time: 0:00:04||\n",
      "Episode 7|Iteration 105|reward:   83.0|last_reward_at:   94|Elapsed Time: 0:00:04||\n",
      "Episode 7|Iteration 106|reward:   83.0|last_reward_at:   94|Elapsed Time: 0:00:04||\n",
      "Episode 7|Iteration 108|reward:   83.0|last_reward_at:   94|Elapsed Time: 0:00:04||\n",
      "Episode 7|Iteration 110|reward:   92.0|last_reward_at:   94|Elapsed Time: 0:00:04||\n",
      "Episode 7|Iteration 110|reward:   92.0|last_reward_at:  110|Elapsed Time: 0:00:04||\n",
      "Episode 7|Iteration 113|reward:  142.0|last_reward_at:  110|Elapsed Time: 0:00:04||\n",
      "Episode 7|Iteration 113|reward:  142.0|last_reward_at:  113|Elapsed Time: 0:00:04||\n",
      "Episode 7|Iteration 115|reward:  142.0|last_reward_at:  113|Elapsed Time: 0:00:05||\n",
      "Episode 7|Iteration 116|reward:  142.0|last_reward_at:  113|Elapsed Time: 0:00:05||\n",
      "Episode 7|Iteration 119|reward:  142.0|last_reward_at:  113|Elapsed Time: 0:00:05||\n",
      "Episode 7|Iteration 121|reward:  142.0|last_reward_at:  113|Elapsed Time: 0:00:05||\n",
      "Episode 7|Iteration 123|reward:  142.0|last_reward_at:  113|Elapsed Time: 0:00:05||\n",
      "Episode 7|Iteration 127|reward:  142.0|last_reward_at:  113|Elapsed Time: 0:00:05||\n",
      "Episode 7|Iteration 130|reward:  142.0|last_reward_at:  113|Elapsed Time: 0:00:05||\n",
      "Episode 7|Iteration 131|reward:  142.0|last_reward_at:  113|Elapsed Time: 0:00:05||\n",
      "Episode 7|Iteration 133|reward:  142.0|last_reward_at:  113|Elapsed Time: 0:00:05||\n",
      "Episode 7|Iteration 137|reward:  142.0|last_reward_at:  113|Elapsed Time: 0:00:06||\n",
      "Episode 7|Iteration 141|reward:  148.0|last_reward_at:  113|Elapsed Time: 0:00:06||\n",
      "Episode 7|Iteration 141|reward:  148.0|last_reward_at:  141|Elapsed Time: 0:00:06||\n",
      "Episode 7|Iteration 145|reward:  148.0|last_reward_at:  141|Elapsed Time: 0:00:06||\n",
      "Episode 7|Iteration 149|reward:  148.0|last_reward_at:  141|Elapsed Time: 0:00:06||\n",
      "Episode 7|Iteration 152|reward:  148.0|last_reward_at:  141|Elapsed Time: 0:00:06||\n",
      "Episode 7|Iteration 156|reward:  148.0|last_reward_at:  141|Elapsed Time: 0:00:06||\n",
      "Episode 7|Iteration 160|reward:  148.0|last_reward_at:  141|Elapsed Time: 0:00:06||\n",
      "Episode 7|Iteration 163|reward:  148.0|last_reward_at:  141|Elapsed Time: 0:00:06||\n",
      "Episode 7|Iteration 165|reward:  154.0|last_reward_at:  141|Elapsed Time: 0:00:06||\n",
      "Episode 7|Iteration 165|reward:  154.0|last_reward_at:  165|Elapsed Time: 0:00:06||\n",
      "Episode 7|Iteration 168|reward:  154.0|last_reward_at:  165|Elapsed Time: 0:00:06||\n",
      "Episode 7|Iteration 170|reward:  154.0|last_reward_at:  165|Elapsed Time: 0:00:06||\n",
      "Episode 7|Iteration 173|reward:  154.0|last_reward_at:  165|Elapsed Time: 0:00:07||\n",
      "Episode 7|Iteration 176|reward:  154.0|last_reward_at:  165|Elapsed Time: 0:00:07||\n",
      "Episode 7|Iteration 179|reward:  154.0|last_reward_at:  165|Elapsed Time: 0:00:07||\n",
      "Episode 7|Iteration 181|reward:  154.0|last_reward_at:  165|Elapsed Time: 0:00:07||\n",
      "Episode 7|Iteration 183|reward:  154.0|last_reward_at:  165|Elapsed Time: 0:00:07||\n",
      "Episode 7|Iteration 185|reward:  154.0|last_reward_at:  165|Elapsed Time: 0:00:07||\n",
      "Episode 7|Iteration 188|reward:  154.0|last_reward_at:  165|Elapsed Time: 0:00:07||\n",
      "Episode 7|Iteration 192|reward:  154.0|last_reward_at:  165|Elapsed Time: 0:00:07||\n",
      "Episode 7|Iteration 195|reward:  154.0|last_reward_at:  165|Elapsed Time: 0:00:08||\n",
      "Episode 7|Iteration 196|reward:  154.0|last_reward_at:  165|Elapsed Time: 0:00:08||\n",
      "Episode 7|Iteration 198|reward:  154.0|last_reward_at:  165|Elapsed Time: 0:00:08||\n",
      "Episode 7|Iteration 198|reward:  154.0|last_reward_at:  165|Elapsed Time: 0:00:08||\n",
      "Episode 7|Iteration 199|reward:  154.0|last_reward_at:  165|Elapsed Time: 0:00:08||\n",
      "Episode 7|Iteration 202|reward:  154.0|last_reward_at:  165|Elapsed Time: 0:00:08||\n",
      "Episode 7|Iteration 205|reward:  154.0|last_reward_at:  165|Elapsed Time: 0:00:08||\n",
      "Episode 7|Iteration 208|reward:  154.0|last_reward_at:  165|Elapsed Time: 0:00:08||\n",
      "Episode 7|Iteration 211|reward:  154.0|last_reward_at:  165|Elapsed Time: 0:00:09||\n",
      "Episode 7|Iteration 214|reward:  154.0|last_reward_at:  165|Elapsed Time: 0:00:09||\n",
      "Episode 7|Iteration 216|reward:  154.0|last_reward_at:  165|Elapsed Time: 0:00:09||\n",
      "Episode 7|Iteration 217|reward:  154.0|last_reward_at:  165|Elapsed Time: 0:00:09||\n",
      "Episode 7|Iteration 219|reward:  154.0|last_reward_at:  165|Elapsed Time: 0:00:09||\n",
      "Episode 7|Iteration 221|reward:  154.0|last_reward_at:  165|Elapsed Time: 0:00:09||\n",
      "Episode 7|Iteration 224|reward:  154.0|last_reward_at:  165|Elapsed Time: 0:00:09||\n",
      "Episode 7|Iteration 228|reward:  154.0|last_reward_at:  165|Elapsed Time: 0:00:09||\n",
      "Episode 7|Iteration 231|reward:  154.0|last_reward_at:  165|Elapsed Time: 0:00:10||\n",
      "Episode 7|Iteration 234|reward:  154.0|last_reward_at:  165|Elapsed Time: 0:00:10||\n",
      "Episode 7|Iteration 237|reward:  154.0|last_reward_at:  165|Elapsed Time: 0:00:10||\n",
      "Episode 7|Iteration 241|reward:  154.0|last_reward_at:  165|Elapsed Time: 0:00:10||\n",
      "Episode 7|Iteration 244|reward:  154.0|last_reward_at:  165|Elapsed Time: 0:00:10||\n",
      "Episode 7|Iteration 247|reward:  154.0|last_reward_at:  165|Elapsed Time: 0:00:10||\n",
      "Episode 7|Iteration 251|reward:  154.0|last_reward_at:  165|Elapsed Time: 0:00:10||\n",
      "Episode 7|Iteration 253|reward:  154.0|last_reward_at:  165|Elapsed Time: 0:00:10||\n",
      "Episode 7|Iteration 257|reward:  154.0|last_reward_at:  165|Elapsed Time: 0:00:10||\n",
      "Episode 7|Iteration 262|reward:  154.0|last_reward_at:  165|Elapsed Time: 0:00:11||\n",
      "Episode 7|Iteration 266|reward:  154.0|last_reward_at:  165|Elapsed Time: 0:00:11||\n",
      "Episode 7|Iteration 270|reward:  154.0|last_reward_at:  165|Elapsed Time: 0:00:11||\n",
      "Episode 7|Iteration 274|reward:  154.0|last_reward_at:  165|Elapsed Time: 0:00:11||\n",
      "Episode 7|Iteration 277|reward:  154.0|last_reward_at:  165|Elapsed Time: 0:00:11||\n",
      "Episode 7|Iteration 279|reward:  154.0|last_reward_at:  165|Elapsed Time: 0:00:11||\n",
      "Episode 7|Iteration 282|reward:  154.0|last_reward_at:  165|Elapsed Time: 0:00:11||\n",
      "Episode 7|Iteration 284|reward:  154.0|last_reward_at:  165|Elapsed Time: 0:00:11||\n",
      "Episode 7|Iteration 289|reward:  154.0|last_reward_at:  165|Elapsed Time: 0:00:11||\n",
      "Episode 7|Iteration 291|reward:  154.0|last_reward_at:  165|Elapsed Time: 0:00:11||\n",
      "Episode 7|Iteration 295|reward:  154.0|last_reward_at:  165|Elapsed Time: 0:00:12||\n",
      "Episode 7|Iteration 296|reward:  154.0|last_reward_at:  165|Elapsed Time: 0:00:12||\n",
      "Episode 7|Iteration 299|reward:  154.0|last_reward_at:  165|Elapsed Time: 0:00:12||\n",
      "Episode 7|Iteration 302|reward:  154.0|last_reward_at:  165|Elapsed Time: 0:00:12||\n",
      "Episode 7|Iteration 306|reward:  154.0|last_reward_at:  165|Elapsed Time: 0:00:12||\n",
      "Episode 7|Iteration 311|reward:  154.0|last_reward_at:  165|Elapsed Time: 0:00:12||\n",
      "Episode 7|Iteration 316|reward:  154.0|last_reward_at:  165|Elapsed Time: 0:00:12||\n",
      "Episode 7|Iteration 320|reward:  154.0|last_reward_at:  165|Elapsed Time: 0:00:12||\n",
      "Episode 7|Iteration 324|reward:  154.0|last_reward_at:  165|Elapsed Time: 0:00:13||\n",
      "Episode 7|Iteration 327|reward:  154.0|last_reward_at:  165|Elapsed Time: 0:00:13||\n",
      "Episode 7|Iteration 330|reward:  154.0|last_reward_at:  165|Elapsed Time: 0:00:13||\n",
      "Episode 7|Iteration 334|reward:  154.0|last_reward_at:  165|Elapsed Time: 0:00:13||\n",
      "Episode 7|Iteration 338|reward:  154.0|last_reward_at:  165|Elapsed Time: 0:00:13||\n",
      "Episode 7|Iteration 341|reward:  154.0|last_reward_at:  165|Elapsed Time: 0:00:13||\n",
      "Episode 7|Iteration 345|reward:  154.0|last_reward_at:  165|Elapsed Time: 0:00:13||\n",
      "Episode 7|Iteration 349|reward:  154.0|last_reward_at:  165|Elapsed Time: 0:00:13||\n",
      "Episode 7|Iteration 350|reward:  154.0|last_reward_at:  165|Elapsed Time: 0:00:14||\n",
      "Episode 7|Iteration 352|reward:  154.0|last_reward_at:  165|Elapsed Time: 0:00:14||\n",
      "Episode 7|Iteration 353|reward:  154.0|last_reward_at:  165|Elapsed Time: 0:00:14||\n",
      "Episode 7|Iteration 355|reward:  154.0|last_reward_at:  165|Elapsed Time: 0:00:14||\n",
      "Episode 7|Iteration 356|reward:  154.0|last_reward_at:  165|Elapsed Time: 0:00:14||\n",
      "Episode 7|Iteration 358|reward:  154.0|last_reward_at:  165|Elapsed Time: 0:00:14||\n",
      "Episode 7|Iteration 361|reward:  154.0|last_reward_at:  165|Elapsed Time: 0:00:14||\n",
      "Episode 7|Iteration 364|reward:  154.0|last_reward_at:  165|Elapsed Time: 0:00:14||\n",
      "Episode 7|Iteration 367|reward:  154.0|last_reward_at:  165|Elapsed Time: 0:00:15||\n",
      "Episode 7|Iteration 369|reward:  154.0|last_reward_at:  165|Elapsed Time: 0:00:15||\n",
      "Episode 7|Iteration 373|reward:  154.0|last_reward_at:  165|Elapsed Time: 0:00:15||\n",
      "Episode 7|Iteration 375|reward:  154.0|last_reward_at:  165|Elapsed Time: 0:00:15||\n",
      "Episode 7|Iteration 376|reward:  154.0|last_reward_at:  165|Elapsed Time: 0:00:15||\n",
      "Episode 7|Iteration 377|reward:  154.0|last_reward_at:  165|Elapsed Time: 0:00:16||\n",
      "Episode 7|Iteration 378|reward:  154.0|last_reward_at:  165|Elapsed Time: 0:00:16||\n",
      "Episode 7|Iteration 379|reward:  154.0|last_reward_at:  165|Elapsed Time: 0:00:16||\n",
      "Episode 7|Iteration 381|reward:  154.0|last_reward_at:  165|Elapsed Time: 0:00:16||\n",
      "Episode 7|Iteration 383|reward:  154.0|last_reward_at:  165|Elapsed Time: 0:00:17||\n",
      "Episode 7|Iteration 386|reward:  154.0|last_reward_at:  165|Elapsed Time: 0:00:17||\n",
      "Episode 7|Iteration 389|reward:  154.0|last_reward_at:  165|Elapsed Time: 0:00:17||\n",
      "Episode 7|Iteration 394|reward:  154.0|last_reward_at:  165|Elapsed Time: 0:00:17||\n",
      "Episode 7|Iteration 399|reward:  154.0|last_reward_at:  165|Elapsed Time: 0:00:18||\n",
      "Episode 7|Iteration 403|reward:  154.0|last_reward_at:  165|Elapsed Time: 0:00:18||\n",
      "Episode 7|Iteration 407|reward:  154.0|last_reward_at:  165|Elapsed Time: 0:00:18||\n",
      "Episode 7|Iteration 411|reward:  154.0|last_reward_at:  165|Elapsed Time: 0:00:18||\n",
      "Episode 7|Iteration 415|reward:  154.0|last_reward_at:  165|Elapsed Time: 0:00:18||\n",
      "Episode 7|Iteration 420|reward:  154.0|last_reward_at:  165|Elapsed Time: 0:00:18||\n",
      "Episode 7|Iteration 425|reward:  154.0|last_reward_at:  165|Elapsed Time: 0:00:18||\n",
      "Episode 7|Iteration 430|reward:  154.0|last_reward_at:  165|Elapsed Time: 0:00:18||\n",
      "Episode 7|Iteration 433|reward:  154.0|last_reward_at:  165|Elapsed Time: 0:00:18||\n",
      "Episode 7|Iteration 436|reward:  154.0|last_reward_at:  165|Elapsed Time: 0:00:18||\n",
      "Episode 7|Iteration 440|reward:  154.0|last_reward_at:  165|Elapsed Time: 0:00:19||\n",
      "Episode 7|Iteration 444|reward:  154.0|last_reward_at:  165|Elapsed Time: 0:00:19||\n",
      "Episode 7|Iteration 449|reward:  154.0|last_reward_at:  165|Elapsed Time: 0:00:19||\n",
      "Episode 7|Iteration 453|reward:  154.0|last_reward_at:  165|Elapsed Time: 0:00:19||\n",
      "Episode 7|Iteration 458|reward:  154.0|last_reward_at:  165|Elapsed Time: 0:00:19||\n",
      "Episode 7|Iteration 463|reward:  154.0|last_reward_at:  165|Elapsed Time: 0:00:19||\n",
      "Episode 7|Iteration 467|reward:  154.0|last_reward_at:  165|Elapsed Time: 0:00:19||\n",
      "Episode 7|Iteration 470|reward:  154.0|last_reward_at:  165|Elapsed Time: 0:00:19||\n",
      "Episode 7|Iteration 475|reward:  154.0|last_reward_at:  165|Elapsed Time: 0:00:19||\n",
      "Episode 7|Iteration 479|reward:  154.0|last_reward_at:  165|Elapsed Time: 0:00:20||\n",
      "Episode 7|Iteration 483|reward:  154.0|last_reward_at:  165|Elapsed Time: 0:00:20||\n",
      "Episode 7|Iteration 487|reward:  154.0|last_reward_at:  165|Elapsed Time: 0:00:20||\n",
      "Episode 7|Iteration 490|reward:  154.0|last_reward_at:  165|Elapsed Time: 0:00:20||\n",
      "Episode 7|Iteration 494|reward:  154.0|last_reward_at:  165|Elapsed Time: 0:00:20||\n",
      "Episode 7|Iteration 497|reward:  154.0|last_reward_at:  165|Elapsed Time: 0:00:20||\n",
      "Episode 7|Iteration 500|reward:  154.0|last_reward_at:  165|Elapsed Time: 0:00:20||\n",
      "Episode 7|Iteration 502|reward:  154.0|last_reward_at:  165|Elapsed Time: 0:00:20||\n",
      "Episode 7|Iteration 506|reward:  154.0|last_reward_at:  165|Elapsed Time: 0:00:20||\n",
      "Episode 7|Iteration 510|reward:  154.0|last_reward_at:  165|Elapsed Time: 0:00:20||\n",
      "Episode 7|Iteration 513|reward:  154.0|last_reward_at:  165|Elapsed Time: 0:00:20||\n",
      "Episode 7|Iteration 516|reward:  154.0|last_reward_at:  165|Elapsed Time: 0:00:21||\n",
      "Episode 7|Iteration 520|reward:  154.0|last_reward_at:  165|Elapsed Time: 0:00:21||\n",
      "Episode 7|Iteration 524|reward:  154.0|last_reward_at:  165|Elapsed Time: 0:00:21||\n",
      "Episode 7|Iteration 527|reward:  154.0|last_reward_at:  165|Elapsed Time: 0:00:21||\n",
      "Episode 7|Iteration 530|reward:  154.0|last_reward_at:  165|Elapsed Time: 0:00:21||\n",
      "Episode 7|Iteration 531|reward:  163.0|last_reward_at:  165|Elapsed Time: 0:00:21||\n",
      "Episode 7|Iteration 531|reward:  163.0|last_reward_at:  531|Elapsed Time: 0:00:21||\n",
      "Episode 7|Iteration 535|reward:  163.0|last_reward_at:  531|Elapsed Time: 0:00:21||\n",
      "Episode 7|Iteration 540|reward:  163.0|last_reward_at:  531|Elapsed Time: 0:00:21||\n",
      "Episode 7|Iteration 544|reward:  163.0|last_reward_at:  531|Elapsed Time: 0:00:21||\n",
      "Episode 7|Iteration 549|reward:  163.0|last_reward_at:  531|Elapsed Time: 0:00:22||\n",
      "Episode 7|Iteration 553|reward:  163.0|last_reward_at:  531|Elapsed Time: 0:00:22||\n",
      "Episode 7|Iteration 557|reward:  163.0|last_reward_at:  531|Elapsed Time: 0:00:22||\n",
      "Episode 7|Iteration 561|reward:  163.0|last_reward_at:  531|Elapsed Time: 0:00:22||\n",
      "Episode 7|Iteration 564|reward:  163.0|last_reward_at:  531|Elapsed Time: 0:00:22||\n",
      "Episode 7|Iteration 568|reward:  163.0|last_reward_at:  531|Elapsed Time: 0:00:22||\n",
      "Episode 7|Iteration 572|reward:  163.0|last_reward_at:  531|Elapsed Time: 0:00:22||\n",
      "Episode 7|Iteration 576|reward:  163.0|last_reward_at:  531|Elapsed Time: 0:00:22||\n",
      "Episode 7|Iteration 577|reward:  163.0|last_reward_at:  531|Elapsed Time: 0:00:22||\n",
      "Episode 7|Iteration 578|reward:  163.0|last_reward_at:  531|Elapsed Time: 0:00:23||\n",
      "Episode 7|Iteration 582|reward:  163.0|last_reward_at:  531|Elapsed Time: 0:00:23||\n",
      "Episode 7|Iteration 585|reward:  163.0|last_reward_at:  531|Elapsed Time: 0:00:23||\n",
      "Episode 7|Iteration 588|reward:  163.0|last_reward_at:  531|Elapsed Time: 0:00:23||\n",
      "Episode 7|Iteration 592|reward:  163.0|last_reward_at:  531|Elapsed Time: 0:00:23||\n",
      "Episode 7|Iteration 596|reward:  163.0|last_reward_at:  531|Elapsed Time: 0:00:23||\n",
      "Episode 7|Iteration 600|reward:  163.0|last_reward_at:  531|Elapsed Time: 0:00:23||\n",
      "Episode 7|Iteration 600|reward:  163.0|last_reward_at:  531|Elapsed Time: 0:00:23||\n"
     ]
    },
    {
     "name": "stdout",
     "output_type": "stream",
     "text": [
      "  Episode 7 stopped at t=600 \n",
      "  Breakdown [Reward/NoReward (Success rate)]\n",
      "    explore-local: 0/49 (0.00)\n",
      "    explore-remote: 1/142 (0.01)\n",
      "    explore-connect: 0/133 (0.00)\n",
      "    exploit-local: 1/0 (1.00)\n",
      "    exploit-remote: 7/209 (0.03)\n",
      "    exploit-connect: 2/56 (0.03)\n",
      "  exploit deflected to exploration: 25\n",
      "  ## Episode: 8/10 'DQL' ϵ=0.4454, γ=0.15, lr=0.01, replaymemory=10000,\n",
      "batch=256, target_update=5\n"
     ]
    },
    {
     "name": "stderr",
     "output_type": "stream",
     "text": [
      "Episode 8|Iteration 0|reward: ------|last_reward_at: ----|Elapsed Time: 0:00:00||\n",
      "Episode 8|Iteration 1|reward:    0.0|last_reward_at: ----|Elapsed Time: 0:00:00||\n",
      "Episode 8|Iteration 2|reward:    6.0|last_reward_at: ----|Elapsed Time: 0:00:00||\n",
      "Episode 8|Iteration 2|reward:    6.0|last_reward_at:    2|Elapsed Time: 0:00:00||\n",
      "Episode 8|Iteration 6|reward:    6.0|last_reward_at:    2|Elapsed Time: 0:00:00||\n",
      "Episode 8|Iteration 9|reward:    6.0|last_reward_at:    2|Elapsed Time: 0:00:00||\n",
      "Episode 8|Iteration 12|reward:    6.0|last_reward_at:    2|Elapsed Time: 0:00:00||\n",
      "Episode 8|Iteration 15|reward:    6.0|last_reward_at:    2|Elapsed Time: 0:00:00||\n",
      "Episode 8|Iteration 18|reward:    6.0|last_reward_at:    2|Elapsed Time: 0:00:00||\n",
      "Episode 8|Iteration 22|reward:    6.0|last_reward_at:    2|Elapsed Time: 0:00:00||\n",
      "Episode 8|Iteration 25|reward:    6.0|last_reward_at:    2|Elapsed Time: 0:00:00||\n",
      "Episode 8|Iteration 29|reward:    6.0|last_reward_at:    2|Elapsed Time: 0:00:01||\n",
      "Episode 8|Iteration 32|reward:    6.0|last_reward_at:    2|Elapsed Time: 0:00:01||\n",
      "Episode 8|Iteration 36|reward:    6.0|last_reward_at:    2|Elapsed Time: 0:00:01||\n",
      "Episode 8|Iteration 40|reward:    6.0|last_reward_at:    2|Elapsed Time: 0:00:01||\n",
      "Episode 8|Iteration 43|reward:    6.0|last_reward_at:    2|Elapsed Time: 0:00:01||\n",
      "Episode 8|Iteration 46|reward:    6.0|last_reward_at:    2|Elapsed Time: 0:00:01||\n",
      "Episode 8|Iteration 49|reward:    6.0|last_reward_at:    2|Elapsed Time: 0:00:01||\n",
      "Episode 8|Iteration 51|reward:   12.0|last_reward_at:    2|Elapsed Time: 0:00:01||\n",
      "Episode 8|Iteration 51|reward:   12.0|last_reward_at:   51|Elapsed Time: 0:00:01||\n",
      "Episode 8|Iteration 53|reward:   18.0|last_reward_at:   51|Elapsed Time: 0:00:01||\n",
      "Episode 8|Iteration 53|reward:   18.0|last_reward_at:   53|Elapsed Time: 0:00:01||\n",
      "Episode 8|Iteration 58|reward:   18.0|last_reward_at:   53|Elapsed Time: 0:00:01||\n",
      "Episode 8|Iteration 63|reward:   18.0|last_reward_at:   53|Elapsed Time: 0:00:02||\n",
      "Episode 8|Iteration 68|reward:   18.0|last_reward_at:   53|Elapsed Time: 0:00:02||\n",
      "Episode 8|Iteration 72|reward:   18.0|last_reward_at:   53|Elapsed Time: 0:00:02||\n",
      "Episode 8|Iteration 73|reward:   27.0|last_reward_at:   53|Elapsed Time: 0:00:02||\n",
      "Episode 8|Iteration 73|reward:   27.0|last_reward_at:   73|Elapsed Time: 0:00:02||\n",
      "Episode 8|Iteration 78|reward:   27.0|last_reward_at:   73|Elapsed Time: 0:00:02||\n",
      "Episode 8|Iteration 83|reward:   27.0|last_reward_at:   73|Elapsed Time: 0:00:02||\n",
      "Episode 8|Iteration 87|reward:   27.0|last_reward_at:   73|Elapsed Time: 0:00:02||\n",
      "Episode 8|Iteration 92|reward:   27.0|last_reward_at:   73|Elapsed Time: 0:00:02||\n",
      "Episode 8|Iteration 96|reward:   27.0|last_reward_at:   73|Elapsed Time: 0:00:02||\n",
      "Episode 8|Iteration 101|reward:   27.0|last_reward_at:   73|Elapsed Time: 0:00:02||\n",
      "Episode 8|Iteration 106|reward:   27.0|last_reward_at:   73|Elapsed Time: 0:00:03||\n",
      "Episode 8|Iteration 108|reward:   36.0|last_reward_at:   73|Elapsed Time: 0:00:03||\n",
      "Episode 8|Iteration 108|reward:   36.0|last_reward_at:  108|Elapsed Time: 0:00:03||\n",
      "Episode 8|Iteration 113|reward:   36.0|last_reward_at:  108|Elapsed Time: 0:00:03||\n",
      "Episode 8|Iteration 118|reward:   36.0|last_reward_at:  108|Elapsed Time: 0:00:03||\n",
      "Episode 8|Iteration 122|reward:   36.0|last_reward_at:  108|Elapsed Time: 0:00:03||\n",
      "Episode 8|Iteration 126|reward:   36.0|last_reward_at:  108|Elapsed Time: 0:00:03||\n",
      "Episode 8|Iteration 130|reward:   36.0|last_reward_at:  108|Elapsed Time: 0:00:03||\n",
      "Episode 8|Iteration 134|reward:   36.0|last_reward_at:  108|Elapsed Time: 0:00:03||\n",
      "Episode 8|Iteration 139|reward:   36.0|last_reward_at:  108|Elapsed Time: 0:00:03||\n",
      "Episode 8|Iteration 141|reward:   86.0|last_reward_at:  108|Elapsed Time: 0:00:03||\n",
      "Episode 8|Iteration 141|reward:   86.0|last_reward_at:  141|Elapsed Time: 0:00:03||\n",
      "Episode 8|Iteration 145|reward:   86.0|last_reward_at:  141|Elapsed Time: 0:00:03||\n",
      "Episode 8|Iteration 149|reward:   86.0|last_reward_at:  141|Elapsed Time: 0:00:04||\n",
      "Episode 8|Iteration 154|reward:   86.0|last_reward_at:  141|Elapsed Time: 0:00:04||\n",
      "Episode 8|Iteration 155|reward:  186.0|last_reward_at:  141|Elapsed Time: 0:00:04||\n",
      "Episode 8|Iteration 155|reward:  186.0|last_reward_at:  155|Elapsed Time: 0:00:04||\n",
      "Episode 8|Iteration 157|reward:  195.0|last_reward_at:  155|Elapsed Time: 0:00:04||\n",
      "Episode 8|Iteration 157|reward:  195.0|last_reward_at:  157|Elapsed Time: 0:00:04||\n",
      "Episode 8|Iteration 160|reward:  195.0|last_reward_at:  157|Elapsed Time: 0:00:04||\n",
      "Episode 8|Iteration 163|reward:  195.0|last_reward_at:  157|Elapsed Time: 0:00:04||\n",
      "Episode 8|Iteration 168|reward:  195.0|last_reward_at:  157|Elapsed Time: 0:00:04||\n",
      "Episode 8|Iteration 172|reward:  195.0|last_reward_at:  157|Elapsed Time: 0:00:04||\n",
      "Episode 8|Iteration 177|reward:  195.0|last_reward_at:  157|Elapsed Time: 0:00:04||\n",
      "Episode 8|Iteration 182|reward:  195.0|last_reward_at:  157|Elapsed Time: 0:00:04||\n",
      "Episode 8|Iteration 187|reward:  195.0|last_reward_at:  157|Elapsed Time: 0:00:05||\n",
      "Episode 8|Iteration 192|reward:  195.0|last_reward_at:  157|Elapsed Time: 0:00:05||\n",
      "Episode 8|Iteration 193|reward:  195.0|last_reward_at:  157|Elapsed Time: 0:00:05||\n",
      "Episode 8|Iteration 196|reward:  195.0|last_reward_at:  157|Elapsed Time: 0:00:05||\n",
      "Episode 8|Iteration 201|reward:  195.0|last_reward_at:  157|Elapsed Time: 0:00:05||\n",
      "Episode 8|Iteration 206|reward:  195.0|last_reward_at:  157|Elapsed Time: 0:00:05||\n",
      "Episode 8|Iteration 209|reward:  195.0|last_reward_at:  157|Elapsed Time: 0:00:05||\n",
      "Episode 8|Iteration 213|reward:  195.0|last_reward_at:  157|Elapsed Time: 0:00:05||\n",
      "Episode 8|Iteration 217|reward:  195.0|last_reward_at:  157|Elapsed Time: 0:00:05||\n",
      "Episode 8|Iteration 221|reward:  195.0|last_reward_at:  157|Elapsed Time: 0:00:05||\n",
      "Episode 8|Iteration 224|reward:  195.0|last_reward_at:  157|Elapsed Time: 0:00:06||\n",
      "Episode 8|Iteration 225|reward:  201.0|last_reward_at:  157|Elapsed Time: 0:00:06||\n",
      "Episode 8|Iteration 225|reward:  201.0|last_reward_at:  225|Elapsed Time: 0:00:06||\n",
      "Episode 8|Iteration 228|reward:  201.0|last_reward_at:  225|Elapsed Time: 0:00:06||\n",
      "Episode 8|Iteration 230|reward:  201.0|last_reward_at:  225|Elapsed Time: 0:00:06||\n",
      "Episode 8|Iteration 234|reward:  201.0|last_reward_at:  225|Elapsed Time: 0:00:06||\n",
      "Episode 8|Iteration 239|reward:  201.0|last_reward_at:  225|Elapsed Time: 0:00:06||\n",
      "Episode 8|Iteration 243|reward:  201.0|last_reward_at:  225|Elapsed Time: 0:00:06||\n",
      "Episode 8|Iteration 247|reward:  201.0|last_reward_at:  225|Elapsed Time: 0:00:06||\n",
      "Episode 8|Iteration 251|reward:  201.0|last_reward_at:  225|Elapsed Time: 0:00:06||\n",
      "Episode 8|Iteration 255|reward:  201.0|last_reward_at:  225|Elapsed Time: 0:00:06||\n",
      "Episode 8|Iteration 257|reward:  201.0|last_reward_at:  225|Elapsed Time: 0:00:07||\n",
      "Episode 8|Iteration 259|reward:  201.0|last_reward_at:  225|Elapsed Time: 0:00:07||\n",
      "Episode 8|Iteration 261|reward:  201.0|last_reward_at:  225|Elapsed Time: 0:00:07||\n",
      "Episode 8|Iteration 263|reward:  201.0|last_reward_at:  225|Elapsed Time: 0:00:07||\n",
      "Episode 8|Iteration 265|reward:  201.0|last_reward_at:  225|Elapsed Time: 0:00:07||\n",
      "Episode 8|Iteration 267|reward:  201.0|last_reward_at:  225|Elapsed Time: 0:00:07||\n",
      "Episode 8|Iteration 268|reward:  210.0|last_reward_at:  225|Elapsed Time: 0:00:07||\n",
      "Episode 8|Iteration 268|reward:  210.0|last_reward_at:  268|Elapsed Time: 0:00:07||\n",
      "Episode 8|Iteration 269|reward:  210.0|last_reward_at:  268|Elapsed Time: 0:00:07||\n",
      "Episode 8|Iteration 272|reward:  210.0|last_reward_at:  268|Elapsed Time: 0:00:07||\n",
      "Episode 8|Iteration 276|reward:  210.0|last_reward_at:  268|Elapsed Time: 0:00:08||\n",
      "Episode 8|Iteration 279|reward:  210.0|last_reward_at:  268|Elapsed Time: 0:00:08||\n",
      "Episode 8|Iteration 282|reward:  210.0|last_reward_at:  268|Elapsed Time: 0:00:08||\n",
      "Episode 8|Iteration 284|reward:  210.0|last_reward_at:  268|Elapsed Time: 0:00:08||\n",
      "Episode 8|Iteration 288|reward:  210.0|last_reward_at:  268|Elapsed Time: 0:00:08||\n",
      "Episode 8|Iteration 291|reward:  210.0|last_reward_at:  268|Elapsed Time: 0:00:08||\n",
      "Episode 8|Iteration 294|reward:  216.0|last_reward_at:  268|Elapsed Time: 0:00:08||\n",
      "Episode 8|Iteration 294|reward:  216.0|last_reward_at:  294|Elapsed Time: 0:00:08||\n",
      "Episode 8|Iteration 296|reward:  216.0|last_reward_at:  294|Elapsed Time: 0:00:08||\n",
      "Episode 8|Iteration 297|reward:  216.0|last_reward_at:  294|Elapsed Time: 0:00:08||\n",
      "Episode 8|Iteration 301|reward:  216.0|last_reward_at:  294|Elapsed Time: 0:00:09||\n",
      "Episode 8|Iteration 304|reward:  216.0|last_reward_at:  294|Elapsed Time: 0:00:09||\n",
      "Episode 8|Iteration 307|reward:  216.0|last_reward_at:  294|Elapsed Time: 0:00:09||\n",
      "Episode 8|Iteration 311|reward:  216.0|last_reward_at:  294|Elapsed Time: 0:00:09||\n",
      "Episode 8|Iteration 316|reward:  216.0|last_reward_at:  294|Elapsed Time: 0:00:09||\n",
      "Episode 8|Iteration 321|reward:  216.0|last_reward_at:  294|Elapsed Time: 0:00:09||\n",
      "Episode 8|Iteration 322|reward:  266.0|last_reward_at:  294|Elapsed Time: 0:00:09||\n",
      "Episode 8|Iteration 322|reward:  266.0|last_reward_at:  322|Elapsed Time: 0:00:09||\n",
      "Episode 8|Iteration 327|reward:  266.0|last_reward_at:  322|Elapsed Time: 0:00:09||\n",
      "Episode 8|Iteration 331|reward:  266.0|last_reward_at:  322|Elapsed Time: 0:00:09||\n",
      "Episode 8|Iteration 334|reward:  266.0|last_reward_at:  322|Elapsed Time: 0:00:09||\n",
      "Episode 8|Iteration 337|reward:  266.0|last_reward_at:  322|Elapsed Time: 0:00:10||\n",
      "Episode 8|Iteration 341|reward:  266.0|last_reward_at:  322|Elapsed Time: 0:00:10||\n",
      "Episode 8|Iteration 346|reward:  266.0|last_reward_at:  322|Elapsed Time: 0:00:10||\n",
      "Episode 8|Iteration 349|reward:  266.0|last_reward_at:  322|Elapsed Time: 0:00:10||\n",
      "Episode 8|Iteration 350|reward:  266.0|last_reward_at:  322|Elapsed Time: 0:00:10||\n",
      "Episode 8|Iteration 352|reward:  266.0|last_reward_at:  322|Elapsed Time: 0:00:10||\n",
      "Episode 8|Iteration 355|reward:  266.0|last_reward_at:  322|Elapsed Time: 0:00:10||\n",
      "Episode 8|Iteration 358|reward:  266.0|last_reward_at:  322|Elapsed Time: 0:00:10||\n",
      "Episode 8|Iteration 360|reward:  266.0|last_reward_at:  322|Elapsed Time: 0:00:11||\n",
      "Episode 8|Iteration 363|reward:  266.0|last_reward_at:  322|Elapsed Time: 0:00:11||\n",
      "Episode 8|Iteration 365|reward:  266.0|last_reward_at:  322|Elapsed Time: 0:00:11||\n",
      "Episode 8|Iteration 368|reward:  266.0|last_reward_at:  322|Elapsed Time: 0:00:11||\n",
      "Episode 8|Iteration 372|reward:  266.0|last_reward_at:  322|Elapsed Time: 0:00:11||\n",
      "Episode 8|Iteration 376|reward:  266.0|last_reward_at:  322|Elapsed Time: 0:00:11||\n",
      "Episode 8|Iteration 380|reward:  266.0|last_reward_at:  322|Elapsed Time: 0:00:11||\n",
      "Episode 8|Iteration 380|reward:  266.0|last_reward_at:  322|Elapsed Time: 0:00:11||\n",
      "Episode 8|Iteration 383|reward:  266.0|last_reward_at:  322|Elapsed Time: 0:00:12||\n",
      "Episode 8|Iteration 388|reward:  266.0|last_reward_at:  322|Elapsed Time: 0:00:12||\n",
      "Episode 8|Iteration 390|reward:  266.0|last_reward_at:  322|Elapsed Time: 0:00:12||\n",
      "Episode 8|Iteration 394|reward:  266.0|last_reward_at:  322|Elapsed Time: 0:00:12||\n",
      "Episode 8|Iteration 398|reward:  266.0|last_reward_at:  322|Elapsed Time: 0:00:12||\n",
      "Episode 8|Iteration 403|reward:  266.0|last_reward_at:  322|Elapsed Time: 0:00:12||\n",
      "Episode 8|Iteration 407|reward:  266.0|last_reward_at:  322|Elapsed Time: 0:00:12||\n",
      "Episode 8|Iteration 410|reward:  266.0|last_reward_at:  322|Elapsed Time: 0:00:12||\n",
      "Episode 8|Iteration 413|reward:  266.0|last_reward_at:  322|Elapsed Time: 0:00:12||\n",
      "Episode 8|Iteration 416|reward:  266.0|last_reward_at:  322|Elapsed Time: 0:00:13||\n",
      "Episode 8|Iteration 418|reward:  266.0|last_reward_at:  322|Elapsed Time: 0:00:13||\n",
      "Episode 8|Iteration 420|reward:  266.0|last_reward_at:  322|Elapsed Time: 0:00:13||\n",
      "Episode 8|Iteration 424|reward:  266.0|last_reward_at:  322|Elapsed Time: 0:00:13||\n",
      "Episode 8|Iteration 427|reward:  272.0|last_reward_at:  322|Elapsed Time: 0:00:13||\n",
      "Episode 8|Iteration 427|reward:  272.0|last_reward_at:  427|Elapsed Time: 0:00:13||\n",
      "Episode 8|Iteration 431|reward:  272.0|last_reward_at:  427|Elapsed Time: 0:00:13||\n",
      "Episode 8|Iteration 436|reward:  272.0|last_reward_at:  427|Elapsed Time: 0:00:13||\n",
      "Episode 8|Iteration 441|reward:  272.0|last_reward_at:  427|Elapsed Time: 0:00:13||\n",
      "Episode 8|Iteration 444|reward:  272.0|last_reward_at:  427|Elapsed Time: 0:00:13||\n",
      "Episode 8|Iteration 447|reward:  272.0|last_reward_at:  427|Elapsed Time: 0:00:14||\n",
      "Episode 8|Iteration 450|reward:  272.0|last_reward_at:  427|Elapsed Time: 0:00:14||\n",
      "Episode 8|Iteration 454|reward:  272.0|last_reward_at:  427|Elapsed Time: 0:00:14||\n",
      "Episode 8|Iteration 458|reward:  272.0|last_reward_at:  427|Elapsed Time: 0:00:14||\n",
      "Episode 8|Iteration 462|reward:  272.0|last_reward_at:  427|Elapsed Time: 0:00:14||\n",
      "Episode 8|Iteration 466|reward:  272.0|last_reward_at:  427|Elapsed Time: 0:00:14||\n",
      "Episode 8|Iteration 470|reward:  272.0|last_reward_at:  427|Elapsed Time: 0:00:14||\n",
      "Episode 8|Iteration 473|reward:  272.0|last_reward_at:  427|Elapsed Time: 0:00:14||\n",
      "Episode 8|Iteration 477|reward:  272.0|last_reward_at:  427|Elapsed Time: 0:00:14||\n",
      "Episode 8|Iteration 481|reward:  272.0|last_reward_at:  427|Elapsed Time: 0:00:15||\n",
      "Episode 8|Iteration 485|reward:  272.0|last_reward_at:  427|Elapsed Time: 0:00:15||\n",
      "Episode 8|Iteration 488|reward:  272.0|last_reward_at:  427|Elapsed Time: 0:00:15||\n",
      "Episode 8|Iteration 492|reward:  272.0|last_reward_at:  427|Elapsed Time: 0:00:15||\n",
      "Episode 8|Iteration 495|reward:  272.0|last_reward_at:  427|Elapsed Time: 0:00:15||\n",
      "Episode 8|Iteration 498|reward:  272.0|last_reward_at:  427|Elapsed Time: 0:00:15||\n",
      "Episode 8|Iteration 501|reward:  272.0|last_reward_at:  427|Elapsed Time: 0:00:15||\n",
      "Episode 8|Iteration 504|reward:  272.0|last_reward_at:  427|Elapsed Time: 0:00:15||\n",
      "Episode 8|Iteration 509|reward:  272.0|last_reward_at:  427|Elapsed Time: 0:00:15||\n",
      "Episode 8|Iteration 512|reward:  272.0|last_reward_at:  427|Elapsed Time: 0:00:16||\n",
      "Episode 8|Iteration 515|reward:  272.0|last_reward_at:  427|Elapsed Time: 0:00:16||\n",
      "Episode 8|Iteration 518|reward:  272.0|last_reward_at:  427|Elapsed Time: 0:00:16||\n",
      "Episode 8|Iteration 521|reward:  272.0|last_reward_at:  427|Elapsed Time: 0:00:16||\n",
      "Episode 8|Iteration 524|reward:  272.0|last_reward_at:  427|Elapsed Time: 0:00:16||\n",
      "Episode 8|Iteration 528|reward:  272.0|last_reward_at:  427|Elapsed Time: 0:00:16||\n",
      "Episode 8|Iteration 532|reward:  272.0|last_reward_at:  427|Elapsed Time: 0:00:16||\n",
      "Episode 8|Iteration 534|reward:  272.0|last_reward_at:  427|Elapsed Time: 0:00:16||\n",
      "Episode 8|Iteration 539|reward:  272.0|last_reward_at:  427|Elapsed Time: 0:00:16||\n",
      "Episode 8|Iteration 543|reward:  272.0|last_reward_at:  427|Elapsed Time: 0:00:17||\n",
      "Episode 8|Iteration 547|reward:  272.0|last_reward_at:  427|Elapsed Time: 0:00:17||\n",
      "Episode 8|Iteration 551|reward:  272.0|last_reward_at:  427|Elapsed Time: 0:00:17||\n",
      "Episode 8|Iteration 555|reward:  272.0|last_reward_at:  427|Elapsed Time: 0:00:17||\n",
      "Episode 8|Iteration 558|reward:  272.0|last_reward_at:  427|Elapsed Time: 0:00:17||\n",
      "Episode 8|Iteration 562|reward:  272.0|last_reward_at:  427|Elapsed Time: 0:00:17||\n",
      "Episode 8|Iteration 567|reward:  272.0|last_reward_at:  427|Elapsed Time: 0:00:17||\n",
      "Episode 8|Iteration 570|reward:  272.0|last_reward_at:  427|Elapsed Time: 0:00:17||\n",
      "Episode 8|Iteration 574|reward:  272.0|last_reward_at:  427|Elapsed Time: 0:00:17||\n",
      "Episode 8|Iteration 578|reward:  272.0|last_reward_at:  427|Elapsed Time: 0:00:17||\n",
      "Episode 8|Iteration 582|reward:  272.0|last_reward_at:  427|Elapsed Time: 0:00:18||\n",
      "Episode 8|Iteration 585|reward:  272.0|last_reward_at:  427|Elapsed Time: 0:00:18||\n",
      "Episode 8|Iteration 588|reward:  272.0|last_reward_at:  427|Elapsed Time: 0:00:18||\n",
      "Episode 8|Iteration 591|reward:  272.0|last_reward_at:  427|Elapsed Time: 0:00:18||\n",
      "Episode 8|Iteration 596|reward:  272.0|last_reward_at:  427|Elapsed Time: 0:00:18||\n",
      "Episode 8|Iteration 597|reward:  272.0|last_reward_at:  427|Elapsed Time: 0:00:18||\n",
      "Episode 8|Iteration 600|reward:  272.0|last_reward_at:  427|Elapsed Time: 0:00:18||\n",
      "Episode 8|Iteration 600|reward:  272.0|last_reward_at:  427|Elapsed Time: 0:00:18||\n"
     ]
    },
    {
     "name": "stdout",
     "output_type": "stream",
     "text": [
      "  Episode 8 stopped at t=600 \n",
      "  Breakdown [Reward/NoReward (Success rate)]\n",
      "    explore-local: 0/46 (0.00)\n",
      "    explore-remote: 4/136 (0.03)\n",
      "    explore-connect: 0/115 (0.00)\n",
      "    exploit-local: 2/1 (0.67)\n",
      "    exploit-remote: 4/238 (0.02)\n",
      "    exploit-connect: 3/51 (0.06)\n",
      "  exploit deflected to exploration: 44\n",
      "  ## Episode: 9/10 'DQL' ϵ=0.4064, γ=0.15, lr=0.01, replaymemory=10000,\n",
      "batch=256, target_update=5\n"
     ]
    },
    {
     "name": "stderr",
     "output_type": "stream",
     "text": [
      "Episode 9|Iteration 0|reward: ------|last_reward_at: ----|Elapsed Time: 0:00:00||\n",
      "Episode 9|Iteration 1|reward:    6.0|last_reward_at: ----|Elapsed Time: 0:00:00||\n",
      "Episode 9|Iteration 1|reward:    6.0|last_reward_at:    1|Elapsed Time: 0:00:00||\n",
      "Episode 9|Iteration 2|reward:   12.0|last_reward_at:    1|Elapsed Time: 0:00:00||\n",
      "Episode 9|Iteration 2|reward:   12.0|last_reward_at:    2|Elapsed Time: 0:00:00||\n",
      "Episode 9|Iteration 6|reward:   12.0|last_reward_at:    2|Elapsed Time: 0:00:00||\n",
      "Episode 9|Iteration 11|reward:   12.0|last_reward_at:    2|Elapsed Time: 0:00:00||\n",
      "Episode 9|Iteration 15|reward:   12.0|last_reward_at:    2|Elapsed Time: 0:00:00||\n",
      "Episode 9|Iteration 19|reward:   12.0|last_reward_at:    2|Elapsed Time: 0:00:00||\n",
      "Episode 9|Iteration 20|reward:   18.0|last_reward_at:    2|Elapsed Time: 0:00:00||\n",
      "Episode 9|Iteration 20|reward:   18.0|last_reward_at:   20|Elapsed Time: 0:00:00||\n",
      "Episode 9|Iteration 23|reward:   18.0|last_reward_at:   20|Elapsed Time: 0:00:00||\n",
      "Episode 9|Iteration 24|reward:   18.0|last_reward_at:   20|Elapsed Time: 0:00:00||\n",
      "Episode 9|Iteration 27|reward:   27.0|last_reward_at:   20|Elapsed Time: 0:00:00||\n",
      "Episode 9|Iteration 27|reward:   27.0|last_reward_at:   27|Elapsed Time: 0:00:00||\n",
      "Episode 9|Iteration 30|reward:   27.0|last_reward_at:   27|Elapsed Time: 0:00:00||\n",
      "Episode 9|Iteration 35|reward:   27.0|last_reward_at:   27|Elapsed Time: 0:00:01||\n",
      "Episode 9|Iteration 38|reward:   27.0|last_reward_at:   27|Elapsed Time: 0:00:01||\n",
      "Episode 9|Iteration 41|reward:   27.0|last_reward_at:   27|Elapsed Time: 0:00:01||\n",
      "Episode 9|Iteration 46|reward:   27.0|last_reward_at:   27|Elapsed Time: 0:00:01||\n",
      "Episode 9|Iteration 50|reward:   27.0|last_reward_at:   27|Elapsed Time: 0:00:01||\n",
      "Episode 9|Iteration 51|reward:   36.0|last_reward_at:   27|Elapsed Time: 0:00:01||\n",
      "Episode 9|Iteration 51|reward:   36.0|last_reward_at:   51|Elapsed Time: 0:00:01||\n",
      "Episode 9|Iteration 54|reward:   36.0|last_reward_at:   51|Elapsed Time: 0:00:01||\n",
      "Episode 9|Iteration 57|reward:   36.0|last_reward_at:   51|Elapsed Time: 0:00:01||\n",
      "Episode 9|Iteration 61|reward:   36.0|last_reward_at:   51|Elapsed Time: 0:00:01||\n",
      "Episode 9|Iteration 63|reward:   36.0|last_reward_at:   51|Elapsed Time: 0:00:01||\n",
      "Episode 9|Iteration 64|reward:   86.0|last_reward_at:   51|Elapsed Time: 0:00:01||\n",
      "Episode 9|Iteration 64|reward:   86.0|last_reward_at:   64|Elapsed Time: 0:00:01||\n",
      "Episode 9|Iteration 68|reward:   86.0|last_reward_at:   64|Elapsed Time: 0:00:01||\n",
      "Episode 9|Iteration 73|reward:   86.0|last_reward_at:   64|Elapsed Time: 0:00:02||\n",
      "Episode 9|Iteration 76|reward:   86.0|last_reward_at:   64|Elapsed Time: 0:00:02||\n",
      "Episode 9|Iteration 80|reward:   86.0|last_reward_at:   64|Elapsed Time: 0:00:02||\n",
      "Episode 9|Iteration 84|reward:   86.0|last_reward_at:   64|Elapsed Time: 0:00:02||\n",
      "Episode 9|Iteration 88|reward:   86.0|last_reward_at:   64|Elapsed Time: 0:00:02||\n",
      "Episode 9|Iteration 92|reward:   86.0|last_reward_at:   64|Elapsed Time: 0:00:02||\n",
      "Episode 9|Iteration 95|reward:   86.0|last_reward_at:   64|Elapsed Time: 0:00:02||\n",
      "Episode 9|Iteration 99|reward:   86.0|last_reward_at:   64|Elapsed Time: 0:00:02||\n",
      "Episode 9|Iteration 101|reward:   86.0|last_reward_at:   64|Elapsed Time: 0:00:02||\n",
      "Episode 9|Iteration 106|reward:   86.0|last_reward_at:   64|Elapsed Time: 0:00:02||\n",
      "Episode 9|Iteration 110|reward:   86.0|last_reward_at:   64|Elapsed Time: 0:00:03||\n",
      "Episode 9|Iteration 114|reward:   86.0|last_reward_at:   64|Elapsed Time: 0:00:03||\n",
      "Episode 9|Iteration 118|reward:   86.0|last_reward_at:   64|Elapsed Time: 0:00:03||\n",
      "Episode 9|Iteration 122|reward:   86.0|last_reward_at:   64|Elapsed Time: 0:00:03||\n",
      "Episode 9|Iteration 126|reward:   86.0|last_reward_at:   64|Elapsed Time: 0:00:03||\n",
      "Episode 9|Iteration 130|reward:   86.0|last_reward_at:   64|Elapsed Time: 0:00:03||\n",
      "Episode 9|Iteration 134|reward:   86.0|last_reward_at:   64|Elapsed Time: 0:00:03||\n",
      "Episode 9|Iteration 137|reward:   86.0|last_reward_at:   64|Elapsed Time: 0:00:03||\n",
      "Episode 9|Iteration 138|reward:  186.0|last_reward_at:   64|Elapsed Time: 0:00:03||\n",
      "Episode 9|Iteration 138|reward:  186.0|last_reward_at:  138|Elapsed Time: 0:00:03||\n",
      "Episode 9|Iteration 142|reward:  186.0|last_reward_at:  138|Elapsed Time: 0:00:03||\n",
      "Episode 9|Iteration 145|reward:  186.0|last_reward_at:  138|Elapsed Time: 0:00:03||\n",
      "Episode 9|Iteration 149|reward:  186.0|last_reward_at:  138|Elapsed Time: 0:00:03||\n",
      "Episode 9|Iteration 154|reward:  195.0|last_reward_at:  138|Elapsed Time: 0:00:04||\n",
      "Episode 9|Iteration 154|reward:  195.0|last_reward_at:  154|Elapsed Time: 0:00:04||\n",
      "Episode 9|Iteration 156|reward:  201.0|last_reward_at:  154|Elapsed Time: 0:00:04||\n",
      "Episode 9|Iteration 156|reward:  201.0|last_reward_at:  156|Elapsed Time: 0:00:04||\n",
      "Episode 9|Iteration 160|reward:  201.0|last_reward_at:  156|Elapsed Time: 0:00:04||\n",
      "Episode 9|Iteration 164|reward:  201.0|last_reward_at:  156|Elapsed Time: 0:00:04||\n",
      "Episode 9|Iteration 165|reward:  210.0|last_reward_at:  156|Elapsed Time: 0:00:04||\n",
      "Episode 9|Iteration 165|reward:  210.0|last_reward_at:  165|Elapsed Time: 0:00:04||\n",
      "Episode 9|Iteration 168|reward:  210.0|last_reward_at:  165|Elapsed Time: 0:00:04||\n",
      "Episode 9|Iteration 171|reward:  210.0|last_reward_at:  165|Elapsed Time: 0:00:04||\n",
      "Episode 9|Iteration 175|reward:  210.0|last_reward_at:  165|Elapsed Time: 0:00:04||\n",
      "Episode 9|Iteration 178|reward:  210.0|last_reward_at:  165|Elapsed Time: 0:00:04||\n",
      "Episode 9|Iteration 182|reward:  210.0|last_reward_at:  165|Elapsed Time: 0:00:04||\n",
      "Episode 9|Iteration 185|reward:  216.0|last_reward_at:  165|Elapsed Time: 0:00:05||\n",
      "Episode 9|Iteration 185|reward:  216.0|last_reward_at:  185|Elapsed Time: 0:00:05||\n",
      "Episode 9|Iteration 189|reward:  216.0|last_reward_at:  185|Elapsed Time: 0:00:05||\n",
      "Episode 9|Iteration 194|reward:  216.0|last_reward_at:  185|Elapsed Time: 0:00:05||\n",
      "Episode 9|Iteration 198|reward:  216.0|last_reward_at:  185|Elapsed Time: 0:00:05||\n",
      "Episode 9|Iteration 199|reward:  266.0|last_reward_at:  185|Elapsed Time: 0:00:05||\n",
      "Episode 9|Iteration 199|reward:  266.0|last_reward_at:  199|Elapsed Time: 0:00:05||\n",
      "Episode 9|Iteration 203|reward:  266.0|last_reward_at:  199|Elapsed Time: 0:00:05||\n",
      "Episode 9|Iteration 204|reward:  266.0|last_reward_at:  199|Elapsed Time: 0:00:05||\n",
      "Episode 9|Iteration 205|reward:  266.0|last_reward_at:  199|Elapsed Time: 0:00:05||\n",
      "Episode 9|Iteration 209|reward:  266.0|last_reward_at:  199|Elapsed Time: 0:00:06||\n",
      "Episode 9|Iteration 212|reward:  266.0|last_reward_at:  199|Elapsed Time: 0:00:06||\n",
      "Episode 9|Iteration 215|reward:  266.0|last_reward_at:  199|Elapsed Time: 0:00:06||\n",
      "Episode 9|Iteration 217|reward:  266.0|last_reward_at:  199|Elapsed Time: 0:00:06||\n",
      "Episode 9|Iteration 219|reward:  266.0|last_reward_at:  199|Elapsed Time: 0:00:06||\n",
      "Episode 9|Iteration 221|reward:  266.0|last_reward_at:  199|Elapsed Time: 0:00:06||\n",
      "Episode 9|Iteration 222|reward:  266.0|last_reward_at:  199|Elapsed Time: 0:00:06||\n",
      "Episode 9|Iteration 225|reward:  266.0|last_reward_at:  199|Elapsed Time: 0:00:06||\n",
      "Episode 9|Iteration 227|reward:  266.0|last_reward_at:  199|Elapsed Time: 0:00:06||\n",
      "Episode 9|Iteration 228|reward:  266.0|last_reward_at:  199|Elapsed Time: 0:00:07||\n",
      "Episode 9|Iteration 229|reward:  266.0|last_reward_at:  199|Elapsed Time: 0:00:07||\n",
      "Episode 9|Iteration 230|reward:  266.0|last_reward_at:  199|Elapsed Time: 0:00:07||\n",
      "Episode 9|Iteration 231|reward:  266.0|last_reward_at:  199|Elapsed Time: 0:00:07||\n",
      "Episode 9|Iteration 232|reward:  266.0|last_reward_at:  199|Elapsed Time: 0:00:07||\n",
      "Episode 9|Iteration 235|reward:  266.0|last_reward_at:  199|Elapsed Time: 0:00:07||\n",
      "Episode 9|Iteration 237|reward:  266.0|last_reward_at:  199|Elapsed Time: 0:00:08||\n",
      "Episode 9|Iteration 240|reward:  266.0|last_reward_at:  199|Elapsed Time: 0:00:08||\n",
      "Episode 9|Iteration 242|reward:  266.0|last_reward_at:  199|Elapsed Time: 0:00:08||\n",
      "Episode 9|Iteration 246|reward:  266.0|last_reward_at:  199|Elapsed Time: 0:00:08||\n",
      "Episode 9|Iteration 250|reward:  266.0|last_reward_at:  199|Elapsed Time: 0:00:08||\n",
      "Episode 9|Iteration 254|reward:  266.0|last_reward_at:  199|Elapsed Time: 0:00:08||\n",
      "Episode 9|Iteration 257|reward:  266.0|last_reward_at:  199|Elapsed Time: 0:00:08||\n",
      "Episode 9|Iteration 260|reward:  266.0|last_reward_at:  199|Elapsed Time: 0:00:08||\n",
      "Episode 9|Iteration 264|reward:  266.0|last_reward_at:  199|Elapsed Time: 0:00:08||\n",
      "Episode 9|Iteration 268|reward:  266.0|last_reward_at:  199|Elapsed Time: 0:00:09||\n",
      "Episode 9|Iteration 272|reward:  266.0|last_reward_at:  199|Elapsed Time: 0:00:09||\n",
      "Episode 9|Iteration 275|reward:  266.0|last_reward_at:  199|Elapsed Time: 0:00:09||\n",
      "Episode 9|Iteration 279|reward:  266.0|last_reward_at:  199|Elapsed Time: 0:00:09||\n",
      "Episode 9|Iteration 282|reward:  266.0|last_reward_at:  199|Elapsed Time: 0:00:09||\n",
      "Episode 9|Iteration 286|reward:  266.0|last_reward_at:  199|Elapsed Time: 0:00:09||\n",
      "Episode 9|Iteration 287|reward:  266.0|last_reward_at:  199|Elapsed Time: 0:00:09||\n",
      "Episode 9|Iteration 289|reward:  266.0|last_reward_at:  199|Elapsed Time: 0:00:09||\n",
      "Episode 9|Iteration 292|reward:  266.0|last_reward_at:  199|Elapsed Time: 0:00:09||\n",
      "Episode 9|Iteration 296|reward:  266.0|last_reward_at:  199|Elapsed Time: 0:00:10||\n",
      "Episode 9|Iteration 300|reward:  266.0|last_reward_at:  199|Elapsed Time: 0:00:10||\n",
      "Episode 9|Iteration 303|reward:  266.0|last_reward_at:  199|Elapsed Time: 0:00:10||\n",
      "Episode 9|Iteration 306|reward:  266.0|last_reward_at:  199|Elapsed Time: 0:00:10||\n",
      "Episode 9|Iteration 311|reward:  266.0|last_reward_at:  199|Elapsed Time: 0:00:10||\n",
      "Episode 9|Iteration 316|reward:  266.0|last_reward_at:  199|Elapsed Time: 0:00:10||\n",
      "Episode 9|Iteration 319|reward:  266.0|last_reward_at:  199|Elapsed Time: 0:00:10||\n",
      "Episode 9|Iteration 323|reward:  266.0|last_reward_at:  199|Elapsed Time: 0:00:10||\n",
      "Episode 9|Iteration 327|reward:  266.0|last_reward_at:  199|Elapsed Time: 0:00:10||\n",
      "Episode 9|Iteration 331|reward:  266.0|last_reward_at:  199|Elapsed Time: 0:00:11||\n",
      "Episode 9|Iteration 335|reward:  266.0|last_reward_at:  199|Elapsed Time: 0:00:11||\n",
      "Episode 9|Iteration 338|reward:  266.0|last_reward_at:  199|Elapsed Time: 0:00:11||\n",
      "Episode 9|Iteration 342|reward:  266.0|last_reward_at:  199|Elapsed Time: 0:00:11||\n",
      "Episode 9|Iteration 346|reward:  266.0|last_reward_at:  199|Elapsed Time: 0:00:11||\n",
      "Episode 9|Iteration 350|reward:  266.0|last_reward_at:  199|Elapsed Time: 0:00:11||\n",
      "Episode 9|Iteration 353|reward:  266.0|last_reward_at:  199|Elapsed Time: 0:00:11||\n",
      "Episode 9|Iteration 357|reward:  266.0|last_reward_at:  199|Elapsed Time: 0:00:11||\n",
      "Episode 9|Iteration 361|reward:  266.0|last_reward_at:  199|Elapsed Time: 0:00:11||\n",
      "Episode 9|Iteration 365|reward:  266.0|last_reward_at:  199|Elapsed Time: 0:00:11||\n",
      "Episode 9|Iteration 369|reward:  266.0|last_reward_at:  199|Elapsed Time: 0:00:11||\n",
      "Episode 9|Iteration 373|reward:  266.0|last_reward_at:  199|Elapsed Time: 0:00:12||\n",
      "Episode 9|Iteration 377|reward:  266.0|last_reward_at:  199|Elapsed Time: 0:00:12||\n",
      "Episode 9|Iteration 380|reward:  266.0|last_reward_at:  199|Elapsed Time: 0:00:12||\n",
      "Episode 9|Iteration 383|reward:  266.0|last_reward_at:  199|Elapsed Time: 0:00:12||\n",
      "Episode 9|Iteration 388|reward:  266.0|last_reward_at:  199|Elapsed Time: 0:00:12||\n",
      "Episode 9|Iteration 391|reward:  266.0|last_reward_at:  199|Elapsed Time: 0:00:12||\n",
      "Episode 9|Iteration 395|reward:  266.0|last_reward_at:  199|Elapsed Time: 0:00:12||\n",
      "Episode 9|Iteration 398|reward:  266.0|last_reward_at:  199|Elapsed Time: 0:00:12||\n",
      "Episode 9|Iteration 403|reward:  266.0|last_reward_at:  199|Elapsed Time: 0:00:12||\n",
      "Episode 9|Iteration 406|reward:  266.0|last_reward_at:  199|Elapsed Time: 0:00:12||\n",
      "Episode 9|Iteration 411|reward:  266.0|last_reward_at:  199|Elapsed Time: 0:00:13||\n",
      "Episode 9|Iteration 415|reward:  266.0|last_reward_at:  199|Elapsed Time: 0:00:13||\n",
      "Episode 9|Iteration 418|reward:  266.0|last_reward_at:  199|Elapsed Time: 0:00:13||\n",
      "Episode 9|Iteration 422|reward:  266.0|last_reward_at:  199|Elapsed Time: 0:00:13||\n",
      "Episode 9|Iteration 426|reward:  266.0|last_reward_at:  199|Elapsed Time: 0:00:13||\n",
      "Episode 9|Iteration 430|reward:  266.0|last_reward_at:  199|Elapsed Time: 0:00:13||\n",
      "Episode 9|Iteration 435|reward:  266.0|last_reward_at:  199|Elapsed Time: 0:00:13||\n",
      "Episode 9|Iteration 439|reward:  266.0|last_reward_at:  199|Elapsed Time: 0:00:13||\n",
      "Episode 9|Iteration 444|reward:  266.0|last_reward_at:  199|Elapsed Time: 0:00:13||\n",
      "Episode 9|Iteration 449|reward:  266.0|last_reward_at:  199|Elapsed Time: 0:00:13||\n",
      "Episode 9|Iteration 453|reward:  266.0|last_reward_at:  199|Elapsed Time: 0:00:14||\n",
      "Episode 9|Iteration 456|reward:  266.0|last_reward_at:  199|Elapsed Time: 0:00:14||\n",
      "Episode 9|Iteration 459|reward:  266.0|last_reward_at:  199|Elapsed Time: 0:00:14||\n",
      "Episode 9|Iteration 463|reward:  266.0|last_reward_at:  199|Elapsed Time: 0:00:14||\n",
      "Episode 9|Iteration 467|reward:  266.0|last_reward_at:  199|Elapsed Time: 0:00:14||\n",
      "Episode 9|Iteration 471|reward:  266.0|last_reward_at:  199|Elapsed Time: 0:00:14||\n",
      "Episode 9|Iteration 473|reward:  266.0|last_reward_at:  199|Elapsed Time: 0:00:14||\n",
      "Episode 9|Iteration 476|reward:  266.0|last_reward_at:  199|Elapsed Time: 0:00:14||\n",
      "Episode 9|Iteration 479|reward:  266.0|last_reward_at:  199|Elapsed Time: 0:00:14||\n",
      "Episode 9|Iteration 481|reward:  272.0|last_reward_at:  199|Elapsed Time: 0:00:14||\n",
      "Episode 9|Iteration 481|reward:  272.0|last_reward_at:  481|Elapsed Time: 0:00:14||\n",
      "Episode 9|Iteration 484|reward:  272.0|last_reward_at:  481|Elapsed Time: 0:00:15||\n",
      "Episode 9|Iteration 487|reward:  272.0|last_reward_at:  481|Elapsed Time: 0:00:15||\n",
      "Episode 9|Iteration 489|reward:  272.0|last_reward_at:  481|Elapsed Time: 0:00:15||\n",
      "Episode 9|Iteration 492|reward:  272.0|last_reward_at:  481|Elapsed Time: 0:00:15||\n",
      "Episode 9|Iteration 494|reward:  272.0|last_reward_at:  481|Elapsed Time: 0:00:15||\n",
      "Episode 9|Iteration 496|reward:  272.0|last_reward_at:  481|Elapsed Time: 0:00:15||\n",
      "Episode 9|Iteration 499|reward:  272.0|last_reward_at:  481|Elapsed Time: 0:00:15||\n",
      "Episode 9|Iteration 501|reward:  272.0|last_reward_at:  481|Elapsed Time: 0:00:15||\n",
      "Episode 9|Iteration 502|reward:  272.0|last_reward_at:  481|Elapsed Time: 0:00:15||\n",
      "Episode 9|Iteration 503|reward:  272.0|last_reward_at:  481|Elapsed Time: 0:00:16||\n",
      "Episode 9|Iteration 505|reward:  272.0|last_reward_at:  481|Elapsed Time: 0:00:16||\n",
      "Episode 9|Iteration 508|reward:  272.0|last_reward_at:  481|Elapsed Time: 0:00:16||\n",
      "Episode 9|Iteration 511|reward:  272.0|last_reward_at:  481|Elapsed Time: 0:00:16||\n",
      "Episode 9|Iteration 513|reward:  272.0|last_reward_at:  481|Elapsed Time: 0:00:16||\n",
      "Episode 9|Iteration 515|reward:  272.0|last_reward_at:  481|Elapsed Time: 0:00:16||\n",
      "Episode 9|Iteration 518|reward:  272.0|last_reward_at:  481|Elapsed Time: 0:00:16||\n",
      "Episode 9|Iteration 520|reward:  272.0|last_reward_at:  481|Elapsed Time: 0:00:17||\n",
      "Episode 9|Iteration 521|reward:  272.0|last_reward_at:  481|Elapsed Time: 0:00:17||\n",
      "Episode 9|Iteration 524|reward:  272.0|last_reward_at:  481|Elapsed Time: 0:00:17||\n",
      "Episode 9|Iteration 529|reward:  272.0|last_reward_at:  481|Elapsed Time: 0:00:17||\n",
      "Episode 9|Iteration 532|reward:  272.0|last_reward_at:  481|Elapsed Time: 0:00:17||\n",
      "Episode 9|Iteration 535|reward:  272.0|last_reward_at:  481|Elapsed Time: 0:00:17||\n",
      "Episode 9|Iteration 539|reward:  272.0|last_reward_at:  481|Elapsed Time: 0:00:17||\n",
      "Episode 9|Iteration 544|reward:  272.0|last_reward_at:  481|Elapsed Time: 0:00:17||\n",
      "Episode 9|Iteration 547|reward:  272.0|last_reward_at:  481|Elapsed Time: 0:00:17||\n",
      "Episode 9|Iteration 551|reward:  272.0|last_reward_at:  481|Elapsed Time: 0:00:18||\n",
      "Episode 9|Iteration 555|reward:  272.0|last_reward_at:  481|Elapsed Time: 0:00:18||\n",
      "Episode 9|Iteration 558|reward:  272.0|last_reward_at:  481|Elapsed Time: 0:00:18||\n",
      "Episode 9|Iteration 562|reward:  272.0|last_reward_at:  481|Elapsed Time: 0:00:18||\n",
      "Episode 9|Iteration 566|reward:  272.0|last_reward_at:  481|Elapsed Time: 0:00:18||\n",
      "Episode 9|Iteration 570|reward:  272.0|last_reward_at:  481|Elapsed Time: 0:00:18||\n",
      "Episode 9|Iteration 573|reward:  272.0|last_reward_at:  481|Elapsed Time: 0:00:18||\n",
      "Episode 9|Iteration 577|reward:  272.0|last_reward_at:  481|Elapsed Time: 0:00:18||\n",
      "Episode 9|Iteration 582|reward:  272.0|last_reward_at:  481|Elapsed Time: 0:00:18||\n",
      "Episode 9|Iteration 587|reward:  272.0|last_reward_at:  481|Elapsed Time: 0:00:19||\n",
      "Episode 9|Iteration 592|reward:  272.0|last_reward_at:  481|Elapsed Time: 0:00:19||\n",
      "Episode 9|Iteration 596|reward:  272.0|last_reward_at:  481|Elapsed Time: 0:00:19||\n",
      "Episode 9|Iteration 600|reward:  272.0|last_reward_at:  481|Elapsed Time: 0:00:19||\n",
      "Episode 9|Iteration 600|reward:  272.0|last_reward_at:  481|Elapsed Time: 0:00:19||\n"
     ]
    },
    {
     "name": "stdout",
     "output_type": "stream",
     "text": [
      "  Episode 9 stopped at t=600 \n",
      "  Breakdown [Reward/NoReward (Success rate)]\n",
      "    explore-local: 0/43 (0.00)\n",
      "    explore-remote: 5/132 (0.04)\n",
      "    explore-connect: 0/97 (0.00)\n",
      "    exploit-local: 2/3 (0.40)\n",
      "    exploit-remote: 3/231 (0.01)\n",
      "    exploit-connect: 3/81 (0.04)\n",
      "  exploit deflected to exploration: 26\n",
      "  ## Episode: 10/10 'DQL' ϵ=0.3717, γ=0.15, lr=0.01, replaymemory=10000,\n",
      "batch=256, target_update=5\n"
     ]
    },
    {
     "name": "stderr",
     "output_type": "stream",
     "text": [
      "Episode 10|Iteration 0|reward: ------|last_reward_at: ----|Elapsed Time: 0:00:00||\n",
      "Episode 10|Iteration 1|reward:    6.0|last_reward_at: ----|Elapsed Time: 0:00:00||\n",
      "Episode 10|Iteration 1|reward:    6.0|last_reward_at:    1|Elapsed Time: 0:00:00||\n",
      "Episode 10|Iteration 6|reward:    6.0|last_reward_at:    1|Elapsed Time: 0:00:00||\n",
      "Episode 10|Iteration 7|reward:   12.0|last_reward_at:    1|Elapsed Time: 0:00:00||\n",
      "Episode 10|Iteration 7|reward:   12.0|last_reward_at:    7|Elapsed Time: 0:00:00||\n",
      "Episode 10|Iteration 11|reward:   12.0|last_reward_at:    7|Elapsed Time: 0:00:00||\n",
      "Episode 10|Iteration 14|reward:   12.0|last_reward_at:    7|Elapsed Time: 0:00:00||\n",
      "Episode 10|Iteration 16|reward:   12.0|last_reward_at:    7|Elapsed Time: 0:00:00||\n",
      "Episode 10|Iteration 18|reward:   12.0|last_reward_at:    7|Elapsed Time: 0:00:00||\n",
      "Episode 10|Iteration 19|reward:   18.0|last_reward_at:    7|Elapsed Time: 0:00:00||\n",
      "Episode 10|Iteration 19|reward:   18.0|last_reward_at:   19|Elapsed Time: 0:00:00||\n",
      "Episode 10|Iteration 23|reward:   18.0|last_reward_at:   19|Elapsed Time: 0:00:00||\n",
      "Episode 10|Iteration 27|reward:   18.0|last_reward_at:   19|Elapsed Time: 0:00:00||\n",
      "Episode 10|Iteration 30|reward:   18.0|last_reward_at:   19|Elapsed Time: 0:00:00||\n",
      "Episode 10|Iteration 32|reward:   18.0|last_reward_at:   19|Elapsed Time: 0:00:01||\n",
      "Episode 10|Iteration 35|reward:   24.0|last_reward_at:   19|Elapsed Time: 0:00:01||\n",
      "Episode 10|Iteration 35|reward:   24.0|last_reward_at:   35|Elapsed Time: 0:00:01||\n",
      "Episode 10|Iteration 38|reward:   24.0|last_reward_at:   35|Elapsed Time: 0:00:01||\n",
      "Episode 10|Iteration 40|reward:   24.0|last_reward_at:   35|Elapsed Time: 0:00:01||\n",
      "Episode 10|Iteration 42|reward:   33.0|last_reward_at:   35|Elapsed Time: 0:00:01||\n",
      "Episode 10|Iteration 42|reward:   33.0|last_reward_at:   42|Elapsed Time: 0:00:01||\n",
      "Episode 10|Iteration 45|reward:   33.0|last_reward_at:   42|Elapsed Time: 0:00:01||\n",
      "Episode 10|Iteration 49|reward:   33.0|last_reward_at:   42|Elapsed Time: 0:00:01||\n",
      "Episode 10|Iteration 53|reward:   33.0|last_reward_at:   42|Elapsed Time: 0:00:01||\n",
      "Episode 10|Iteration 58|reward:   33.0|last_reward_at:   42|Elapsed Time: 0:00:01||\n",
      "Episode 10|Iteration 61|reward:   33.0|last_reward_at:   42|Elapsed Time: 0:00:01||\n",
      "Episode 10|Iteration 64|reward:   33.0|last_reward_at:   42|Elapsed Time: 0:00:01||\n",
      "Episode 10|Iteration 69|reward:   33.0|last_reward_at:   42|Elapsed Time: 0:00:02||\n",
      "Episode 10|Iteration 73|reward:   33.0|last_reward_at:   42|Elapsed Time: 0:00:02||\n",
      "Episode 10|Iteration 76|reward:   33.0|last_reward_at:   42|Elapsed Time: 0:00:02||\n",
      "Episode 10|Iteration 79|reward:   33.0|last_reward_at:   42|Elapsed Time: 0:00:02||\n",
      "Episode 10|Iteration 82|reward:   33.0|last_reward_at:   42|Elapsed Time: 0:00:02||\n",
      "Episode 10|Iteration 86|reward:   33.0|last_reward_at:   42|Elapsed Time: 0:00:02||\n",
      "Episode 10|Iteration 90|reward:   33.0|last_reward_at:   42|Elapsed Time: 0:00:02||\n",
      "Episode 10|Iteration 92|reward:   33.0|last_reward_at:   42|Elapsed Time: 0:00:02||\n",
      "Episode 10|Iteration 95|reward:   33.0|last_reward_at:   42|Elapsed Time: 0:00:02||\n",
      "Episode 10|Iteration 99|reward:   33.0|last_reward_at:   42|Elapsed Time: 0:00:03||\n",
      "Episode 10|Iteration 103|reward:   33.0|last_reward_at:   42|Elapsed Time: 0:00:03||\n",
      "Episode 10|Iteration 104|reward:  133.0|last_reward_at:   42|Elapsed Time: 0:00:03||\n",
      "Episode 10|Iteration 104|reward:  133.0|last_reward_at:  104|Elapsed Time: 0:00:03||\n",
      "Episode 10|Iteration 106|reward:  133.0|last_reward_at:  104|Elapsed Time: 0:00:03||\n",
      "Episode 10|Iteration 110|reward:  133.0|last_reward_at:  104|Elapsed Time: 0:00:03||\n",
      "Episode 10|Iteration 113|reward:  133.0|last_reward_at:  104|Elapsed Time: 0:00:03||\n",
      "Episode 10|Iteration 118|reward:  133.0|last_reward_at:  104|Elapsed Time: 0:00:03||\n",
      "Episode 10|Iteration 122|reward:  133.0|last_reward_at:  104|Elapsed Time: 0:00:03||\n",
      "Episode 10|Iteration 123|reward:  133.0|last_reward_at:  104|Elapsed Time: 0:00:03||\n",
      "Episode 10|Iteration 127|reward:  133.0|last_reward_at:  104|Elapsed Time: 0:00:04||\n",
      "Episode 10|Iteration 132|reward:  133.0|last_reward_at:  104|Elapsed Time: 0:00:04||\n",
      "Episode 10|Iteration 137|reward:  133.0|last_reward_at:  104|Elapsed Time: 0:00:04||\n",
      "Episode 10|Iteration 141|reward:  133.0|last_reward_at:  104|Elapsed Time: 0:00:04||\n",
      "Episode 10|Iteration 145|reward:  133.0|last_reward_at:  104|Elapsed Time: 0:00:04||\n",
      "Episode 10|Iteration 149|reward:  142.0|last_reward_at:  104|Elapsed Time: 0:00:04||\n",
      "Episode 10|Iteration 149|reward:  142.0|last_reward_at:  149|Elapsed Time: 0:00:04||\n",
      "Episode 10|Iteration 150|reward:  192.0|last_reward_at:  149|Elapsed Time: 0:00:04||\n",
      "Episode 10|Iteration 150|reward:  192.0|last_reward_at:  150|Elapsed Time: 0:00:04||\n",
      "Episode 10|Iteration 153|reward:  192.0|last_reward_at:  150|Elapsed Time: 0:00:04||\n",
      "Episode 10|Iteration 156|reward:  192.0|last_reward_at:  150|Elapsed Time: 0:00:04||\n",
      "Episode 10|Iteration 158|reward:  192.0|last_reward_at:  150|Elapsed Time: 0:00:04||\n",
      "Episode 10|Iteration 160|reward:  192.0|last_reward_at:  150|Elapsed Time: 0:00:05||\n",
      "Episode 10|Iteration 161|reward:  192.0|last_reward_at:  150|Elapsed Time: 0:00:05||\n",
      "Episode 10|Iteration 165|reward:  192.0|last_reward_at:  150|Elapsed Time: 0:00:05||\n",
      "Episode 10|Iteration 168|reward:  192.0|last_reward_at:  150|Elapsed Time: 0:00:05||\n",
      "Episode 10|Iteration 171|reward:  192.0|last_reward_at:  150|Elapsed Time: 0:00:05||\n",
      "Episode 10|Iteration 175|reward:  192.0|last_reward_at:  150|Elapsed Time: 0:00:05||\n",
      "Episode 10|Iteration 179|reward:  192.0|last_reward_at:  150|Elapsed Time: 0:00:05||\n",
      "Episode 10|Iteration 183|reward:  192.0|last_reward_at:  150|Elapsed Time: 0:00:05||\n",
      "Episode 10|Iteration 186|reward:  192.0|last_reward_at:  150|Elapsed Time: 0:00:05||\n",
      "Episode 10|Iteration 190|reward:  192.0|last_reward_at:  150|Elapsed Time: 0:00:05||\n",
      "Episode 10|Iteration 194|reward:  192.0|last_reward_at:  150|Elapsed Time: 0:00:06||\n",
      "Episode 10|Iteration 198|reward:  192.0|last_reward_at:  150|Elapsed Time: 0:00:06||\n",
      "Episode 10|Iteration 201|reward:  192.0|last_reward_at:  150|Elapsed Time: 0:00:06||\n",
      "Episode 10|Iteration 205|reward:  192.0|last_reward_at:  150|Elapsed Time: 0:00:06||\n",
      "Episode 10|Iteration 209|reward:  192.0|last_reward_at:  150|Elapsed Time: 0:00:06||\n",
      "Episode 10|Iteration 213|reward:  192.0|last_reward_at:  150|Elapsed Time: 0:00:06||\n",
      "Episode 10|Iteration 217|reward:  192.0|last_reward_at:  150|Elapsed Time: 0:00:06||\n",
      "Episode 10|Iteration 220|reward:  192.0|last_reward_at:  150|Elapsed Time: 0:00:06||\n",
      "Episode 10|Iteration 225|reward:  192.0|last_reward_at:  150|Elapsed Time: 0:00:06||\n",
      "Episode 10|Iteration 228|reward:  192.0|last_reward_at:  150|Elapsed Time: 0:00:06||\n",
      "Episode 10|Iteration 231|reward:  192.0|last_reward_at:  150|Elapsed Time: 0:00:07||\n",
      "Episode 10|Iteration 236|reward:  192.0|last_reward_at:  150|Elapsed Time: 0:00:07||\n",
      "Episode 10|Iteration 239|reward:  198.0|last_reward_at:  150|Elapsed Time: 0:00:07||\n",
      "Episode 10|Iteration 239|reward:  198.0|last_reward_at:  239|Elapsed Time: 0:00:07||\n",
      "Episode 10|Iteration 243|reward:  198.0|last_reward_at:  239|Elapsed Time: 0:00:07||\n",
      "Episode 10|Iteration 247|reward:  198.0|last_reward_at:  239|Elapsed Time: 0:00:07||\n",
      "Episode 10|Iteration 251|reward:  198.0|last_reward_at:  239|Elapsed Time: 0:00:07||\n",
      "Episode 10|Iteration 255|reward:  198.0|last_reward_at:  239|Elapsed Time: 0:00:07||\n",
      "Episode 10|Iteration 259|reward:  198.0|last_reward_at:  239|Elapsed Time: 0:00:07||\n",
      "Episode 10|Iteration 262|reward:  198.0|last_reward_at:  239|Elapsed Time: 0:00:07||\n",
      "Episode 10|Iteration 266|reward:  198.0|last_reward_at:  239|Elapsed Time: 0:00:07||\n",
      "Episode 10|Iteration 269|reward:  198.0|last_reward_at:  239|Elapsed Time: 0:00:08||\n",
      "Episode 10|Iteration 273|reward:  198.0|last_reward_at:  239|Elapsed Time: 0:00:08||\n",
      "Episode 10|Iteration 277|reward:  198.0|last_reward_at:  239|Elapsed Time: 0:00:08||\n",
      "Episode 10|Iteration 281|reward:  198.0|last_reward_at:  239|Elapsed Time: 0:00:08||\n",
      "Episode 10|Iteration 285|reward:  198.0|last_reward_at:  239|Elapsed Time: 0:00:08||\n",
      "Episode 10|Iteration 289|reward:  198.0|last_reward_at:  239|Elapsed Time: 0:00:08||\n",
      "Episode 10|Iteration 292|reward:  198.0|last_reward_at:  239|Elapsed Time: 0:00:08||\n",
      "Episode 10|Iteration 297|reward:  198.0|last_reward_at:  239|Elapsed Time: 0:00:08||\n",
      "Episode 10|Iteration 300|reward:  198.0|last_reward_at:  239|Elapsed Time: 0:00:08||\n",
      "Episode 10|Iteration 303|reward:  198.0|last_reward_at:  239|Elapsed Time: 0:00:09||\n",
      "Episode 10|Iteration 307|reward:  198.0|last_reward_at:  239|Elapsed Time: 0:00:09||\n",
      "Episode 10|Iteration 311|reward:  198.0|last_reward_at:  239|Elapsed Time: 0:00:09||\n",
      "Episode 10|Iteration 315|reward:  198.0|last_reward_at:  239|Elapsed Time: 0:00:09||\n",
      "Episode 10|Iteration 319|reward:  198.0|last_reward_at:  239|Elapsed Time: 0:00:09||\n",
      "Episode 10|Iteration 323|reward:  198.0|last_reward_at:  239|Elapsed Time: 0:00:09||\n",
      "Episode 10|Iteration 327|reward:  198.0|last_reward_at:  239|Elapsed Time: 0:00:09||\n",
      "Episode 10|Iteration 331|reward:  198.0|last_reward_at:  239|Elapsed Time: 0:00:09||\n",
      "Episode 10|Iteration 335|reward:  198.0|last_reward_at:  239|Elapsed Time: 0:00:09||\n",
      "Episode 10|Iteration 338|reward:  198.0|last_reward_at:  239|Elapsed Time: 0:00:09||\n",
      "Episode 10|Iteration 342|reward:  198.0|last_reward_at:  239|Elapsed Time: 0:00:09||\n",
      "Episode 10|Iteration 346|reward:  198.0|last_reward_at:  239|Elapsed Time: 0:00:10||\n",
      "Episode 10|Iteration 350|reward:  198.0|last_reward_at:  239|Elapsed Time: 0:00:10||\n",
      "Episode 10|Iteration 353|reward:  198.0|last_reward_at:  239|Elapsed Time: 0:00:10||\n",
      "Episode 10|Iteration 355|reward:  198.0|last_reward_at:  239|Elapsed Time: 0:00:10||\n",
      "Episode 10|Iteration 356|reward:  198.0|last_reward_at:  239|Elapsed Time: 0:00:10||\n",
      "Episode 10|Iteration 358|reward:  198.0|last_reward_at:  239|Elapsed Time: 0:00:10||\n",
      "Episode 10|Iteration 363|reward:  198.0|last_reward_at:  239|Elapsed Time: 0:00:10||\n",
      "Episode 10|Iteration 368|reward:  198.0|last_reward_at:  239|Elapsed Time: 0:00:10||\n",
      "Episode 10|Iteration 373|reward:  198.0|last_reward_at:  239|Elapsed Time: 0:00:11||\n",
      "Episode 10|Iteration 377|reward:  198.0|last_reward_at:  239|Elapsed Time: 0:00:11||\n",
      "Episode 10|Iteration 380|reward:  198.0|last_reward_at:  239|Elapsed Time: 0:00:11||\n",
      "Episode 10|Iteration 383|reward:  198.0|last_reward_at:  239|Elapsed Time: 0:00:11||\n",
      "Episode 10|Iteration 387|reward:  198.0|last_reward_at:  239|Elapsed Time: 0:00:11||\n",
      "Episode 10|Iteration 392|reward:  198.0|last_reward_at:  239|Elapsed Time: 0:00:11||\n",
      "Episode 10|Iteration 395|reward:  198.0|last_reward_at:  239|Elapsed Time: 0:00:11||\n",
      "Episode 10|Iteration 398|reward:  198.0|last_reward_at:  239|Elapsed Time: 0:00:11||\n",
      "Episode 10|Iteration 402|reward:  198.0|last_reward_at:  239|Elapsed Time: 0:00:11||\n",
      "Episode 10|Iteration 407|reward:  198.0|last_reward_at:  239|Elapsed Time: 0:00:11||\n",
      "Episode 10|Iteration 411|reward:  198.0|last_reward_at:  239|Elapsed Time: 0:00:12||\n",
      "Episode 10|Iteration 414|reward:  198.0|last_reward_at:  239|Elapsed Time: 0:00:12||\n",
      "Episode 10|Iteration 418|reward:  198.0|last_reward_at:  239|Elapsed Time: 0:00:12||\n",
      "Episode 10|Iteration 422|reward:  198.0|last_reward_at:  239|Elapsed Time: 0:00:12||\n",
      "Episode 10|Iteration 426|reward:  198.0|last_reward_at:  239|Elapsed Time: 0:00:12||\n",
      "Episode 10|Iteration 429|reward:  198.0|last_reward_at:  239|Elapsed Time: 0:00:12||\n",
      "Episode 10|Iteration 433|reward:  198.0|last_reward_at:  239|Elapsed Time: 0:00:12||\n",
      "Episode 10|Iteration 435|reward:  198.0|last_reward_at:  239|Elapsed Time: 0:00:12||\n",
      "Episode 10|Iteration 437|reward:  198.0|last_reward_at:  239|Elapsed Time: 0:00:12||\n",
      "Episode 10|Iteration 441|reward:  198.0|last_reward_at:  239|Elapsed Time: 0:00:12||\n",
      "Episode 10|Iteration 445|reward:  198.0|last_reward_at:  239|Elapsed Time: 0:00:13||\n",
      "Episode 10|Iteration 449|reward:  198.0|last_reward_at:  239|Elapsed Time: 0:00:13||\n",
      "Episode 10|Iteration 453|reward:  198.0|last_reward_at:  239|Elapsed Time: 0:00:13||\n",
      "Episode 10|Iteration 455|reward:  198.0|last_reward_at:  239|Elapsed Time: 0:00:13||\n",
      "Episode 10|Iteration 458|reward:  198.0|last_reward_at:  239|Elapsed Time: 0:00:13||\n",
      "Episode 10|Iteration 462|reward:  198.0|last_reward_at:  239|Elapsed Time: 0:00:13||\n",
      "Episode 10|Iteration 466|reward:  198.0|last_reward_at:  239|Elapsed Time: 0:00:13||\n",
      "Episode 10|Iteration 470|reward:  198.0|last_reward_at:  239|Elapsed Time: 0:00:13||\n",
      "Episode 10|Iteration 474|reward:  198.0|last_reward_at:  239|Elapsed Time: 0:00:13||\n",
      "Episode 10|Iteration 478|reward:  198.0|last_reward_at:  239|Elapsed Time: 0:00:14||\n",
      "Episode 10|Iteration 482|reward:  198.0|last_reward_at:  239|Elapsed Time: 0:00:14||\n",
      "Episode 10|Iteration 486|reward:  198.0|last_reward_at:  239|Elapsed Time: 0:00:14||\n",
      "Episode 10|Iteration 490|reward:  198.0|last_reward_at:  239|Elapsed Time: 0:00:14||\n",
      "Episode 10|Iteration 493|reward:  207.0|last_reward_at:  239|Elapsed Time: 0:00:14||\n",
      "Episode 10|Iteration 493|reward:  207.0|last_reward_at:  493|Elapsed Time: 0:00:14||\n",
      "Episode 10|Iteration 497|reward:  207.0|last_reward_at:  493|Elapsed Time: 0:00:14||\n",
      "Episode 10|Iteration 501|reward:  207.0|last_reward_at:  493|Elapsed Time: 0:00:14||\n",
      "Episode 10|Iteration 504|reward:  207.0|last_reward_at:  493|Elapsed Time: 0:00:14||\n",
      "Episode 10|Iteration 506|reward:  257.0|last_reward_at:  493|Elapsed Time: 0:00:14||\n",
      "Episode 10|Iteration 506|reward:  257.0|last_reward_at:  506|Elapsed Time: 0:00:14||\n",
      "Episode 10|Iteration 509|reward:  257.0|last_reward_at:  506|Elapsed Time: 0:00:14||\n",
      "Episode 10|Iteration 511|reward:  257.0|last_reward_at:  506|Elapsed Time: 0:00:15||\n",
      "Episode 10|Iteration 514|reward:  257.0|last_reward_at:  506|Elapsed Time: 0:00:15||\n",
      "Episode 10|Iteration 517|reward:  257.0|last_reward_at:  506|Elapsed Time: 0:00:15||\n",
      "Episode 10|Iteration 520|reward:  257.0|last_reward_at:  506|Elapsed Time: 0:00:15||\n",
      "Episode 10|Iteration 524|reward:  257.0|last_reward_at:  506|Elapsed Time: 0:00:15||\n",
      "Episode 10|Iteration 528|reward:  257.0|last_reward_at:  506|Elapsed Time: 0:00:15||\n",
      "Episode 10|Iteration 531|reward:  257.0|last_reward_at:  506|Elapsed Time: 0:00:15||\n",
      "Episode 10|Iteration 535|reward:  257.0|last_reward_at:  506|Elapsed Time: 0:00:15||\n",
      "Episode 10|Iteration 539|reward:  257.0|last_reward_at:  506|Elapsed Time: 0:00:15||\n",
      "Episode 10|Iteration 543|reward:  257.0|last_reward_at:  506|Elapsed Time: 0:00:15||\n",
      "Episode 10|Iteration 547|reward:  257.0|last_reward_at:  506|Elapsed Time: 0:00:16||\n",
      "Episode 10|Iteration 547|reward:  257.0|last_reward_at:  506|Elapsed Time: 0:00:16||\n",
      "Episode 10|Iteration 549|reward:  257.0|last_reward_at:  506|Elapsed Time: 0:00:16||\n",
      "Episode 10|Iteration 553|reward:  257.0|last_reward_at:  506|Elapsed Time: 0:00:16||\n",
      "Episode 10|Iteration 557|reward:  257.0|last_reward_at:  506|Elapsed Time: 0:00:16||\n",
      "Episode 10|Iteration 562|reward:  257.0|last_reward_at:  506|Elapsed Time: 0:00:16||\n",
      "Episode 10|Iteration 567|reward:  257.0|last_reward_at:  506|Elapsed Time: 0:00:16||\n",
      "Episode 10|Iteration 570|reward:  257.0|last_reward_at:  506|Elapsed Time: 0:00:16||\n",
      "Episode 10|Iteration 573|reward:  257.0|last_reward_at:  506|Elapsed Time: 0:00:16||\n",
      "Episode 10|Iteration 578|reward:  257.0|last_reward_at:  506|Elapsed Time: 0:00:17||\n",
      "Episode 10|Iteration 581|reward:  257.0|last_reward_at:  506|Elapsed Time: 0:00:17||\n",
      "Episode 10|Iteration 582|reward:  263.0|last_reward_at:  506|Elapsed Time: 0:00:17||\n",
      "Episode 10|Iteration 582|reward:  263.0|last_reward_at:  582|Elapsed Time: 0:00:17||\n",
      "Episode 10|Iteration 585|reward:  263.0|last_reward_at:  582|Elapsed Time: 0:00:17||\n",
      "Episode 10|Iteration 588|reward:  263.0|last_reward_at:  582|Elapsed Time: 0:00:17||\n",
      "Episode 10|Iteration 592|reward:  263.0|last_reward_at:  582|Elapsed Time: 0:00:17||\n",
      "Episode 10|Iteration 594|reward:  263.0|last_reward_at:  582|Elapsed Time: 0:00:17||\n",
      "Episode 10|Iteration 598|reward:  263.0|last_reward_at:  582|Elapsed Time: 0:00:17||\n",
      "Episode 10|Iteration 600|reward:  263.0|last_reward_at:  582|Elapsed Time: 0:00:17||\n"
     ]
    },
    {
     "name": "stdout",
     "output_type": "stream",
     "text": [
      "  Episode 10 stopped at t=600 \n",
      "  Breakdown [Reward/NoReward (Success rate)]\n",
      "    explore-local: 0/37 (0.00)\n",
      "    explore-remote: 2/91 (0.02)\n",
      "    explore-connect: 1/103 (0.01)\n",
      "    exploit-local: 1/0 (1.00)\n",
      "    exploit-remote: 6/291 (0.02)\n",
      "    exploit-connect: 2/66 (0.03)\n",
      "  exploit deflected to exploration: 35\n",
      "simulation ended\n"
     ]
    },
    {
     "data": {
      "image/png": "[encoded data removed]",
      "text/plain": [
       "<Figure size 640x480 with 1 Axes>"
      ]
     },
     "metadata": {},
     "output_type": "display_data"
    }
   ],
   "source": [
    "dqn_with_defender = learner.epsilon_greedy_search(\n",
    "    cyberbattle_gym_env=cyberbattlechain_defender,\n",
    "    environment_properties=ep,\n",
    "    learner=dqla.DeepQLearnerPolicy(\n",
    "        ep=ep,\n",
    "        gamma=0.15,\n",
    "        replay_memory_size=10000,\n",
    "        target_update=5,\n",
    "        batch_size=256,\n",
    "        learning_rate=0.01),\n",
    "    episode_count=training_episode_count,\n",
    "    iteration_count=iteration_count,\n",
    "    epsilon=0.90,\n",
    "    render=False,\n",
    "    epsilon_exponential_decay=5000,\n",
    "    epsilon_minimum=0.10,\n",
    "    verbosity=Verbosity.Quiet,\n",
    "    title=\"DQL\"\n",
    ")"
   ]
  },
  {
   "cell_type": "code",
   "execution_count": 7,
   "id": "billion-transport",
   "metadata": {
    "execution": {
     "iopub.execute_input": "2021-09-06T21:31:16.271747Z",
     "iopub.status.busy": "2021-09-06T21:31:16.271144Z",
     "iopub.status.idle": "2021-09-06T21:31:35.499361Z",
     "shell.execute_reply": "2021-09-06T21:31:35.498838Z"
    },
    "papermill": {
     "duration": 19.58009,
     "end_time": "2021-09-06T21:31:35.499491",
     "exception": false,
     "start_time": "2021-09-06T21:31:15.919401",
     "status": "completed"
    },
    "tags": []
   },
   "outputs": [
    {
     "name": "stdout",
     "output_type": "stream",
     "text": [
      "###### Exploiting DQL\n",
      "Learning with: episode_count=10,iteration_count=600,ϵ=0.0,ϵ_min=0.0, γ=0.15, lr=0.01, replaymemory=10000,\n",
      "batch=256, target_update=5\n",
      "  ## Episode: 1/10 'Exploiting DQL' ϵ=0.0000, γ=0.15, lr=0.01, replaymemory=10000,\n",
      "batch=256, target_update=5\n"
     ]
    },
    {
     "name": "stderr",
     "output_type": "stream",
     "text": [
      "Episode 1|Iteration 0|reward: ------|last_reward_at: ----|Elapsed Time: 0:00:00||\n",
      "Episode 1|Iteration 1|reward:    6.0|last_reward_at: ----|Elapsed Time: 0:00:00||\n",
      "Episode 1|Iteration 1|reward:    6.0|last_reward_at:    1|Elapsed Time: 0:00:00||\n",
      "Episode 1|Iteration 3|reward:   12.0|last_reward_at:    1|Elapsed Time: 0:00:00||\n",
      "Episode 1|Iteration 3|reward:   12.0|last_reward_at:    3|Elapsed Time: 0:00:00||\n",
      "Episode 1|Iteration 5|reward:   12.0|last_reward_at:    3|Elapsed Time: 0:00:00||\n",
      "Episode 1|Iteration 6|reward:   12.0|last_reward_at:    3|Elapsed Time: 0:00:00||\n",
      "Episode 1|Iteration 7|reward:   12.0|last_reward_at:    3|Elapsed Time: 0:00:00||\n",
      "Episode 1|Iteration 9|reward:   12.0|last_reward_at:    3|Elapsed Time: 0:00:01||\n",
      "Episode 1|Iteration 12|reward:   12.0|last_reward_at:    3|Elapsed Time: 0:00:01||\n",
      "Episode 1|Iteration 13|reward:   12.0|last_reward_at:    3|Elapsed Time: 0:00:01||\n",
      "Episode 1|Iteration 14|reward:   12.0|last_reward_at:    3|Elapsed Time: 0:00:01||\n",
      "Episode 1|Iteration 16|reward:   12.0|last_reward_at:    3|Elapsed Time: 0:00:01||\n",
      "Episode 1|Iteration 17|reward:   12.0|last_reward_at:    3|Elapsed Time: 0:00:01||\n",
      "Episode 1|Iteration 18|reward:   18.0|last_reward_at:    3|Elapsed Time: 0:00:01||\n",
      "Episode 1|Iteration 18|reward:   18.0|last_reward_at:   18|Elapsed Time: 0:00:01||\n",
      "Episode 1|Iteration 19|reward:   18.0|last_reward_at:   18|Elapsed Time: 0:00:01||\n",
      "Episode 1|Iteration 21|reward:   18.0|last_reward_at:   18|Elapsed Time: 0:00:01||\n",
      "Episode 1|Iteration 25|reward:   18.0|last_reward_at:   18|Elapsed Time: 0:00:02||\n",
      "Episode 1|Iteration 28|reward:   18.0|last_reward_at:   18|Elapsed Time: 0:00:02||\n",
      "Episode 1|Iteration 30|reward:   18.0|last_reward_at:   18|Elapsed Time: 0:00:02||\n",
      "Episode 1|Iteration 32|reward:   18.0|last_reward_at:   18|Elapsed Time: 0:00:02||\n",
      "Episode 1|Iteration 35|reward:   27.0|last_reward_at:   18|Elapsed Time: 0:00:02||\n",
      "Episode 1|Iteration 35|reward:   27.0|last_reward_at:   35|Elapsed Time: 0:00:02||\n",
      "Episode 1|Iteration 38|reward:   27.0|last_reward_at:   35|Elapsed Time: 0:00:02||\n",
      "Episode 1|Iteration 40|reward:   27.0|last_reward_at:   35|Elapsed Time: 0:00:02||\n",
      "Episode 1|Iteration 42|reward:   27.0|last_reward_at:   35|Elapsed Time: 0:00:02||\n",
      "Episode 1|Iteration 45|reward:   27.0|last_reward_at:   35|Elapsed Time: 0:00:02||\n",
      "Episode 1|Iteration 49|reward:  127.0|last_reward_at:   35|Elapsed Time: 0:00:03||\n",
      "Episode 1|Iteration 49|reward:  127.0|last_reward_at:   49|Elapsed Time: 0:00:03||\n",
      "Episode 1|Iteration 51|reward:  127.0|last_reward_at:   49|Elapsed Time: 0:00:03||\n",
      "Episode 1|Iteration 52|reward:  127.0|last_reward_at:   49|Elapsed Time: 0:00:03||\n",
      "Episode 1|Iteration 53|reward:  127.0|last_reward_at:   49|Elapsed Time: 0:00:03||\n",
      "Episode 1|Iteration 55|reward:  127.0|last_reward_at:   49|Elapsed Time: 0:00:03||\n",
      "Episode 1|Iteration 57|reward:  127.0|last_reward_at:   49|Elapsed Time: 0:00:04||\n",
      "Episode 1|Iteration 58|reward:  127.0|last_reward_at:   49|Elapsed Time: 0:00:04||\n",
      "Episode 1|Iteration 59|reward:  136.0|last_reward_at:   49|Elapsed Time: 0:00:04||\n",
      "Episode 1|Iteration 59|reward:  136.0|last_reward_at:   59|Elapsed Time: 0:00:04||\n",
      "Episode 1|Iteration 63|reward:  136.0|last_reward_at:   59|Elapsed Time: 0:00:04||\n",
      "Episode 1|Iteration 66|reward:  136.0|last_reward_at:   59|Elapsed Time: 0:00:04||\n",
      "Episode 1|Iteration 69|reward:  136.0|last_reward_at:   59|Elapsed Time: 0:00:04||\n",
      "Episode 1|Iteration 72|reward:  136.0|last_reward_at:   59|Elapsed Time: 0:00:04||\n",
      "Episode 1|Iteration 75|reward:  136.0|last_reward_at:   59|Elapsed Time: 0:00:04||\n",
      "Episode 1|Iteration 78|reward:  136.0|last_reward_at:   59|Elapsed Time: 0:00:04||\n",
      "Episode 1|Iteration 80|reward:  145.0|last_reward_at:   59|Elapsed Time: 0:00:04||\n",
      "Episode 1|Iteration 80|reward:  145.0|last_reward_at:   80|Elapsed Time: 0:00:04||\n",
      "Episode 1|Iteration 82|reward:  145.0|last_reward_at:   80|Elapsed Time: 0:00:05||\n",
      "Episode 1|Iteration 83|reward:  195.0|last_reward_at:   80|Elapsed Time: 0:00:05||\n",
      "Episode 1|Iteration 83|reward:  195.0|last_reward_at:   83|Elapsed Time: 0:00:05||\n",
      "Episode 1|Iteration 87|reward:  195.0|last_reward_at:   83|Elapsed Time: 0:00:05||\n",
      "Episode 1|Iteration 91|reward:  195.0|last_reward_at:   83|Elapsed Time: 0:00:05||\n",
      "Episode 1|Iteration 95|reward:  195.0|last_reward_at:   83|Elapsed Time: 0:00:05||\n",
      "Episode 1|Iteration 97|reward:  195.0|last_reward_at:   83|Elapsed Time: 0:00:05||\n",
      "Episode 1|Iteration 99|reward:  195.0|last_reward_at:   83|Elapsed Time: 0:00:05||\n",
      "Episode 1|Iteration 103|reward:  195.0|last_reward_at:   83|Elapsed Time: 0:00:05||\n",
      "Episode 1|Iteration 105|reward:  195.0|last_reward_at:   83|Elapsed Time: 0:00:05||\n",
      "Episode 1|Iteration 107|reward:  195.0|last_reward_at:   83|Elapsed Time: 0:00:06||\n",
      "Episode 1|Iteration 108|reward:  195.0|last_reward_at:   83|Elapsed Time: 0:00:06||\n",
      "Episode 1|Iteration 110|reward:  195.0|last_reward_at:   83|Elapsed Time: 0:00:06||\n",
      "Episode 1|Iteration 112|reward:  195.0|last_reward_at:   83|Elapsed Time: 0:00:06||\n",
      "Episode 1|Iteration 115|reward:  195.0|last_reward_at:   83|Elapsed Time: 0:00:06||\n",
      "Episode 1|Iteration 118|reward:  195.0|last_reward_at:   83|Elapsed Time: 0:00:06||\n",
      "Episode 1|Iteration 122|reward:  195.0|last_reward_at:   83|Elapsed Time: 0:00:06||\n",
      "Episode 1|Iteration 123|reward:  195.0|last_reward_at:   83|Elapsed Time: 0:00:06||\n",
      "Episode 1|Iteration 126|reward:  195.0|last_reward_at:   83|Elapsed Time: 0:00:06||\n",
      "Episode 1|Iteration 128|reward:  195.0|last_reward_at:   83|Elapsed Time: 0:00:07||\n",
      "Episode 1|Iteration 130|reward:  195.0|last_reward_at:   83|Elapsed Time: 0:00:07||\n",
      "Episode 1|Iteration 131|reward:  195.0|last_reward_at:   83|Elapsed Time: 0:00:07||\n",
      "Episode 1|Iteration 133|reward:  195.0|last_reward_at:   83|Elapsed Time: 0:00:07||\n",
      "Episode 1|Iteration 136|reward:  195.0|last_reward_at:   83|Elapsed Time: 0:00:07||\n",
      "Episode 1|Iteration 138|reward:  195.0|last_reward_at:   83|Elapsed Time: 0:00:07||\n",
      "Episode 1|Iteration 139|reward:  201.0|last_reward_at:   83|Elapsed Time: 0:00:07||\n",
      "Episode 1|Iteration 139|reward:  201.0|last_reward_at:  139|Elapsed Time: 0:00:07||\n",
      "Episode 1|Iteration 141|reward:  201.0|last_reward_at:  139|Elapsed Time: 0:00:07||\n",
      "Episode 1|Iteration 144|reward:  201.0|last_reward_at:  139|Elapsed Time: 0:00:07||\n",
      "Episode 1|Iteration 146|reward:  207.0|last_reward_at:  139|Elapsed Time: 0:00:07||\n",
      "Episode 1|Iteration 146|reward:  207.0|last_reward_at:  146|Elapsed Time: 0:00:07||\n",
      "Episode 1|Iteration 149|reward:  207.0|last_reward_at:  146|Elapsed Time: 0:00:08||\n",
      "Episode 1|Iteration 152|reward:  207.0|last_reward_at:  146|Elapsed Time: 0:00:08||\n",
      "Episode 1|Iteration 154|reward:  207.0|last_reward_at:  146|Elapsed Time: 0:00:08||\n",
      "Episode 1|Iteration 157|reward:  207.0|last_reward_at:  146|Elapsed Time: 0:00:08||\n",
      "Episode 1|Iteration 159|reward:  207.0|last_reward_at:  146|Elapsed Time: 0:00:08||\n",
      "Episode 1|Iteration 161|reward:  207.0|last_reward_at:  146|Elapsed Time: 0:00:08||\n",
      "Episode 1|Iteration 164|reward:  207.0|last_reward_at:  146|Elapsed Time: 0:00:08||\n",
      "Episode 1|Iteration 168|reward:  207.0|last_reward_at:  146|Elapsed Time: 0:00:08||\n",
      "Episode 1|Iteration 171|reward:  207.0|last_reward_at:  146|Elapsed Time: 0:00:09||\n",
      "Episode 1|Iteration 175|reward:  207.0|last_reward_at:  146|Elapsed Time: 0:00:09||\n",
      "Episode 1|Iteration 178|reward:  207.0|last_reward_at:  146|Elapsed Time: 0:00:09||\n",
      "Episode 1|Iteration 182|reward:  207.0|last_reward_at:  146|Elapsed Time: 0:00:09||\n",
      "Episode 1|Iteration 185|reward:  207.0|last_reward_at:  146|Elapsed Time: 0:00:09||\n",
      "Episode 1|Iteration 189|reward:  207.0|last_reward_at:  146|Elapsed Time: 0:00:09||\n",
      "Episode 1|Iteration 192|reward:  207.0|last_reward_at:  146|Elapsed Time: 0:00:09||\n",
      "Episode 1|Iteration 196|reward:  207.0|last_reward_at:  146|Elapsed Time: 0:00:09||\n",
      "Episode 1|Iteration 198|reward:  207.0|last_reward_at:  146|Elapsed Time: 0:00:09||\n",
      "Episode 1|Iteration 201|reward:  207.0|last_reward_at:  146|Elapsed Time: 0:00:10||\n",
      "Episode 1|Iteration 205|reward:  207.0|last_reward_at:  146|Elapsed Time: 0:00:10||\n",
      "Episode 1|Iteration 209|reward:  207.0|last_reward_at:  146|Elapsed Time: 0:00:10||\n",
      "Episode 1|Iteration 212|reward:  207.0|last_reward_at:  146|Elapsed Time: 0:00:10||\n",
      "Episode 1|Iteration 215|reward:  207.0|last_reward_at:  146|Elapsed Time: 0:00:10||\n",
      "Episode 1|Iteration 219|reward:  207.0|last_reward_at:  146|Elapsed Time: 0:00:10||\n",
      "Episode 1|Iteration 223|reward:  207.0|last_reward_at:  146|Elapsed Time: 0:00:10||\n",
      "Episode 1|Iteration 227|reward:  207.0|last_reward_at:  146|Elapsed Time: 0:00:10||\n",
      "Episode 1|Iteration 231|reward:  207.0|last_reward_at:  146|Elapsed Time: 0:00:10||\n",
      "Episode 1|Iteration 233|reward:  207.0|last_reward_at:  146|Elapsed Time: 0:00:11||\n",
      "Episode 1|Iteration 236|reward:  207.0|last_reward_at:  146|Elapsed Time: 0:00:11||\n",
      "Episode 1|Iteration 239|reward:  207.0|last_reward_at:  146|Elapsed Time: 0:00:11||\n",
      "Episode 1|Iteration 241|reward:  207.0|last_reward_at:  146|Elapsed Time: 0:00:11||\n",
      "Episode 1|Iteration 244|reward:  207.0|last_reward_at:  146|Elapsed Time: 0:00:11||\n",
      "Episode 1|Iteration 246|reward:  207.0|last_reward_at:  146|Elapsed Time: 0:00:11||\n",
      "Episode 1|Iteration 250|reward:  207.0|last_reward_at:  146|Elapsed Time: 0:00:11||\n",
      "Episode 1|Iteration 253|reward:  207.0|last_reward_at:  146|Elapsed Time: 0:00:11||\n",
      "Episode 1|Iteration 256|reward:  207.0|last_reward_at:  146|Elapsed Time: 0:00:11||\n",
      "Episode 1|Iteration 258|reward:  207.0|last_reward_at:  146|Elapsed Time: 0:00:12||\n",
      "Episode 1|Iteration 262|reward:  207.0|last_reward_at:  146|Elapsed Time: 0:00:12||\n",
      "Episode 1|Iteration 265|reward:  207.0|last_reward_at:  146|Elapsed Time: 0:00:12||\n",
      "Episode 1|Iteration 268|reward:  207.0|last_reward_at:  146|Elapsed Time: 0:00:12||\n",
      "Episode 1|Iteration 271|reward:  207.0|last_reward_at:  146|Elapsed Time: 0:00:12||\n",
      "Episode 1|Iteration 274|reward:  207.0|last_reward_at:  146|Elapsed Time: 0:00:12||\n",
      "Episode 1|Iteration 277|reward:  207.0|last_reward_at:  146|Elapsed Time: 0:00:12||\n",
      "Episode 1|Iteration 279|reward:  207.0|last_reward_at:  146|Elapsed Time: 0:00:12||\n",
      "Episode 1|Iteration 282|reward:  207.0|last_reward_at:  146|Elapsed Time: 0:00:12||\n",
      "Episode 1|Iteration 284|reward:  207.0|last_reward_at:  146|Elapsed Time: 0:00:12||\n",
      "Episode 1|Iteration 288|reward:  207.0|last_reward_at:  146|Elapsed Time: 0:00:13||\n",
      "Episode 1|Iteration 292|reward:  207.0|last_reward_at:  146|Elapsed Time: 0:00:13||\n",
      "Episode 1|Iteration 296|reward:  207.0|last_reward_at:  146|Elapsed Time: 0:00:13||\n",
      "Episode 1|Iteration 300|reward:  207.0|last_reward_at:  146|Elapsed Time: 0:00:13||\n",
      "Episode 1|Iteration 303|reward:  207.0|last_reward_at:  146|Elapsed Time: 0:00:13||\n",
      "Episode 1|Iteration 307|reward:  207.0|last_reward_at:  146|Elapsed Time: 0:00:13||\n",
      "Episode 1|Iteration 311|reward:  207.0|last_reward_at:  146|Elapsed Time: 0:00:13||\n",
      "Episode 1|Iteration 315|reward:  207.0|last_reward_at:  146|Elapsed Time: 0:00:13||\n",
      "Episode 1|Iteration 319|reward:  207.0|last_reward_at:  146|Elapsed Time: 0:00:14||\n",
      "Episode 1|Iteration 322|reward:  207.0|last_reward_at:  146|Elapsed Time: 0:00:14||\n",
      "Episode 1|Iteration 326|reward:  207.0|last_reward_at:  146|Elapsed Time: 0:00:14||\n",
      "Episode 1|Iteration 330|reward:  207.0|last_reward_at:  146|Elapsed Time: 0:00:14||\n",
      "Episode 1|Iteration 334|reward:  207.0|last_reward_at:  146|Elapsed Time: 0:00:14||\n",
      "Episode 1|Iteration 337|reward:  207.0|last_reward_at:  146|Elapsed Time: 0:00:14||\n",
      "Episode 1|Iteration 341|reward:  207.0|last_reward_at:  146|Elapsed Time: 0:00:14||\n",
      "Episode 1|Iteration 345|reward:  207.0|last_reward_at:  146|Elapsed Time: 0:00:14||\n",
      "Episode 1|Iteration 349|reward:  207.0|last_reward_at:  146|Elapsed Time: 0:00:14||\n",
      "Episode 1|Iteration 353|reward:  207.0|last_reward_at:  146|Elapsed Time: 0:00:15||\n",
      "Episode 1|Iteration 357|reward:  207.0|last_reward_at:  146|Elapsed Time: 0:00:15||\n",
      "Episode 1|Iteration 359|reward:  207.0|last_reward_at:  146|Elapsed Time: 0:00:15||\n",
      "Episode 1|Iteration 363|reward:  207.0|last_reward_at:  146|Elapsed Time: 0:00:15||\n",
      "Episode 1|Iteration 367|reward:  207.0|last_reward_at:  146|Elapsed Time: 0:00:15||\n",
      "Episode 1|Iteration 371|reward:  207.0|last_reward_at:  146|Elapsed Time: 0:00:15||\n",
      "Episode 1|Iteration 375|reward:  207.0|last_reward_at:  146|Elapsed Time: 0:00:15||\n",
      "Episode 1|Iteration 376|reward:  207.0|last_reward_at:  146|Elapsed Time: 0:00:15||\n",
      "Episode 1|Iteration 377|reward:  207.0|last_reward_at:  146|Elapsed Time: 0:00:16||\n",
      "Episode 1|Iteration 380|reward:  207.0|last_reward_at:  146|Elapsed Time: 0:00:16||\n",
      "Episode 1|Iteration 383|reward:  207.0|last_reward_at:  146|Elapsed Time: 0:00:16||\n",
      "Episode 1|Iteration 386|reward:  207.0|last_reward_at:  146|Elapsed Time: 0:00:16||\n",
      "Episode 1|Iteration 390|reward:  207.0|last_reward_at:  146|Elapsed Time: 0:00:16||\n",
      "Episode 1|Iteration 393|reward:  207.0|last_reward_at:  146|Elapsed Time: 0:00:16||\n",
      "Episode 1|Iteration 396|reward:  207.0|last_reward_at:  146|Elapsed Time: 0:00:16||\n",
      "Episode 1|Iteration 400|reward:  207.0|last_reward_at:  146|Elapsed Time: 0:00:16||\n",
      "Episode 1|Iteration 403|reward:  207.0|last_reward_at:  146|Elapsed Time: 0:00:16||\n",
      "Episode 1|Iteration 406|reward:  207.0|last_reward_at:  146|Elapsed Time: 0:00:16||\n",
      "Episode 1|Iteration 410|reward:  207.0|last_reward_at:  146|Elapsed Time: 0:00:17||\n",
      "Episode 1|Iteration 414|reward:  207.0|last_reward_at:  146|Elapsed Time: 0:00:17||\n",
      "Episode 1|Iteration 417|reward:  207.0|last_reward_at:  146|Elapsed Time: 0:00:17||\n",
      "Episode 1|Iteration 420|reward:  207.0|last_reward_at:  146|Elapsed Time: 0:00:17||\n",
      "Episode 1|Iteration 424|reward:  207.0|last_reward_at:  146|Elapsed Time: 0:00:17||\n",
      "Episode 1|Iteration 428|reward:  207.0|last_reward_at:  146|Elapsed Time: 0:00:17||\n",
      "Episode 1|Iteration 432|reward:  207.0|last_reward_at:  146|Elapsed Time: 0:00:17||\n",
      "Episode 1|Iteration 436|reward:  207.0|last_reward_at:  146|Elapsed Time: 0:00:17||\n",
      "Episode 1|Iteration 440|reward:  207.0|last_reward_at:  146|Elapsed Time: 0:00:17||\n",
      "Episode 1|Iteration 443|reward:  207.0|last_reward_at:  146|Elapsed Time: 0:00:18||\n",
      "Episode 1|Iteration 446|reward:  207.0|last_reward_at:  146|Elapsed Time: 0:00:18||\n",
      "Episode 1|Iteration 449|reward:  207.0|last_reward_at:  146|Elapsed Time: 0:00:18||\n",
      "Episode 1|Iteration 451|reward:  207.0|last_reward_at:  146|Elapsed Time: 0:00:18||\n",
      "Episode 1|Iteration 454|reward:  207.0|last_reward_at:  146|Elapsed Time: 0:00:18||\n",
      "Episode 1|Iteration 456|reward:  207.0|last_reward_at:  146|Elapsed Time: 0:00:18||\n",
      "Episode 1|Iteration 458|reward:  207.0|last_reward_at:  146|Elapsed Time: 0:00:18||\n",
      "Episode 1|Iteration 461|reward:  207.0|last_reward_at:  146|Elapsed Time: 0:00:18||\n",
      "Episode 1|Iteration 463|reward:  207.0|last_reward_at:  146|Elapsed Time: 0:00:18||\n",
      "Episode 1|Iteration 466|reward:  207.0|last_reward_at:  146|Elapsed Time: 0:00:19||\n",
      "Episode 1|Iteration 468|reward:  207.0|last_reward_at:  146|Elapsed Time: 0:00:19||\n",
      "Episode 1|Iteration 471|reward:  207.0|last_reward_at:  146|Elapsed Time: 0:00:19||\n",
      "Episode 1|Iteration 473|reward:  207.0|last_reward_at:  146|Elapsed Time: 0:00:19||\n",
      "Episode 1|Iteration 477|reward:  207.0|last_reward_at:  146|Elapsed Time: 0:00:19||\n",
      "Episode 1|Iteration 480|reward:  207.0|last_reward_at:  146|Elapsed Time: 0:00:19||\n",
      "Episode 1|Iteration 484|reward:  207.0|last_reward_at:  146|Elapsed Time: 0:00:19||\n",
      "Episode 1|Iteration 487|reward:  207.0|last_reward_at:  146|Elapsed Time: 0:00:19||\n",
      "Episode 1|Iteration 490|reward:  207.0|last_reward_at:  146|Elapsed Time: 0:00:19||\n",
      "Episode 1|Iteration 493|reward:  207.0|last_reward_at:  146|Elapsed Time: 0:00:20||\n",
      "Episode 1|Iteration 497|reward:  207.0|last_reward_at:  146|Elapsed Time: 0:00:20||\n",
      "Episode 1|Iteration 501|reward:  207.0|last_reward_at:  146|Elapsed Time: 0:00:20||\n",
      "Episode 1|Iteration 504|reward:  207.0|last_reward_at:  146|Elapsed Time: 0:00:20||\n",
      "Episode 1|Iteration 508|reward:  207.0|last_reward_at:  146|Elapsed Time: 0:00:20||\n",
      "Episode 1|Iteration 512|reward:  207.0|last_reward_at:  146|Elapsed Time: 0:00:20||\n",
      "Episode 1|Iteration 515|reward:  207.0|last_reward_at:  146|Elapsed Time: 0:00:20||\n",
      "Episode 1|Iteration 518|reward:  207.0|last_reward_at:  146|Elapsed Time: 0:00:20||\n",
      "Episode 1|Iteration 521|reward:  207.0|last_reward_at:  146|Elapsed Time: 0:00:20||\n",
      "Episode 1|Iteration 524|reward:  207.0|last_reward_at:  146|Elapsed Time: 0:00:21||\n",
      "Episode 1|Iteration 528|reward:  207.0|last_reward_at:  146|Elapsed Time: 0:00:21||\n",
      "Episode 1|Iteration 532|reward:  207.0|last_reward_at:  146|Elapsed Time: 0:00:21||\n",
      "Episode 1|Iteration 535|reward:  207.0|last_reward_at:  146|Elapsed Time: 0:00:21||\n",
      "Episode 1|Iteration 536|reward:  207.0|last_reward_at:  146|Elapsed Time: 0:00:21||\n",
      "Episode 1|Iteration 538|reward:  207.0|last_reward_at:  146|Elapsed Time: 0:00:21||\n",
      "Episode 1|Iteration 540|reward:  207.0|last_reward_at:  146|Elapsed Time: 0:00:21||\n",
      "Episode 1|Iteration 541|reward:  207.0|last_reward_at:  146|Elapsed Time: 0:00:21||\n",
      "Episode 1|Iteration 543|reward:  207.0|last_reward_at:  146|Elapsed Time: 0:00:22||\n",
      "Episode 1|Iteration 545|reward:  207.0|last_reward_at:  146|Elapsed Time: 0:00:22||\n",
      "Episode 1|Iteration 547|reward:  207.0|last_reward_at:  146|Elapsed Time: 0:00:22||\n",
      "Episode 1|Iteration 548|reward:  207.0|last_reward_at:  146|Elapsed Time: 0:00:22||\n",
      "Episode 1|Iteration 550|reward:  207.0|last_reward_at:  146|Elapsed Time: 0:00:22||\n",
      "Episode 1|Iteration 552|reward:  207.0|last_reward_at:  146|Elapsed Time: 0:00:22||\n",
      "Episode 1|Iteration 554|reward:  207.0|last_reward_at:  146|Elapsed Time: 0:00:22||\n",
      "Episode 1|Iteration 557|reward:  207.0|last_reward_at:  146|Elapsed Time: 0:00:22||\n",
      "Episode 1|Iteration 559|reward:  207.0|last_reward_at:  146|Elapsed Time: 0:00:23||\n",
      "Episode 1|Iteration 560|reward:  207.0|last_reward_at:  146|Elapsed Time: 0:00:23||\n",
      "Episode 1|Iteration 561|reward:  207.0|last_reward_at:  146|Elapsed Time: 0:00:23||\n",
      "Episode 1|Iteration 562|reward:  207.0|last_reward_at:  146|Elapsed Time: 0:00:23||\n",
      "Episode 1|Iteration 564|reward:  207.0|last_reward_at:  146|Elapsed Time: 0:00:23||\n",
      "Episode 1|Iteration 566|reward:  207.0|last_reward_at:  146|Elapsed Time: 0:00:23||\n",
      "Episode 1|Iteration 569|reward:  207.0|last_reward_at:  146|Elapsed Time: 0:00:23||\n",
      "Episode 1|Iteration 570|reward:  207.0|last_reward_at:  146|Elapsed Time: 0:00:24||\n",
      "Episode 1|Iteration 573|reward:  207.0|last_reward_at:  146|Elapsed Time: 0:00:24||\n",
      "Episode 1|Iteration 577|reward:  207.0|last_reward_at:  146|Elapsed Time: 0:00:24||\n",
      "Episode 1|Iteration 580|reward:  207.0|last_reward_at:  146|Elapsed Time: 0:00:24||\n",
      "Episode 1|Iteration 584|reward:  207.0|last_reward_at:  146|Elapsed Time: 0:00:24||\n",
      "Episode 1|Iteration 587|reward:  207.0|last_reward_at:  146|Elapsed Time: 0:00:24||\n",
      "Episode 1|Iteration 590|reward:  207.0|last_reward_at:  146|Elapsed Time: 0:00:24||\n",
      "Episode 1|Iteration 592|reward:  207.0|last_reward_at:  146|Elapsed Time: 0:00:24||\n",
      "Episode 1|Iteration 595|reward:  207.0|last_reward_at:  146|Elapsed Time: 0:00:25||\n",
      "Episode 1|Iteration 597|reward:  207.0|last_reward_at:  146|Elapsed Time: 0:00:25||\n",
      "Episode 1|Iteration 599|reward:  207.0|last_reward_at:  146|Elapsed Time: 0:00:25||\n",
      "Episode 1|Iteration 600|reward:  207.0|last_reward_at:  146|Elapsed Time: 0:00:25||\n"
     ]
    },
    {
     "name": "stdout",
     "output_type": "stream",
     "text": [
      "  Episode 1 stopped at t=600 \n",
      "  Breakdown [Reward/NoReward (Success rate)]\n",
      "    explore-local: 0/10 (0.00)\n",
      "    explore-remote: 1/40 (0.02)\n",
      "    explore-connect: 0/16 (0.00)\n",
      "    exploit-local: 2/6 (0.25)\n",
      "    exploit-remote: 5/450 (0.01)\n",
      "    exploit-connect: 2/68 (0.03)\n",
      "  exploit deflected to exploration: 67\n",
      "  ## Episode: 2/10 'Exploiting DQL' ϵ=0.0000, γ=0.15, lr=0.01, replaymemory=10000,\n",
      "batch=256, target_update=5\n"
     ]
    },
    {
     "name": "stderr",
     "output_type": "stream",
     "text": [
      "Episode 2|Iteration 0|reward: ------|last_reward_at: ----|Elapsed Time: 0:00:00||\n",
      "Episode 2|Iteration 1|reward:    6.0|last_reward_at: ----|Elapsed Time: 0:00:00||\n",
      "Episode 2|Iteration 1|reward:    6.0|last_reward_at:    1|Elapsed Time: 0:00:00||\n",
      "Episode 2|Iteration 3|reward:    6.0|last_reward_at:    1|Elapsed Time: 0:00:00||\n",
      "Episode 2|Iteration 4|reward:   12.0|last_reward_at:    1|Elapsed Time: 0:00:00||\n",
      "Episode 2|Iteration 4|reward:   12.0|last_reward_at:    4|Elapsed Time: 0:00:00||\n",
      "Episode 2|Iteration 6|reward:   12.0|last_reward_at:    4|Elapsed Time: 0:00:00||\n",
      "Episode 2|Iteration 8|reward:   12.0|last_reward_at:    4|Elapsed Time: 0:00:00||\n",
      "Episode 2|Iteration 11|reward:   12.0|last_reward_at:    4|Elapsed Time: 0:00:00||\n",
      "Episode 2|Iteration 14|reward:   12.0|last_reward_at:    4|Elapsed Time: 0:00:00||\n",
      "Episode 2|Iteration 16|reward:   12.0|last_reward_at:    4|Elapsed Time: 0:00:00||\n",
      "Episode 2|Iteration 17|reward:   12.0|last_reward_at:    4|Elapsed Time: 0:00:00||\n",
      "Episode 2|Iteration 20|reward:   12.0|last_reward_at:    4|Elapsed Time: 0:00:01||\n",
      "Episode 2|Iteration 21|reward:   12.0|last_reward_at:    4|Elapsed Time: 0:00:01||\n",
      "Episode 2|Iteration 22|reward:   12.0|last_reward_at:    4|Elapsed Time: 0:00:01||\n",
      "Episode 2|Iteration 25|reward:   12.0|last_reward_at:    4|Elapsed Time: 0:00:01||\n",
      "Episode 2|Iteration 28|reward:   12.0|last_reward_at:    4|Elapsed Time: 0:00:01||\n",
      "Episode 2|Iteration 31|reward:   12.0|last_reward_at:    4|Elapsed Time: 0:00:01||\n",
      "Episode 2|Iteration 32|reward:   12.0|last_reward_at:    4|Elapsed Time: 0:00:01||\n",
      "Episode 2|Iteration 33|reward:   12.0|last_reward_at:    4|Elapsed Time: 0:00:02||\n",
      "Episode 2|Iteration 34|reward:   12.0|last_reward_at:    4|Elapsed Time: 0:00:02||\n",
      "Episode 2|Iteration 36|reward:   12.0|last_reward_at:    4|Elapsed Time: 0:00:02||\n",
      "Episode 2|Iteration 40|reward:   12.0|last_reward_at:    4|Elapsed Time: 0:00:02||\n",
      "Episode 2|Iteration 44|reward:   12.0|last_reward_at:    4|Elapsed Time: 0:00:02||\n",
      "Episode 2|Iteration 48|reward:   12.0|last_reward_at:    4|Elapsed Time: 0:00:02||\n",
      "Episode 2|Iteration 51|reward:   12.0|last_reward_at:    4|Elapsed Time: 0:00:02||\n",
      "Episode 2|Iteration 52|reward:   18.0|last_reward_at:    4|Elapsed Time: 0:00:02||\n",
      "Episode 2|Iteration 52|reward:   18.0|last_reward_at:   52|Elapsed Time: 0:00:02||\n",
      "Episode 2|Iteration 54|reward:   18.0|last_reward_at:   52|Elapsed Time: 0:00:02||\n",
      "Episode 2|Iteration 58|reward:   18.0|last_reward_at:   52|Elapsed Time: 0:00:03||\n",
      "Episode 2|Iteration 63|reward:   18.0|last_reward_at:   52|Elapsed Time: 0:00:03||\n",
      "Episode 2|Iteration 65|reward:   24.0|last_reward_at:   52|Elapsed Time: 0:00:03||\n",
      "Episode 2|Iteration 65|reward:   24.0|last_reward_at:   65|Elapsed Time: 0:00:03||\n",
      "Episode 2|Iteration 69|reward:   24.0|last_reward_at:   65|Elapsed Time: 0:00:03||\n",
      "Episode 2|Iteration 73|reward:   24.0|last_reward_at:   65|Elapsed Time: 0:00:03||\n",
      "Episode 2|Iteration 76|reward:   24.0|last_reward_at:   65|Elapsed Time: 0:00:03||\n",
      "Episode 2|Iteration 80|reward:   24.0|last_reward_at:   65|Elapsed Time: 0:00:03||\n",
      "Episode 2|Iteration 83|reward:   33.0|last_reward_at:   65|Elapsed Time: 0:00:03||\n",
      "Episode 2|Iteration 83|reward:   33.0|last_reward_at:   83|Elapsed Time: 0:00:03||\n",
      "Episode 2|Iteration 84|reward:   83.0|last_reward_at:   83|Elapsed Time: 0:00:03||\n",
      "Episode 2|Iteration 84|reward:   83.0|last_reward_at:   84|Elapsed Time: 0:00:03||\n",
      "Episode 2|Iteration 89|reward:   83.0|last_reward_at:   84|Elapsed Time: 0:00:03||\n",
      "Episode 2|Iteration 94|reward:   92.0|last_reward_at:   84|Elapsed Time: 0:00:03||\n",
      "Episode 2|Iteration 94|reward:   92.0|last_reward_at:   94|Elapsed Time: 0:00:03||\n",
      "Episode 2|Iteration 99|reward:   92.0|last_reward_at:   94|Elapsed Time: 0:00:03||\n",
      "Episode 2|Iteration 103|reward:   92.0|last_reward_at:   94|Elapsed Time: 0:00:04||\n",
      "Episode 2|Iteration 107|reward:   92.0|last_reward_at:   94|Elapsed Time: 0:00:04||\n",
      "Episode 2|Iteration 110|reward:   92.0|last_reward_at:   94|Elapsed Time: 0:00:04||\n",
      "Episode 2|Iteration 114|reward:   92.0|last_reward_at:   94|Elapsed Time: 0:00:04||\n",
      "Episode 2|Iteration 117|reward:   92.0|last_reward_at:   94|Elapsed Time: 0:00:04||\n",
      "Episode 2|Iteration 120|reward:   92.0|last_reward_at:   94|Elapsed Time: 0:00:04||\n",
      "Episode 2|Iteration 123|reward:   98.0|last_reward_at:   94|Elapsed Time: 0:00:04||\n",
      "Episode 2|Iteration 123|reward:   98.0|last_reward_at:  123|Elapsed Time: 0:00:04||\n",
      "Episode 2|Iteration 127|reward:   98.0|last_reward_at:  123|Elapsed Time: 0:00:04||\n",
      "Episode 2|Iteration 129|reward:   98.0|last_reward_at:  123|Elapsed Time: 0:00:04||\n",
      "Episode 2|Iteration 130|reward:  198.0|last_reward_at:  123|Elapsed Time: 0:00:04||\n",
      "Episode 2|Iteration 130|reward:  198.0|last_reward_at:  130|Elapsed Time: 0:00:04||\n",
      "Episode 2|Iteration 133|reward:  198.0|last_reward_at:  130|Elapsed Time: 0:00:05||\n",
      "Episode 2|Iteration 137|reward:  198.0|last_reward_at:  130|Elapsed Time: 0:00:05||\n",
      "Episode 2|Iteration 138|reward:  198.0|last_reward_at:  130|Elapsed Time: 0:00:05||\n",
      "Episode 2|Iteration 140|reward:  198.0|last_reward_at:  130|Elapsed Time: 0:00:05||\n",
      "Episode 2|Iteration 143|reward:  198.0|last_reward_at:  130|Elapsed Time: 0:00:05||\n",
      "Episode 2|Iteration 145|reward:  198.0|last_reward_at:  130|Elapsed Time: 0:00:05||\n",
      "Episode 2|Iteration 149|reward:  198.0|last_reward_at:  130|Elapsed Time: 0:00:05||\n",
      "Episode 2|Iteration 152|reward:  198.0|last_reward_at:  130|Elapsed Time: 0:00:05||\n",
      "Episode 2|Iteration 155|reward:  198.0|last_reward_at:  130|Elapsed Time: 0:00:05||\n",
      "Episode 2|Iteration 159|reward:  198.0|last_reward_at:  130|Elapsed Time: 0:00:06||\n",
      "Episode 2|Iteration 164|reward:  198.0|last_reward_at:  130|Elapsed Time: 0:00:06||\n",
      "Episode 2|Iteration 167|reward:  198.0|last_reward_at:  130|Elapsed Time: 0:00:06||\n",
      "Episode 2|Iteration 171|reward:  198.0|last_reward_at:  130|Elapsed Time: 0:00:06||\n",
      "Episode 2|Iteration 175|reward:  198.0|last_reward_at:  130|Elapsed Time: 0:00:06||\n",
      "Episode 2|Iteration 178|reward:  198.0|last_reward_at:  130|Elapsed Time: 0:00:06||\n",
      "Episode 2|Iteration 183|reward:  198.0|last_reward_at:  130|Elapsed Time: 0:00:06||\n",
      "Episode 2|Iteration 184|reward:  198.0|last_reward_at:  130|Elapsed Time: 0:00:06||\n",
      "Episode 2|Iteration 187|reward:  198.0|last_reward_at:  130|Elapsed Time: 0:00:06||\n",
      "Episode 2|Iteration 190|reward:  198.0|last_reward_at:  130|Elapsed Time: 0:00:07||\n",
      "Episode 2|Iteration 192|reward:  198.0|last_reward_at:  130|Elapsed Time: 0:00:07||\n",
      "Episode 2|Iteration 195|reward:  198.0|last_reward_at:  130|Elapsed Time: 0:00:07||\n",
      "Episode 2|Iteration 198|reward:  198.0|last_reward_at:  130|Elapsed Time: 0:00:07||\n",
      "Episode 2|Iteration 199|reward:  198.0|last_reward_at:  130|Elapsed Time: 0:00:07||\n",
      "Episode 2|Iteration 201|reward:  198.0|last_reward_at:  130|Elapsed Time: 0:00:07||\n",
      "Episode 2|Iteration 203|reward:  198.0|last_reward_at:  130|Elapsed Time: 0:00:07||\n",
      "Episode 2|Iteration 204|reward:  198.0|last_reward_at:  130|Elapsed Time: 0:00:08||\n",
      "Episode 2|Iteration 206|reward:  198.0|last_reward_at:  130|Elapsed Time: 0:00:08||\n",
      "Episode 2|Iteration 208|reward:  198.0|last_reward_at:  130|Elapsed Time: 0:00:08||\n",
      "Episode 2|Iteration 211|reward:  198.0|last_reward_at:  130|Elapsed Time: 0:00:08||\n",
      "Episode 2|Iteration 213|reward:  198.0|last_reward_at:  130|Elapsed Time: 0:00:08||\n",
      "Episode 2|Iteration 215|reward:  198.0|last_reward_at:  130|Elapsed Time: 0:00:08||\n",
      "Episode 2|Iteration 218|reward:  198.0|last_reward_at:  130|Elapsed Time: 0:00:08||\n",
      "Episode 2|Iteration 221|reward:  198.0|last_reward_at:  130|Elapsed Time: 0:00:08||\n",
      "Episode 2|Iteration 221|reward:  198.0|last_reward_at:  130|Elapsed Time: 0:00:09||\n",
      "Episode 2|Iteration 222|reward:  198.0|last_reward_at:  130|Elapsed Time: 0:00:09||\n",
      "Episode 2|Iteration 224|reward:  198.0|last_reward_at:  130|Elapsed Time: 0:00:09||\n",
      "Episode 2|Iteration 227|reward:  198.0|last_reward_at:  130|Elapsed Time: 0:00:09||\n",
      "Episode 2|Iteration 232|reward:  198.0|last_reward_at:  130|Elapsed Time: 0:00:09||\n",
      "Episode 2|Iteration 234|reward:  198.0|last_reward_at:  130|Elapsed Time: 0:00:09||\n",
      "Episode 2|Iteration 236|reward:  198.0|last_reward_at:  130|Elapsed Time: 0:00:09||\n",
      "Episode 2|Iteration 238|reward:  198.0|last_reward_at:  130|Elapsed Time: 0:00:09||\n",
      "Episode 2|Iteration 241|reward:  198.0|last_reward_at:  130|Elapsed Time: 0:00:10||\n",
      "Episode 2|Iteration 244|reward:  198.0|last_reward_at:  130|Elapsed Time: 0:00:10||\n",
      "Episode 2|Iteration 244|reward:  198.0|last_reward_at:  130|Elapsed Time: 0:00:10||\n",
      "Episode 2|Iteration 245|reward:  198.0|last_reward_at:  130|Elapsed Time: 0:00:10||\n",
      "Episode 2|Iteration 246|reward:  198.0|last_reward_at:  130|Elapsed Time: 0:00:10||\n",
      "Episode 2|Iteration 249|reward:  198.0|last_reward_at:  130|Elapsed Time: 0:00:10||\n",
      "Episode 2|Iteration 252|reward:  198.0|last_reward_at:  130|Elapsed Time: 0:00:10||\n",
      "Episode 2|Iteration 256|reward:  198.0|last_reward_at:  130|Elapsed Time: 0:00:10||\n",
      "Episode 2|Iteration 259|reward:  198.0|last_reward_at:  130|Elapsed Time: 0:00:10||\n",
      "Episode 2|Iteration 262|reward:  198.0|last_reward_at:  130|Elapsed Time: 0:00:11||\n",
      "Episode 2|Iteration 265|reward:  198.0|last_reward_at:  130|Elapsed Time: 0:00:11||\n",
      "Episode 2|Iteration 268|reward:  198.0|last_reward_at:  130|Elapsed Time: 0:00:11||\n",
      "Episode 2|Iteration 270|reward:  198.0|last_reward_at:  130|Elapsed Time: 0:00:11||\n",
      "Episode 2|Iteration 274|reward:  198.0|last_reward_at:  130|Elapsed Time: 0:00:11||\n",
      "Episode 2|Iteration 277|reward:  198.0|last_reward_at:  130|Elapsed Time: 0:00:11||\n",
      "Episode 2|Iteration 279|reward:  207.0|last_reward_at:  130|Elapsed Time: 0:00:11||\n",
      "Episode 2|Iteration 279|reward:  207.0|last_reward_at:  279|Elapsed Time: 0:00:11||\n",
      "Episode 2|Iteration 282|reward:  207.0|last_reward_at:  279|Elapsed Time: 0:00:11||\n",
      "Episode 2|Iteration 285|reward:  207.0|last_reward_at:  279|Elapsed Time: 0:00:11||\n",
      "Episode 2|Iteration 289|reward:  207.0|last_reward_at:  279|Elapsed Time: 0:00:11||\n",
      "Episode 2|Iteration 293|reward:  207.0|last_reward_at:  279|Elapsed Time: 0:00:12||\n",
      "Episode 2|Iteration 297|reward:  207.0|last_reward_at:  279|Elapsed Time: 0:00:12||\n",
      "Episode 2|Iteration 300|reward:  207.0|last_reward_at:  279|Elapsed Time: 0:00:12||\n",
      "Episode 2|Iteration 304|reward:  207.0|last_reward_at:  279|Elapsed Time: 0:00:12||\n",
      "Episode 2|Iteration 307|reward:  207.0|last_reward_at:  279|Elapsed Time: 0:00:12||\n",
      "Episode 2|Iteration 312|reward:  207.0|last_reward_at:  279|Elapsed Time: 0:00:12||\n",
      "Episode 2|Iteration 316|reward:  207.0|last_reward_at:  279|Elapsed Time: 0:00:12||\n",
      "Episode 2|Iteration 318|reward:  207.0|last_reward_at:  279|Elapsed Time: 0:00:12||\n",
      "Episode 2|Iteration 321|reward:  207.0|last_reward_at:  279|Elapsed Time: 0:00:13||\n",
      "Episode 2|Iteration 326|reward:  207.0|last_reward_at:  279|Elapsed Time: 0:00:13||\n",
      "Episode 2|Iteration 330|reward:  207.0|last_reward_at:  279|Elapsed Time: 0:00:13||\n",
      "Episode 2|Iteration 335|reward:  207.0|last_reward_at:  279|Elapsed Time: 0:00:13||\n",
      "Episode 2|Iteration 338|reward:  207.0|last_reward_at:  279|Elapsed Time: 0:00:13||\n",
      "Episode 2|Iteration 342|reward:  207.0|last_reward_at:  279|Elapsed Time: 0:00:13||\n",
      "Episode 2|Iteration 343|reward:  207.0|last_reward_at:  279|Elapsed Time: 0:00:13||\n",
      "Episode 2|Iteration 345|reward:  207.0|last_reward_at:  279|Elapsed Time: 0:00:13||\n",
      "Episode 2|Iteration 350|reward:  207.0|last_reward_at:  279|Elapsed Time: 0:00:14||\n",
      "Episode 2|Iteration 352|reward:  207.0|last_reward_at:  279|Elapsed Time: 0:00:14||\n",
      "Episode 2|Iteration 357|reward:  207.0|last_reward_at:  279|Elapsed Time: 0:00:14||\n",
      "Episode 2|Iteration 360|reward:  207.0|last_reward_at:  279|Elapsed Time: 0:00:14||\n",
      "Episode 2|Iteration 364|reward:  207.0|last_reward_at:  279|Elapsed Time: 0:00:14||\n",
      "Episode 2|Iteration 369|reward:  207.0|last_reward_at:  279|Elapsed Time: 0:00:14||\n",
      "Episode 2|Iteration 373|reward:  207.0|last_reward_at:  279|Elapsed Time: 0:00:14||\n",
      "Episode 2|Iteration 377|reward:  207.0|last_reward_at:  279|Elapsed Time: 0:00:14||\n",
      "Episode 2|Iteration 378|reward:  257.0|last_reward_at:  279|Elapsed Time: 0:00:14||\n",
      "Episode 2|Iteration 378|reward:  257.0|last_reward_at:  378|Elapsed Time: 0:00:14||\n",
      "Episode 2|Iteration 383|reward:  257.0|last_reward_at:  378|Elapsed Time: 0:00:15||\n",
      "Episode 2|Iteration 385|reward:  257.0|last_reward_at:  378|Elapsed Time: 0:00:15||\n",
      "Episode 2|Iteration 390|reward:  257.0|last_reward_at:  378|Elapsed Time: 0:00:15||\n",
      "Episode 2|Iteration 395|reward:  257.0|last_reward_at:  378|Elapsed Time: 0:00:15||\n",
      "Episode 2|Iteration 398|reward:  257.0|last_reward_at:  378|Elapsed Time: 0:00:15||\n",
      "Episode 2|Iteration 403|reward:  257.0|last_reward_at:  378|Elapsed Time: 0:00:15||\n",
      "Episode 2|Iteration 407|reward:  257.0|last_reward_at:  378|Elapsed Time: 0:00:15||\n",
      "Episode 2|Iteration 411|reward:  257.0|last_reward_at:  378|Elapsed Time: 0:00:15||\n",
      "Episode 2|Iteration 415|reward:  257.0|last_reward_at:  378|Elapsed Time: 0:00:15||\n",
      "Episode 2|Iteration 420|reward:  257.0|last_reward_at:  378|Elapsed Time: 0:00:15||\n",
      "Episode 2|Iteration 424|reward:  257.0|last_reward_at:  378|Elapsed Time: 0:00:16||\n",
      "Episode 2|Iteration 429|reward:  257.0|last_reward_at:  378|Elapsed Time: 0:00:16||\n",
      "Episode 2|Iteration 433|reward:  257.0|last_reward_at:  378|Elapsed Time: 0:00:16||\n",
      "Episode 2|Iteration 437|reward:  257.0|last_reward_at:  378|Elapsed Time: 0:00:16||\n",
      "Episode 2|Iteration 441|reward:  257.0|last_reward_at:  378|Elapsed Time: 0:00:16||\n",
      "Episode 2|Iteration 445|reward:  257.0|last_reward_at:  378|Elapsed Time: 0:00:16||\n",
      "Episode 2|Iteration 449|reward:  257.0|last_reward_at:  378|Elapsed Time: 0:00:16||\n",
      "Episode 2|Iteration 453|reward:  257.0|last_reward_at:  378|Elapsed Time: 0:00:16||\n",
      "Episode 2|Iteration 458|reward:  257.0|last_reward_at:  378|Elapsed Time: 0:00:16||\n",
      "Episode 2|Iteration 463|reward:  257.0|last_reward_at:  378|Elapsed Time: 0:00:17||\n",
      "Episode 2|Iteration 468|reward:  257.0|last_reward_at:  378|Elapsed Time: 0:00:17||\n",
      "Episode 2|Iteration 471|reward:  257.0|last_reward_at:  378|Elapsed Time: 0:00:17||\n",
      "Episode 2|Iteration 475|reward:  257.0|last_reward_at:  378|Elapsed Time: 0:00:17||\n",
      "Episode 2|Iteration 479|reward:  257.0|last_reward_at:  378|Elapsed Time: 0:00:17||\n",
      "Episode 2|Iteration 483|reward:  257.0|last_reward_at:  378|Elapsed Time: 0:00:17||\n",
      "Episode 2|Iteration 487|reward:  257.0|last_reward_at:  378|Elapsed Time: 0:00:17||\n",
      "Episode 2|Iteration 491|reward:  257.0|last_reward_at:  378|Elapsed Time: 0:00:17||\n",
      "Episode 2|Iteration 494|reward:  257.0|last_reward_at:  378|Elapsed Time: 0:00:17||\n",
      "Episode 2|Iteration 498|reward:  257.0|last_reward_at:  378|Elapsed Time: 0:00:17||\n",
      "Episode 2|Iteration 502|reward:  257.0|last_reward_at:  378|Elapsed Time: 0:00:17||\n",
      "Episode 2|Iteration 506|reward:  257.0|last_reward_at:  378|Elapsed Time: 0:00:17||\n",
      "Episode 2|Iteration 511|reward:  257.0|last_reward_at:  378|Elapsed Time: 0:00:18||\n",
      "Episode 2|Iteration 516|reward:  257.0|last_reward_at:  378|Elapsed Time: 0:00:18||\n",
      "Episode 2|Iteration 521|reward:  257.0|last_reward_at:  378|Elapsed Time: 0:00:18||\n",
      "Episode 2|Iteration 525|reward:  257.0|last_reward_at:  378|Elapsed Time: 0:00:18||\n",
      "Episode 2|Iteration 529|reward:  257.0|last_reward_at:  378|Elapsed Time: 0:00:18||\n",
      "Episode 2|Iteration 532|reward:  257.0|last_reward_at:  378|Elapsed Time: 0:00:18||\n",
      "Episode 2|Iteration 536|reward:  257.0|last_reward_at:  378|Elapsed Time: 0:00:18||\n",
      "Episode 2|Iteration 540|reward:  257.0|last_reward_at:  378|Elapsed Time: 0:00:18||\n",
      "Episode 2|Iteration 543|reward:  257.0|last_reward_at:  378|Elapsed Time: 0:00:18||\n",
      "Episode 2|Iteration 547|reward:  257.0|last_reward_at:  378|Elapsed Time: 0:00:18||\n",
      "Episode 2|Iteration 551|reward:  257.0|last_reward_at:  378|Elapsed Time: 0:00:19||\n",
      "Episode 2|Iteration 555|reward:  257.0|last_reward_at:  378|Elapsed Time: 0:00:19||\n",
      "Episode 2|Iteration 559|reward:  257.0|last_reward_at:  378|Elapsed Time: 0:00:19||\n",
      "Episode 2|Iteration 563|reward:  257.0|last_reward_at:  378|Elapsed Time: 0:00:19||\n",
      "Episode 2|Iteration 566|reward:  257.0|last_reward_at:  378|Elapsed Time: 0:00:19||\n",
      "Episode 2|Iteration 570|reward:  257.0|last_reward_at:  378|Elapsed Time: 0:00:19||\n",
      "Episode 2|Iteration 573|reward:  257.0|last_reward_at:  378|Elapsed Time: 0:00:19||\n",
      "Episode 2|Iteration 578|reward:  257.0|last_reward_at:  378|Elapsed Time: 0:00:19||\n",
      "Episode 2|Iteration 582|reward:  257.0|last_reward_at:  378|Elapsed Time: 0:00:19||\n",
      "Episode 2|Iteration 585|reward:  257.0|last_reward_at:  378|Elapsed Time: 0:00:19||\n",
      "Episode 2|Iteration 588|reward:  257.0|last_reward_at:  378|Elapsed Time: 0:00:19||\n",
      "Episode 2|Iteration 593|reward:  257.0|last_reward_at:  378|Elapsed Time: 0:00:20||\n",
      "Episode 2|Iteration 597|reward:  257.0|last_reward_at:  378|Elapsed Time: 0:00:20||\n",
      "Episode 2|Iteration 600|reward:  257.0|last_reward_at:  378|Elapsed Time: 0:00:20||\n"
     ]
    },
    {
     "name": "stdout",
     "output_type": "stream",
     "text": [
      "  Episode 2 stopped at t=600 \n",
      "  Breakdown [Reward/NoReward (Success rate)]\n",
      "    explore-local: 0/12 (0.00)\n",
      "    explore-remote: 0/24 (0.00)\n",
      "    explore-connect: 0/15 (0.00)\n",
      "    exploit-local: 1/73 (0.01)\n",
      "    exploit-remote: 7/356 (0.02)\n",
      "    exploit-connect: 3/109 (0.03)\n",
      "  exploit deflected to exploration: 51\n",
      "  ## Episode: 3/10 'Exploiting DQL' ϵ=0.0000, γ=0.15, lr=0.01, replaymemory=10000,\n",
      "batch=256, target_update=5\n"
     ]
    },
    {
     "name": "stderr",
     "output_type": "stream",
     "text": [
      "Episode 3|Iteration 0|reward: ------|last_reward_at: ----|Elapsed Time: 0:00:00||\n",
      "Episode 3|Iteration 1|reward:    6.0|last_reward_at: ----|Elapsed Time: 0:00:00||\n",
      "Episode 3|Iteration 1|reward:    6.0|last_reward_at:    1|Elapsed Time: 0:00:00||\n",
      "Episode 3|Iteration 5|reward:    6.0|last_reward_at:    1|Elapsed Time: 0:00:00||\n",
      "Episode 3|Iteration 7|reward:   12.0|last_reward_at:    1|Elapsed Time: 0:00:00||\n",
      "Episode 3|Iteration 7|reward:   12.0|last_reward_at:    7|Elapsed Time: 0:00:00||\n",
      "Episode 3|Iteration 11|reward:   12.0|last_reward_at:    7|Elapsed Time: 0:00:00||\n",
      "Episode 3|Iteration 16|reward:   12.0|last_reward_at:    7|Elapsed Time: 0:00:00||\n",
      "Episode 3|Iteration 16|reward:   21.0|last_reward_at:    7|Elapsed Time: 0:00:00||\n",
      "Episode 3|Iteration 16|reward:   21.0|last_reward_at:   16|Elapsed Time: 0:00:00||\n",
      "Episode 3|Iteration 19|reward:   21.0|last_reward_at:   16|Elapsed Time: 0:00:00||\n",
      "Episode 3|Iteration 23|reward:   21.0|last_reward_at:   16|Elapsed Time: 0:00:00||\n",
      "Episode 3|Iteration 27|reward:   21.0|last_reward_at:   16|Elapsed Time: 0:00:00||\n",
      "Episode 3|Iteration 31|reward:   21.0|last_reward_at:   16|Elapsed Time: 0:00:00||\n",
      "Episode 3|Iteration 35|reward:   21.0|last_reward_at:   16|Elapsed Time: 0:00:01||\n",
      "Episode 3|Iteration 36|reward:   27.0|last_reward_at:   16|Elapsed Time: 0:00:01||\n",
      "Episode 3|Iteration 36|reward:   27.0|last_reward_at:   36|Elapsed Time: 0:00:01||\n",
      "Episode 3|Iteration 41|reward:   27.0|last_reward_at:   36|Elapsed Time: 0:00:01||\n",
      "Episode 3|Iteration 45|reward:   27.0|last_reward_at:   36|Elapsed Time: 0:00:01||\n",
      "Episode 3|Iteration 50|reward:   27.0|last_reward_at:   36|Elapsed Time: 0:00:01||\n",
      "Episode 3|Iteration 54|reward:   27.0|last_reward_at:   36|Elapsed Time: 0:00:01||\n",
      "Episode 3|Iteration 55|reward:   33.0|last_reward_at:   36|Elapsed Time: 0:00:01||\n",
      "Episode 3|Iteration 55|reward:   33.0|last_reward_at:   55|Elapsed Time: 0:00:01||\n",
      "Episode 3|Iteration 60|reward:   33.0|last_reward_at:   55|Elapsed Time: 0:00:01||\n",
      "Episode 3|Iteration 65|reward:   33.0|last_reward_at:   55|Elapsed Time: 0:00:01||\n",
      "Episode 3|Iteration 69|reward:   33.0|last_reward_at:   55|Elapsed Time: 0:00:01||\n",
      "Episode 3|Iteration 73|reward:   33.0|last_reward_at:   55|Elapsed Time: 0:00:01||\n",
      "Episode 3|Iteration 75|reward:   42.0|last_reward_at:   55|Elapsed Time: 0:00:01||\n",
      "Episode 3|Iteration 75|reward:   42.0|last_reward_at:   75|Elapsed Time: 0:00:01||\n",
      "Episode 3|Iteration 80|reward:   42.0|last_reward_at:   75|Elapsed Time: 0:00:02||\n",
      "Episode 3|Iteration 84|reward:   42.0|last_reward_at:   75|Elapsed Time: 0:00:02||\n",
      "Episode 3|Iteration 88|reward:   42.0|last_reward_at:   75|Elapsed Time: 0:00:02||\n",
      "Episode 3|Iteration 92|reward:   42.0|last_reward_at:   75|Elapsed Time: 0:00:02||\n",
      "Episode 3|Iteration 95|reward:   48.0|last_reward_at:   75|Elapsed Time: 0:00:02||\n",
      "Episode 3|Iteration 95|reward:   48.0|last_reward_at:   95|Elapsed Time: 0:00:02||\n",
      "Episode 3|Iteration 99|reward:   48.0|last_reward_at:   95|Elapsed Time: 0:00:02||\n",
      "Episode 3|Iteration 103|reward:  148.0|last_reward_at:   95|Elapsed Time: 0:00:02||\n",
      "Episode 3|Iteration 103|reward:  148.0|last_reward_at:  103|Elapsed Time: 0:00:02||\n",
      "Episode 3|Iteration 105|reward:  157.0|last_reward_at:  103|Elapsed Time: 0:00:02||\n",
      "Episode 3|Iteration 105|reward:  157.0|last_reward_at:  105|Elapsed Time: 0:00:02||\n",
      "Episode 3|Iteration 108|reward:  207.0|last_reward_at:  105|Elapsed Time: 0:00:02||\n",
      "Episode 3|Iteration 108|reward:  207.0|last_reward_at:  108|Elapsed Time: 0:00:02||\n",
      "Episode 3|Iteration 113|reward:  207.0|last_reward_at:  108|Elapsed Time: 0:00:02||\n",
      "Episode 3|Iteration 118|reward:  207.0|last_reward_at:  108|Elapsed Time: 0:00:03||\n",
      "Episode 3|Iteration 121|reward:  207.0|last_reward_at:  108|Elapsed Time: 0:00:03||\n",
      "Episode 3|Iteration 123|reward:  207.0|last_reward_at:  108|Elapsed Time: 0:00:03||\n",
      "Episode 3|Iteration 125|reward:  207.0|last_reward_at:  108|Elapsed Time: 0:00:03||\n",
      "Episode 3|Iteration 127|reward:  207.0|last_reward_at:  108|Elapsed Time: 0:00:03||\n",
      "Episode 3|Iteration 130|reward:  207.0|last_reward_at:  108|Elapsed Time: 0:00:03||\n",
      "Episode 3|Iteration 131|reward:  207.0|last_reward_at:  108|Elapsed Time: 0:00:03||\n",
      "Episode 3|Iteration 134|reward:  207.0|last_reward_at:  108|Elapsed Time: 0:00:03||\n",
      "Episode 3|Iteration 137|reward:  207.0|last_reward_at:  108|Elapsed Time: 0:00:04||\n",
      "Episode 3|Iteration 139|reward:  207.0|last_reward_at:  108|Elapsed Time: 0:00:04||\n",
      "Episode 3|Iteration 144|reward:  207.0|last_reward_at:  108|Elapsed Time: 0:00:04||\n",
      "Episode 3|Iteration 149|reward:  207.0|last_reward_at:  108|Elapsed Time: 0:00:04||\n",
      "Episode 3|Iteration 154|reward:  207.0|last_reward_at:  108|Elapsed Time: 0:00:04||\n",
      "Episode 3|Iteration 158|reward:  207.0|last_reward_at:  108|Elapsed Time: 0:00:04||\n",
      "Episode 3|Iteration 162|reward:  207.0|last_reward_at:  108|Elapsed Time: 0:00:04||\n",
      "Episode 3|Iteration 164|reward:  207.0|last_reward_at:  108|Elapsed Time: 0:00:04||\n",
      "Episode 3|Iteration 168|reward:  207.0|last_reward_at:  108|Elapsed Time: 0:00:04||\n",
      "Episode 3|Iteration 172|reward:  207.0|last_reward_at:  108|Elapsed Time: 0:00:05||\n",
      "Episode 3|Iteration 175|reward:  207.0|last_reward_at:  108|Elapsed Time: 0:00:05||\n",
      "Episode 3|Iteration 179|reward:  207.0|last_reward_at:  108|Elapsed Time: 0:00:05||\n",
      "Episode 3|Iteration 183|reward:  207.0|last_reward_at:  108|Elapsed Time: 0:00:05||\n",
      "Episode 3|Iteration 185|reward:  207.0|last_reward_at:  108|Elapsed Time: 0:00:05||\n",
      "Episode 3|Iteration 189|reward:  207.0|last_reward_at:  108|Elapsed Time: 0:00:05||\n",
      "Episode 3|Iteration 193|reward:  207.0|last_reward_at:  108|Elapsed Time: 0:00:05||\n",
      "Episode 3|Iteration 198|reward:  207.0|last_reward_at:  108|Elapsed Time: 0:00:05||\n",
      "Episode 3|Iteration 202|reward:  207.0|last_reward_at:  108|Elapsed Time: 0:00:05||\n",
      "Episode 3|Iteration 206|reward:  207.0|last_reward_at:  108|Elapsed Time: 0:00:06||\n",
      "Episode 3|Iteration 209|reward:  207.0|last_reward_at:  108|Elapsed Time: 0:00:06||\n",
      "Episode 3|Iteration 213|reward:  207.0|last_reward_at:  108|Elapsed Time: 0:00:06||\n",
      "Episode 3|Iteration 217|reward:  207.0|last_reward_at:  108|Elapsed Time: 0:00:06||\n",
      "Episode 3|Iteration 221|reward:  207.0|last_reward_at:  108|Elapsed Time: 0:00:06||\n",
      "Episode 3|Iteration 224|reward:  207.0|last_reward_at:  108|Elapsed Time: 0:00:06||\n",
      "Episode 3|Iteration 228|reward:  207.0|last_reward_at:  108|Elapsed Time: 0:00:06||\n",
      "Episode 3|Iteration 231|reward:  207.0|last_reward_at:  108|Elapsed Time: 0:00:06||\n",
      "Episode 3|Iteration 235|reward:  207.0|last_reward_at:  108|Elapsed Time: 0:00:06||\n",
      "Episode 3|Iteration 239|reward:  207.0|last_reward_at:  108|Elapsed Time: 0:00:06||\n",
      "Episode 3|Iteration 240|reward:  207.0|last_reward_at:  108|Elapsed Time: 0:00:07||\n",
      "Episode 3|Iteration 242|reward:  207.0|last_reward_at:  108|Elapsed Time: 0:00:07||\n",
      "Episode 3|Iteration 247|reward:  207.0|last_reward_at:  108|Elapsed Time: 0:00:07||\n",
      "Episode 3|Iteration 251|reward:  207.0|last_reward_at:  108|Elapsed Time: 0:00:07||\n",
      "Episode 3|Iteration 254|reward:  207.0|last_reward_at:  108|Elapsed Time: 0:00:07||\n",
      "Episode 3|Iteration 258|reward:  207.0|last_reward_at:  108|Elapsed Time: 0:00:07||\n",
      "Episode 3|Iteration 262|reward:  207.0|last_reward_at:  108|Elapsed Time: 0:00:07||\n",
      "Episode 3|Iteration 266|reward:  207.0|last_reward_at:  108|Elapsed Time: 0:00:07||\n",
      "Episode 3|Iteration 269|reward:  207.0|last_reward_at:  108|Elapsed Time: 0:00:07||\n",
      "Episode 3|Iteration 273|reward:  207.0|last_reward_at:  108|Elapsed Time: 0:00:08||\n",
      "Episode 3|Iteration 277|reward:  207.0|last_reward_at:  108|Elapsed Time: 0:00:08||\n",
      "Episode 3|Iteration 281|reward:  207.0|last_reward_at:  108|Elapsed Time: 0:00:08||\n",
      "Episode 3|Iteration 286|reward:  207.0|last_reward_at:  108|Elapsed Time: 0:00:08||\n",
      "Episode 3|Iteration 289|reward:  207.0|last_reward_at:  108|Elapsed Time: 0:00:08||\n",
      "Episode 3|Iteration 293|reward:  207.0|last_reward_at:  108|Elapsed Time: 0:00:08||\n",
      "Episode 3|Iteration 297|reward:  207.0|last_reward_at:  108|Elapsed Time: 0:00:08||\n",
      "Episode 3|Iteration 298|reward:  216.0|last_reward_at:  108|Elapsed Time: 0:00:08||\n",
      "Episode 3|Iteration 298|reward:  216.0|last_reward_at:  298|Elapsed Time: 0:00:08||\n",
      "Episode 3|Iteration 303|reward:  216.0|last_reward_at:  298|Elapsed Time: 0:00:08||\n",
      "Episode 3|Iteration 307|reward:  216.0|last_reward_at:  298|Elapsed Time: 0:00:08||\n",
      "Episode 3|Iteration 312|reward:  216.0|last_reward_at:  298|Elapsed Time: 0:00:09||\n",
      "Episode 3|Iteration 315|reward:  216.0|last_reward_at:  298|Elapsed Time: 0:00:09||\n",
      "Episode 3|Iteration 319|reward:  216.0|last_reward_at:  298|Elapsed Time: 0:00:09||\n",
      "Episode 3|Iteration 322|reward:  216.0|last_reward_at:  298|Elapsed Time: 0:00:09||\n",
      "Episode 3|Iteration 326|reward:  216.0|last_reward_at:  298|Elapsed Time: 0:00:09||\n",
      "Episode 3|Iteration 330|reward:  216.0|last_reward_at:  298|Elapsed Time: 0:00:09||\n",
      "Episode 3|Iteration 332|reward:  216.0|last_reward_at:  298|Elapsed Time: 0:00:09||\n",
      "Episode 3|Iteration 335|reward:  216.0|last_reward_at:  298|Elapsed Time: 0:00:09||\n",
      "Episode 3|Iteration 339|reward:  216.0|last_reward_at:  298|Elapsed Time: 0:00:09||\n",
      "Episode 3|Iteration 342|reward:  216.0|last_reward_at:  298|Elapsed Time: 0:00:09||\n",
      "Episode 3|Iteration 346|reward:  216.0|last_reward_at:  298|Elapsed Time: 0:00:09||\n",
      "Episode 3|Iteration 350|reward:  216.0|last_reward_at:  298|Elapsed Time: 0:00:10||\n",
      "Episode 3|Iteration 353|reward:  216.0|last_reward_at:  298|Elapsed Time: 0:00:10||\n",
      "Episode 3|Iteration 357|reward:  216.0|last_reward_at:  298|Elapsed Time: 0:00:10||\n",
      "Episode 3|Iteration 361|reward:  216.0|last_reward_at:  298|Elapsed Time: 0:00:10||\n",
      "Episode 3|Iteration 365|reward:  216.0|last_reward_at:  298|Elapsed Time: 0:00:10||\n",
      "Episode 3|Iteration 369|reward:  216.0|last_reward_at:  298|Elapsed Time: 0:00:10||\n",
      "Episode 3|Iteration 373|reward:  216.0|last_reward_at:  298|Elapsed Time: 0:00:10||\n",
      "Episode 3|Iteration 377|reward:  216.0|last_reward_at:  298|Elapsed Time: 0:00:10||\n",
      "Episode 3|Iteration 380|reward:  216.0|last_reward_at:  298|Elapsed Time: 0:00:10||\n",
      "Episode 3|Iteration 383|reward:  216.0|last_reward_at:  298|Elapsed Time: 0:00:10||\n",
      "Episode 3|Iteration 388|reward:  216.0|last_reward_at:  298|Elapsed Time: 0:00:11||\n",
      "Episode 3|Iteration 391|reward:  216.0|last_reward_at:  298|Elapsed Time: 0:00:11||\n",
      "Episode 3|Iteration 395|reward:  216.0|last_reward_at:  298|Elapsed Time: 0:00:11||\n",
      "Episode 3|Iteration 399|reward:  216.0|last_reward_at:  298|Elapsed Time: 0:00:11||\n",
      "Episode 3|Iteration 403|reward:  216.0|last_reward_at:  298|Elapsed Time: 0:00:11||\n",
      "Episode 3|Iteration 407|reward:  216.0|last_reward_at:  298|Elapsed Time: 0:00:11||\n",
      "Episode 3|Iteration 411|reward:  216.0|last_reward_at:  298|Elapsed Time: 0:00:11||\n",
      "Episode 3|Iteration 414|reward:  216.0|last_reward_at:  298|Elapsed Time: 0:00:11||\n",
      "Episode 3|Iteration 418|reward:  216.0|last_reward_at:  298|Elapsed Time: 0:00:11||\n",
      "Episode 3|Iteration 421|reward:  216.0|last_reward_at:  298|Elapsed Time: 0:00:11||\n",
      "Episode 3|Iteration 426|reward:  216.0|last_reward_at:  298|Elapsed Time: 0:00:11||\n",
      "Episode 3|Iteration 430|reward:  216.0|last_reward_at:  298|Elapsed Time: 0:00:12||\n",
      "Episode 3|Iteration 433|reward:  216.0|last_reward_at:  298|Elapsed Time: 0:00:12||\n",
      "Episode 3|Iteration 437|reward:  216.0|last_reward_at:  298|Elapsed Time: 0:00:12||\n",
      "Episode 3|Iteration 441|reward:  216.0|last_reward_at:  298|Elapsed Time: 0:00:12||\n",
      "Episode 3|Iteration 445|reward:  216.0|last_reward_at:  298|Elapsed Time: 0:00:12||\n",
      "Episode 3|Iteration 449|reward:  216.0|last_reward_at:  298|Elapsed Time: 0:00:12||\n",
      "Episode 3|Iteration 452|reward:  216.0|last_reward_at:  298|Elapsed Time: 0:00:12||\n",
      "Episode 3|Iteration 456|reward:  216.0|last_reward_at:  298|Elapsed Time: 0:00:12||\n",
      "Episode 3|Iteration 460|reward:  216.0|last_reward_at:  298|Elapsed Time: 0:00:12||\n",
      "Episode 3|Iteration 464|reward:  216.0|last_reward_at:  298|Elapsed Time: 0:00:12||\n",
      "Episode 3|Iteration 468|reward:  216.0|last_reward_at:  298|Elapsed Time: 0:00:13||\n",
      "Episode 3|Iteration 470|reward:  216.0|last_reward_at:  298|Elapsed Time: 0:00:13||\n",
      "Episode 3|Iteration 472|reward:  216.0|last_reward_at:  298|Elapsed Time: 0:00:13||\n",
      "Episode 3|Iteration 477|reward:  216.0|last_reward_at:  298|Elapsed Time: 0:00:13||\n",
      "Episode 3|Iteration 482|reward:  216.0|last_reward_at:  298|Elapsed Time: 0:00:13||\n",
      "Episode 3|Iteration 486|reward:  216.0|last_reward_at:  298|Elapsed Time: 0:00:13||\n",
      "Episode 3|Iteration 491|reward:  216.0|last_reward_at:  298|Elapsed Time: 0:00:13||\n",
      "Episode 3|Iteration 494|reward:  216.0|last_reward_at:  298|Elapsed Time: 0:00:13||\n",
      "Episode 3|Iteration 498|reward:  216.0|last_reward_at:  298|Elapsed Time: 0:00:13||\n",
      "Episode 3|Iteration 502|reward:  216.0|last_reward_at:  298|Elapsed Time: 0:00:14||\n",
      "Episode 3|Iteration 503|reward:  216.0|last_reward_at:  298|Elapsed Time: 0:00:14||\n",
      "Episode 3|Iteration 506|reward:  216.0|last_reward_at:  298|Elapsed Time: 0:00:14||\n",
      "Episode 3|Iteration 509|reward:  216.0|last_reward_at:  298|Elapsed Time: 0:00:14||\n",
      "Episode 3|Iteration 511|reward:  216.0|last_reward_at:  298|Elapsed Time: 0:00:14||\n",
      "Episode 3|Iteration 514|reward:  216.0|last_reward_at:  298|Elapsed Time: 0:00:14||\n",
      "Episode 3|Iteration 517|reward:  216.0|last_reward_at:  298|Elapsed Time: 0:00:14||\n",
      "Episode 3|Iteration 518|reward:  216.0|last_reward_at:  298|Elapsed Time: 0:00:14||\n",
      "Episode 3|Iteration 521|reward:  216.0|last_reward_at:  298|Elapsed Time: 0:00:14||\n",
      "Episode 3|Iteration 523|reward:  216.0|last_reward_at:  298|Elapsed Time: 0:00:14||\n",
      "Episode 3|Iteration 525|reward:  216.0|last_reward_at:  298|Elapsed Time: 0:00:15||\n",
      "Episode 3|Iteration 527|reward:  216.0|last_reward_at:  298|Elapsed Time: 0:00:15||\n",
      "Episode 3|Iteration 531|reward:  216.0|last_reward_at:  298|Elapsed Time: 0:00:15||\n",
      "Episode 3|Iteration 534|reward:  216.0|last_reward_at:  298|Elapsed Time: 0:00:15||\n",
      "Episode 3|Iteration 538|reward:  216.0|last_reward_at:  298|Elapsed Time: 0:00:15||\n",
      "Episode 3|Iteration 540|reward:  216.0|last_reward_at:  298|Elapsed Time: 0:00:15||\n",
      "Episode 3|Iteration 543|reward:  216.0|last_reward_at:  298|Elapsed Time: 0:00:15||\n",
      "Episode 3|Iteration 546|reward:  216.0|last_reward_at:  298|Elapsed Time: 0:00:15||\n",
      "Episode 3|Iteration 548|reward:  216.0|last_reward_at:  298|Elapsed Time: 0:00:15||\n",
      "Episode 3|Iteration 550|reward:  216.0|last_reward_at:  298|Elapsed Time: 0:00:16||\n",
      "Episode 3|Iteration 552|reward:  216.0|last_reward_at:  298|Elapsed Time: 0:00:16||\n",
      "Episode 3|Iteration 554|reward:  216.0|last_reward_at:  298|Elapsed Time: 0:00:16||\n",
      "Episode 3|Iteration 556|reward:  216.0|last_reward_at:  298|Elapsed Time: 0:00:16||\n",
      "Episode 3|Iteration 558|reward:  216.0|last_reward_at:  298|Elapsed Time: 0:00:16||\n",
      "Episode 3|Iteration 562|reward:  216.0|last_reward_at:  298|Elapsed Time: 0:00:16||\n",
      "Episode 3|Iteration 565|reward:  216.0|last_reward_at:  298|Elapsed Time: 0:00:16||\n",
      "Episode 3|Iteration 567|reward:  216.0|last_reward_at:  298|Elapsed Time: 0:00:17||\n",
      "Episode 3|Iteration 568|reward:  216.0|last_reward_at:  298|Elapsed Time: 0:00:17||\n",
      "Episode 3|Iteration 569|reward:  216.0|last_reward_at:  298|Elapsed Time: 0:00:17||\n",
      "Episode 3|Iteration 571|reward:  216.0|last_reward_at:  298|Elapsed Time: 0:00:17||\n",
      "Episode 3|Iteration 573|reward:  216.0|last_reward_at:  298|Elapsed Time: 0:00:17||\n",
      "Episode 3|Iteration 575|reward:  216.0|last_reward_at:  298|Elapsed Time: 0:00:17||\n",
      "Episode 3|Iteration 577|reward:  216.0|last_reward_at:  298|Elapsed Time: 0:00:17||\n",
      "Episode 3|Iteration 580|reward:  216.0|last_reward_at:  298|Elapsed Time: 0:00:18||\n",
      "Episode 3|Iteration 583|reward:  216.0|last_reward_at:  298|Elapsed Time: 0:00:18||\n",
      "Episode 3|Iteration 586|reward:  216.0|last_reward_at:  298|Elapsed Time: 0:00:18||\n",
      "Episode 3|Iteration 589|reward:  216.0|last_reward_at:  298|Elapsed Time: 0:00:18||\n",
      "Episode 3|Iteration 593|reward:  216.0|last_reward_at:  298|Elapsed Time: 0:00:18||\n",
      "Episode 3|Iteration 595|reward:  216.0|last_reward_at:  298|Elapsed Time: 0:00:18||\n",
      "Episode 3|Iteration 598|reward:  216.0|last_reward_at:  298|Elapsed Time: 0:00:18||\n",
      "Episode 3|Iteration 600|reward:  216.0|last_reward_at:  298|Elapsed Time: 0:00:18||\n",
      "Episode 3|Iteration 600|reward:  216.0|last_reward_at:  298|Elapsed Time: 0:00:18||\n"
     ]
    },
    {
     "name": "stdout",
     "output_type": "stream",
     "text": [
      "  Episode 3 stopped at t=600 \n",
      "  Breakdown [Reward/NoReward (Success rate)]\n",
      "    explore-local: 0/2 (0.00)\n",
      "    explore-remote: 0/5 (0.00)\n",
      "    explore-connect: 1/9 (0.10)\n",
      "    exploit-local: 2/160 (0.01)\n",
      "    exploit-remote: 7/374 (0.02)\n",
      "    exploit-connect: 1/39 (0.03)\n",
      "  exploit deflected to exploration: 17\n",
      "  ## Episode: 4/10 'Exploiting DQL' ϵ=0.0000, γ=0.15, lr=0.01, replaymemory=10000,\n",
      "batch=256, target_update=5\n"
     ]
    },
    {
     "name": "stderr",
     "output_type": "stream",
     "text": [
      "Episode 4|Iteration 0|reward: ------|last_reward_at: ----|Elapsed Time: 0:00:00||\n",
      "Episode 4|Iteration 1|reward:    6.0|last_reward_at: ----|Elapsed Time: 0:00:00||\n",
      "Episode 4|Iteration 1|reward:    6.0|last_reward_at:    1|Elapsed Time: 0:00:00||\n",
      "Episode 4|Iteration 2|reward:    6.0|last_reward_at:    1|Elapsed Time: 0:00:00||\n",
      "Episode 4|Iteration 3|reward:    6.0|last_reward_at:    1|Elapsed Time: 0:00:00||\n",
      "Episode 4|Iteration 4|reward:   12.0|last_reward_at:    1|Elapsed Time: 0:00:00||\n",
      "Episode 4|Iteration 4|reward:   12.0|last_reward_at:    4|Elapsed Time: 0:00:00||\n",
      "Episode 4|Iteration 5|reward:   21.0|last_reward_at:    4|Elapsed Time: 0:00:00||\n",
      "Episode 4|Iteration 5|reward:   21.0|last_reward_at:    5|Elapsed Time: 0:00:00||\n",
      "Episode 4|Iteration 6|reward:  121.0|last_reward_at:    5|Elapsed Time: 0:00:00||\n",
      "Episode 4|Iteration 6|reward:  121.0|last_reward_at:    6|Elapsed Time: 0:00:00||\n",
      "Episode 4|Iteration 7|reward:  130.0|last_reward_at:    6|Elapsed Time: 0:00:00||\n",
      "Episode 4|Iteration 7|reward:  130.0|last_reward_at:    7|Elapsed Time: 0:00:00||\n",
      "Episode 4|Iteration 10|reward:  130.0|last_reward_at:    7|Elapsed Time: 0:00:00||\n",
      "Episode 4|Iteration 13|reward:  130.0|last_reward_at:    7|Elapsed Time: 0:00:00||\n",
      "Episode 4|Iteration 16|reward:  130.0|last_reward_at:    7|Elapsed Time: 0:00:01||\n",
      "Episode 4|Iteration 18|reward:  130.0|last_reward_at:    7|Elapsed Time: 0:00:01||\n",
      "Episode 4|Iteration 21|reward:  130.0|last_reward_at:    7|Elapsed Time: 0:00:01||\n",
      "Episode 4|Iteration 24|reward:  130.0|last_reward_at:    7|Elapsed Time: 0:00:01||\n",
      "Episode 4|Iteration 27|reward:  130.0|last_reward_at:    7|Elapsed Time: 0:00:01||\n",
      "Episode 4|Iteration 30|reward:  130.0|last_reward_at:    7|Elapsed Time: 0:00:01||\n",
      "Episode 4|Iteration 33|reward:  130.0|last_reward_at:    7|Elapsed Time: 0:00:01||\n",
      "Episode 4|Iteration 36|reward:  130.0|last_reward_at:    7|Elapsed Time: 0:00:01||\n",
      "Episode 4|Iteration 37|reward:  130.0|last_reward_at:    7|Elapsed Time: 0:00:02||\n",
      "Episode 4|Iteration 38|reward:  130.0|last_reward_at:    7|Elapsed Time: 0:00:02||\n",
      "Episode 4|Iteration 39|reward:  130.0|last_reward_at:    7|Elapsed Time: 0:00:02||\n",
      "Episode 4|Iteration 40|reward:  130.0|last_reward_at:    7|Elapsed Time: 0:00:02||\n",
      "Episode 4|Iteration 41|reward:  130.0|last_reward_at:    7|Elapsed Time: 0:00:02||\n",
      "Episode 4|Iteration 42|reward:  130.0|last_reward_at:    7|Elapsed Time: 0:00:02||\n",
      "Episode 4|Iteration 43|reward:  130.0|last_reward_at:    7|Elapsed Time: 0:00:03||\n",
      "Episode 4|Iteration 44|reward:  130.0|last_reward_at:    7|Elapsed Time: 0:00:03||\n",
      "Episode 4|Iteration 45|reward:  130.0|last_reward_at:    7|Elapsed Time: 0:00:03||\n",
      "Episode 4|Iteration 46|reward:  130.0|last_reward_at:    7|Elapsed Time: 0:00:03||\n",
      "Episode 4|Iteration 47|reward:  130.0|last_reward_at:    7|Elapsed Time: 0:00:03||\n",
      "Episode 4|Iteration 48|reward:  130.0|last_reward_at:    7|Elapsed Time: 0:00:03||\n",
      "Episode 4|Iteration 49|reward:  130.0|last_reward_at:    7|Elapsed Time: 0:00:03||\n",
      "Episode 4|Iteration 50|reward:  130.0|last_reward_at:    7|Elapsed Time: 0:00:03||\n",
      "Episode 4|Iteration 51|reward:  130.0|last_reward_at:    7|Elapsed Time: 0:00:04||\n",
      "Episode 4|Iteration 52|reward:  130.0|last_reward_at:    7|Elapsed Time: 0:00:04||\n",
      "Episode 4|Iteration 53|reward:  130.0|last_reward_at:    7|Elapsed Time: 0:00:04||\n",
      "Episode 4|Iteration 54|reward:  130.0|last_reward_at:    7|Elapsed Time: 0:00:04||\n",
      "Episode 4|Iteration 55|reward:  130.0|last_reward_at:    7|Elapsed Time: 0:00:04||\n",
      "Episode 4|Iteration 56|reward:  130.0|last_reward_at:    7|Elapsed Time: 0:00:04||\n",
      "Episode 4|Iteration 57|reward:  130.0|last_reward_at:    7|Elapsed Time: 0:00:04||\n",
      "Episode 4|Iteration 59|reward:  130.0|last_reward_at:    7|Elapsed Time: 0:00:05||\n",
      "Episode 4|Iteration 60|reward:  130.0|last_reward_at:    7|Elapsed Time: 0:00:05||\n",
      "Episode 4|Iteration 62|reward:  130.0|last_reward_at:    7|Elapsed Time: 0:00:05||\n",
      "Episode 4|Iteration 63|reward:  130.0|last_reward_at:    7|Elapsed Time: 0:00:05||\n",
      "Episode 4|Iteration 64|reward:  130.0|last_reward_at:    7|Elapsed Time: 0:00:05||\n",
      "Episode 4|Iteration 65|reward:  130.0|last_reward_at:    7|Elapsed Time: 0:00:05||\n",
      "Episode 4|Iteration 67|reward:  130.0|last_reward_at:    7|Elapsed Time: 0:00:05||\n",
      "Episode 4|Iteration 69|reward:  130.0|last_reward_at:    7|Elapsed Time: 0:00:05||\n",
      "Episode 4|Iteration 69|reward:  130.0|last_reward_at:    7|Elapsed Time: 0:00:06||\n",
      "Episode 4|Iteration 70|reward:  130.0|last_reward_at:    7|Elapsed Time: 0:00:06||\n",
      "Episode 4|Iteration 72|reward:  130.0|last_reward_at:    7|Elapsed Time: 0:00:06||\n",
      "Episode 4|Iteration 73|reward:  130.0|last_reward_at:    7|Elapsed Time: 0:00:06||\n",
      "Episode 4|Iteration 74|reward:  130.0|last_reward_at:    7|Elapsed Time: 0:00:06||\n",
      "Episode 4|Iteration 75|reward:  130.0|last_reward_at:    7|Elapsed Time: 0:00:06||\n",
      "Episode 4|Iteration 76|reward:  130.0|last_reward_at:    7|Elapsed Time: 0:00:06||\n",
      "Episode 4|Iteration 77|reward:  130.0|last_reward_at:    7|Elapsed Time: 0:00:06||\n",
      "Episode 4|Iteration 78|reward:  130.0|last_reward_at:    7|Elapsed Time: 0:00:06||\n",
      "Episode 4|Iteration 79|reward:  130.0|last_reward_at:    7|Elapsed Time: 0:00:07||\n",
      "Episode 4|Iteration 80|reward:  130.0|last_reward_at:    7|Elapsed Time: 0:00:07||\n",
      "Episode 4|Iteration 81|reward:  130.0|last_reward_at:    7|Elapsed Time: 0:00:07||\n",
      "Episode 4|Iteration 82|reward:  130.0|last_reward_at:    7|Elapsed Time: 0:00:07||\n",
      "Episode 4|Iteration 83|reward:  130.0|last_reward_at:    7|Elapsed Time: 0:00:07||\n",
      "Episode 4|Iteration 84|reward:  130.0|last_reward_at:    7|Elapsed Time: 0:00:07||\n",
      "Episode 4|Iteration 85|reward:  130.0|last_reward_at:    7|Elapsed Time: 0:00:07||\n",
      "Episode 4|Iteration 86|reward:  130.0|last_reward_at:    7|Elapsed Time: 0:00:07||\n",
      "Episode 4|Iteration 87|reward:  130.0|last_reward_at:    7|Elapsed Time: 0:00:08||\n",
      "Episode 4|Iteration 88|reward:  130.0|last_reward_at:    7|Elapsed Time: 0:00:08||\n",
      "Episode 4|Iteration 89|reward:  130.0|last_reward_at:    7|Elapsed Time: 0:00:08||\n",
      "Episode 4|Iteration 90|reward:  130.0|last_reward_at:    7|Elapsed Time: 0:00:09||\n",
      "Episode 4|Iteration 91|reward:  130.0|last_reward_at:    7|Elapsed Time: 0:00:09||\n",
      "Episode 4|Iteration 92|reward:  136.0|last_reward_at:    7|Elapsed Time: 0:00:09||\n",
      "Episode 4|Iteration 92|reward:  136.0|last_reward_at:   92|Elapsed Time: 0:00:09||\n",
      "Episode 4|Iteration 94|reward:  136.0|last_reward_at:   92|Elapsed Time: 0:00:09||\n",
      "Episode 4|Iteration 95|reward:  136.0|last_reward_at:   92|Elapsed Time: 0:00:09||\n",
      "Episode 4|Iteration 96|reward:  136.0|last_reward_at:   92|Elapsed Time: 0:00:09||\n",
      "Episode 4|Iteration 97|reward:  136.0|last_reward_at:   92|Elapsed Time: 0:00:09||\n",
      "Episode 4|Iteration 98|reward:  136.0|last_reward_at:   92|Elapsed Time: 0:00:10||\n",
      "Episode 4|Iteration 99|reward:  136.0|last_reward_at:   92|Elapsed Time: 0:00:10||\n",
      "Episode 4|Iteration 100|reward:  136.0|last_reward_at:   92|Elapsed Time: 0:00:10||\n",
      "Episode 4|Iteration 101|reward:  136.0|last_reward_at:   92|Elapsed Time: 0:00:10||\n",
      "Episode 4|Iteration 102|reward:  136.0|last_reward_at:   92|Elapsed Time: 0:00:10||\n",
      "Episode 4|Iteration 103|reward:  136.0|last_reward_at:   92|Elapsed Time: 0:00:10||\n",
      "Episode 4|Iteration 104|reward:  136.0|last_reward_at:   92|Elapsed Time: 0:00:10||\n",
      "Episode 4|Iteration 105|reward:  136.0|last_reward_at:   92|Elapsed Time: 0:00:10||\n",
      "Episode 4|Iteration 106|reward:  136.0|last_reward_at:   92|Elapsed Time: 0:00:11||\n",
      "Episode 4|Iteration 107|reward:  136.0|last_reward_at:   92|Elapsed Time: 0:00:11||\n",
      "Episode 4|Iteration 108|reward:  136.0|last_reward_at:   92|Elapsed Time: 0:00:11||\n",
      "Episode 4|Iteration 110|reward:  136.0|last_reward_at:   92|Elapsed Time: 0:00:11||\n",
      "Episode 4|Iteration 111|reward:  136.0|last_reward_at:   92|Elapsed Time: 0:00:11||\n",
      "Episode 4|Iteration 112|reward:  136.0|last_reward_at:   92|Elapsed Time: 0:00:11||\n",
      "Episode 4|Iteration 113|reward:  136.0|last_reward_at:   92|Elapsed Time: 0:00:11||\n",
      "Episode 4|Iteration 115|reward:  136.0|last_reward_at:   92|Elapsed Time: 0:00:11||\n",
      "Episode 4|Iteration 116|reward:  136.0|last_reward_at:   92|Elapsed Time: 0:00:12||\n",
      "Episode 4|Iteration 117|reward:  136.0|last_reward_at:   92|Elapsed Time: 0:00:12||\n",
      "Episode 4|Iteration 118|reward:  136.0|last_reward_at:   92|Elapsed Time: 0:00:12||\n",
      "Episode 4|Iteration 119|reward:  136.0|last_reward_at:   92|Elapsed Time: 0:00:12||\n",
      "Episode 4|Iteration 120|reward:  136.0|last_reward_at:   92|Elapsed Time: 0:00:12||\n",
      "Episode 4|Iteration 122|reward:  136.0|last_reward_at:   92|Elapsed Time: 0:00:12||\n",
      "Episode 4|Iteration 123|reward:  136.0|last_reward_at:   92|Elapsed Time: 0:00:12||\n",
      "Episode 4|Iteration 124|reward:  136.0|last_reward_at:   92|Elapsed Time: 0:00:12||\n",
      "Episode 4|Iteration 125|reward:  136.0|last_reward_at:   92|Elapsed Time: 0:00:12||\n",
      "Episode 4|Iteration 126|reward:  136.0|last_reward_at:   92|Elapsed Time: 0:00:13||\n",
      "Episode 4|Iteration 128|reward:  136.0|last_reward_at:   92|Elapsed Time: 0:00:13||\n",
      "Episode 4|Iteration 130|reward:  136.0|last_reward_at:   92|Elapsed Time: 0:00:13||\n",
      "Episode 4|Iteration 130|reward:  136.0|last_reward_at:   92|Elapsed Time: 0:00:13||\n",
      "Episode 4|Iteration 132|reward:  136.0|last_reward_at:   92|Elapsed Time: 0:00:13||\n",
      "Episode 4|Iteration 133|reward:  136.0|last_reward_at:   92|Elapsed Time: 0:00:13||\n",
      "Episode 4|Iteration 134|reward:  136.0|last_reward_at:   92|Elapsed Time: 0:00:13||\n",
      "Episode 4|Iteration 135|reward:  136.0|last_reward_at:   92|Elapsed Time: 0:00:13||\n",
      "Episode 4|Iteration 136|reward:  136.0|last_reward_at:   92|Elapsed Time: 0:00:14||\n",
      "Episode 4|Iteration 137|reward:  136.0|last_reward_at:   92|Elapsed Time: 0:00:14||\n",
      "Episode 4|Iteration 138|reward:  136.0|last_reward_at:   92|Elapsed Time: 0:00:14||\n",
      "Episode 4|Iteration 140|reward:  136.0|last_reward_at:   92|Elapsed Time: 0:00:14||\n",
      "Episode 4|Iteration 142|reward:  136.0|last_reward_at:   92|Elapsed Time: 0:00:14||\n",
      "Episode 4|Iteration 143|reward:  136.0|last_reward_at:   92|Elapsed Time: 0:00:14||\n",
      "Episode 4|Iteration 145|reward:  136.0|last_reward_at:   92|Elapsed Time: 0:00:14||\n",
      "Episode 4|Iteration 146|reward:  136.0|last_reward_at:   92|Elapsed Time: 0:00:14||\n",
      "Episode 4|Iteration 147|reward:  136.0|last_reward_at:   92|Elapsed Time: 0:00:15||\n",
      "Episode 4|Iteration 149|reward:  136.0|last_reward_at:   92|Elapsed Time: 0:00:15||\n",
      "Episode 4|Iteration 150|reward:  136.0|last_reward_at:   92|Elapsed Time: 0:00:15||\n",
      "Episode 4|Iteration 152|reward:  136.0|last_reward_at:   92|Elapsed Time: 0:00:15||\n",
      "Episode 4|Iteration 152|reward:  136.0|last_reward_at:   92|Elapsed Time: 0:00:15||\n",
      "Episode 4|Iteration 153|reward:  136.0|last_reward_at:   92|Elapsed Time: 0:00:15||\n",
      "Episode 4|Iteration 154|reward:  136.0|last_reward_at:   92|Elapsed Time: 0:00:15||\n",
      "Episode 4|Iteration 156|reward:  136.0|last_reward_at:   92|Elapsed Time: 0:00:15||\n",
      "Episode 4|Iteration 157|reward:  136.0|last_reward_at:   92|Elapsed Time: 0:00:16||\n",
      "Episode 4|Iteration 158|reward:  136.0|last_reward_at:   92|Elapsed Time: 0:00:16||\n",
      "Episode 4|Iteration 159|reward:  136.0|last_reward_at:   92|Elapsed Time: 0:00:16||\n",
      "Episode 4|Iteration 160|reward:  136.0|last_reward_at:   92|Elapsed Time: 0:00:16||\n",
      "Episode 4|Iteration 161|reward:  136.0|last_reward_at:   92|Elapsed Time: 0:00:16||\n",
      "Episode 4|Iteration 162|reward:  136.0|last_reward_at:   92|Elapsed Time: 0:00:16||\n",
      "Episode 4|Iteration 164|reward:  136.0|last_reward_at:   92|Elapsed Time: 0:00:16||\n",
      "Episode 4|Iteration 166|reward:  136.0|last_reward_at:   92|Elapsed Time: 0:00:16||\n",
      "Episode 4|Iteration 168|reward:  136.0|last_reward_at:   92|Elapsed Time: 0:00:17||\n",
      "Episode 4|Iteration 169|reward:  136.0|last_reward_at:   92|Elapsed Time: 0:00:17||\n",
      "Episode 4|Iteration 170|reward:  136.0|last_reward_at:   92|Elapsed Time: 0:00:17||\n",
      "Episode 4|Iteration 171|reward:  136.0|last_reward_at:   92|Elapsed Time: 0:00:17||\n",
      "Episode 4|Iteration 172|reward:  136.0|last_reward_at:   92|Elapsed Time: 0:00:17||\n",
      "Episode 4|Iteration 173|reward:  136.0|last_reward_at:   92|Elapsed Time: 0:00:18||\n",
      "Episode 4|Iteration 174|reward:  136.0|last_reward_at:   92|Elapsed Time: 0:00:18||\n",
      "Episode 4|Iteration 175|reward:  136.0|last_reward_at:   92|Elapsed Time: 0:00:18||\n",
      "Episode 4|Iteration 176|reward:  136.0|last_reward_at:   92|Elapsed Time: 0:00:18||\n",
      "Episode 4|Iteration 177|reward:  136.0|last_reward_at:   92|Elapsed Time: 0:00:18||\n",
      "Episode 4|Iteration 178|reward:  136.0|last_reward_at:   92|Elapsed Time: 0:00:18||\n",
      "Episode 4|Iteration 179|reward:  136.0|last_reward_at:   92|Elapsed Time: 0:00:18||\n",
      "Episode 4|Iteration 180|reward:  136.0|last_reward_at:   92|Elapsed Time: 0:00:18||\n",
      "Episode 4|Iteration 181|reward:  136.0|last_reward_at:   92|Elapsed Time: 0:00:19||\n",
      "Episode 4|Iteration 182|reward:  136.0|last_reward_at:   92|Elapsed Time: 0:00:19||\n",
      "Episode 4|Iteration 183|reward:  136.0|last_reward_at:   92|Elapsed Time: 0:00:19||\n",
      "Episode 4|Iteration 184|reward:  136.0|last_reward_at:   92|Elapsed Time: 0:00:19||\n",
      "Episode 4|Iteration 185|reward:  136.0|last_reward_at:   92|Elapsed Time: 0:00:19||\n",
      "Episode 4|Iteration 186|reward:  136.0|last_reward_at:   92|Elapsed Time: 0:00:20||\n",
      "Episode 4|Iteration 187|reward:  136.0|last_reward_at:   92|Elapsed Time: 0:00:20||\n",
      "Episode 4|Iteration 188|reward:  136.0|last_reward_at:   92|Elapsed Time: 0:00:20||\n",
      "Episode 4|Iteration 189|reward:  136.0|last_reward_at:   92|Elapsed Time: 0:00:20||\n",
      "Episode 4|Iteration 190|reward:  136.0|last_reward_at:   92|Elapsed Time: 0:00:20||\n",
      "Episode 4|Iteration 191|reward:  136.0|last_reward_at:   92|Elapsed Time: 0:00:20||\n",
      "Episode 4|Iteration 192|reward:  136.0|last_reward_at:   92|Elapsed Time: 0:00:20||\n",
      "Episode 4|Iteration 193|reward:  136.0|last_reward_at:   92|Elapsed Time: 0:00:20||\n",
      "Episode 4|Iteration 194|reward:  136.0|last_reward_at:   92|Elapsed Time: 0:00:21||\n",
      "Episode 4|Iteration 195|reward:  136.0|last_reward_at:   92|Elapsed Time: 0:00:21||\n",
      "Episode 4|Iteration 196|reward:  136.0|last_reward_at:   92|Elapsed Time: 0:00:21||\n",
      "Episode 4|Iteration 198|reward:  136.0|last_reward_at:   92|Elapsed Time: 0:00:21||\n",
      "Episode 4|Iteration 198|reward:  136.0|last_reward_at:   92|Elapsed Time: 0:00:21||\n",
      "Episode 4|Iteration 200|reward:  136.0|last_reward_at:   92|Elapsed Time: 0:00:21||\n",
      "Episode 4|Iteration 201|reward:  136.0|last_reward_at:   92|Elapsed Time: 0:00:21||\n",
      "Episode 4|Iteration 202|reward:  136.0|last_reward_at:   92|Elapsed Time: 0:00:21||\n",
      "Episode 4|Iteration 203|reward:  136.0|last_reward_at:   92|Elapsed Time: 0:00:22||\n",
      "Episode 4|Iteration 204|reward:  136.0|last_reward_at:   92|Elapsed Time: 0:00:22||\n",
      "Episode 4|Iteration 205|reward:  136.0|last_reward_at:   92|Elapsed Time: 0:00:22||\n",
      "Episode 4|Iteration 207|reward:  136.0|last_reward_at:   92|Elapsed Time: 0:00:22||\n",
      "Episode 4|Iteration 208|reward:  136.0|last_reward_at:   92|Elapsed Time: 0:00:22||\n",
      "Episode 4|Iteration 209|reward:  136.0|last_reward_at:   92|Elapsed Time: 0:00:22||\n",
      "Episode 4|Iteration 210|reward:  136.0|last_reward_at:   92|Elapsed Time: 0:00:22||\n",
      "Episode 4|Iteration 211|reward:  136.0|last_reward_at:   92|Elapsed Time: 0:00:22||\n",
      "Episode 4|Iteration 212|reward:  136.0|last_reward_at:   92|Elapsed Time: 0:00:23||\n",
      "Episode 4|Iteration 213|reward:  136.0|last_reward_at:   92|Elapsed Time: 0:00:23||\n",
      "Episode 4|Iteration 214|reward:  136.0|last_reward_at:   92|Elapsed Time: 0:00:23||\n",
      "Episode 4|Iteration 215|reward:  136.0|last_reward_at:   92|Elapsed Time: 0:00:23||\n",
      "Episode 4|Iteration 216|reward:  136.0|last_reward_at:   92|Elapsed Time: 0:00:23||\n",
      "Episode 4|Iteration 217|reward:  136.0|last_reward_at:   92|Elapsed Time: 0:00:23||\n",
      "Episode 4|Iteration 218|reward:  136.0|last_reward_at:   92|Elapsed Time: 0:00:23||\n",
      "Episode 4|Iteration 219|reward:  136.0|last_reward_at:   92|Elapsed Time: 0:00:23||\n",
      "Episode 4|Iteration 220|reward:  136.0|last_reward_at:   92|Elapsed Time: 0:00:24||\n",
      "Episode 4|Iteration 221|reward:  136.0|last_reward_at:   92|Elapsed Time: 0:00:24||\n",
      "Episode 4|Iteration 222|reward:  136.0|last_reward_at:   92|Elapsed Time: 0:00:24||\n",
      "Episode 4|Iteration 224|reward:  136.0|last_reward_at:   92|Elapsed Time: 0:00:24||\n",
      "Episode 4|Iteration 225|reward:  136.0|last_reward_at:   92|Elapsed Time: 0:00:24||\n",
      "Episode 4|Iteration 226|reward:  136.0|last_reward_at:   92|Elapsed Time: 0:00:24||\n",
      "Episode 4|Iteration 228|reward:  136.0|last_reward_at:   92|Elapsed Time: 0:00:24||\n",
      "Episode 4|Iteration 228|reward:  136.0|last_reward_at:   92|Elapsed Time: 0:00:25||\n",
      "Episode 4|Iteration 230|reward:  136.0|last_reward_at:   92|Elapsed Time: 0:00:25||\n",
      "Episode 4|Iteration 231|reward:  136.0|last_reward_at:   92|Elapsed Time: 0:00:25||\n",
      "Episode 4|Iteration 232|reward:  136.0|last_reward_at:   92|Elapsed Time: 0:00:25||\n",
      "Episode 4|Iteration 233|reward:  136.0|last_reward_at:   92|Elapsed Time: 0:00:25||\n",
      "Episode 4|Iteration 234|reward:  136.0|last_reward_at:   92|Elapsed Time: 0:00:25||\n",
      "Episode 4|Iteration 235|reward:  136.0|last_reward_at:   92|Elapsed Time: 0:00:25||\n",
      "Episode 4|Iteration 236|reward:  136.0|last_reward_at:   92|Elapsed Time: 0:00:25||\n",
      "Episode 4|Iteration 238|reward:  136.0|last_reward_at:   92|Elapsed Time: 0:00:26||\n",
      "Episode 4|Iteration 239|reward:  136.0|last_reward_at:   92|Elapsed Time: 0:00:26||\n",
      "Episode 4|Iteration 240|reward:  136.0|last_reward_at:   92|Elapsed Time: 0:00:26||\n",
      "Episode 4|Iteration 241|reward:  136.0|last_reward_at:   92|Elapsed Time: 0:00:26||\n",
      "Episode 4|Iteration 242|reward:  136.0|last_reward_at:   92|Elapsed Time: 0:00:26||\n",
      "Episode 4|Iteration 243|reward:  136.0|last_reward_at:   92|Elapsed Time: 0:00:26||\n",
      "Episode 4|Iteration 244|reward:  136.0|last_reward_at:   92|Elapsed Time: 0:00:26||\n",
      "Episode 4|Iteration 245|reward:  136.0|last_reward_at:   92|Elapsed Time: 0:00:26||\n",
      "Episode 4|Iteration 246|reward:  136.0|last_reward_at:   92|Elapsed Time: 0:00:26||\n",
      "Episode 4|Iteration 247|reward:  136.0|last_reward_at:   92|Elapsed Time: 0:00:27||\n",
      "Episode 4|Iteration 248|reward:  136.0|last_reward_at:   92|Elapsed Time: 0:00:27||\n",
      "Episode 4|Iteration 249|reward:  136.0|last_reward_at:   92|Elapsed Time: 0:00:27||\n",
      "Episode 4|Iteration 250|reward:  136.0|last_reward_at:   92|Elapsed Time: 0:00:27||\n",
      "Episode 4|Iteration 251|reward:  136.0|last_reward_at:   92|Elapsed Time: 0:00:27||\n",
      "Episode 4|Iteration 252|reward:  136.0|last_reward_at:   92|Elapsed Time: 0:00:27||\n",
      "Episode 4|Iteration 253|reward:  136.0|last_reward_at:   92|Elapsed Time: 0:00:27||\n",
      "Episode 4|Iteration 254|reward:  136.0|last_reward_at:   92|Elapsed Time: 0:00:28||\n",
      "Episode 4|Iteration 255|reward:  136.0|last_reward_at:   92|Elapsed Time: 0:00:28||\n",
      "Episode 4|Iteration 256|reward:  136.0|last_reward_at:   92|Elapsed Time: 0:00:28||\n",
      "Episode 4|Iteration 257|reward:  136.0|last_reward_at:   92|Elapsed Time: 0:00:28||\n",
      "Episode 4|Iteration 258|reward:  136.0|last_reward_at:   92|Elapsed Time: 0:00:28||\n",
      "Episode 4|Iteration 259|reward:  136.0|last_reward_at:   92|Elapsed Time: 0:00:28||\n",
      "Episode 4|Iteration 260|reward:  136.0|last_reward_at:   92|Elapsed Time: 0:00:28||\n",
      "Episode 4|Iteration 261|reward:  136.0|last_reward_at:   92|Elapsed Time: 0:00:28||\n",
      "Episode 4|Iteration 262|reward:  136.0|last_reward_at:   92|Elapsed Time: 0:00:29||\n",
      "Episode 4|Iteration 263|reward:  136.0|last_reward_at:   92|Elapsed Time: 0:00:29||\n",
      "Episode 4|Iteration 264|reward:  136.0|last_reward_at:   92|Elapsed Time: 0:00:29||\n",
      "Episode 4|Iteration 265|reward:  136.0|last_reward_at:   92|Elapsed Time: 0:00:29||\n",
      "Episode 4|Iteration 266|reward:  136.0|last_reward_at:   92|Elapsed Time: 0:00:29||\n",
      "Episode 4|Iteration 267|reward:  136.0|last_reward_at:   92|Elapsed Time: 0:00:29||\n",
      "Episode 4|Iteration 268|reward:  136.0|last_reward_at:   92|Elapsed Time: 0:00:29||\n",
      "Episode 4|Iteration 269|reward:  136.0|last_reward_at:   92|Elapsed Time: 0:00:30||\n",
      "Episode 4|Iteration 270|reward:  136.0|last_reward_at:   92|Elapsed Time: 0:00:30||\n",
      "Episode 4|Iteration 271|reward:  136.0|last_reward_at:   92|Elapsed Time: 0:00:30||\n",
      "Episode 4|Iteration 272|reward:  136.0|last_reward_at:   92|Elapsed Time: 0:00:30||\n",
      "Episode 4|Iteration 273|reward:  136.0|last_reward_at:   92|Elapsed Time: 0:00:30||\n",
      "Episode 4|Iteration 274|reward:  136.0|last_reward_at:   92|Elapsed Time: 0:00:30||\n",
      "Episode 4|Iteration 275|reward:  136.0|last_reward_at:   92|Elapsed Time: 0:00:30||\n",
      "Episode 4|Iteration 276|reward:  136.0|last_reward_at:   92|Elapsed Time: 0:00:30||\n",
      "Episode 4|Iteration 278|reward:  136.0|last_reward_at:   92|Elapsed Time: 0:00:31||\n",
      "Episode 4|Iteration 279|reward:  136.0|last_reward_at:   92|Elapsed Time: 0:00:31||\n",
      "Episode 4|Iteration 280|reward:  136.0|last_reward_at:   92|Elapsed Time: 0:00:31||\n",
      "Episode 4|Iteration 281|reward:  136.0|last_reward_at:   92|Elapsed Time: 0:00:31||\n",
      "Episode 4|Iteration 282|reward:  136.0|last_reward_at:   92|Elapsed Time: 0:00:31||\n",
      "Episode 4|Iteration 283|reward:  136.0|last_reward_at:   92|Elapsed Time: 0:00:31||\n",
      "Episode 4|Iteration 285|reward:  136.0|last_reward_at:   92|Elapsed Time: 0:00:31||\n",
      "Episode 4|Iteration 287|reward:  136.0|last_reward_at:   92|Elapsed Time: 0:00:32||\n",
      "Episode 4|Iteration 288|reward:  136.0|last_reward_at:   92|Elapsed Time: 0:00:32||\n",
      "Episode 4|Iteration 290|reward:  136.0|last_reward_at:   92|Elapsed Time: 0:00:32||\n",
      "Episode 4|Iteration 291|reward:  136.0|last_reward_at:   92|Elapsed Time: 0:00:32||\n",
      "Episode 4|Iteration 293|reward:  136.0|last_reward_at:   92|Elapsed Time: 0:00:32||\n",
      "Episode 4|Iteration 294|reward:  136.0|last_reward_at:   92|Elapsed Time: 0:00:32||\n",
      "Episode 4|Iteration 295|reward:  136.0|last_reward_at:   92|Elapsed Time: 0:00:32||\n",
      "Episode 4|Iteration 297|reward:  136.0|last_reward_at:   92|Elapsed Time: 0:00:32||\n",
      "Episode 4|Iteration 297|reward:  136.0|last_reward_at:   92|Elapsed Time: 0:00:32||\n",
      "Episode 4|Iteration 299|reward:  136.0|last_reward_at:   92|Elapsed Time: 0:00:33||\n",
      "Episode 4|Iteration 301|reward:  136.0|last_reward_at:   92|Elapsed Time: 0:00:33||\n",
      "Episode 4|Iteration 303|reward:  136.0|last_reward_at:   92|Elapsed Time: 0:00:33||\n",
      "Episode 4|Iteration 304|reward:  136.0|last_reward_at:   92|Elapsed Time: 0:00:33||\n",
      "Episode 4|Iteration 305|reward:  136.0|last_reward_at:   92|Elapsed Time: 0:00:34||\n",
      "Episode 4|Iteration 306|reward:  136.0|last_reward_at:   92|Elapsed Time: 0:00:34||\n",
      "Episode 4|Iteration 307|reward:  136.0|last_reward_at:   92|Elapsed Time: 0:00:34||\n",
      "Episode 4|Iteration 308|reward:  136.0|last_reward_at:   92|Elapsed Time: 0:00:34||\n",
      "Episode 4|Iteration 309|reward:  136.0|last_reward_at:   92|Elapsed Time: 0:00:34||\n",
      "Episode 4|Iteration 310|reward:  136.0|last_reward_at:   92|Elapsed Time: 0:00:34||\n",
      "Episode 4|Iteration 311|reward:  136.0|last_reward_at:   92|Elapsed Time: 0:00:35||\n",
      "Episode 4|Iteration 312|reward:  136.0|last_reward_at:   92|Elapsed Time: 0:00:35||\n",
      "Episode 4|Iteration 313|reward:  136.0|last_reward_at:   92|Elapsed Time: 0:00:35||\n",
      "Episode 4|Iteration 314|reward:  136.0|last_reward_at:   92|Elapsed Time: 0:00:35||\n",
      "Episode 4|Iteration 315|reward:  136.0|last_reward_at:   92|Elapsed Time: 0:00:35||\n",
      "Episode 4|Iteration 316|reward:  136.0|last_reward_at:   92|Elapsed Time: 0:00:35||\n",
      "Episode 4|Iteration 318|reward:  136.0|last_reward_at:   92|Elapsed Time: 0:00:35||\n",
      "Episode 4|Iteration 319|reward:  136.0|last_reward_at:   92|Elapsed Time: 0:00:36||\n",
      "Episode 4|Iteration 320|reward:  136.0|last_reward_at:   92|Elapsed Time: 0:00:36||\n",
      "Episode 4|Iteration 322|reward:  136.0|last_reward_at:   92|Elapsed Time: 0:00:36||\n",
      "Episode 4|Iteration 323|reward:  136.0|last_reward_at:   92|Elapsed Time: 0:00:36||\n",
      "Episode 4|Iteration 324|reward:  136.0|last_reward_at:   92|Elapsed Time: 0:00:36||\n",
      "Episode 4|Iteration 325|reward:  136.0|last_reward_at:   92|Elapsed Time: 0:00:36||\n",
      "Episode 4|Iteration 326|reward:  136.0|last_reward_at:   92|Elapsed Time: 0:00:36||\n",
      "Episode 4|Iteration 327|reward:  136.0|last_reward_at:   92|Elapsed Time: 0:00:36||\n",
      "Episode 4|Iteration 328|reward:  136.0|last_reward_at:   92|Elapsed Time: 0:00:37||\n",
      "Episode 4|Iteration 329|reward:  136.0|last_reward_at:   92|Elapsed Time: 0:00:37||\n",
      "Episode 4|Iteration 331|reward:  136.0|last_reward_at:   92|Elapsed Time: 0:00:37||\n",
      "Episode 4|Iteration 332|reward:  136.0|last_reward_at:   92|Elapsed Time: 0:00:37||\n",
      "Episode 4|Iteration 333|reward:  136.0|last_reward_at:   92|Elapsed Time: 0:00:37||\n",
      "Episode 4|Iteration 335|reward:  136.0|last_reward_at:   92|Elapsed Time: 0:00:37||\n",
      "Episode 4|Iteration 336|reward:  136.0|last_reward_at:   92|Elapsed Time: 0:00:37||\n",
      "Episode 4|Iteration 338|reward:  136.0|last_reward_at:   92|Elapsed Time: 0:00:38||\n",
      "Episode 4|Iteration 340|reward:  136.0|last_reward_at:   92|Elapsed Time: 0:00:38||\n",
      "Episode 4|Iteration 342|reward:  136.0|last_reward_at:   92|Elapsed Time: 0:00:38||\n",
      "Episode 4|Iteration 343|reward:  136.0|last_reward_at:   92|Elapsed Time: 0:00:38||\n",
      "Episode 4|Iteration 344|reward:  136.0|last_reward_at:   92|Elapsed Time: 0:00:38||\n",
      "Episode 4|Iteration 346|reward:  136.0|last_reward_at:   92|Elapsed Time: 0:00:38||\n",
      "Episode 4|Iteration 347|reward:  136.0|last_reward_at:   92|Elapsed Time: 0:00:38||\n",
      "Episode 4|Iteration 348|reward:  136.0|last_reward_at:   92|Elapsed Time: 0:00:39||\n",
      "Episode 4|Iteration 349|reward:  136.0|last_reward_at:   92|Elapsed Time: 0:00:39||\n",
      "Episode 4|Iteration 350|reward:  136.0|last_reward_at:   92|Elapsed Time: 0:00:39||\n",
      "Episode 4|Iteration 351|reward:  136.0|last_reward_at:   92|Elapsed Time: 0:00:39||\n",
      "Episode 4|Iteration 352|reward:  136.0|last_reward_at:   92|Elapsed Time: 0:00:39||\n",
      "Episode 4|Iteration 353|reward:  136.0|last_reward_at:   92|Elapsed Time: 0:00:39||\n",
      "Episode 4|Iteration 354|reward:  136.0|last_reward_at:   92|Elapsed Time: 0:00:39||\n",
      "Episode 4|Iteration 355|reward:  136.0|last_reward_at:   92|Elapsed Time: 0:00:39||\n",
      "Episode 4|Iteration 356|reward:  136.0|last_reward_at:   92|Elapsed Time: 0:00:40||\n",
      "Episode 4|Iteration 357|reward:  136.0|last_reward_at:   92|Elapsed Time: 0:00:40||\n",
      "Episode 4|Iteration 358|reward:  136.0|last_reward_at:   92|Elapsed Time: 0:00:40||\n",
      "Episode 4|Iteration 359|reward:  136.0|last_reward_at:   92|Elapsed Time: 0:00:40||\n",
      "Episode 4|Iteration 360|reward:  136.0|last_reward_at:   92|Elapsed Time: 0:00:40||\n",
      "Episode 4|Iteration 361|reward:  136.0|last_reward_at:   92|Elapsed Time: 0:00:40||\n",
      "Episode 4|Iteration 362|reward:  136.0|last_reward_at:   92|Elapsed Time: 0:00:40||\n",
      "Episode 4|Iteration 363|reward:  136.0|last_reward_at:   92|Elapsed Time: 0:00:40||\n",
      "Episode 4|Iteration 364|reward:  136.0|last_reward_at:   92|Elapsed Time: 0:00:41||\n",
      "Episode 4|Iteration 365|reward:  136.0|last_reward_at:   92|Elapsed Time: 0:00:41||\n",
      "Episode 4|Iteration 366|reward:  136.0|last_reward_at:   92|Elapsed Time: 0:00:41||\n",
      "Episode 4|Iteration 367|reward:  136.0|last_reward_at:   92|Elapsed Time: 0:00:41||\n",
      "Episode 4|Iteration 368|reward:  136.0|last_reward_at:   92|Elapsed Time: 0:00:41||\n",
      "Episode 4|Iteration 369|reward:  136.0|last_reward_at:   92|Elapsed Time: 0:00:41||\n",
      "Episode 4|Iteration 370|reward:  136.0|last_reward_at:   92|Elapsed Time: 0:00:41||\n",
      "Episode 4|Iteration 371|reward:  136.0|last_reward_at:   92|Elapsed Time: 0:00:42||\n",
      "Episode 4|Iteration 372|reward:  136.0|last_reward_at:   92|Elapsed Time: 0:00:42||\n",
      "Episode 4|Iteration 373|reward:  136.0|last_reward_at:   92|Elapsed Time: 0:00:42||\n",
      "Episode 4|Iteration 374|reward:  136.0|last_reward_at:   92|Elapsed Time: 0:00:42||\n",
      "Episode 4|Iteration 375|reward:  136.0|last_reward_at:   92|Elapsed Time: 0:00:42||\n",
      "Episode 4|Iteration 376|reward:  136.0|last_reward_at:   92|Elapsed Time: 0:00:42||\n",
      "Episode 4|Iteration 377|reward:  136.0|last_reward_at:   92|Elapsed Time: 0:00:42||\n",
      "Episode 4|Iteration 378|reward:  136.0|last_reward_at:   92|Elapsed Time: 0:00:43||\n",
      "Episode 4|Iteration 379|reward:  136.0|last_reward_at:   92|Elapsed Time: 0:00:43||\n",
      "Episode 4|Iteration 380|reward:  136.0|last_reward_at:   92|Elapsed Time: 0:00:43||\n",
      "Episode 4|Iteration 381|reward:  136.0|last_reward_at:   92|Elapsed Time: 0:00:43||\n",
      "Episode 4|Iteration 382|reward:  136.0|last_reward_at:   92|Elapsed Time: 0:00:44||\n",
      "Episode 4|Iteration 383|reward:  136.0|last_reward_at:   92|Elapsed Time: 0:00:44||\n",
      "Episode 4|Iteration 384|reward:  136.0|last_reward_at:   92|Elapsed Time: 0:00:44||\n",
      "Episode 4|Iteration 385|reward:  136.0|last_reward_at:   92|Elapsed Time: 0:00:44||\n",
      "Episode 4|Iteration 386|reward:  136.0|last_reward_at:   92|Elapsed Time: 0:00:44||\n",
      "Episode 4|Iteration 387|reward:  136.0|last_reward_at:   92|Elapsed Time: 0:00:44||\n",
      "Episode 4|Iteration 388|reward:  136.0|last_reward_at:   92|Elapsed Time: 0:00:44||\n",
      "Episode 4|Iteration 389|reward:  136.0|last_reward_at:   92|Elapsed Time: 0:00:44||\n",
      "Episode 4|Iteration 390|reward:  136.0|last_reward_at:   92|Elapsed Time: 0:00:45||\n",
      "Episode 4|Iteration 391|reward:  136.0|last_reward_at:   92|Elapsed Time: 0:00:45||\n",
      "Episode 4|Iteration 392|reward:  136.0|last_reward_at:   92|Elapsed Time: 0:00:45||\n",
      "Episode 4|Iteration 393|reward:  136.0|last_reward_at:   92|Elapsed Time: 0:00:45||\n",
      "Episode 4|Iteration 394|reward:  136.0|last_reward_at:   92|Elapsed Time: 0:00:45||\n",
      "Episode 4|Iteration 395|reward:  136.0|last_reward_at:   92|Elapsed Time: 0:00:45||\n",
      "Episode 4|Iteration 396|reward:  136.0|last_reward_at:   92|Elapsed Time: 0:00:45||\n",
      "Episode 4|Iteration 397|reward:  136.0|last_reward_at:   92|Elapsed Time: 0:00:45||\n",
      "Episode 4|Iteration 398|reward:  136.0|last_reward_at:   92|Elapsed Time: 0:00:46||\n",
      "Episode 4|Iteration 399|reward:  136.0|last_reward_at:   92|Elapsed Time: 0:00:46||\n",
      "Episode 4|Iteration 400|reward:  136.0|last_reward_at:   92|Elapsed Time: 0:00:46||\n",
      "Episode 4|Iteration 401|reward:  136.0|last_reward_at:   92|Elapsed Time: 0:00:46||\n",
      "Episode 4|Iteration 402|reward:  136.0|last_reward_at:   92|Elapsed Time: 0:00:46||\n",
      "Episode 4|Iteration 403|reward:  136.0|last_reward_at:   92|Elapsed Time: 0:00:46||\n",
      "Episode 4|Iteration 404|reward:  136.0|last_reward_at:   92|Elapsed Time: 0:00:46||\n",
      "Episode 4|Iteration 405|reward:  136.0|last_reward_at:   92|Elapsed Time: 0:00:46||\n",
      "Episode 4|Iteration 406|reward:  136.0|last_reward_at:   92|Elapsed Time: 0:00:47||\n",
      "Episode 4|Iteration 407|reward:  136.0|last_reward_at:   92|Elapsed Time: 0:00:47||\n",
      "Episode 4|Iteration 408|reward:  136.0|last_reward_at:   92|Elapsed Time: 0:00:47||\n",
      "Episode 4|Iteration 409|reward:  136.0|last_reward_at:   92|Elapsed Time: 0:00:47||\n",
      "Episode 4|Iteration 410|reward:  136.0|last_reward_at:   92|Elapsed Time: 0:00:47||\n",
      "Episode 4|Iteration 411|reward:  136.0|last_reward_at:   92|Elapsed Time: 0:00:47||\n",
      "Episode 4|Iteration 412|reward:  136.0|last_reward_at:   92|Elapsed Time: 0:00:47||\n",
      "Episode 4|Iteration 413|reward:  136.0|last_reward_at:   92|Elapsed Time: 0:00:47||\n",
      "Episode 4|Iteration 414|reward:  136.0|last_reward_at:   92|Elapsed Time: 0:00:48||\n",
      "Episode 4|Iteration 415|reward:  136.0|last_reward_at:   92|Elapsed Time: 0:00:48||\n",
      "Episode 4|Iteration 416|reward:  136.0|last_reward_at:   92|Elapsed Time: 0:00:48||\n",
      "Episode 4|Iteration 417|reward:  136.0|last_reward_at:   92|Elapsed Time: 0:00:48||\n",
      "Episode 4|Iteration 418|reward:  136.0|last_reward_at:   92|Elapsed Time: 0:00:48||\n",
      "Episode 4|Iteration 419|reward:  136.0|last_reward_at:   92|Elapsed Time: 0:00:48||\n",
      "Episode 4|Iteration 420|reward:  136.0|last_reward_at:   92|Elapsed Time: 0:00:48||\n",
      "Episode 4|Iteration 421|reward:  136.0|last_reward_at:   92|Elapsed Time: 0:00:49||\n",
      "Episode 4|Iteration 422|reward:  136.0|last_reward_at:   92|Elapsed Time: 0:00:49||\n",
      "Episode 4|Iteration 423|reward:  136.0|last_reward_at:   92|Elapsed Time: 0:00:49||\n",
      "Episode 4|Iteration 424|reward:  136.0|last_reward_at:   92|Elapsed Time: 0:00:49||\n",
      "Episode 4|Iteration 425|reward:  136.0|last_reward_at:   92|Elapsed Time: 0:00:49||\n",
      "Episode 4|Iteration 426|reward:  136.0|last_reward_at:   92|Elapsed Time: 0:00:49||\n",
      "Episode 4|Iteration 427|reward:  136.0|last_reward_at:   92|Elapsed Time: 0:00:49||\n",
      "Episode 4|Iteration 428|reward:  136.0|last_reward_at:   92|Elapsed Time: 0:00:49||\n",
      "Episode 4|Iteration 429|reward:  136.0|last_reward_at:   92|Elapsed Time: 0:00:49||\n",
      "Episode 4|Iteration 430|reward:  136.0|last_reward_at:   92|Elapsed Time: 0:00:50||\n",
      "Episode 4|Iteration 431|reward:  136.0|last_reward_at:   92|Elapsed Time: 0:00:50||\n",
      "Episode 4|Iteration 432|reward:  136.0|last_reward_at:   92|Elapsed Time: 0:00:50||\n",
      "Episode 4|Iteration 433|reward:  136.0|last_reward_at:   92|Elapsed Time: 0:00:50||\n",
      "Episode 4|Iteration 434|reward:  136.0|last_reward_at:   92|Elapsed Time: 0:00:50||\n",
      "Episode 4|Iteration 435|reward:  136.0|last_reward_at:   92|Elapsed Time: 0:00:50||\n",
      "Episode 4|Iteration 436|reward:  136.0|last_reward_at:   92|Elapsed Time: 0:00:50||\n",
      "Episode 4|Iteration 437|reward:  136.0|last_reward_at:   92|Elapsed Time: 0:00:50||\n",
      "Episode 4|Iteration 438|reward:  136.0|last_reward_at:   92|Elapsed Time: 0:00:51||\n",
      "Episode 4|Iteration 439|reward:  136.0|last_reward_at:   92|Elapsed Time: 0:00:51||\n",
      "Episode 4|Iteration 440|reward:  136.0|last_reward_at:   92|Elapsed Time: 0:00:51||\n",
      "Episode 4|Iteration 441|reward:  136.0|last_reward_at:   92|Elapsed Time: 0:00:51||\n",
      "Episode 4|Iteration 442|reward:  136.0|last_reward_at:   92|Elapsed Time: 0:00:51||\n",
      "Episode 4|Iteration 443|reward:  136.0|last_reward_at:   92|Elapsed Time: 0:00:51||\n",
      "Episode 4|Iteration 444|reward:  136.0|last_reward_at:   92|Elapsed Time: 0:00:52||\n",
      "Episode 4|Iteration 445|reward:  136.0|last_reward_at:   92|Elapsed Time: 0:00:52||\n",
      "Episode 4|Iteration 446|reward:  136.0|last_reward_at:   92|Elapsed Time: 0:00:52||\n",
      "Episode 4|Iteration 447|reward:  136.0|last_reward_at:   92|Elapsed Time: 0:00:52||\n",
      "Episode 4|Iteration 448|reward:  136.0|last_reward_at:   92|Elapsed Time: 0:00:53||\n",
      "Episode 4|Iteration 449|reward:  136.0|last_reward_at:   92|Elapsed Time: 0:00:53||\n",
      "Episode 4|Iteration 450|reward:  136.0|last_reward_at:   92|Elapsed Time: 0:00:53||\n",
      "Episode 4|Iteration 451|reward:  136.0|last_reward_at:   92|Elapsed Time: 0:00:53||\n",
      "Episode 4|Iteration 452|reward:  136.0|last_reward_at:   92|Elapsed Time: 0:00:53||\n",
      "Episode 4|Iteration 453|reward:  136.0|last_reward_at:   92|Elapsed Time: 0:00:53||\n",
      "Episode 4|Iteration 454|reward:  136.0|last_reward_at:   92|Elapsed Time: 0:00:53||\n",
      "Episode 4|Iteration 455|reward:  136.0|last_reward_at:   92|Elapsed Time: 0:00:53||\n",
      "Episode 4|Iteration 456|reward:  136.0|last_reward_at:   92|Elapsed Time: 0:00:54||\n",
      "Episode 4|Iteration 457|reward:  136.0|last_reward_at:   92|Elapsed Time: 0:00:54||\n",
      "Episode 4|Iteration 458|reward:  136.0|last_reward_at:   92|Elapsed Time: 0:00:54||\n",
      "Episode 4|Iteration 459|reward:  136.0|last_reward_at:   92|Elapsed Time: 0:00:54||\n",
      "Episode 4|Iteration 460|reward:  136.0|last_reward_at:   92|Elapsed Time: 0:00:54||\n",
      "Episode 4|Iteration 461|reward:  136.0|last_reward_at:   92|Elapsed Time: 0:00:54||\n",
      "Episode 4|Iteration 462|reward:  136.0|last_reward_at:   92|Elapsed Time: 0:00:54||\n",
      "Episode 4|Iteration 463|reward:  136.0|last_reward_at:   92|Elapsed Time: 0:00:54||\n",
      "Episode 4|Iteration 464|reward:  136.0|last_reward_at:   92|Elapsed Time: 0:00:54||\n",
      "Episode 4|Iteration 465|reward:  136.0|last_reward_at:   92|Elapsed Time: 0:00:55||\n",
      "Episode 4|Iteration 466|reward:  136.0|last_reward_at:   92|Elapsed Time: 0:00:55||\n",
      "Episode 4|Iteration 467|reward:  136.0|last_reward_at:   92|Elapsed Time: 0:00:55||\n",
      "Episode 4|Iteration 468|reward:  136.0|last_reward_at:   92|Elapsed Time: 0:00:55||\n",
      "Episode 4|Iteration 469|reward:  136.0|last_reward_at:   92|Elapsed Time: 0:00:55||\n",
      "Episode 4|Iteration 470|reward:  136.0|last_reward_at:   92|Elapsed Time: 0:00:55||\n",
      "Episode 4|Iteration 471|reward:  136.0|last_reward_at:   92|Elapsed Time: 0:00:55||\n",
      "Episode 4|Iteration 472|reward:  136.0|last_reward_at:   92|Elapsed Time: 0:00:56||\n",
      "Episode 4|Iteration 473|reward:  136.0|last_reward_at:   92|Elapsed Time: 0:00:56||\n",
      "Episode 4|Iteration 474|reward:  136.0|last_reward_at:   92|Elapsed Time: 0:00:56||\n",
      "Episode 4|Iteration 475|reward:  136.0|last_reward_at:   92|Elapsed Time: 0:00:56||\n",
      "Episode 4|Iteration 476|reward:  136.0|last_reward_at:   92|Elapsed Time: 0:00:56||\n",
      "Episode 4|Iteration 478|reward:  136.0|last_reward_at:   92|Elapsed Time: 0:00:56||\n",
      "Episode 4|Iteration 479|reward:  136.0|last_reward_at:   92|Elapsed Time: 0:00:56||\n",
      "Episode 4|Iteration 480|reward:  136.0|last_reward_at:   92|Elapsed Time: 0:00:56||\n",
      "Episode 4|Iteration 481|reward:  136.0|last_reward_at:   92|Elapsed Time: 0:00:57||\n",
      "Episode 4|Iteration 482|reward:  136.0|last_reward_at:   92|Elapsed Time: 0:00:57||\n",
      "Episode 4|Iteration 483|reward:  136.0|last_reward_at:   92|Elapsed Time: 0:00:57||\n",
      "Episode 4|Iteration 484|reward:  136.0|last_reward_at:   92|Elapsed Time: 0:00:57||\n",
      "Episode 4|Iteration 485|reward:  136.0|last_reward_at:   92|Elapsed Time: 0:00:57||\n",
      "Episode 4|Iteration 486|reward:  136.0|last_reward_at:   92|Elapsed Time: 0:00:57||\n",
      "Episode 4|Iteration 487|reward:  136.0|last_reward_at:   92|Elapsed Time: 0:00:57||\n",
      "Episode 4|Iteration 488|reward:  136.0|last_reward_at:   92|Elapsed Time: 0:00:57||\n",
      "Episode 4|Iteration 489|reward:  136.0|last_reward_at:   92|Elapsed Time: 0:00:58||\n",
      "Episode 4|Iteration 490|reward:  136.0|last_reward_at:   92|Elapsed Time: 0:00:58||\n",
      "Episode 4|Iteration 491|reward:  136.0|last_reward_at:   92|Elapsed Time: 0:00:58||\n",
      "Episode 4|Iteration 492|reward:  136.0|last_reward_at:   92|Elapsed Time: 0:00:58||\n",
      "Episode 4|Iteration 493|reward:  136.0|last_reward_at:   92|Elapsed Time: 0:00:58||\n",
      "Episode 4|Iteration 494|reward:  136.0|last_reward_at:   92|Elapsed Time: 0:00:58||\n",
      "Episode 4|Iteration 495|reward:  136.0|last_reward_at:   92|Elapsed Time: 0:00:58||\n",
      "Episode 4|Iteration 496|reward:  136.0|last_reward_at:   92|Elapsed Time: 0:00:58||\n",
      "Episode 4|Iteration 497|reward:  136.0|last_reward_at:   92|Elapsed Time: 0:00:59||\n",
      "Episode 4|Iteration 498|reward:  136.0|last_reward_at:   92|Elapsed Time: 0:00:59||\n",
      "Episode 4|Iteration 499|reward:  136.0|last_reward_at:   92|Elapsed Time: 0:00:59||\n",
      "Episode 4|Iteration 500|reward:  136.0|last_reward_at:   92|Elapsed Time: 0:00:59||\n",
      "Episode 4|Iteration 501|reward:  136.0|last_reward_at:   92|Elapsed Time: 0:00:59||\n",
      "Episode 4|Iteration 502|reward:  136.0|last_reward_at:   92|Elapsed Time: 0:00:59||\n",
      "Episode 4|Iteration 503|reward:  136.0|last_reward_at:   92|Elapsed Time: 0:00:59||\n",
      "Episode 4|Iteration 504|reward:  136.0|last_reward_at:   92|Elapsed Time: 0:01:00||\n",
      "Episode 4|Iteration 505|reward:  136.0|last_reward_at:   92|Elapsed Time: 0:01:00||\n",
      "Episode 4|Iteration 506|reward:  136.0|last_reward_at:   92|Elapsed Time: 0:01:00||\n",
      "Episode 4|Iteration 507|reward:  136.0|last_reward_at:   92|Elapsed Time: 0:01:00||\n",
      "Episode 4|Iteration 508|reward:  136.0|last_reward_at:   92|Elapsed Time: 0:01:00||\n",
      "Episode 4|Iteration 509|reward:  136.0|last_reward_at:   92|Elapsed Time: 0:01:00||\n",
      "Episode 4|Iteration 510|reward:  136.0|last_reward_at:   92|Elapsed Time: 0:01:01||\n",
      "Episode 4|Iteration 511|reward:  136.0|last_reward_at:   92|Elapsed Time: 0:01:01||\n",
      "Episode 4|Iteration 512|reward:  136.0|last_reward_at:   92|Elapsed Time: 0:01:01||\n",
      "Episode 4|Iteration 513|reward:  136.0|last_reward_at:   92|Elapsed Time: 0:01:01||\n",
      "Episode 4|Iteration 514|reward:  136.0|last_reward_at:   92|Elapsed Time: 0:01:01||\n",
      "Episode 4|Iteration 515|reward:  136.0|last_reward_at:   92|Elapsed Time: 0:01:01||\n",
      "Episode 4|Iteration 516|reward:  136.0|last_reward_at:   92|Elapsed Time: 0:01:02||\n",
      "Episode 4|Iteration 517|reward:  136.0|last_reward_at:   92|Elapsed Time: 0:01:02||\n",
      "Episode 4|Iteration 518|reward:  136.0|last_reward_at:   92|Elapsed Time: 0:01:02||\n",
      "Episode 4|Iteration 519|reward:  136.0|last_reward_at:   92|Elapsed Time: 0:01:02||\n",
      "Episode 4|Iteration 520|reward:  136.0|last_reward_at:   92|Elapsed Time: 0:01:02||\n",
      "Episode 4|Iteration 521|reward:  136.0|last_reward_at:   92|Elapsed Time: 0:01:02||\n",
      "Episode 4|Iteration 522|reward:  136.0|last_reward_at:   92|Elapsed Time: 0:01:02||\n",
      "Episode 4|Iteration 523|reward:  136.0|last_reward_at:   92|Elapsed Time: 0:01:03||\n",
      "Episode 4|Iteration 524|reward:  136.0|last_reward_at:   92|Elapsed Time: 0:01:03||\n",
      "Episode 4|Iteration 525|reward:  136.0|last_reward_at:   92|Elapsed Time: 0:01:03||\n",
      "Episode 4|Iteration 526|reward:  136.0|last_reward_at:   92|Elapsed Time: 0:01:03||\n",
      "Episode 4|Iteration 527|reward:  136.0|last_reward_at:   92|Elapsed Time: 0:01:03||\n",
      "Episode 4|Iteration 528|reward:  136.0|last_reward_at:   92|Elapsed Time: 0:01:03||\n",
      "Episode 4|Iteration 529|reward:  136.0|last_reward_at:   92|Elapsed Time: 0:01:03||\n",
      "Episode 4|Iteration 530|reward:  136.0|last_reward_at:   92|Elapsed Time: 0:01:03||\n",
      "Episode 4|Iteration 531|reward:  136.0|last_reward_at:   92|Elapsed Time: 0:01:04||\n",
      "Episode 4|Iteration 532|reward:  136.0|last_reward_at:   92|Elapsed Time: 0:01:04||\n",
      "Episode 4|Iteration 533|reward:  136.0|last_reward_at:   92|Elapsed Time: 0:01:04||\n",
      "Episode 4|Iteration 534|reward:  136.0|last_reward_at:   92|Elapsed Time: 0:01:04||\n",
      "Episode 4|Iteration 535|reward:  136.0|last_reward_at:   92|Elapsed Time: 0:01:04||\n",
      "Episode 4|Iteration 536|reward:  136.0|last_reward_at:   92|Elapsed Time: 0:01:04||\n",
      "Episode 4|Iteration 537|reward:  136.0|last_reward_at:   92|Elapsed Time: 0:01:05||\n",
      "Episode 4|Iteration 538|reward:  136.0|last_reward_at:   92|Elapsed Time: 0:01:05||\n",
      "Episode 4|Iteration 539|reward:  136.0|last_reward_at:   92|Elapsed Time: 0:01:05||\n",
      "Episode 4|Iteration 540|reward:  136.0|last_reward_at:   92|Elapsed Time: 0:01:05||\n",
      "Episode 4|Iteration 541|reward:  136.0|last_reward_at:   92|Elapsed Time: 0:01:05||\n",
      "Episode 4|Iteration 542|reward:  136.0|last_reward_at:   92|Elapsed Time: 0:01:05||\n",
      "Episode 4|Iteration 543|reward:  136.0|last_reward_at:   92|Elapsed Time: 0:01:05||\n",
      "Episode 4|Iteration 544|reward:  136.0|last_reward_at:   92|Elapsed Time: 0:01:06||\n",
      "Episode 4|Iteration 545|reward:  136.0|last_reward_at:   92|Elapsed Time: 0:01:06||\n",
      "Episode 4|Iteration 546|reward:  136.0|last_reward_at:   92|Elapsed Time: 0:01:06||\n",
      "Episode 4|Iteration 547|reward:  136.0|last_reward_at:   92|Elapsed Time: 0:01:06||\n",
      "Episode 4|Iteration 548|reward:  136.0|last_reward_at:   92|Elapsed Time: 0:01:06||\n",
      "Episode 4|Iteration 549|reward:  136.0|last_reward_at:   92|Elapsed Time: 0:01:06||\n",
      "Episode 4|Iteration 550|reward:  136.0|last_reward_at:   92|Elapsed Time: 0:01:06||\n",
      "Episode 4|Iteration 551|reward:  136.0|last_reward_at:   92|Elapsed Time: 0:01:06||\n",
      "Episode 4|Iteration 552|reward:  136.0|last_reward_at:   92|Elapsed Time: 0:01:06||\n",
      "Episode 4|Iteration 553|reward:  136.0|last_reward_at:   92|Elapsed Time: 0:01:07||\n",
      "Episode 4|Iteration 554|reward:  136.0|last_reward_at:   92|Elapsed Time: 0:01:07||\n",
      "Episode 4|Iteration 555|reward:  136.0|last_reward_at:   92|Elapsed Time: 0:01:07||\n",
      "Episode 4|Iteration 556|reward:  136.0|last_reward_at:   92|Elapsed Time: 0:01:07||\n",
      "Episode 4|Iteration 557|reward:  136.0|last_reward_at:   92|Elapsed Time: 0:01:07||\n",
      "Episode 4|Iteration 558|reward:  136.0|last_reward_at:   92|Elapsed Time: 0:01:07||\n",
      "Episode 4|Iteration 559|reward:  136.0|last_reward_at:   92|Elapsed Time: 0:01:08||\n",
      "Episode 4|Iteration 560|reward:  136.0|last_reward_at:   92|Elapsed Time: 0:01:08||\n",
      "Episode 4|Iteration 561|reward:  136.0|last_reward_at:   92|Elapsed Time: 0:01:08||\n",
      "Episode 4|Iteration 562|reward:  136.0|last_reward_at:   92|Elapsed Time: 0:01:08||\n",
      "Episode 4|Iteration 563|reward:  136.0|last_reward_at:   92|Elapsed Time: 0:01:08||\n",
      "Episode 4|Iteration 564|reward:  136.0|last_reward_at:   92|Elapsed Time: 0:01:08||\n",
      "Episode 4|Iteration 565|reward:  136.0|last_reward_at:   92|Elapsed Time: 0:01:08||\n",
      "Episode 4|Iteration 566|reward:  136.0|last_reward_at:   92|Elapsed Time: 0:01:08||\n",
      "Episode 4|Iteration 567|reward:  136.0|last_reward_at:   92|Elapsed Time: 0:01:09||\n",
      "Episode 4|Iteration 568|reward:  136.0|last_reward_at:   92|Elapsed Time: 0:01:09||\n",
      "Episode 4|Iteration 569|reward:  136.0|last_reward_at:   92|Elapsed Time: 0:01:09||\n",
      "Episode 4|Iteration 570|reward:  136.0|last_reward_at:   92|Elapsed Time: 0:01:09||\n",
      "Episode 4|Iteration 571|reward:  136.0|last_reward_at:   92|Elapsed Time: 0:01:09||\n",
      "Episode 4|Iteration 572|reward:  136.0|last_reward_at:   92|Elapsed Time: 0:01:09||\n",
      "Episode 4|Iteration 573|reward:  136.0|last_reward_at:   92|Elapsed Time: 0:01:09||\n",
      "Episode 4|Iteration 574|reward:  136.0|last_reward_at:   92|Elapsed Time: 0:01:09||\n",
      "Episode 4|Iteration 575|reward:  136.0|last_reward_at:   92|Elapsed Time: 0:01:09||\n",
      "Episode 4|Iteration 576|reward:  136.0|last_reward_at:   92|Elapsed Time: 0:01:10||\n",
      "Episode 4|Iteration 577|reward:  136.0|last_reward_at:   92|Elapsed Time: 0:01:10||\n",
      "Episode 4|Iteration 578|reward:  136.0|last_reward_at:   92|Elapsed Time: 0:01:10||\n",
      "Episode 4|Iteration 579|reward:  136.0|last_reward_at:   92|Elapsed Time: 0:01:11||\n",
      "Episode 4|Iteration 580|reward:  136.0|last_reward_at:   92|Elapsed Time: 0:01:11||\n",
      "Episode 4|Iteration 581|reward:  136.0|last_reward_at:   92|Elapsed Time: 0:01:11||\n",
      "Episode 4|Iteration 582|reward:  136.0|last_reward_at:   92|Elapsed Time: 0:01:11||\n",
      "Episode 4|Iteration 583|reward:  136.0|last_reward_at:   92|Elapsed Time: 0:01:12||\n",
      "Episode 4|Iteration 584|reward:  136.0|last_reward_at:   92|Elapsed Time: 0:01:12||\n",
      "Episode 4|Iteration 585|reward:  136.0|last_reward_at:   92|Elapsed Time: 0:01:12||\n",
      "Episode 4|Iteration 586|reward:  136.0|last_reward_at:   92|Elapsed Time: 0:01:12||\n",
      "Episode 4|Iteration 587|reward:  136.0|last_reward_at:   92|Elapsed Time: 0:01:12||\n",
      "Episode 4|Iteration 588|reward:  136.0|last_reward_at:   92|Elapsed Time: 0:01:12||\n",
      "Episode 4|Iteration 589|reward:  136.0|last_reward_at:   92|Elapsed Time: 0:01:12||\n",
      "Episode 4|Iteration 590|reward:  136.0|last_reward_at:   92|Elapsed Time: 0:01:13||\n",
      "Episode 4|Iteration 591|reward:  136.0|last_reward_at:   92|Elapsed Time: 0:01:13||\n",
      "Episode 4|Iteration 592|reward:  136.0|last_reward_at:   92|Elapsed Time: 0:01:13||\n",
      "Episode 4|Iteration 593|reward:  136.0|last_reward_at:   92|Elapsed Time: 0:01:13||\n",
      "Episode 4|Iteration 594|reward:  136.0|last_reward_at:   92|Elapsed Time: 0:01:13||\n",
      "Episode 4|Iteration 595|reward:  136.0|last_reward_at:   92|Elapsed Time: 0:01:13||\n",
      "Episode 4|Iteration 596|reward:  136.0|last_reward_at:   92|Elapsed Time: 0:01:13||\n",
      "Episode 4|Iteration 597|reward:  136.0|last_reward_at:   92|Elapsed Time: 0:01:13||\n",
      "Episode 4|Iteration 598|reward:  136.0|last_reward_at:   92|Elapsed Time: 0:01:14||\n",
      "Episode 4|Iteration 599|reward:  136.0|last_reward_at:   92|Elapsed Time: 0:01:14||\n",
      "Episode 4|Iteration 600|reward:  136.0|last_reward_at:   92|Elapsed Time: 0:01:14||\n",
      "Episode 4|Iteration 600|reward:  136.0|last_reward_at:   92|Elapsed Time: 0:01:14||\n"
     ]
    },
    {
     "name": "stdout",
     "output_type": "stream",
     "text": [
      "  Episode 4 stopped at t=600 \n",
      "  Breakdown [Reward/NoReward (Success rate)]\n",
      "    explore-local: 0/1 (0.00)\n",
      "    explore-remote: 1/1 (0.50)\n",
      "    explore-connect: 0/1 (0.00)\n",
      "    exploit-local: 2/6 (0.25)\n",
      "    exploit-remote: 2/344 (0.01)\n",
      "    exploit-connect: 1/241 (0.00)\n",
      "  exploit deflected to exploration: 4\n",
      "  ## Episode: 5/10 'Exploiting DQL' ϵ=0.0000, γ=0.15, lr=0.01, replaymemory=10000,\n",
      "batch=256, target_update=5\n"
     ]
    },
    {
     "name": "stderr",
     "output_type": "stream",
     "text": [
      "Episode 5|Iteration 0|reward: ------|last_reward_at: ----|Elapsed Time: 0:00:00||\n",
      "Episode 5|Iteration 1|reward:    6.0|last_reward_at: ----|Elapsed Time: 0:00:00||\n",
      "Episode 5|Iteration 1|reward:    6.0|last_reward_at:    1|Elapsed Time: 0:00:00||\n",
      "Episode 5|Iteration 2|reward:    6.0|last_reward_at:    1|Elapsed Time: 0:00:00||\n",
      "Episode 5|Iteration 3|reward:    6.0|last_reward_at:    1|Elapsed Time: 0:00:00||\n",
      "Episode 5|Iteration 4|reward:    6.0|last_reward_at:    1|Elapsed Time: 0:00:00||\n",
      "Episode 5|Iteration 5|reward:   12.0|last_reward_at:    1|Elapsed Time: 0:00:01||\n",
      "Episode 5|Iteration 5|reward:   12.0|last_reward_at:    5|Elapsed Time: 0:00:01||\n",
      "Episode 5|Iteration 6|reward:   21.0|last_reward_at:    5|Elapsed Time: 0:00:01||\n",
      "Episode 5|Iteration 6|reward:   21.0|last_reward_at:    6|Elapsed Time: 0:00:01||\n",
      "Episode 5|Iteration 7|reward:   21.0|last_reward_at:    6|Elapsed Time: 0:00:01||\n",
      "Episode 5|Iteration 8|reward:   21.0|last_reward_at:    6|Elapsed Time: 0:00:01||\n",
      "Episode 5|Iteration 9|reward:   21.0|last_reward_at:    6|Elapsed Time: 0:00:01||\n",
      "Episode 5|Iteration 10|reward:   21.0|last_reward_at:    6|Elapsed Time: 0:00:01||\n",
      "Episode 5|Iteration 11|reward:   21.0|last_reward_at:    6|Elapsed Time: 0:00:02||\n",
      "Episode 5|Iteration 12|reward:   21.0|last_reward_at:    6|Elapsed Time: 0:00:02||\n",
      "Episode 5|Iteration 13|reward:   21.0|last_reward_at:    6|Elapsed Time: 0:00:02||\n",
      "Episode 5|Iteration 14|reward:   21.0|last_reward_at:    6|Elapsed Time: 0:00:02||\n",
      "Episode 5|Iteration 15|reward:   21.0|last_reward_at:    6|Elapsed Time: 0:00:02||\n",
      "Episode 5|Iteration 16|reward:   21.0|last_reward_at:    6|Elapsed Time: 0:00:02||\n",
      "Episode 5|Iteration 17|reward:   21.0|last_reward_at:    6|Elapsed Time: 0:00:03||\n",
      "Episode 5|Iteration 18|reward:   21.0|last_reward_at:    6|Elapsed Time: 0:00:03||\n",
      "Episode 5|Iteration 19|reward:   21.0|last_reward_at:    6|Elapsed Time: 0:00:03||\n",
      "Episode 5|Iteration 20|reward:  121.0|last_reward_at:    6|Elapsed Time: 0:00:03||\n",
      "Episode 5|Iteration 20|reward:  121.0|last_reward_at:   20|Elapsed Time: 0:00:03||\n",
      "Episode 5|Iteration 21|reward:  130.0|last_reward_at:   20|Elapsed Time: 0:00:03||\n",
      "Episode 5|Iteration 21|reward:  130.0|last_reward_at:   21|Elapsed Time: 0:00:03||\n",
      "Episode 5|Iteration 22|reward:  130.0|last_reward_at:   21|Elapsed Time: 0:00:03||\n",
      "Episode 5|Iteration 23|reward:  130.0|last_reward_at:   21|Elapsed Time: 0:00:04||\n",
      "Episode 5|Iteration 24|reward:  130.0|last_reward_at:   21|Elapsed Time: 0:00:04||\n",
      "Episode 5|Iteration 25|reward:  130.0|last_reward_at:   21|Elapsed Time: 0:00:04||\n",
      "Episode 5|Iteration 26|reward:  130.0|last_reward_at:   21|Elapsed Time: 0:00:04||\n",
      "Episode 5|Iteration 27|reward:  130.0|last_reward_at:   21|Elapsed Time: 0:00:04||\n",
      "Episode 5|Iteration 28|reward:  130.0|last_reward_at:   21|Elapsed Time: 0:00:05||\n",
      "Episode 5|Iteration 29|reward:  130.0|last_reward_at:   21|Elapsed Time: 0:00:05||\n",
      "Episode 5|Iteration 30|reward:  130.0|last_reward_at:   21|Elapsed Time: 0:00:05||\n",
      "Episode 5|Iteration 31|reward:  130.0|last_reward_at:   21|Elapsed Time: 0:00:05||\n",
      "Episode 5|Iteration 32|reward:  130.0|last_reward_at:   21|Elapsed Time: 0:00:06||\n",
      "Episode 5|Iteration 33|reward:  130.0|last_reward_at:   21|Elapsed Time: 0:00:06||\n",
      "Episode 5|Iteration 34|reward:  130.0|last_reward_at:   21|Elapsed Time: 0:00:06||\n",
      "Episode 5|Iteration 35|reward:  130.0|last_reward_at:   21|Elapsed Time: 0:00:06||\n",
      "Episode 5|Iteration 36|reward:  130.0|last_reward_at:   21|Elapsed Time: 0:00:06||\n",
      "Episode 5|Iteration 37|reward:  130.0|last_reward_at:   21|Elapsed Time: 0:00:06||\n",
      "Episode 5|Iteration 38|reward:  130.0|last_reward_at:   21|Elapsed Time: 0:00:06||\n",
      "Episode 5|Iteration 39|reward:  130.0|last_reward_at:   21|Elapsed Time: 0:00:06||\n",
      "Episode 5|Iteration 40|reward:  130.0|last_reward_at:   21|Elapsed Time: 0:00:06||\n",
      "Episode 5|Iteration 41|reward:  130.0|last_reward_at:   21|Elapsed Time: 0:00:07||\n",
      "Episode 5|Iteration 42|reward:  130.0|last_reward_at:   21|Elapsed Time: 0:00:07||\n",
      "Episode 5|Iteration 43|reward:  130.0|last_reward_at:   21|Elapsed Time: 0:00:07||\n",
      "Episode 5|Iteration 44|reward:  130.0|last_reward_at:   21|Elapsed Time: 0:00:07||\n",
      "Episode 5|Iteration 45|reward:  130.0|last_reward_at:   21|Elapsed Time: 0:00:07||\n",
      "Episode 5|Iteration 46|reward:  130.0|last_reward_at:   21|Elapsed Time: 0:00:07||\n",
      "Episode 5|Iteration 47|reward:  130.0|last_reward_at:   21|Elapsed Time: 0:00:07||\n",
      "Episode 5|Iteration 48|reward:  130.0|last_reward_at:   21|Elapsed Time: 0:00:07||\n",
      "Episode 5|Iteration 49|reward:  130.0|last_reward_at:   21|Elapsed Time: 0:00:08||\n",
      "Episode 5|Iteration 50|reward:  130.0|last_reward_at:   21|Elapsed Time: 0:00:08||\n",
      "Episode 5|Iteration 51|reward:  130.0|last_reward_at:   21|Elapsed Time: 0:00:08||\n",
      "Episode 5|Iteration 52|reward:  130.0|last_reward_at:   21|Elapsed Time: 0:00:08||\n",
      "Episode 5|Iteration 53|reward:  130.0|last_reward_at:   21|Elapsed Time: 0:00:08||\n",
      "Episode 5|Iteration 54|reward:  130.0|last_reward_at:   21|Elapsed Time: 0:00:08||\n",
      "Episode 5|Iteration 55|reward:  130.0|last_reward_at:   21|Elapsed Time: 0:00:08||\n",
      "Episode 5|Iteration 56|reward:  130.0|last_reward_at:   21|Elapsed Time: 0:00:09||\n",
      "Episode 5|Iteration 57|reward:  130.0|last_reward_at:   21|Elapsed Time: 0:00:09||\n",
      "Episode 5|Iteration 58|reward:  130.0|last_reward_at:   21|Elapsed Time: 0:00:09||\n",
      "Episode 5|Iteration 59|reward:  130.0|last_reward_at:   21|Elapsed Time: 0:00:09||\n",
      "Episode 5|Iteration 60|reward:  130.0|last_reward_at:   21|Elapsed Time: 0:00:09||\n",
      "Episode 5|Iteration 61|reward:  130.0|last_reward_at:   21|Elapsed Time: 0:00:09||\n",
      "Episode 5|Iteration 62|reward:  130.0|last_reward_at:   21|Elapsed Time: 0:00:09||\n",
      "Episode 5|Iteration 63|reward:  130.0|last_reward_at:   21|Elapsed Time: 0:00:10||\n",
      "Episode 5|Iteration 64|reward:  130.0|last_reward_at:   21|Elapsed Time: 0:00:10||\n",
      "Episode 5|Iteration 65|reward:  130.0|last_reward_at:   21|Elapsed Time: 0:00:10||\n",
      "Episode 5|Iteration 66|reward:  130.0|last_reward_at:   21|Elapsed Time: 0:00:10||\n",
      "Episode 5|Iteration 67|reward:  130.0|last_reward_at:   21|Elapsed Time: 0:00:10||\n",
      "Episode 5|Iteration 68|reward:  130.0|last_reward_at:   21|Elapsed Time: 0:00:10||\n",
      "Episode 5|Iteration 69|reward:  130.0|last_reward_at:   21|Elapsed Time: 0:00:11||\n",
      "Episode 5|Iteration 70|reward:  130.0|last_reward_at:   21|Elapsed Time: 0:00:11||\n",
      "Episode 5|Iteration 71|reward:  130.0|last_reward_at:   21|Elapsed Time: 0:00:11||\n",
      "Episode 5|Iteration 72|reward:  130.0|last_reward_at:   21|Elapsed Time: 0:00:11||\n",
      "Episode 5|Iteration 73|reward:  130.0|last_reward_at:   21|Elapsed Time: 0:00:11||\n",
      "Episode 5|Iteration 74|reward:  130.0|last_reward_at:   21|Elapsed Time: 0:00:11||\n",
      "Episode 5|Iteration 75|reward:  130.0|last_reward_at:   21|Elapsed Time: 0:00:11||\n",
      "Episode 5|Iteration 76|reward:  130.0|last_reward_at:   21|Elapsed Time: 0:00:11||\n",
      "Episode 5|Iteration 77|reward:  136.0|last_reward_at:   21|Elapsed Time: 0:00:12||\n",
      "Episode 5|Iteration 77|reward:  136.0|last_reward_at:   77|Elapsed Time: 0:00:12||\n",
      "Episode 5|Iteration 78|reward:  136.0|last_reward_at:   77|Elapsed Time: 0:00:12||\n",
      "Episode 5|Iteration 79|reward:  136.0|last_reward_at:   77|Elapsed Time: 0:00:12||\n",
      "Episode 5|Iteration 80|reward:  136.0|last_reward_at:   77|Elapsed Time: 0:00:12||\n",
      "Episode 5|Iteration 81|reward:  136.0|last_reward_at:   77|Elapsed Time: 0:00:12||\n",
      "Episode 5|Iteration 82|reward:  136.0|last_reward_at:   77|Elapsed Time: 0:00:12||\n",
      "Episode 5|Iteration 83|reward:  136.0|last_reward_at:   77|Elapsed Time: 0:00:12||\n",
      "Episode 5|Iteration 84|reward:  136.0|last_reward_at:   77|Elapsed Time: 0:00:12||\n",
      "Episode 5|Iteration 85|reward:  136.0|last_reward_at:   77|Elapsed Time: 0:00:13||\n",
      "Episode 5|Iteration 86|reward:  136.0|last_reward_at:   77|Elapsed Time: 0:00:13||\n",
      "Episode 5|Iteration 87|reward:  136.0|last_reward_at:   77|Elapsed Time: 0:00:13||\n",
      "Episode 5|Iteration 88|reward:  136.0|last_reward_at:   77|Elapsed Time: 0:00:13||\n",
      "Episode 5|Iteration 89|reward:  136.0|last_reward_at:   77|Elapsed Time: 0:00:13||\n",
      "Episode 5|Iteration 90|reward:  136.0|last_reward_at:   77|Elapsed Time: 0:00:13||\n",
      "Episode 5|Iteration 91|reward:  136.0|last_reward_at:   77|Elapsed Time: 0:00:13||\n",
      "Episode 5|Iteration 92|reward:  136.0|last_reward_at:   77|Elapsed Time: 0:00:14||\n",
      "Episode 5|Iteration 93|reward:  136.0|last_reward_at:   77|Elapsed Time: 0:00:14||\n",
      "Episode 5|Iteration 94|reward:  136.0|last_reward_at:   77|Elapsed Time: 0:00:14||\n",
      "Episode 5|Iteration 95|reward:  136.0|last_reward_at:   77|Elapsed Time: 0:00:14||\n",
      "Episode 5|Iteration 96|reward:  136.0|last_reward_at:   77|Elapsed Time: 0:00:14||\n",
      "Episode 5|Iteration 97|reward:  136.0|last_reward_at:   77|Elapsed Time: 0:00:14||\n",
      "Episode 5|Iteration 98|reward:  136.0|last_reward_at:   77|Elapsed Time: 0:00:15||\n",
      "Episode 5|Iteration 99|reward:  136.0|last_reward_at:   77|Elapsed Time: 0:00:15||\n",
      "Episode 5|Iteration 100|reward:  136.0|last_reward_at:   77|Elapsed Time: 0:00:15||\n",
      "Episode 5|Iteration 101|reward:  136.0|last_reward_at:   77|Elapsed Time: 0:00:16||\n",
      "Episode 5|Iteration 102|reward:  136.0|last_reward_at:   77|Elapsed Time: 0:00:16||\n",
      "Episode 5|Iteration 103|reward:  136.0|last_reward_at:   77|Elapsed Time: 0:40:47||\n",
      "Episode 5|Iteration 104|reward:  136.0|last_reward_at:   77|Elapsed Time: 0:40:48||\n",
      "Episode 5|Iteration 105|reward:  136.0|last_reward_at:   77|Elapsed Time: 0:40:50||\n",
      "Episode 5|Iteration 106|reward:  136.0|last_reward_at:   77|Elapsed Time: 0:40:50||\n",
      "Episode 5|Iteration 107|reward:  136.0|last_reward_at:   77|Elapsed Time: 0:40:51||\n",
      "Episode 5|Iteration 108|reward:  136.0|last_reward_at:   77|Elapsed Time: 0:40:51||\n",
      "Episode 5|Iteration 109|reward:  136.0|last_reward_at:   77|Elapsed Time: 0:40:52||\n",
      "Episode 5|Iteration 110|reward:  136.0|last_reward_at:   77|Elapsed Time: 0:40:52||\n",
      "Episode 5|Iteration 111|reward:  136.0|last_reward_at:   77|Elapsed Time: 0:40:52||\n",
      "Episode 5|Iteration 112|reward:  136.0|last_reward_at:   77|Elapsed Time: 0:40:53||\n",
      "Episode 5|Iteration 113|reward:  136.0|last_reward_at:   77|Elapsed Time: 0:40:54||\n",
      "Episode 5|Iteration 114|reward:  136.0|last_reward_at:   77|Elapsed Time: 0:40:56||\n",
      "Episode 5|Iteration 115|reward:  136.0|last_reward_at:   77|Elapsed Time: 0:40:58||\n",
      "Episode 5|Iteration 116|reward:  136.0|last_reward_at:   77|Elapsed Time: 0:41:00||\n",
      "Episode 5|Iteration 117|reward:  136.0|last_reward_at:   77|Elapsed Time: 0:41:02||\n",
      "Episode 5|Iteration 118|reward:  136.0|last_reward_at:   77|Elapsed Time: 0:41:03||\n",
      "Episode 5|Iteration 119|reward:  136.0|last_reward_at:   77|Elapsed Time: 0:41:05||\n",
      "Episode 5|Iteration 120|reward:  136.0|last_reward_at:   77|Elapsed Time: 0:41:06||\n",
      "Episode 5|Iteration 121|reward:  136.0|last_reward_at:   77|Elapsed Time: 0:41:07||\n",
      "Episode 5|Iteration 122|reward:  136.0|last_reward_at:   77|Elapsed Time: 0:41:08||\n",
      "Episode 5|Iteration 123|reward:  136.0|last_reward_at:   77|Elapsed Time: 0:41:09||\n",
      "Episode 5|Iteration 124|reward:  136.0|last_reward_at:   77|Elapsed Time: 0:41:09||\n",
      "Episode 5|Iteration 125|reward:  136.0|last_reward_at:   77|Elapsed Time: 0:41:10||\n",
      "Episode 5|Iteration 126|reward:  136.0|last_reward_at:   77|Elapsed Time: 0:41:11||\n",
      "Episode 5|Iteration 127|reward:  136.0|last_reward_at:   77|Elapsed Time: 0:41:12||\n",
      "Episode 5|Iteration 128|reward:  136.0|last_reward_at:   77|Elapsed Time: 0:41:13||\n",
      "Episode 5|Iteration 129|reward:  136.0|last_reward_at:   77|Elapsed Time: 0:41:14||\n",
      "Episode 5|Iteration 130|reward:  136.0|last_reward_at:   77|Elapsed Time: 0:41:15||\n",
      "Episode 5|Iteration 131|reward:  136.0|last_reward_at:   77|Elapsed Time: 0:41:16||\n",
      "Episode 5|Iteration 132|reward:  136.0|last_reward_at:   77|Elapsed Time: 0:41:17||\n",
      "Episode 5|Iteration 133|reward:  136.0|last_reward_at:   77|Elapsed Time: 0:41:19||\n",
      "Episode 5|Iteration 134|reward:  136.0|last_reward_at:   77|Elapsed Time: 0:41:32||\n",
      "Episode 5|Iteration 135|reward:  136.0|last_reward_at:   77|Elapsed Time: 0:41:32||\n",
      "Episode 5|Iteration 136|reward:  136.0|last_reward_at:   77|Elapsed Time: 0:41:32||\n",
      "Episode 5|Iteration 138|reward:  136.0|last_reward_at:   77|Elapsed Time: 0:41:32||\n",
      "Episode 5|Iteration 139|reward:  136.0|last_reward_at:   77|Elapsed Time: 0:41:33||\n",
      "Episode 5|Iteration 140|reward:  136.0|last_reward_at:   77|Elapsed Time: 0:41:33||\n",
      "Episode 5|Iteration 142|reward:  136.0|last_reward_at:   77|Elapsed Time: 0:41:33||\n",
      "Episode 5|Iteration 143|reward:  136.0|last_reward_at:   77|Elapsed Time: 0:41:33||\n",
      "Episode 5|Iteration 144|reward:  136.0|last_reward_at:   77|Elapsed Time: 0:41:33||\n",
      "Episode 5|Iteration 145|reward:  136.0|last_reward_at:   77|Elapsed Time: 0:41:33||\n",
      "Episode 5|Iteration 146|reward:  136.0|last_reward_at:   77|Elapsed Time: 0:41:34||\n",
      "Episode 5|Iteration 147|reward:  136.0|last_reward_at:   77|Elapsed Time: 0:41:34||\n",
      "Episode 5|Iteration 148|reward:  136.0|last_reward_at:   77|Elapsed Time: 0:41:34||\n",
      "Episode 5|Iteration 149|reward:  136.0|last_reward_at:   77|Elapsed Time: 0:41:34||\n",
      "Episode 5|Iteration 150|reward:  136.0|last_reward_at:   77|Elapsed Time: 0:41:34||\n",
      "Episode 5|Iteration 151|reward:  136.0|last_reward_at:   77|Elapsed Time: 0:41:35||\n",
      "Episode 5|Iteration 152|reward:  136.0|last_reward_at:   77|Elapsed Time: 0:41:35||\n",
      "Episode 5|Iteration 153|reward:  136.0|last_reward_at:   77|Elapsed Time: 0:41:35||\n",
      "Episode 5|Iteration 154|reward:  136.0|last_reward_at:   77|Elapsed Time: 0:41:35||\n",
      "Episode 5|Iteration 155|reward:  136.0|last_reward_at:   77|Elapsed Time: 0:41:35||\n",
      "Episode 5|Iteration 156|reward:  136.0|last_reward_at:   77|Elapsed Time: 0:41:35||\n",
      "Episode 5|Iteration 157|reward:  136.0|last_reward_at:   77|Elapsed Time: 0:41:36||\n",
      "Episode 5|Iteration 158|reward:  136.0|last_reward_at:   77|Elapsed Time: 0:41:36||\n",
      "Episode 5|Iteration 159|reward:  136.0|last_reward_at:   77|Elapsed Time: 0:41:36||\n",
      "Episode 5|Iteration 160|reward:  136.0|last_reward_at:   77|Elapsed Time: 0:41:36||\n",
      "Episode 5|Iteration 161|reward:  136.0|last_reward_at:   77|Elapsed Time: 0:41:37||\n",
      "Episode 5|Iteration 162|reward:  136.0|last_reward_at:   77|Elapsed Time: 0:41:37||\n",
      "Episode 5|Iteration 163|reward:  136.0|last_reward_at:   77|Elapsed Time: 0:41:37||\n",
      "Episode 5|Iteration 164|reward:  136.0|last_reward_at:   77|Elapsed Time: 0:41:37||\n",
      "Episode 5|Iteration 165|reward:  136.0|last_reward_at:   77|Elapsed Time: 0:41:38||\n",
      "Episode 5|Iteration 166|reward:  136.0|last_reward_at:   77|Elapsed Time: 0:41:38||\n",
      "Episode 5|Iteration 168|reward:  136.0|last_reward_at:   77|Elapsed Time: 0:41:38||\n",
      "Episode 5|Iteration 169|reward:  136.0|last_reward_at:   77|Elapsed Time: 0:41:38||\n",
      "Episode 5|Iteration 171|reward:  136.0|last_reward_at:   77|Elapsed Time: 0:41:38||\n",
      "Episode 5|Iteration 173|reward:  136.0|last_reward_at:   77|Elapsed Time: 0:41:39||\n",
      "Episode 5|Iteration 175|reward:  136.0|last_reward_at:   77|Elapsed Time: 0:41:39||\n",
      "Episode 5|Iteration 176|reward:  136.0|last_reward_at:   77|Elapsed Time: 0:41:39||\n",
      "Episode 5|Iteration 177|reward:  136.0|last_reward_at:   77|Elapsed Time: 0:41:39||\n",
      "Episode 5|Iteration 179|reward:  136.0|last_reward_at:   77|Elapsed Time: 0:41:39||\n",
      "Episode 5|Iteration 181|reward:  136.0|last_reward_at:   77|Elapsed Time: 0:41:39||\n",
      "Episode 5|Iteration 182|reward:  136.0|last_reward_at:   77|Elapsed Time: 0:41:40||\n",
      "Episode 5|Iteration 183|reward:  136.0|last_reward_at:   77|Elapsed Time: 0:41:40||\n",
      "Episode 5|Iteration 185|reward:  136.0|last_reward_at:   77|Elapsed Time: 0:41:40||\n",
      "Episode 5|Iteration 187|reward:  136.0|last_reward_at:   77|Elapsed Time: 0:41:40||\n",
      "Episode 5|Iteration 189|reward:  136.0|last_reward_at:   77|Elapsed Time: 0:41:40||\n",
      "Episode 5|Iteration 191|reward:  136.0|last_reward_at:   77|Elapsed Time: 0:41:40||\n",
      "Episode 5|Iteration 193|reward:  136.0|last_reward_at:   77|Elapsed Time: 0:41:40||\n",
      "Episode 5|Iteration 195|reward:  136.0|last_reward_at:   77|Elapsed Time: 0:41:41||\n",
      "Episode 5|Iteration 197|reward:  136.0|last_reward_at:   77|Elapsed Time: 0:41:41||\n",
      "Episode 5|Iteration 199|reward:  136.0|last_reward_at:   77|Elapsed Time: 0:41:41||\n",
      "Episode 5|Iteration 201|reward:  136.0|last_reward_at:   77|Elapsed Time: 0:41:41||\n",
      "Episode 5|Iteration 203|reward:  136.0|last_reward_at:   77|Elapsed Time: 0:41:41||\n",
      "Episode 5|Iteration 205|reward:  136.0|last_reward_at:   77|Elapsed Time: 0:41:41||\n",
      "Episode 5|Iteration 207|reward:  136.0|last_reward_at:   77|Elapsed Time: 0:41:41||\n",
      "Episode 5|Iteration 208|reward:  136.0|last_reward_at:   77|Elapsed Time: 0:41:42||\n",
      "Episode 5|Iteration 209|reward:  136.0|last_reward_at:   77|Elapsed Time: 0:41:42||\n",
      "Episode 5|Iteration 210|reward:  136.0|last_reward_at:   77|Elapsed Time: 0:41:42||\n",
      "Episode 5|Iteration 212|reward:  136.0|last_reward_at:   77|Elapsed Time: 0:41:43||\n",
      "Episode 5|Iteration 214|reward:  136.0|last_reward_at:   77|Elapsed Time: 0:41:43||\n",
      "Episode 5|Iteration 216|reward:  136.0|last_reward_at:   77|Elapsed Time: 0:41:43||\n",
      "Episode 5|Iteration 217|reward:  136.0|last_reward_at:   77|Elapsed Time: 0:41:43||\n",
      "Episode 5|Iteration 218|reward:  136.0|last_reward_at:   77|Elapsed Time: 0:41:43||\n",
      "Episode 5|Iteration 220|reward:  136.0|last_reward_at:   77|Elapsed Time: 0:41:43||\n",
      "Episode 5|Iteration 222|reward:  136.0|last_reward_at:   77|Elapsed Time: 0:41:43||\n",
      "Episode 5|Iteration 224|reward:  136.0|last_reward_at:   77|Elapsed Time: 0:41:44||\n",
      "Episode 5|Iteration 226|reward:  136.0|last_reward_at:   77|Elapsed Time: 0:41:44||\n",
      "Episode 5|Iteration 227|reward:  136.0|last_reward_at:   77|Elapsed Time: 0:41:44||\n",
      "Episode 5|Iteration 229|reward:  136.0|last_reward_at:   77|Elapsed Time: 0:41:44||\n",
      "Episode 5|Iteration 231|reward:  136.0|last_reward_at:   77|Elapsed Time: 0:41:44||\n",
      "Episode 5|Iteration 233|reward:  136.0|last_reward_at:   77|Elapsed Time: 0:41:44||\n",
      "Episode 5|Iteration 235|reward:  136.0|last_reward_at:   77|Elapsed Time: 0:41:44||\n",
      "Episode 5|Iteration 237|reward:  136.0|last_reward_at:   77|Elapsed Time: 0:41:45||\n",
      "Episode 5|Iteration 239|reward:  136.0|last_reward_at:   77|Elapsed Time: 0:41:45||\n",
      "Episode 5|Iteration 241|reward:  136.0|last_reward_at:   77|Elapsed Time: 0:41:45||\n",
      "Episode 5|Iteration 243|reward:  136.0|last_reward_at:   77|Elapsed Time: 0:41:45||\n",
      "Episode 5|Iteration 245|reward:  136.0|last_reward_at:   77|Elapsed Time: 0:41:45||\n",
      "Episode 5|Iteration 247|reward:  136.0|last_reward_at:   77|Elapsed Time: 0:41:45||\n",
      "Episode 5|Iteration 249|reward:  136.0|last_reward_at:   77|Elapsed Time: 0:41:45||\n",
      "Episode 5|Iteration 251|reward:  136.0|last_reward_at:   77|Elapsed Time: 0:41:45||\n",
      "Episode 5|Iteration 252|reward:  136.0|last_reward_at:   77|Elapsed Time: 0:41:45||\n",
      "Episode 5|Iteration 254|reward:  136.0|last_reward_at:   77|Elapsed Time: 0:41:46||\n",
      "Episode 5|Iteration 256|reward:  136.0|last_reward_at:   77|Elapsed Time: 0:41:46||\n",
      "Episode 5|Iteration 258|reward:  136.0|last_reward_at:   77|Elapsed Time: 0:41:46||\n",
      "Episode 5|Iteration 260|reward:  136.0|last_reward_at:   77|Elapsed Time: 0:41:46||\n",
      "Episode 5|Iteration 262|reward:  136.0|last_reward_at:   77|Elapsed Time: 0:41:46||\n",
      "Episode 5|Iteration 264|reward:  136.0|last_reward_at:   77|Elapsed Time: 0:41:46||\n",
      "Episode 5|Iteration 266|reward:  136.0|last_reward_at:   77|Elapsed Time: 0:41:46||\n",
      "Episode 5|Iteration 267|reward:  136.0|last_reward_at:   77|Elapsed Time: 0:41:46||\n",
      "Episode 5|Iteration 269|reward:  136.0|last_reward_at:   77|Elapsed Time: 0:41:46||\n",
      "Episode 5|Iteration 270|reward:  136.0|last_reward_at:   77|Elapsed Time: 0:41:47||\n",
      "Episode 5|Iteration 271|reward:  136.0|last_reward_at:   77|Elapsed Time: 0:41:47||\n",
      "Episode 5|Iteration 272|reward:  136.0|last_reward_at:   77|Elapsed Time: 0:41:47||\n",
      "Episode 5|Iteration 273|reward:  136.0|last_reward_at:   77|Elapsed Time: 0:41:47||\n",
      "Episode 5|Iteration 275|reward:  136.0|last_reward_at:   77|Elapsed Time: 0:41:47||\n",
      "Episode 5|Iteration 277|reward:  136.0|last_reward_at:   77|Elapsed Time: 0:41:47||\n",
      "Episode 5|Iteration 278|reward:  136.0|last_reward_at:   77|Elapsed Time: 0:41:47||\n",
      "Episode 5|Iteration 279|reward:  136.0|last_reward_at:   77|Elapsed Time: 0:41:48||\n",
      "Episode 5|Iteration 280|reward:  136.0|last_reward_at:   77|Elapsed Time: 0:41:48||\n",
      "Episode 5|Iteration 281|reward:  136.0|last_reward_at:   77|Elapsed Time: 0:41:48||\n",
      "Episode 5|Iteration 282|reward:  136.0|last_reward_at:   77|Elapsed Time: 0:41:48||\n",
      "Episode 5|Iteration 284|reward:  136.0|last_reward_at:   77|Elapsed Time: 0:41:48||\n",
      "Episode 5|Iteration 286|reward:  136.0|last_reward_at:   77|Elapsed Time: 0:41:48||\n",
      "Episode 5|Iteration 288|reward:  136.0|last_reward_at:   77|Elapsed Time: 0:41:48||\n",
      "Episode 5|Iteration 290|reward:  136.0|last_reward_at:   77|Elapsed Time: 0:41:49||\n",
      "Episode 5|Iteration 292|reward:  136.0|last_reward_at:   77|Elapsed Time: 0:41:49||\n",
      "Episode 5|Iteration 294|reward:  136.0|last_reward_at:   77|Elapsed Time: 0:41:49||\n",
      "Episode 5|Iteration 296|reward:  136.0|last_reward_at:   77|Elapsed Time: 0:41:49||\n",
      "Episode 5|Iteration 298|reward:  136.0|last_reward_at:   77|Elapsed Time: 0:41:49||\n",
      "Episode 5|Iteration 300|reward:  136.0|last_reward_at:   77|Elapsed Time: 0:41:49||\n",
      "Episode 5|Iteration 302|reward:  136.0|last_reward_at:   77|Elapsed Time: 0:41:49||\n",
      "Episode 5|Iteration 304|reward:  136.0|last_reward_at:   77|Elapsed Time: 0:41:49||\n",
      "Episode 5|Iteration 305|reward:  136.0|last_reward_at:   77|Elapsed Time: 0:41:50||\n",
      "Episode 5|Iteration 307|reward:  136.0|last_reward_at:   77|Elapsed Time: 0:41:50||\n",
      "Episode 5|Iteration 309|reward:  136.0|last_reward_at:   77|Elapsed Time: 0:41:50||\n",
      "Episode 5|Iteration 311|reward:  136.0|last_reward_at:   77|Elapsed Time: 0:41:50||\n",
      "Episode 5|Iteration 313|reward:  136.0|last_reward_at:   77|Elapsed Time: 0:41:50||\n",
      "Episode 5|Iteration 315|reward:  136.0|last_reward_at:   77|Elapsed Time: 0:41:50||\n",
      "Episode 5|Iteration 317|reward:  136.0|last_reward_at:   77|Elapsed Time: 0:41:50||\n",
      "Episode 5|Iteration 319|reward:  136.0|last_reward_at:   77|Elapsed Time: 0:41:50||\n",
      "Episode 5|Iteration 320|reward:  136.0|last_reward_at:   77|Elapsed Time: 0:41:50||\n",
      "Episode 5|Iteration 322|reward:  136.0|last_reward_at:   77|Elapsed Time: 0:41:51||\n",
      "Episode 5|Iteration 324|reward:  136.0|last_reward_at:   77|Elapsed Time: 0:41:51||\n",
      "Episode 5|Iteration 326|reward:  136.0|last_reward_at:   77|Elapsed Time: 0:41:51||\n",
      "Episode 5|Iteration 328|reward:  145.0|last_reward_at:   77|Elapsed Time: 0:41:51||\n",
      "Episode 5|Iteration 328|reward:  145.0|last_reward_at:  328|Elapsed Time: 0:41:51||\n",
      "Episode 5|Iteration 330|reward:  145.0|last_reward_at:  328|Elapsed Time: 0:41:51||\n",
      "Episode 5|Iteration 332|reward:  145.0|last_reward_at:  328|Elapsed Time: 0:41:51||\n",
      "Episode 5|Iteration 334|reward:  145.0|last_reward_at:  328|Elapsed Time: 0:41:51||\n",
      "Episode 5|Iteration 336|reward:  145.0|last_reward_at:  328|Elapsed Time: 0:41:51||\n",
      "Episode 5|Iteration 338|reward:  145.0|last_reward_at:  328|Elapsed Time: 0:41:52||\n",
      "Episode 5|Iteration 340|reward:  145.0|last_reward_at:  328|Elapsed Time: 0:41:52||\n",
      "Episode 5|Iteration 342|reward:  145.0|last_reward_at:  328|Elapsed Time: 0:41:52||\n",
      "Episode 5|Iteration 343|reward:  145.0|last_reward_at:  328|Elapsed Time: 0:41:52||\n",
      "Episode 5|Iteration 345|reward:  145.0|last_reward_at:  328|Elapsed Time: 0:41:52||\n",
      "Episode 5|Iteration 347|reward:  145.0|last_reward_at:  328|Elapsed Time: 0:41:52||\n",
      "Episode 5|Iteration 349|reward:  145.0|last_reward_at:  328|Elapsed Time: 0:41:52||\n",
      "Episode 5|Iteration 351|reward:  145.0|last_reward_at:  328|Elapsed Time: 0:41:52||\n",
      "Episode 5|Iteration 353|reward:  145.0|last_reward_at:  328|Elapsed Time: 0:41:52||\n",
      "Episode 5|Iteration 355|reward:  145.0|last_reward_at:  328|Elapsed Time: 0:41:53||\n",
      "Episode 5|Iteration 357|reward:  145.0|last_reward_at:  328|Elapsed Time: 0:41:53||\n",
      "Episode 5|Iteration 358|reward:  145.0|last_reward_at:  328|Elapsed Time: 0:41:53||\n",
      "Episode 5|Iteration 360|reward:  145.0|last_reward_at:  328|Elapsed Time: 0:41:53||\n",
      "Episode 5|Iteration 362|reward:  145.0|last_reward_at:  328|Elapsed Time: 0:41:53||\n",
      "Episode 5|Iteration 364|reward:  145.0|last_reward_at:  328|Elapsed Time: 0:41:53||\n",
      "Episode 5|Iteration 365|reward:  145.0|last_reward_at:  328|Elapsed Time: 0:41:53||\n",
      "Episode 5|Iteration 367|reward:  145.0|last_reward_at:  328|Elapsed Time: 0:41:53||\n",
      "Episode 5|Iteration 369|reward:  145.0|last_reward_at:  328|Elapsed Time: 0:41:54||\n",
      "Episode 5|Iteration 371|reward:  145.0|last_reward_at:  328|Elapsed Time: 0:41:54||\n",
      "Episode 5|Iteration 373|reward:  145.0|last_reward_at:  328|Elapsed Time: 0:41:54||\n",
      "Episode 5|Iteration 373|reward:  145.0|last_reward_at:  328|Elapsed Time: 0:41:54||\n",
      "Episode 5|Iteration 375|reward:  145.0|last_reward_at:  328|Elapsed Time: 0:41:54||\n",
      "Episode 5|Iteration 376|reward:  195.0|last_reward_at:  328|Elapsed Time: 0:41:54||\n",
      "Episode 5|Iteration 376|reward:  195.0|last_reward_at:  376|Elapsed Time: 0:41:54||\n",
      "Episode 5|Iteration 378|reward:  195.0|last_reward_at:  376|Elapsed Time: 0:41:54||\n",
      "Episode 5|Iteration 380|reward:  195.0|last_reward_at:  376|Elapsed Time: 0:41:54||\n",
      "Episode 5|Iteration 381|reward:  195.0|last_reward_at:  376|Elapsed Time: 0:41:54||\n",
      "Episode 5|Iteration 383|reward:  195.0|last_reward_at:  376|Elapsed Time: 0:41:55||\n",
      "Episode 5|Iteration 385|reward:  195.0|last_reward_at:  376|Elapsed Time: 0:41:55||\n",
      "Episode 5|Iteration 387|reward:  195.0|last_reward_at:  376|Elapsed Time: 0:41:55||\n",
      "Episode 5|Iteration 389|reward:  195.0|last_reward_at:  376|Elapsed Time: 0:41:55||\n",
      "Episode 5|Iteration 391|reward:  195.0|last_reward_at:  376|Elapsed Time: 0:41:55||\n",
      "Episode 5|Iteration 392|reward:  201.0|last_reward_at:  376|Elapsed Time: 0:41:55||\n",
      "Episode 5|Iteration 392|reward:  201.0|last_reward_at:  392|Elapsed Time: 0:41:55||\n",
      "Episode 5|Iteration 394|reward:  201.0|last_reward_at:  392|Elapsed Time: 0:41:55||\n",
      "Episode 5|Iteration 396|reward:  201.0|last_reward_at:  392|Elapsed Time: 0:41:55||\n",
      "Episode 5|Iteration 398|reward:  201.0|last_reward_at:  392|Elapsed Time: 0:41:56||\n",
      "Episode 5|Iteration 400|reward:  201.0|last_reward_at:  392|Elapsed Time: 0:41:56||\n",
      "Episode 5|Iteration 402|reward:  201.0|last_reward_at:  392|Elapsed Time: 0:41:56||\n",
      "Episode 5|Iteration 404|reward:  201.0|last_reward_at:  392|Elapsed Time: 0:41:56||\n",
      "Episode 5|Iteration 406|reward:  201.0|last_reward_at:  392|Elapsed Time: 0:41:56||\n",
      "Episode 5|Iteration 407|reward:  201.0|last_reward_at:  392|Elapsed Time: 0:41:56||\n",
      "Episode 5|Iteration 408|reward:  201.0|last_reward_at:  392|Elapsed Time: 0:41:57||\n",
      "Episode 5|Iteration 409|reward:  201.0|last_reward_at:  392|Elapsed Time: 0:41:57||\n",
      "Episode 5|Iteration 410|reward:  201.0|last_reward_at:  392|Elapsed Time: 0:41:57||\n",
      "Episode 5|Iteration 412|reward:  201.0|last_reward_at:  392|Elapsed Time: 0:41:57||\n",
      "Episode 5|Iteration 414|reward:  207.0|last_reward_at:  392|Elapsed Time: 0:41:57||\n",
      "Episode 5|Iteration 414|reward:  207.0|last_reward_at:  414|Elapsed Time: 0:41:57||\n",
      "Episode 5|Iteration 416|reward:  207.0|last_reward_at:  414|Elapsed Time: 0:41:57||\n",
      "Episode 5|Iteration 418|reward:  207.0|last_reward_at:  414|Elapsed Time: 0:41:57||\n",
      "Episode 5|Iteration 419|reward:  207.0|last_reward_at:  414|Elapsed Time: 0:41:58||\n",
      "Episode 5|Iteration 421|reward:  207.0|last_reward_at:  414|Elapsed Time: 0:41:58||\n",
      "Episode 5|Iteration 423|reward:  207.0|last_reward_at:  414|Elapsed Time: 0:41:58||\n",
      "Episode 5|Iteration 424|reward:  207.0|last_reward_at:  414|Elapsed Time: 0:41:58||\n",
      "Episode 5|Iteration 426|reward:  207.0|last_reward_at:  414|Elapsed Time: 0:41:58||\n",
      "Episode 5|Iteration 427|reward:  207.0|last_reward_at:  414|Elapsed Time: 0:41:58||\n",
      "Episode 5|Iteration 429|reward:  207.0|last_reward_at:  414|Elapsed Time: 0:41:58||\n",
      "Episode 5|Iteration 431|reward:  207.0|last_reward_at:  414|Elapsed Time: 0:41:58||\n",
      "Episode 5|Iteration 433|reward:  207.0|last_reward_at:  414|Elapsed Time: 0:41:58||\n",
      "Episode 5|Iteration 433|reward:  207.0|last_reward_at:  414|Elapsed Time: 0:41:59||\n",
      "Episode 5|Iteration 434|reward:  207.0|last_reward_at:  414|Elapsed Time: 0:41:59||\n",
      "Episode 5|Iteration 436|reward:  207.0|last_reward_at:  414|Elapsed Time: 0:41:59||\n",
      "Episode 5|Iteration 438|reward:  207.0|last_reward_at:  414|Elapsed Time: 0:41:59||\n",
      "Episode 5|Iteration 440|reward:  207.0|last_reward_at:  414|Elapsed Time: 0:41:59||\n",
      "Episode 5|Iteration 442|reward:  207.0|last_reward_at:  414|Elapsed Time: 0:41:59||\n",
      "Episode 5|Iteration 444|reward:  207.0|last_reward_at:  414|Elapsed Time: 0:41:59||\n",
      "Episode 5|Iteration 446|reward:  207.0|last_reward_at:  414|Elapsed Time: 0:42:00||\n",
      "Episode 5|Iteration 448|reward:  207.0|last_reward_at:  414|Elapsed Time: 0:42:00||\n",
      "Episode 5|Iteration 449|reward:  207.0|last_reward_at:  414|Elapsed Time: 0:42:00||\n",
      "Episode 5|Iteration 450|reward:  207.0|last_reward_at:  414|Elapsed Time: 0:42:00||\n",
      "Episode 5|Iteration 451|reward:  207.0|last_reward_at:  414|Elapsed Time: 0:42:00||\n",
      "Episode 5|Iteration 452|reward:  207.0|last_reward_at:  414|Elapsed Time: 0:42:00||\n",
      "Episode 5|Iteration 454|reward:  207.0|last_reward_at:  414|Elapsed Time: 0:42:00||\n",
      "Episode 5|Iteration 456|reward:  207.0|last_reward_at:  414|Elapsed Time: 0:42:00||\n",
      "Episode 5|Iteration 457|reward:  207.0|last_reward_at:  414|Elapsed Time: 0:42:01||\n",
      "Episode 5|Iteration 459|reward:  207.0|last_reward_at:  414|Elapsed Time: 0:42:01||\n",
      "Episode 5|Iteration 461|reward:  207.0|last_reward_at:  414|Elapsed Time: 0:42:01||\n",
      "Episode 5|Iteration 463|reward:  207.0|last_reward_at:  414|Elapsed Time: 0:42:01||\n",
      "Episode 5|Iteration 465|reward:  207.0|last_reward_at:  414|Elapsed Time: 0:42:01||\n",
      "Episode 5|Iteration 467|reward:  207.0|last_reward_at:  414|Elapsed Time: 0:42:01||\n",
      "Episode 5|Iteration 469|reward:  207.0|last_reward_at:  414|Elapsed Time: 0:42:01||\n",
      "Episode 5|Iteration 471|reward:  207.0|last_reward_at:  414|Elapsed Time: 0:42:01||\n",
      "Episode 5|Iteration 472|reward:  207.0|last_reward_at:  414|Elapsed Time: 0:42:02||\n",
      "Episode 5|Iteration 474|reward:  207.0|last_reward_at:  414|Elapsed Time: 0:42:02||\n",
      "Episode 5|Iteration 476|reward:  207.0|last_reward_at:  414|Elapsed Time: 0:42:02||\n",
      "Episode 5|Iteration 478|reward:  207.0|last_reward_at:  414|Elapsed Time: 0:42:02||\n",
      "Episode 5|Iteration 480|reward:  207.0|last_reward_at:  414|Elapsed Time: 0:42:02||\n",
      "Episode 5|Iteration 481|reward:  207.0|last_reward_at:  414|Elapsed Time: 0:42:02||\n",
      "Episode 5|Iteration 482|reward:  207.0|last_reward_at:  414|Elapsed Time: 0:42:03||\n",
      "Episode 5|Iteration 484|reward:  207.0|last_reward_at:  414|Elapsed Time: 0:42:03||\n",
      "Episode 5|Iteration 486|reward:  207.0|last_reward_at:  414|Elapsed Time: 0:42:03||\n",
      "Episode 5|Iteration 488|reward:  207.0|last_reward_at:  414|Elapsed Time: 0:42:03||\n",
      "Episode 5|Iteration 490|reward:  207.0|last_reward_at:  414|Elapsed Time: 0:42:03||\n",
      "Episode 5|Iteration 492|reward:  207.0|last_reward_at:  414|Elapsed Time: 0:42:03||\n",
      "Episode 5|Iteration 494|reward:  207.0|last_reward_at:  414|Elapsed Time: 0:42:03||\n",
      "Episode 5|Iteration 495|reward:  207.0|last_reward_at:  414|Elapsed Time: 0:42:04||\n",
      "Episode 5|Iteration 497|reward:  207.0|last_reward_at:  414|Elapsed Time: 0:42:04||\n",
      "Episode 5|Iteration 499|reward:  207.0|last_reward_at:  414|Elapsed Time: 0:42:04||\n",
      "Episode 5|Iteration 501|reward:  207.0|last_reward_at:  414|Elapsed Time: 0:42:04||\n",
      "Episode 5|Iteration 503|reward:  207.0|last_reward_at:  414|Elapsed Time: 0:42:04||\n",
      "Episode 5|Iteration 505|reward:  207.0|last_reward_at:  414|Elapsed Time: 0:42:04||\n",
      "Episode 5|Iteration 507|reward:  207.0|last_reward_at:  414|Elapsed Time: 0:42:04||\n",
      "Episode 5|Iteration 509|reward:  207.0|last_reward_at:  414|Elapsed Time: 0:42:04||\n",
      "Episode 5|Iteration 510|reward:  207.0|last_reward_at:  414|Elapsed Time: 0:42:04||\n",
      "Episode 5|Iteration 512|reward:  207.0|last_reward_at:  414|Elapsed Time: 0:42:05||\n",
      "Episode 5|Iteration 514|reward:  207.0|last_reward_at:  414|Elapsed Time: 0:42:05||\n",
      "Episode 5|Iteration 516|reward:  207.0|last_reward_at:  414|Elapsed Time: 0:42:05||\n",
      "Episode 5|Iteration 518|reward:  207.0|last_reward_at:  414|Elapsed Time: 0:42:05||\n",
      "Episode 5|Iteration 520|reward:  207.0|last_reward_at:  414|Elapsed Time: 0:42:05||\n",
      "Episode 5|Iteration 522|reward:  207.0|last_reward_at:  414|Elapsed Time: 0:42:06||\n",
      "Episode 5|Iteration 524|reward:  207.0|last_reward_at:  414|Elapsed Time: 0:42:06||\n",
      "Episode 5|Iteration 526|reward:  207.0|last_reward_at:  414|Elapsed Time: 0:42:06||\n",
      "Episode 5|Iteration 528|reward:  207.0|last_reward_at:  414|Elapsed Time: 0:42:06||\n",
      "Episode 5|Iteration 530|reward:  207.0|last_reward_at:  414|Elapsed Time: 0:42:06||\n",
      "Episode 5|Iteration 532|reward:  207.0|last_reward_at:  414|Elapsed Time: 0:42:06||\n",
      "Episode 5|Iteration 533|reward:  207.0|last_reward_at:  414|Elapsed Time: 0:42:06||\n",
      "Episode 5|Iteration 535|reward:  207.0|last_reward_at:  414|Elapsed Time: 0:42:06||\n",
      "Episode 5|Iteration 537|reward:  207.0|last_reward_at:  414|Elapsed Time: 0:42:07||\n",
      "Episode 5|Iteration 539|reward:  207.0|last_reward_at:  414|Elapsed Time: 0:42:07||\n",
      "Episode 5|Iteration 541|reward:  207.0|last_reward_at:  414|Elapsed Time: 0:42:07||\n",
      "Episode 5|Iteration 543|reward:  207.0|last_reward_at:  414|Elapsed Time: 0:42:07||\n",
      "Episode 5|Iteration 545|reward:  207.0|last_reward_at:  414|Elapsed Time: 0:42:07||\n",
      "Episode 5|Iteration 547|reward:  207.0|last_reward_at:  414|Elapsed Time: 0:42:07||\n",
      "Episode 5|Iteration 548|reward:  207.0|last_reward_at:  414|Elapsed Time: 0:42:07||\n",
      "Episode 5|Iteration 550|reward:  207.0|last_reward_at:  414|Elapsed Time: 0:42:07||\n",
      "Episode 5|Iteration 552|reward:  207.0|last_reward_at:  414|Elapsed Time: 0:42:08||\n",
      "Episode 5|Iteration 554|reward:  207.0|last_reward_at:  414|Elapsed Time: 0:42:08||\n",
      "Episode 5|Iteration 556|reward:  207.0|last_reward_at:  414|Elapsed Time: 0:42:08||\n",
      "Episode 5|Iteration 558|reward:  207.0|last_reward_at:  414|Elapsed Time: 0:42:08||\n",
      "Episode 5|Iteration 560|reward:  207.0|last_reward_at:  414|Elapsed Time: 0:42:08||\n",
      "Episode 5|Iteration 562|reward:  207.0|last_reward_at:  414|Elapsed Time: 0:42:08||\n",
      "Episode 5|Iteration 564|reward:  207.0|last_reward_at:  414|Elapsed Time: 0:42:08||\n",
      "Episode 5|Iteration 566|reward:  207.0|last_reward_at:  414|Elapsed Time: 0:42:08||\n",
      "Episode 5|Iteration 568|reward:  207.0|last_reward_at:  414|Elapsed Time: 0:42:09||\n",
      "Episode 5|Iteration 570|reward:  207.0|last_reward_at:  414|Elapsed Time: 0:42:09||\n",
      "Episode 5|Iteration 571|reward:  207.0|last_reward_at:  414|Elapsed Time: 0:42:09||\n",
      "Episode 5|Iteration 573|reward:  207.0|last_reward_at:  414|Elapsed Time: 0:42:09||\n",
      "Episode 5|Iteration 575|reward:  207.0|last_reward_at:  414|Elapsed Time: 0:42:09||\n",
      "Episode 5|Iteration 577|reward:  207.0|last_reward_at:  414|Elapsed Time: 0:42:09||\n",
      "Episode 5|Iteration 578|reward:  207.0|last_reward_at:  414|Elapsed Time: 0:42:09||\n",
      "Episode 5|Iteration 580|reward:  207.0|last_reward_at:  414|Elapsed Time: 0:42:10||\n",
      "Episode 5|Iteration 581|reward:  207.0|last_reward_at:  414|Elapsed Time: 0:42:10||\n",
      "Episode 5|Iteration 583|reward:  207.0|last_reward_at:  414|Elapsed Time: 0:42:10||\n",
      "Episode 5|Iteration 585|reward:  207.0|last_reward_at:  414|Elapsed Time: 0:42:10||\n",
      "Episode 5|Iteration 586|reward:  207.0|last_reward_at:  414|Elapsed Time: 0:42:10||\n",
      "Episode 5|Iteration 588|reward:  207.0|last_reward_at:  414|Elapsed Time: 0:42:10||\n",
      "Episode 5|Iteration 590|reward:  207.0|last_reward_at:  414|Elapsed Time: 0:42:10||\n",
      "Episode 5|Iteration 592|reward:  207.0|last_reward_at:  414|Elapsed Time: 0:42:10||\n",
      "Episode 5|Iteration 594|reward:  207.0|last_reward_at:  414|Elapsed Time: 0:42:11||\n",
      "Episode 5|Iteration 596|reward:  207.0|last_reward_at:  414|Elapsed Time: 0:42:11||\n",
      "Episode 5|Iteration 598|reward:  207.0|last_reward_at:  414|Elapsed Time: 0:42:11||\n",
      "Episode 5|Iteration 600|reward:  207.0|last_reward_at:  414|Elapsed Time: 0:42:11||\n",
      "Episode 5|Iteration 600|reward:  207.0|last_reward_at:  414|Elapsed Time: 0:42:11||\n"
     ]
    },
    {
     "name": "stdout",
     "output_type": "stream",
     "text": [
      "  Episode 5 stopped at t=600 \n",
      "  Breakdown [Reward/NoReward (Success rate)]\n",
      "    explore-local: 0/0 (NaN)\n",
      "    explore-remote: 0/0 (NaN)\n",
      "    explore-connect: 0/0 (NaN)\n",
      "    exploit-local: 2/20 (0.09)\n",
      "    exploit-remote: 6/505 (0.01)\n",
      "    exploit-connect: 2/65 (0.03)\n",
      "  exploit deflected to exploration: 0\n",
      "  ## Episode: 6/10 'Exploiting DQL' ϵ=0.0000, γ=0.15, lr=0.01, replaymemory=10000,\n",
      "batch=256, target_update=5\n"
     ]
    },
    {
     "name": "stderr",
     "output_type": "stream",
     "text": [
      "Episode 6|Iteration 0|reward: ------|last_reward_at: ----|Elapsed Time: 0:00:00||\n",
      "Episode 6|Iteration 1|reward:    6.0|last_reward_at: ----|Elapsed Time: 0:00:00||\n",
      "Episode 6|Iteration 1|reward:    6.0|last_reward_at:    1|Elapsed Time: 0:00:00||\n",
      "Episode 6|Iteration 2|reward:    6.0|last_reward_at:    1|Elapsed Time: 0:00:00||\n",
      "Episode 6|Iteration 3|reward:    6.0|last_reward_at:    1|Elapsed Time: 0:00:01||\n",
      "Episode 6|Iteration 4|reward:    6.0|last_reward_at:    1|Elapsed Time: 0:00:01||\n",
      "Episode 6|Iteration 5|reward:   12.0|last_reward_at:    1|Elapsed Time: 0:00:01||\n",
      "Episode 6|Iteration 5|reward:   12.0|last_reward_at:    5|Elapsed Time: 0:00:01||\n",
      "Episode 6|Iteration 7|reward:   12.0|last_reward_at:    5|Elapsed Time: 0:00:01||\n",
      "Episode 6|Iteration 8|reward:   18.0|last_reward_at:    5|Elapsed Time: 0:00:01||\n",
      "Episode 6|Iteration 8|reward:   18.0|last_reward_at:    8|Elapsed Time: 0:00:01||\n",
      "Episode 6|Iteration 9|reward:   18.0|last_reward_at:    8|Elapsed Time: 0:00:01||\n",
      "Episode 6|Iteration 11|reward:   18.0|last_reward_at:    8|Elapsed Time: 0:00:01||\n",
      "Episode 6|Iteration 12|reward:   18.0|last_reward_at:    8|Elapsed Time: 0:00:01||\n",
      "Episode 6|Iteration 13|reward:   18.0|last_reward_at:    8|Elapsed Time: 0:00:02||\n",
      "Episode 6|Iteration 15|reward:   18.0|last_reward_at:    8|Elapsed Time: 0:00:02||\n",
      "Episode 6|Iteration 17|reward:   18.0|last_reward_at:    8|Elapsed Time: 0:00:02||\n",
      "Episode 6|Iteration 18|reward:   18.0|last_reward_at:    8|Elapsed Time: 0:00:02||\n",
      "Episode 6|Iteration 20|reward:   27.0|last_reward_at:    8|Elapsed Time: 0:00:02||\n",
      "Episode 6|Iteration 20|reward:   27.0|last_reward_at:   20|Elapsed Time: 0:00:02||\n",
      "Episode 6|Iteration 21|reward:   36.0|last_reward_at:   20|Elapsed Time: 0:00:02||\n",
      "Episode 6|Iteration 21|reward:   36.0|last_reward_at:   21|Elapsed Time: 0:00:02||\n",
      "Episode 6|Iteration 22|reward:   36.0|last_reward_at:   21|Elapsed Time: 0:00:02||\n",
      "Episode 6|Iteration 24|reward:   36.0|last_reward_at:   21|Elapsed Time: 0:00:03||\n",
      "Episode 6|Iteration 25|reward:   36.0|last_reward_at:   21|Elapsed Time: 0:00:03||\n",
      "Episode 6|Iteration 26|reward:   36.0|last_reward_at:   21|Elapsed Time: 0:00:03||\n",
      "Episode 6|Iteration 27|reward:   36.0|last_reward_at:   21|Elapsed Time: 0:00:03||\n",
      "Episode 6|Iteration 29|reward:   36.0|last_reward_at:   21|Elapsed Time: 0:00:03||\n",
      "Episode 6|Iteration 31|reward:   36.0|last_reward_at:   21|Elapsed Time: 0:00:03||\n",
      "Episode 6|Iteration 31|reward:   42.0|last_reward_at:   21|Elapsed Time: 0:00:03||\n",
      "Episode 6|Iteration 31|reward:   42.0|last_reward_at:   31|Elapsed Time: 0:00:03||\n",
      "Episode 6|Iteration 32|reward:   92.0|last_reward_at:   31|Elapsed Time: 0:00:04||\n",
      "Episode 6|Iteration 32|reward:   92.0|last_reward_at:   32|Elapsed Time: 0:00:04||\n",
      "Episode 6|Iteration 33|reward:   92.0|last_reward_at:   32|Elapsed Time: 0:00:04||\n",
      "Episode 6|Iteration 35|reward:   92.0|last_reward_at:   32|Elapsed Time: 0:00:04||\n",
      "Episode 6|Iteration 36|reward:   92.0|last_reward_at:   32|Elapsed Time: 0:00:04||\n",
      "Episode 6|Iteration 38|reward:   92.0|last_reward_at:   32|Elapsed Time: 0:00:04||\n",
      "Episode 6|Iteration 39|reward:   92.0|last_reward_at:   32|Elapsed Time: 0:00:04||\n",
      "Episode 6|Iteration 41|reward:   92.0|last_reward_at:   32|Elapsed Time: 0:00:04||\n",
      "Episode 6|Iteration 43|reward:   92.0|last_reward_at:   32|Elapsed Time: 0:00:04||\n",
      "Episode 6|Iteration 45|reward:   92.0|last_reward_at:   32|Elapsed Time: 0:00:05||\n",
      "Episode 6|Iteration 47|reward:   92.0|last_reward_at:   32|Elapsed Time: 0:00:05||\n",
      "Episode 6|Iteration 49|reward:   92.0|last_reward_at:   32|Elapsed Time: 0:00:05||\n",
      "Episode 6|Iteration 51|reward:   92.0|last_reward_at:   32|Elapsed Time: 0:00:05||\n",
      "Episode 6|Iteration 53|reward:   92.0|last_reward_at:   32|Elapsed Time: 0:00:05||\n",
      "Episode 6|Iteration 55|reward:   92.0|last_reward_at:   32|Elapsed Time: 0:00:05||\n",
      "Episode 6|Iteration 57|reward:   92.0|last_reward_at:   32|Elapsed Time: 0:00:05||\n",
      "Episode 6|Iteration 59|reward:   92.0|last_reward_at:   32|Elapsed Time: 0:00:05||\n",
      "Episode 6|Iteration 61|reward:   92.0|last_reward_at:   32|Elapsed Time: 0:00:06||\n",
      "Episode 6|Iteration 62|reward:   92.0|last_reward_at:   32|Elapsed Time: 0:00:06||\n",
      "Episode 6|Iteration 64|reward:   92.0|last_reward_at:   32|Elapsed Time: 0:00:06||\n",
      "Episode 6|Iteration 66|reward:   92.0|last_reward_at:   32|Elapsed Time: 0:00:06||\n",
      "Episode 6|Iteration 68|reward:   92.0|last_reward_at:   32|Elapsed Time: 0:00:06||\n",
      "Episode 6|Iteration 70|reward:   92.0|last_reward_at:   32|Elapsed Time: 0:00:06||\n",
      "Episode 6|Iteration 72|reward:   92.0|last_reward_at:   32|Elapsed Time: 0:00:06||\n",
      "Episode 6|Iteration 74|reward:   92.0|last_reward_at:   32|Elapsed Time: 0:00:06||\n",
      "Episode 6|Iteration 76|reward:   92.0|last_reward_at:   32|Elapsed Time: 0:00:06||\n",
      "Episode 6|Iteration 77|reward:   92.0|last_reward_at:   32|Elapsed Time: 0:00:07||\n",
      "Episode 6|Iteration 79|reward:   92.0|last_reward_at:   32|Elapsed Time: 0:00:07||\n",
      "Episode 6|Iteration 81|reward:   92.0|last_reward_at:   32|Elapsed Time: 0:00:07||\n",
      "Episode 6|Iteration 83|reward:   92.0|last_reward_at:   32|Elapsed Time: 0:00:07||\n",
      "Episode 6|Iteration 85|reward:   92.0|last_reward_at:   32|Elapsed Time: 0:00:07||\n",
      "Episode 6|Iteration 87|reward:   92.0|last_reward_at:   32|Elapsed Time: 0:00:07||\n",
      "Episode 6|Iteration 89|reward:   92.0|last_reward_at:   32|Elapsed Time: 0:00:07||\n",
      "Episode 6|Iteration 90|reward:   92.0|last_reward_at:   32|Elapsed Time: 0:00:08||\n",
      "Episode 6|Iteration 92|reward:   92.0|last_reward_at:   32|Elapsed Time: 0:00:08||\n",
      "Episode 6|Iteration 92|reward:   92.0|last_reward_at:   32|Elapsed Time: 0:00:08||\n",
      "Episode 6|Iteration 93|reward:   92.0|last_reward_at:   32|Elapsed Time: 0:00:08||\n",
      "Episode 6|Iteration 95|reward:   92.0|last_reward_at:   32|Elapsed Time: 0:00:08||\n",
      "Episode 6|Iteration 97|reward:   92.0|last_reward_at:   32|Elapsed Time: 0:00:08||\n",
      "Episode 6|Iteration 98|reward:   92.0|last_reward_at:   32|Elapsed Time: 0:00:08||\n",
      "Episode 6|Iteration 99|reward:   92.0|last_reward_at:   32|Elapsed Time: 0:00:08||\n",
      "Episode 6|Iteration 100|reward:   92.0|last_reward_at:   32|Elapsed Time: 0:00:09||\n",
      "Episode 6|Iteration 101|reward:   92.0|last_reward_at:   32|Elapsed Time: 0:00:09||\n",
      "Episode 6|Iteration 102|reward:   92.0|last_reward_at:   32|Elapsed Time: 0:00:09||\n",
      "Episode 6|Iteration 103|reward:   92.0|last_reward_at:   32|Elapsed Time: 0:00:10||\n",
      "Episode 6|Iteration 104|reward:   92.0|last_reward_at:   32|Elapsed Time: 0:00:10||\n",
      "Episode 6|Iteration 106|reward:   92.0|last_reward_at:   32|Elapsed Time: 0:00:10||\n",
      "Episode 6|Iteration 108|reward:   92.0|last_reward_at:   32|Elapsed Time: 0:00:10||\n",
      "Episode 6|Iteration 109|reward:   92.0|last_reward_at:   32|Elapsed Time: 0:00:11||\n",
      "Episode 6|Iteration 110|reward:   92.0|last_reward_at:   32|Elapsed Time: 0:00:11||\n",
      "Episode 6|Iteration 111|reward:   92.0|last_reward_at:   32|Elapsed Time: 0:00:11||\n",
      "Episode 6|Iteration 113|reward:   92.0|last_reward_at:   32|Elapsed Time: 0:00:11||\n",
      "Episode 6|Iteration 115|reward:   92.0|last_reward_at:   32|Elapsed Time: 0:00:11||\n",
      "Episode 6|Iteration 117|reward:   92.0|last_reward_at:   32|Elapsed Time: 0:00:11||\n",
      "Episode 6|Iteration 119|reward:   92.0|last_reward_at:   32|Elapsed Time: 0:00:11||\n",
      "Episode 6|Iteration 122|reward:   92.0|last_reward_at:   32|Elapsed Time: 0:00:11||\n",
      "Episode 6|Iteration 123|reward:   92.0|last_reward_at:   32|Elapsed Time: 0:00:12||\n",
      "Episode 6|Iteration 126|reward:   92.0|last_reward_at:   32|Elapsed Time: 0:00:12||\n",
      "Episode 6|Iteration 128|reward:   92.0|last_reward_at:   32|Elapsed Time: 0:00:12||\n",
      "Episode 6|Iteration 130|reward:   92.0|last_reward_at:   32|Elapsed Time: 0:00:12||\n",
      "Episode 6|Iteration 131|reward:   92.0|last_reward_at:   32|Elapsed Time: 0:00:12||\n",
      "Episode 6|Iteration 132|reward:   92.0|last_reward_at:   32|Elapsed Time: 0:00:12||\n",
      "Episode 6|Iteration 134|reward:   92.0|last_reward_at:   32|Elapsed Time: 0:00:12||\n",
      "Episode 6|Iteration 137|reward:   92.0|last_reward_at:   32|Elapsed Time: 0:00:12||\n",
      "Episode 6|Iteration 139|reward:   92.0|last_reward_at:   32|Elapsed Time: 0:00:13||\n",
      "Episode 6|Iteration 141|reward:  192.0|last_reward_at:   32|Elapsed Time: 0:00:13||\n",
      "Episode 6|Iteration 141|reward:  192.0|last_reward_at:  141|Elapsed Time: 0:00:13||\n",
      "Episode 6|Iteration 142|reward:  201.0|last_reward_at:  141|Elapsed Time: 0:00:13||\n",
      "Episode 6|Iteration 142|reward:  201.0|last_reward_at:  142|Elapsed Time: 0:00:13||\n",
      "Episode 6|Iteration 145|reward:  201.0|last_reward_at:  142|Elapsed Time: 0:00:13||\n",
      "Episode 6|Iteration 146|reward:  201.0|last_reward_at:  142|Elapsed Time: 0:00:13||\n",
      "Episode 6|Iteration 148|reward:  201.0|last_reward_at:  142|Elapsed Time: 0:00:13||\n",
      "Episode 6|Iteration 150|reward:  201.0|last_reward_at:  142|Elapsed Time: 0:00:13||\n",
      "Episode 6|Iteration 152|reward:  201.0|last_reward_at:  142|Elapsed Time: 0:00:13||\n",
      "Episode 6|Iteration 154|reward:  201.0|last_reward_at:  142|Elapsed Time: 0:00:14||\n",
      "Episode 6|Iteration 155|reward:  201.0|last_reward_at:  142|Elapsed Time: 0:00:14||\n",
      "Episode 6|Iteration 156|reward:  201.0|last_reward_at:  142|Elapsed Time: 0:00:14||\n",
      "Episode 6|Iteration 157|reward:  201.0|last_reward_at:  142|Elapsed Time: 0:00:14||\n",
      "Episode 6|Iteration 158|reward:  201.0|last_reward_at:  142|Elapsed Time: 0:00:14||\n",
      "Episode 6|Iteration 159|reward:  201.0|last_reward_at:  142|Elapsed Time: 0:00:14||\n",
      "Episode 6|Iteration 160|reward:  201.0|last_reward_at:  142|Elapsed Time: 0:00:15||\n",
      "Episode 6|Iteration 162|reward:  201.0|last_reward_at:  142|Elapsed Time: 0:00:15||\n",
      "Episode 6|Iteration 165|reward:  201.0|last_reward_at:  142|Elapsed Time: 0:00:15||\n",
      "Episode 6|Iteration 168|reward:  201.0|last_reward_at:  142|Elapsed Time: 0:00:15||\n",
      "Episode 6|Iteration 170|reward:  201.0|last_reward_at:  142|Elapsed Time: 0:00:15||\n",
      "Episode 6|Iteration 172|reward:  201.0|last_reward_at:  142|Elapsed Time: 0:00:15||\n",
      "Episode 6|Iteration 175|reward:  201.0|last_reward_at:  142|Elapsed Time: 0:00:15||\n",
      "Episode 6|Iteration 177|reward:  201.0|last_reward_at:  142|Elapsed Time: 0:00:15||\n",
      "Episode 6|Iteration 178|reward:  201.0|last_reward_at:  142|Elapsed Time: 0:00:15||\n",
      "Episode 6|Iteration 180|reward:  201.0|last_reward_at:  142|Elapsed Time: 0:00:16||\n",
      "Episode 6|Iteration 182|reward:  201.0|last_reward_at:  142|Elapsed Time: 0:00:16||\n",
      "Episode 6|Iteration 185|reward:  201.0|last_reward_at:  142|Elapsed Time: 0:00:16||\n",
      "Episode 6|Iteration 188|reward:  201.0|last_reward_at:  142|Elapsed Time: 0:00:16||\n",
      "Episode 6|Iteration 191|reward:  201.0|last_reward_at:  142|Elapsed Time: 0:00:16||\n",
      "Episode 6|Iteration 193|reward:  201.0|last_reward_at:  142|Elapsed Time: 0:00:16||\n",
      "Episode 6|Iteration 196|reward:  201.0|last_reward_at:  142|Elapsed Time: 0:00:16||\n",
      "Episode 6|Iteration 199|reward:  201.0|last_reward_at:  142|Elapsed Time: 0:00:16||\n",
      "Episode 6|Iteration 202|reward:  201.0|last_reward_at:  142|Elapsed Time: 0:00:16||\n",
      "Episode 6|Iteration 204|reward:  201.0|last_reward_at:  142|Elapsed Time: 0:00:17||\n",
      "Episode 6|Iteration 207|reward:  201.0|last_reward_at:  142|Elapsed Time: 0:00:17||\n",
      "Episode 6|Iteration 209|reward:  201.0|last_reward_at:  142|Elapsed Time: 0:00:17||\n",
      "Episode 6|Iteration 212|reward:  201.0|last_reward_at:  142|Elapsed Time: 0:00:17||\n",
      "Episode 6|Iteration 214|reward:  201.0|last_reward_at:  142|Elapsed Time: 0:00:17||\n",
      "Episode 6|Iteration 217|reward:  201.0|last_reward_at:  142|Elapsed Time: 0:00:17||\n",
      "Episode 6|Iteration 220|reward:  201.0|last_reward_at:  142|Elapsed Time: 0:00:17||\n",
      "Episode 6|Iteration 223|reward:  201.0|last_reward_at:  142|Elapsed Time: 0:00:18||\n",
      "Episode 6|Iteration 225|reward:  201.0|last_reward_at:  142|Elapsed Time: 0:00:18||\n",
      "Episode 6|Iteration 227|reward:  201.0|last_reward_at:  142|Elapsed Time: 0:00:18||\n",
      "Episode 6|Iteration 229|reward:  201.0|last_reward_at:  142|Elapsed Time: 0:00:18||\n",
      "Episode 6|Iteration 232|reward:  201.0|last_reward_at:  142|Elapsed Time: 0:00:18||\n",
      "Episode 6|Iteration 235|reward:  201.0|last_reward_at:  142|Elapsed Time: 0:00:18||\n",
      "Episode 6|Iteration 238|reward:  201.0|last_reward_at:  142|Elapsed Time: 0:00:18||\n",
      "Episode 6|Iteration 241|reward:  201.0|last_reward_at:  142|Elapsed Time: 0:00:18||\n",
      "Episode 6|Iteration 242|reward:  201.0|last_reward_at:  142|Elapsed Time: 0:00:19||\n",
      "Episode 6|Iteration 243|reward:  201.0|last_reward_at:  142|Elapsed Time: 0:00:19||\n",
      "Episode 6|Iteration 244|reward:  201.0|last_reward_at:  142|Elapsed Time: 0:00:19||\n",
      "Episode 6|Iteration 246|reward:  201.0|last_reward_at:  142|Elapsed Time: 0:00:19||\n",
      "Episode 6|Iteration 248|reward:  201.0|last_reward_at:  142|Elapsed Time: 0:00:19||\n",
      "Episode 6|Iteration 249|reward:  201.0|last_reward_at:  142|Elapsed Time: 0:00:19||\n",
      "Episode 6|Iteration 250|reward:  201.0|last_reward_at:  142|Elapsed Time: 0:00:20||\n",
      "Episode 6|Iteration 251|reward:  201.0|last_reward_at:  142|Elapsed Time: 0:00:20||\n",
      "Episode 6|Iteration 252|reward:  201.0|last_reward_at:  142|Elapsed Time: 0:00:20||\n",
      "Episode 6|Iteration 255|reward:  201.0|last_reward_at:  142|Elapsed Time: 0:00:20||\n",
      "Episode 6|Iteration 258|reward:  201.0|last_reward_at:  142|Elapsed Time: 0:00:21||\n",
      "Episode 6|Iteration 261|reward:  201.0|last_reward_at:  142|Elapsed Time: 0:00:21||\n",
      "Episode 6|Iteration 263|reward:  201.0|last_reward_at:  142|Elapsed Time: 0:00:21||\n",
      "Episode 6|Iteration 266|reward:  201.0|last_reward_at:  142|Elapsed Time: 0:00:21||\n",
      "Episode 6|Iteration 268|reward:  201.0|last_reward_at:  142|Elapsed Time: 0:00:21||\n",
      "Episode 6|Iteration 271|reward:  201.0|last_reward_at:  142|Elapsed Time: 0:00:21||\n",
      "Episode 6|Iteration 273|reward:  201.0|last_reward_at:  142|Elapsed Time: 0:00:21||\n",
      "Episode 6|Iteration 276|reward:  201.0|last_reward_at:  142|Elapsed Time: 0:00:21||\n",
      "Episode 6|Iteration 279|reward:  201.0|last_reward_at:  142|Elapsed Time: 0:00:22||\n",
      "Episode 6|Iteration 282|reward:  201.0|last_reward_at:  142|Elapsed Time: 0:00:22||\n",
      "Episode 6|Iteration 284|reward:  201.0|last_reward_at:  142|Elapsed Time: 0:00:22||\n",
      "Episode 6|Iteration 287|reward:  201.0|last_reward_at:  142|Elapsed Time: 0:00:22||\n",
      "Episode 6|Iteration 290|reward:  201.0|last_reward_at:  142|Elapsed Time: 0:00:22||\n",
      "Episode 6|Iteration 293|reward:  201.0|last_reward_at:  142|Elapsed Time: 0:00:22||\n",
      "Episode 6|Iteration 296|reward:  201.0|last_reward_at:  142|Elapsed Time: 0:00:22||\n",
      "Episode 6|Iteration 299|reward:  201.0|last_reward_at:  142|Elapsed Time: 0:00:23||\n",
      "Episode 6|Iteration 301|reward:  201.0|last_reward_at:  142|Elapsed Time: 0:00:23||\n",
      "Episode 6|Iteration 304|reward:  201.0|last_reward_at:  142|Elapsed Time: 0:00:23||\n",
      "Episode 6|Iteration 306|reward:  201.0|last_reward_at:  142|Elapsed Time: 0:00:23||\n",
      "Episode 6|Iteration 309|reward:  201.0|last_reward_at:  142|Elapsed Time: 0:00:23||\n",
      "Episode 6|Iteration 311|reward:  201.0|last_reward_at:  142|Elapsed Time: 0:00:23||\n",
      "Episode 6|Iteration 314|reward:  201.0|last_reward_at:  142|Elapsed Time: 0:00:23||\n",
      "Episode 6|Iteration 317|reward:  201.0|last_reward_at:  142|Elapsed Time: 0:00:23||\n",
      "Episode 6|Iteration 320|reward:  201.0|last_reward_at:  142|Elapsed Time: 0:00:23||\n",
      "Episode 6|Iteration 323|reward:  201.0|last_reward_at:  142|Elapsed Time: 0:00:24||\n",
      "Episode 6|Iteration 325|reward:  201.0|last_reward_at:  142|Elapsed Time: 0:00:24||\n",
      "Episode 6|Iteration 327|reward:  201.0|last_reward_at:  142|Elapsed Time: 0:00:24||\n",
      "Episode 6|Iteration 327|reward:  201.0|last_reward_at:  142|Elapsed Time: 0:00:24||\n",
      "Episode 6|Iteration 329|reward:  201.0|last_reward_at:  142|Elapsed Time: 0:00:24||\n",
      "Episode 6|Iteration 332|reward:  201.0|last_reward_at:  142|Elapsed Time: 0:00:24||\n",
      "Episode 6|Iteration 335|reward:  201.0|last_reward_at:  142|Elapsed Time: 0:00:24||\n",
      "Episode 6|Iteration 337|reward:  201.0|last_reward_at:  142|Elapsed Time: 0:00:24||\n",
      "Episode 6|Iteration 339|reward:  201.0|last_reward_at:  142|Elapsed Time: 0:00:25||\n",
      "Episode 6|Iteration 342|reward:  201.0|last_reward_at:  142|Elapsed Time: 0:00:25||\n",
      "Episode 6|Iteration 344|reward:  201.0|last_reward_at:  142|Elapsed Time: 0:00:25||\n",
      "Episode 6|Iteration 346|reward:  201.0|last_reward_at:  142|Elapsed Time: 0:00:25||\n",
      "Episode 6|Iteration 349|reward:  201.0|last_reward_at:  142|Elapsed Time: 0:00:25||\n",
      "Episode 6|Iteration 351|reward:  201.0|last_reward_at:  142|Elapsed Time: 0:00:25||\n",
      "Episode 6|Iteration 354|reward:  201.0|last_reward_at:  142|Elapsed Time: 0:00:25||\n",
      "Episode 6|Iteration 357|reward:  201.0|last_reward_at:  142|Elapsed Time: 0:00:25||\n",
      "Episode 6|Iteration 358|reward:  201.0|last_reward_at:  142|Elapsed Time: 0:00:25||\n",
      "Episode 6|Iteration 360|reward:  201.0|last_reward_at:  142|Elapsed Time: 0:00:26||\n",
      "Episode 6|Iteration 363|reward:  201.0|last_reward_at:  142|Elapsed Time: 0:00:26||\n",
      "Episode 6|Iteration 366|reward:  201.0|last_reward_at:  142|Elapsed Time: 0:00:26||\n",
      "Episode 6|Iteration 369|reward:  201.0|last_reward_at:  142|Elapsed Time: 0:00:26||\n",
      "Episode 6|Iteration 372|reward:  201.0|last_reward_at:  142|Elapsed Time: 0:00:26||\n",
      "Episode 6|Iteration 375|reward:  201.0|last_reward_at:  142|Elapsed Time: 0:00:26||\n",
      "Episode 6|Iteration 378|reward:  201.0|last_reward_at:  142|Elapsed Time: 0:00:26||\n",
      "Episode 6|Iteration 380|reward:  201.0|last_reward_at:  142|Elapsed Time: 0:00:26||\n",
      "Episode 6|Iteration 382|reward:  201.0|last_reward_at:  142|Elapsed Time: 0:00:27||\n",
      "Episode 6|Iteration 385|reward:  201.0|last_reward_at:  142|Elapsed Time: 0:00:27||\n",
      "Episode 6|Iteration 388|reward:  201.0|last_reward_at:  142|Elapsed Time: 0:00:27||\n",
      "Episode 6|Iteration 390|reward:  201.0|last_reward_at:  142|Elapsed Time: 0:00:27||\n",
      "Episode 6|Iteration 393|reward:  201.0|last_reward_at:  142|Elapsed Time: 0:00:27||\n",
      "Episode 6|Iteration 396|reward:  201.0|last_reward_at:  142|Elapsed Time: 0:00:27||\n",
      "Episode 6|Iteration 399|reward:  201.0|last_reward_at:  142|Elapsed Time: 0:00:27||\n",
      "Episode 6|Iteration 402|reward:  201.0|last_reward_at:  142|Elapsed Time: 0:00:27||\n",
      "Episode 6|Iteration 405|reward:  201.0|last_reward_at:  142|Elapsed Time: 0:00:27||\n",
      "Episode 6|Iteration 407|reward:  201.0|last_reward_at:  142|Elapsed Time: 0:00:28||\n",
      "Episode 6|Iteration 410|reward:  201.0|last_reward_at:  142|Elapsed Time: 0:00:28||\n",
      "Episode 6|Iteration 413|reward:  201.0|last_reward_at:  142|Elapsed Time: 0:00:28||\n",
      "Episode 6|Iteration 416|reward:  201.0|last_reward_at:  142|Elapsed Time: 0:00:28||\n",
      "Episode 6|Iteration 418|reward:  201.0|last_reward_at:  142|Elapsed Time: 0:00:28||\n",
      "Episode 6|Iteration 419|reward:  201.0|last_reward_at:  142|Elapsed Time: 0:00:28||\n",
      "Episode 6|Iteration 422|reward:  201.0|last_reward_at:  142|Elapsed Time: 0:00:28||\n",
      "Episode 6|Iteration 425|reward:  201.0|last_reward_at:  142|Elapsed Time: 0:00:28||\n",
      "Episode 6|Iteration 428|reward:  201.0|last_reward_at:  142|Elapsed Time: 0:00:28||\n",
      "Episode 6|Iteration 430|reward:  201.0|last_reward_at:  142|Elapsed Time: 0:00:29||\n",
      "Episode 6|Iteration 433|reward:  201.0|last_reward_at:  142|Elapsed Time: 0:00:29||\n",
      "Episode 6|Iteration 435|reward:  201.0|last_reward_at:  142|Elapsed Time: 0:00:29||\n",
      "Episode 6|Iteration 436|reward:  201.0|last_reward_at:  142|Elapsed Time: 0:00:29||\n",
      "Episode 6|Iteration 437|reward:  201.0|last_reward_at:  142|Elapsed Time: 0:00:29||\n",
      "Episode 6|Iteration 438|reward:  201.0|last_reward_at:  142|Elapsed Time: 0:00:29||\n",
      "Episode 6|Iteration 439|reward:  201.0|last_reward_at:  142|Elapsed Time: 0:00:29||\n",
      "Episode 6|Iteration 440|reward:  201.0|last_reward_at:  142|Elapsed Time: 0:00:30||\n",
      "Episode 6|Iteration 443|reward:  201.0|last_reward_at:  142|Elapsed Time: 0:00:30||\n",
      "Episode 6|Iteration 446|reward:  201.0|last_reward_at:  142|Elapsed Time: 0:00:30||\n",
      "Episode 6|Iteration 449|reward:  201.0|last_reward_at:  142|Elapsed Time: 0:00:30||\n",
      "Episode 6|Iteration 451|reward:  201.0|last_reward_at:  142|Elapsed Time: 0:00:30||\n",
      "Episode 6|Iteration 454|reward:  201.0|last_reward_at:  142|Elapsed Time: 0:00:30||\n",
      "Episode 6|Iteration 457|reward:  201.0|last_reward_at:  142|Elapsed Time: 0:00:30||\n",
      "Episode 6|Iteration 460|reward:  201.0|last_reward_at:  142|Elapsed Time: 0:00:31||\n",
      "Episode 6|Iteration 462|reward:  201.0|last_reward_at:  142|Elapsed Time: 0:00:31||\n",
      "Episode 6|Iteration 465|reward:  201.0|last_reward_at:  142|Elapsed Time: 0:00:31||\n",
      "Episode 6|Iteration 468|reward:  201.0|last_reward_at:  142|Elapsed Time: 0:00:31||\n",
      "Episode 6|Iteration 470|reward:  201.0|last_reward_at:  142|Elapsed Time: 0:00:31||\n",
      "Episode 6|Iteration 473|reward:  201.0|last_reward_at:  142|Elapsed Time: 0:00:31||\n",
      "Episode 6|Iteration 476|reward:  201.0|last_reward_at:  142|Elapsed Time: 0:00:31||\n",
      "Episode 6|Iteration 479|reward:  201.0|last_reward_at:  142|Elapsed Time: 0:00:31||\n",
      "Episode 6|Iteration 480|reward:  201.0|last_reward_at:  142|Elapsed Time: 0:00:32||\n",
      "Episode 6|Iteration 482|reward:  201.0|last_reward_at:  142|Elapsed Time: 0:00:32||\n",
      "Episode 6|Iteration 484|reward:  201.0|last_reward_at:  142|Elapsed Time: 0:00:32||\n",
      "Episode 6|Iteration 487|reward:  201.0|last_reward_at:  142|Elapsed Time: 0:00:32||\n",
      "Episode 6|Iteration 489|reward:  201.0|last_reward_at:  142|Elapsed Time: 0:00:32||\n",
      "Episode 6|Iteration 491|reward:  201.0|last_reward_at:  142|Elapsed Time: 0:00:32||\n",
      "Episode 6|Iteration 494|reward:  201.0|last_reward_at:  142|Elapsed Time: 0:00:32||\n",
      "Episode 6|Iteration 496|reward:  201.0|last_reward_at:  142|Elapsed Time: 0:00:32||\n",
      "Episode 6|Iteration 499|reward:  201.0|last_reward_at:  142|Elapsed Time: 0:00:32||\n",
      "Episode 6|Iteration 502|reward:  201.0|last_reward_at:  142|Elapsed Time: 0:00:33||\n",
      "Episode 6|Iteration 504|reward:  201.0|last_reward_at:  142|Elapsed Time: 0:00:33||\n",
      "Episode 6|Iteration 507|reward:  201.0|last_reward_at:  142|Elapsed Time: 0:00:33||\n",
      "Episode 6|Iteration 510|reward:  201.0|last_reward_at:  142|Elapsed Time: 0:00:33||\n",
      "Episode 6|Iteration 512|reward:  201.0|last_reward_at:  142|Elapsed Time: 0:00:33||\n",
      "Episode 6|Iteration 514|reward:  201.0|last_reward_at:  142|Elapsed Time: 0:00:33||\n",
      "Episode 6|Iteration 517|reward:  201.0|last_reward_at:  142|Elapsed Time: 0:00:33||\n",
      "Episode 6|Iteration 518|reward:  201.0|last_reward_at:  142|Elapsed Time: 0:00:33||\n",
      "Episode 6|Iteration 520|reward:  201.0|last_reward_at:  142|Elapsed Time: 0:00:34||\n",
      "Episode 6|Iteration 522|reward:  201.0|last_reward_at:  142|Elapsed Time: 0:00:34||\n",
      "Episode 6|Iteration 524|reward:  201.0|last_reward_at:  142|Elapsed Time: 0:00:34||\n",
      "Episode 6|Iteration 527|reward:  201.0|last_reward_at:  142|Elapsed Time: 0:00:34||\n",
      "Episode 6|Iteration 529|reward:  201.0|last_reward_at:  142|Elapsed Time: 0:00:34||\n",
      "Episode 6|Iteration 532|reward:  201.0|last_reward_at:  142|Elapsed Time: 0:00:34||\n",
      "Episode 6|Iteration 533|reward:  201.0|last_reward_at:  142|Elapsed Time: 0:00:34||\n",
      "Episode 6|Iteration 535|reward:  201.0|last_reward_at:  142|Elapsed Time: 0:00:34||\n",
      "Episode 6|Iteration 537|reward:  201.0|last_reward_at:  142|Elapsed Time: 0:00:35||\n",
      "Episode 6|Iteration 539|reward:  201.0|last_reward_at:  142|Elapsed Time: 0:00:35||\n",
      "Episode 6|Iteration 542|reward:  201.0|last_reward_at:  142|Elapsed Time: 0:00:35||\n",
      "Episode 6|Iteration 545|reward:  201.0|last_reward_at:  142|Elapsed Time: 0:00:35||\n",
      "Episode 6|Iteration 547|reward:  201.0|last_reward_at:  142|Elapsed Time: 0:00:35||\n",
      "Episode 6|Iteration 549|reward:  201.0|last_reward_at:  142|Elapsed Time: 0:00:35||\n",
      "Episode 6|Iteration 552|reward:  201.0|last_reward_at:  142|Elapsed Time: 0:00:35||\n",
      "Episode 6|Iteration 555|reward:  201.0|last_reward_at:  142|Elapsed Time: 0:00:35||\n",
      "Episode 6|Iteration 557|reward:  201.0|last_reward_at:  142|Elapsed Time: 0:00:35||\n",
      "Episode 6|Iteration 560|reward:  201.0|last_reward_at:  142|Elapsed Time: 0:00:36||\n",
      "Episode 6|Iteration 562|reward:  201.0|last_reward_at:  142|Elapsed Time: 0:00:36||\n",
      "Episode 6|Iteration 565|reward:  201.0|last_reward_at:  142|Elapsed Time: 0:00:36||\n",
      "Episode 6|Iteration 568|reward:  201.0|last_reward_at:  142|Elapsed Time: 0:00:36||\n",
      "Episode 6|Iteration 570|reward:  201.0|last_reward_at:  142|Elapsed Time: 0:00:36||\n",
      "Episode 6|Iteration 571|reward:  201.0|last_reward_at:  142|Elapsed Time: 0:00:36||\n",
      "Episode 6|Iteration 573|reward:  201.0|last_reward_at:  142|Elapsed Time: 0:00:36||\n",
      "Episode 6|Iteration 576|reward:  201.0|last_reward_at:  142|Elapsed Time: 0:00:36||\n",
      "Episode 6|Iteration 578|reward:  201.0|last_reward_at:  142|Elapsed Time: 0:00:36||\n",
      "Episode 6|Iteration 580|reward:  201.0|last_reward_at:  142|Elapsed Time: 0:00:37||\n",
      "Episode 6|Iteration 582|reward:  201.0|last_reward_at:  142|Elapsed Time: 0:00:37||\n",
      "Episode 6|Iteration 585|reward:  201.0|last_reward_at:  142|Elapsed Time: 0:00:37||\n",
      "Episode 6|Iteration 587|reward:  201.0|last_reward_at:  142|Elapsed Time: 0:00:37||\n",
      "Episode 6|Iteration 589|reward:  201.0|last_reward_at:  142|Elapsed Time: 0:00:37||\n",
      "Episode 6|Iteration 591|reward:  201.0|last_reward_at:  142|Elapsed Time: 0:00:37||\n",
      "Episode 6|Iteration 593|reward:  201.0|last_reward_at:  142|Elapsed Time: 0:00:37||\n",
      "Episode 6|Iteration 595|reward:  201.0|last_reward_at:  142|Elapsed Time: 0:00:37||\n",
      "Episode 6|Iteration 598|reward:  201.0|last_reward_at:  142|Elapsed Time: 0:00:37||\n",
      "Episode 6|Iteration 600|reward:  201.0|last_reward_at:  142|Elapsed Time: 0:00:37||\n",
      "Episode 6|Iteration 600|reward:  201.0|last_reward_at:  142|Elapsed Time: 0:00:37||\n"
     ]
    },
    {
     "name": "stdout",
     "output_type": "stream",
     "text": [
      "  Episode 6 stopped at t=600 \n",
      "  Breakdown [Reward/NoReward (Success rate)]\n",
      "    explore-local: 0/2 (0.00)\n",
      "    explore-remote: 0/0 (NaN)\n",
      "    explore-connect: 0/0 (NaN)\n",
      "    exploit-local: 2/2 (0.50)\n",
      "    exploit-remote: 5/570 (0.01)\n",
      "    exploit-connect: 2/17 (0.11)\n",
      "  exploit deflected to exploration: 2\n",
      "  ## Episode: 7/10 'Exploiting DQL' ϵ=0.0000, γ=0.15, lr=0.01, replaymemory=10000,\n",
      "batch=256, target_update=5\n"
     ]
    },
    {
     "name": "stderr",
     "output_type": "stream",
     "text": [
      "Episode 7|Iteration 0|reward: ------|last_reward_at: ----|Elapsed Time: 0:00:00||\n",
      "Episode 7|Iteration 1|reward:    6.0|last_reward_at: ----|Elapsed Time: 0:00:00||\n",
      "Episode 7|Iteration 1|reward:    6.0|last_reward_at:    1|Elapsed Time: 0:00:00||\n",
      "Episode 7|Iteration 2|reward:    6.0|last_reward_at:    1|Elapsed Time: 0:00:00||\n",
      "Episode 7|Iteration 3|reward:    6.0|last_reward_at:    1|Elapsed Time: 0:00:00||\n",
      "Episode 7|Iteration 4|reward:   12.0|last_reward_at:    1|Elapsed Time: 0:00:00||\n",
      "Episode 7|Iteration 4|reward:   12.0|last_reward_at:    4|Elapsed Time: 0:00:00||\n",
      "Episode 7|Iteration 6|reward:   18.0|last_reward_at:    4|Elapsed Time: 0:00:00||\n",
      "Episode 7|Iteration 6|reward:   18.0|last_reward_at:    6|Elapsed Time: 0:00:00||\n",
      "Episode 7|Iteration 8|reward:   18.0|last_reward_at:    6|Elapsed Time: 0:00:00||\n",
      "Episode 7|Iteration 8|reward:   27.0|last_reward_at:    6|Elapsed Time: 0:00:00||\n",
      "Episode 7|Iteration 8|reward:   27.0|last_reward_at:    8|Elapsed Time: 0:00:00||\n",
      "Episode 7|Iteration 11|reward:   27.0|last_reward_at:    8|Elapsed Time: 0:00:01||\n",
      "Episode 7|Iteration 14|reward:   27.0|last_reward_at:    8|Elapsed Time: 0:00:01||\n",
      "Episode 7|Iteration 17|reward:   27.0|last_reward_at:    8|Elapsed Time: 0:00:01||\n",
      "Episode 7|Iteration 20|reward:   27.0|last_reward_at:    8|Elapsed Time: 0:00:01||\n",
      "Episode 7|Iteration 23|reward:   27.0|last_reward_at:    8|Elapsed Time: 0:00:01||\n",
      "Episode 7|Iteration 25|reward:   27.0|last_reward_at:    8|Elapsed Time: 0:00:01||\n",
      "Episode 7|Iteration 28|reward:   27.0|last_reward_at:    8|Elapsed Time: 0:00:01||\n",
      "Episode 7|Iteration 31|reward:   27.0|last_reward_at:    8|Elapsed Time: 0:00:01||\n",
      "Episode 7|Iteration 33|reward:   27.0|last_reward_at:    8|Elapsed Time: 0:00:01||\n",
      "Episode 7|Iteration 36|reward:   27.0|last_reward_at:    8|Elapsed Time: 0:00:02||\n",
      "Episode 7|Iteration 38|reward:   27.0|last_reward_at:    8|Elapsed Time: 0:00:02||\n",
      "Episode 7|Iteration 40|reward:   27.0|last_reward_at:    8|Elapsed Time: 0:00:02||\n",
      "Episode 7|Iteration 43|reward:   27.0|last_reward_at:    8|Elapsed Time: 0:00:02||\n",
      "Episode 7|Iteration 46|reward:   27.0|last_reward_at:    8|Elapsed Time: 0:00:02||\n",
      "Episode 7|Iteration 48|reward:   27.0|last_reward_at:    8|Elapsed Time: 0:00:02||\n",
      "Episode 7|Iteration 50|reward:   27.0|last_reward_at:    8|Elapsed Time: 0:00:02||\n",
      "Episode 7|Iteration 53|reward:   27.0|last_reward_at:    8|Elapsed Time: 0:00:02||\n",
      "Episode 7|Iteration 56|reward:   27.0|last_reward_at:    8|Elapsed Time: 0:00:02||\n",
      "Episode 7|Iteration 59|reward:   27.0|last_reward_at:    8|Elapsed Time: 0:00:03||\n",
      "Episode 7|Iteration 61|reward:   27.0|last_reward_at:    8|Elapsed Time: 0:00:03||\n",
      "Episode 7|Iteration 63|reward:   27.0|last_reward_at:    8|Elapsed Time: 0:00:03||\n",
      "Episode 7|Iteration 66|reward:   27.0|last_reward_at:    8|Elapsed Time: 0:00:03||\n",
      "Episode 7|Iteration 69|reward:   27.0|last_reward_at:    8|Elapsed Time: 0:00:03||\n",
      "Episode 7|Iteration 71|reward:   27.0|last_reward_at:    8|Elapsed Time: 0:00:03||\n",
      "Episode 7|Iteration 74|reward:   27.0|last_reward_at:    8|Elapsed Time: 0:00:03||\n",
      "Episode 7|Iteration 76|reward:   27.0|last_reward_at:    8|Elapsed Time: 0:00:03||\n",
      "Episode 7|Iteration 78|reward:   27.0|last_reward_at:    8|Elapsed Time: 0:00:03||\n",
      "Episode 7|Iteration 81|reward:   27.0|last_reward_at:    8|Elapsed Time: 0:00:04||\n",
      "Episode 7|Iteration 83|reward:   27.0|last_reward_at:    8|Elapsed Time: 0:00:04||\n",
      "Episode 7|Iteration 85|reward:   27.0|last_reward_at:    8|Elapsed Time: 0:00:04||\n",
      "Episode 7|Iteration 88|reward:   27.0|last_reward_at:    8|Elapsed Time: 0:00:04||\n",
      "Episode 7|Iteration 91|reward:   27.0|last_reward_at:    8|Elapsed Time: 0:00:04||\n",
      "Episode 7|Iteration 93|reward:   27.0|last_reward_at:    8|Elapsed Time: 0:00:04||\n",
      "Episode 7|Iteration 95|reward:   27.0|last_reward_at:    8|Elapsed Time: 0:00:04||\n",
      "Episode 7|Iteration 98|reward:   27.0|last_reward_at:    8|Elapsed Time: 0:00:04||\n",
      "Episode 7|Iteration 101|reward:   27.0|last_reward_at:    8|Elapsed Time: 0:00:05||\n",
      "Episode 7|Iteration 103|reward:   27.0|last_reward_at:    8|Elapsed Time: 0:00:05||\n",
      "Episode 7|Iteration 105|reward:   27.0|last_reward_at:    8|Elapsed Time: 0:00:05||\n",
      "Episode 7|Iteration 107|reward:   27.0|last_reward_at:    8|Elapsed Time: 0:00:05||\n",
      "Episode 7|Iteration 109|reward:   27.0|last_reward_at:    8|Elapsed Time: 0:00:05||\n",
      "Episode 7|Iteration 111|reward:   27.0|last_reward_at:    8|Elapsed Time: 0:00:05||\n",
      "Episode 7|Iteration 113|reward:   27.0|last_reward_at:    8|Elapsed Time: 0:00:05||\n",
      "Episode 7|Iteration 116|reward:   27.0|last_reward_at:    8|Elapsed Time: 0:00:05||\n",
      "Episode 7|Iteration 118|reward:   27.0|last_reward_at:    8|Elapsed Time: 0:00:05||\n",
      "Episode 7|Iteration 120|reward:   27.0|last_reward_at:    8|Elapsed Time: 0:00:06||\n",
      "Episode 7|Iteration 122|reward:   27.0|last_reward_at:    8|Elapsed Time: 0:00:06||\n",
      "Episode 7|Iteration 123|reward:   27.0|last_reward_at:    8|Elapsed Time: 0:00:06||\n",
      "Episode 7|Iteration 126|reward:   27.0|last_reward_at:    8|Elapsed Time: 0:00:06||\n",
      "Episode 7|Iteration 129|reward:   27.0|last_reward_at:    8|Elapsed Time: 0:00:06||\n",
      "Episode 7|Iteration 131|reward:   27.0|last_reward_at:    8|Elapsed Time: 0:00:06||\n",
      "Episode 7|Iteration 133|reward:   27.0|last_reward_at:    8|Elapsed Time: 0:00:06||\n",
      "Episode 7|Iteration 136|reward:   27.0|last_reward_at:    8|Elapsed Time: 0:00:06||\n",
      "Episode 7|Iteration 139|reward:   27.0|last_reward_at:    8|Elapsed Time: 0:00:06||\n",
      "Episode 7|Iteration 140|reward:   27.0|last_reward_at:    8|Elapsed Time: 0:00:07||\n",
      "Episode 7|Iteration 142|reward:   27.0|last_reward_at:    8|Elapsed Time: 0:00:07||\n",
      "Episode 7|Iteration 144|reward:   27.0|last_reward_at:    8|Elapsed Time: 0:00:07||\n",
      "Episode 7|Iteration 147|reward:   27.0|last_reward_at:    8|Elapsed Time: 0:00:07||\n",
      "Episode 7|Iteration 150|reward:   27.0|last_reward_at:    8|Elapsed Time: 0:00:07||\n",
      "Episode 7|Iteration 152|reward:   27.0|last_reward_at:    8|Elapsed Time: 0:00:07||\n",
      "Episode 7|Iteration 153|reward:   27.0|last_reward_at:    8|Elapsed Time: 0:00:07||\n",
      "Episode 7|Iteration 156|reward:   27.0|last_reward_at:    8|Elapsed Time: 0:00:07||\n",
      "Episode 7|Iteration 159|reward:   27.0|last_reward_at:    8|Elapsed Time: 0:00:08||\n",
      "Episode 7|Iteration 161|reward:   27.0|last_reward_at:    8|Elapsed Time: 0:00:08||\n",
      "Episode 7|Iteration 163|reward:   27.0|last_reward_at:    8|Elapsed Time: 0:00:08||\n",
      "Episode 7|Iteration 165|reward:   27.0|last_reward_at:    8|Elapsed Time: 0:00:08||\n",
      "Episode 7|Iteration 168|reward:   27.0|last_reward_at:    8|Elapsed Time: 0:00:08||\n",
      "Episode 7|Iteration 169|reward:   27.0|last_reward_at:    8|Elapsed Time: 0:00:08||\n",
      "Episode 7|Iteration 172|reward:   27.0|last_reward_at:    8|Elapsed Time: 0:00:08||\n",
      "Episode 7|Iteration 175|reward:   27.0|last_reward_at:    8|Elapsed Time: 0:00:08||\n",
      "Episode 7|Iteration 177|reward:   27.0|last_reward_at:    8|Elapsed Time: 0:00:08||\n",
      "Episode 7|Iteration 179|reward:   27.0|last_reward_at:    8|Elapsed Time: 0:00:09||\n",
      "Episode 7|Iteration 182|reward:   27.0|last_reward_at:    8|Elapsed Time: 0:00:09||\n",
      "Episode 7|Iteration 183|reward:   27.0|last_reward_at:    8|Elapsed Time: 0:00:09||\n",
      "Episode 7|Iteration 184|reward:   27.0|last_reward_at:    8|Elapsed Time: 0:00:09||\n",
      "Episode 7|Iteration 185|reward:   27.0|last_reward_at:    8|Elapsed Time: 0:00:09||\n",
      "Episode 7|Iteration 188|reward:   27.0|last_reward_at:    8|Elapsed Time: 0:00:09||\n",
      "Episode 7|Iteration 191|reward:   27.0|last_reward_at:    8|Elapsed Time: 0:00:10||\n",
      "Episode 7|Iteration 193|reward:   27.0|last_reward_at:    8|Elapsed Time: 0:00:10||\n",
      "Episode 7|Iteration 195|reward:   27.0|last_reward_at:    8|Elapsed Time: 0:00:10||\n",
      "Episode 7|Iteration 198|reward:   27.0|last_reward_at:    8|Elapsed Time: 0:00:10||\n",
      "Episode 7|Iteration 200|reward:   27.0|last_reward_at:    8|Elapsed Time: 0:00:10||\n",
      "Episode 7|Iteration 202|reward:   27.0|last_reward_at:    8|Elapsed Time: 0:00:10||\n",
      "Episode 7|Iteration 205|reward:   27.0|last_reward_at:    8|Elapsed Time: 0:00:10||\n",
      "Episode 7|Iteration 208|reward:   27.0|last_reward_at:    8|Elapsed Time: 0:00:10||\n",
      "Episode 7|Iteration 211|reward:   27.0|last_reward_at:    8|Elapsed Time: 0:00:11||\n",
      "Episode 7|Iteration 213|reward:   27.0|last_reward_at:    8|Elapsed Time: 0:00:11||\n",
      "Episode 7|Iteration 214|reward:   27.0|last_reward_at:    8|Elapsed Time: 0:00:11||\n",
      "Episode 7|Iteration 217|reward:   27.0|last_reward_at:    8|Elapsed Time: 0:00:11||\n",
      "Episode 7|Iteration 220|reward:   27.0|last_reward_at:    8|Elapsed Time: 0:00:11||\n",
      "Episode 7|Iteration 223|reward:   27.0|last_reward_at:    8|Elapsed Time: 0:00:11||\n",
      "Episode 7|Iteration 226|reward:   27.0|last_reward_at:    8|Elapsed Time: 0:00:11||\n",
      "Episode 7|Iteration 229|reward:   27.0|last_reward_at:    8|Elapsed Time: 0:00:11||\n",
      "Episode 7|Iteration 232|reward:   27.0|last_reward_at:    8|Elapsed Time: 0:00:11||\n",
      "Episode 7|Iteration 235|reward:   27.0|last_reward_at:    8|Elapsed Time: 0:00:12||\n",
      "Episode 7|Iteration 238|reward:   27.0|last_reward_at:    8|Elapsed Time: 0:00:12||\n",
      "Episode 7|Iteration 241|reward:   27.0|last_reward_at:    8|Elapsed Time: 0:00:12||\n",
      "Episode 7|Iteration 244|reward:   27.0|last_reward_at:    8|Elapsed Time: 0:00:12||\n",
      "Episode 7|Iteration 245|reward:   27.0|last_reward_at:    8|Elapsed Time: 0:00:12||\n",
      "Episode 7|Iteration 247|reward:   27.0|last_reward_at:    8|Elapsed Time: 0:00:12||\n",
      "Episode 7|Iteration 249|reward:   27.0|last_reward_at:    8|Elapsed Time: 0:00:12||\n",
      "Episode 7|Iteration 251|reward:   27.0|last_reward_at:    8|Elapsed Time: 0:00:12||\n",
      "Episode 7|Iteration 252|reward:   27.0|last_reward_at:    8|Elapsed Time: 0:00:12||\n",
      "Episode 7|Iteration 254|reward:   27.0|last_reward_at:    8|Elapsed Time: 0:00:13||\n",
      "Episode 7|Iteration 256|reward:   27.0|last_reward_at:    8|Elapsed Time: 0:00:13||\n",
      "Episode 7|Iteration 259|reward:   27.0|last_reward_at:    8|Elapsed Time: 0:00:13||\n",
      "Episode 7|Iteration 261|reward:   27.0|last_reward_at:    8|Elapsed Time: 0:00:13||\n",
      "Episode 7|Iteration 264|reward:   27.0|last_reward_at:    8|Elapsed Time: 0:00:13||\n",
      "Episode 7|Iteration 266|reward:   27.0|last_reward_at:    8|Elapsed Time: 0:00:13||\n",
      "Episode 7|Iteration 268|reward:   27.0|last_reward_at:    8|Elapsed Time: 0:00:13||\n",
      "Episode 7|Iteration 270|reward:   27.0|last_reward_at:    8|Elapsed Time: 0:00:13||\n",
      "Episode 7|Iteration 273|reward:   27.0|last_reward_at:    8|Elapsed Time: 0:00:14||\n",
      "Episode 7|Iteration 275|reward:   27.0|last_reward_at:    8|Elapsed Time: 0:00:14||\n",
      "Episode 7|Iteration 278|reward:   27.0|last_reward_at:    8|Elapsed Time: 0:00:14||\n",
      "Episode 7|Iteration 280|reward:   27.0|last_reward_at:    8|Elapsed Time: 0:00:14||\n",
      "Episode 7|Iteration 282|reward:   27.0|last_reward_at:    8|Elapsed Time: 0:00:14||\n",
      "Episode 7|Iteration 283|reward:   27.0|last_reward_at:    8|Elapsed Time: 0:00:14||\n",
      "Episode 7|Iteration 285|reward:   27.0|last_reward_at:    8|Elapsed Time: 0:00:14||\n",
      "Episode 7|Iteration 288|reward:   27.0|last_reward_at:    8|Elapsed Time: 0:00:14||\n",
      "Episode 7|Iteration 290|reward:   27.0|last_reward_at:    8|Elapsed Time: 0:00:14||\n",
      "Episode 7|Iteration 293|reward:   27.0|last_reward_at:    8|Elapsed Time: 0:00:15||\n",
      "Episode 7|Iteration 296|reward:   27.0|last_reward_at:    8|Elapsed Time: 0:00:15||\n",
      "Episode 7|Iteration 298|reward:   27.0|last_reward_at:    8|Elapsed Time: 0:00:15||\n",
      "Episode 7|Iteration 300|reward:   27.0|last_reward_at:    8|Elapsed Time: 0:00:15||\n",
      "Episode 7|Iteration 302|reward:   27.0|last_reward_at:    8|Elapsed Time: 0:00:15||\n",
      "Episode 7|Iteration 304|reward:   27.0|last_reward_at:    8|Elapsed Time: 0:00:15||\n",
      "Episode 7|Iteration 305|reward:   27.0|last_reward_at:    8|Elapsed Time: 0:00:15||\n",
      "Episode 7|Iteration 307|reward:   27.0|last_reward_at:    8|Elapsed Time: 0:00:15||\n",
      "Episode 7|Iteration 309|reward:   27.0|last_reward_at:    8|Elapsed Time: 0:00:16||\n",
      "Episode 7|Iteration 311|reward:   27.0|last_reward_at:    8|Elapsed Time: 0:00:16||\n",
      "Episode 7|Iteration 312|reward:   36.0|last_reward_at:    8|Elapsed Time: 0:00:16||\n",
      "Episode 7|Iteration 312|reward:   36.0|last_reward_at:  312|Elapsed Time: 0:00:16||\n",
      "Episode 7|Iteration 315|reward:   36.0|last_reward_at:  312|Elapsed Time: 0:00:16||\n",
      "Episode 7|Iteration 317|reward:   36.0|last_reward_at:  312|Elapsed Time: 0:00:16||\n",
      "Episode 7|Iteration 319|reward:   36.0|last_reward_at:  312|Elapsed Time: 0:00:16||\n",
      "Episode 7|Iteration 320|reward:   36.0|last_reward_at:  312|Elapsed Time: 0:00:16||\n",
      "Episode 7|Iteration 321|reward:  136.0|last_reward_at:  312|Elapsed Time: 0:00:16||\n",
      "Episode 7|Iteration 321|reward:  136.0|last_reward_at:  321|Elapsed Time: 0:00:16||\n",
      "Episode 7|Iteration 322|reward:  145.0|last_reward_at:  321|Elapsed Time: 0:00:16||\n",
      "Episode 7|Iteration 322|reward:  145.0|last_reward_at:  322|Elapsed Time: 0:00:16||\n",
      "Episode 7|Iteration 324|reward:  145.0|last_reward_at:  322|Elapsed Time: 0:00:16||\n",
      "Episode 7|Iteration 327|reward:  145.0|last_reward_at:  322|Elapsed Time: 0:00:16||\n",
      "Episode 7|Iteration 327|reward:  151.0|last_reward_at:  322|Elapsed Time: 0:00:17||\n",
      "Episode 7|Iteration 327|reward:  151.0|last_reward_at:  327|Elapsed Time: 0:00:17||\n",
      "Episode 7|Iteration 329|reward:  151.0|last_reward_at:  327|Elapsed Time: 0:00:17||\n",
      "Episode 7|Iteration 331|reward:  151.0|last_reward_at:  327|Elapsed Time: 0:00:17||\n",
      "Episode 7|Iteration 333|reward:  151.0|last_reward_at:  327|Elapsed Time: 0:00:17||\n",
      "Episode 7|Iteration 335|reward:  151.0|last_reward_at:  327|Elapsed Time: 0:00:17||\n",
      "Episode 7|Iteration 336|reward:  151.0|last_reward_at:  327|Elapsed Time: 0:00:17||\n",
      "Episode 7|Iteration 338|reward:  151.0|last_reward_at:  327|Elapsed Time: 0:00:17||\n",
      "Episode 7|Iteration 339|reward:  201.0|last_reward_at:  327|Elapsed Time: 0:00:17||\n",
      "Episode 7|Iteration 339|reward:  201.0|last_reward_at:  339|Elapsed Time: 0:00:17||\n",
      "Episode 7|Iteration 341|reward:  201.0|last_reward_at:  339|Elapsed Time: 0:00:17||\n",
      "Episode 7|Iteration 342|reward:  201.0|last_reward_at:  339|Elapsed Time: 0:00:18||\n",
      "Episode 7|Iteration 343|reward:  201.0|last_reward_at:  339|Elapsed Time: 0:00:18||\n",
      "Episode 7|Iteration 344|reward:  201.0|last_reward_at:  339|Elapsed Time: 0:00:18||\n",
      "Episode 7|Iteration 346|reward:  201.0|last_reward_at:  339|Elapsed Time: 0:00:18||\n",
      "Episode 7|Iteration 349|reward:  201.0|last_reward_at:  339|Elapsed Time: 0:00:18||\n",
      "Episode 7|Iteration 352|reward:  201.0|last_reward_at:  339|Elapsed Time: 0:00:18||\n",
      "Episode 7|Iteration 354|reward:  201.0|last_reward_at:  339|Elapsed Time: 0:00:18||\n",
      "Episode 7|Iteration 356|reward:  201.0|last_reward_at:  339|Elapsed Time: 0:00:19||\n",
      "Episode 7|Iteration 359|reward:  201.0|last_reward_at:  339|Elapsed Time: 0:00:19||\n",
      "Episode 7|Iteration 360|reward:  210.0|last_reward_at:  339|Elapsed Time: 0:00:19||\n",
      "Episode 7|Iteration 360|reward:  210.0|last_reward_at:  360|Elapsed Time: 0:00:19||\n",
      "Episode 7|Iteration 362|reward:  210.0|last_reward_at:  360|Elapsed Time: 0:00:19||\n",
      "Episode 7|Iteration 364|reward:  210.0|last_reward_at:  360|Elapsed Time: 0:00:19||\n",
      "Episode 7|Iteration 366|reward:  210.0|last_reward_at:  360|Elapsed Time: 0:00:19||\n",
      "Episode 7|Iteration 368|reward:  210.0|last_reward_at:  360|Elapsed Time: 0:00:19||\n",
      "Episode 7|Iteration 371|reward:  210.0|last_reward_at:  360|Elapsed Time: 0:00:19||\n",
      "Episode 7|Iteration 373|reward:  210.0|last_reward_at:  360|Elapsed Time: 0:00:19||\n",
      "Episode 7|Iteration 374|reward:  210.0|last_reward_at:  360|Elapsed Time: 0:00:20||\n",
      "Episode 7|Iteration 376|reward:  210.0|last_reward_at:  360|Elapsed Time: 0:00:20||\n",
      "Episode 7|Iteration 378|reward:  210.0|last_reward_at:  360|Elapsed Time: 0:00:20||\n",
      "Episode 7|Iteration 380|reward:  210.0|last_reward_at:  360|Elapsed Time: 0:00:20||\n",
      "Episode 7|Iteration 382|reward:  260.0|last_reward_at:  360|Elapsed Time: 0:00:20||\n",
      "Episode 7|Iteration 382|reward:  260.0|last_reward_at:  382|Elapsed Time: 0:00:20||\n",
      "Episode 7|Iteration 384|reward:  260.0|last_reward_at:  382|Elapsed Time: 0:00:20||\n",
      "Episode 7|Iteration 386|reward:  260.0|last_reward_at:  382|Elapsed Time: 0:00:20||\n",
      "Episode 7|Iteration 388|reward:  260.0|last_reward_at:  382|Elapsed Time: 0:00:20||\n",
      "Episode 7|Iteration 389|reward:  260.0|last_reward_at:  382|Elapsed Time: 0:00:20||\n",
      "Episode 7|Iteration 391|reward:  260.0|last_reward_at:  382|Elapsed Time: 0:00:20||\n",
      "Episode 7|Iteration 393|reward:  260.0|last_reward_at:  382|Elapsed Time: 0:00:21||\n",
      "Episode 7|Iteration 395|reward:  260.0|last_reward_at:  382|Elapsed Time: 0:00:21||\n",
      "Episode 7|Iteration 396|reward:  260.0|last_reward_at:  382|Elapsed Time: 0:00:21||\n",
      "Episode 7|Iteration 398|reward:  260.0|last_reward_at:  382|Elapsed Time: 0:00:21||\n",
      "Episode 7|Iteration 400|reward:  260.0|last_reward_at:  382|Elapsed Time: 0:00:21||\n",
      "Episode 7|Iteration 402|reward:  260.0|last_reward_at:  382|Elapsed Time: 0:00:21||\n",
      "Episode 7|Iteration 404|reward:  260.0|last_reward_at:  382|Elapsed Time: 0:00:21||\n",
      "Episode 7|Iteration 406|reward:  260.0|last_reward_at:  382|Elapsed Time: 0:00:21||\n",
      "Episode 7|Iteration 409|reward:  260.0|last_reward_at:  382|Elapsed Time: 0:00:21||\n",
      "Episode 7|Iteration 411|reward:  260.0|last_reward_at:  382|Elapsed Time: 0:00:22||\n",
      "Episode 7|Iteration 412|reward:  260.0|last_reward_at:  382|Elapsed Time: 0:00:22||\n",
      "Episode 7|Iteration 414|reward:  260.0|last_reward_at:  382|Elapsed Time: 0:00:22||\n",
      "Episode 7|Iteration 416|reward:  260.0|last_reward_at:  382|Elapsed Time: 0:00:22||\n",
      "Episode 7|Iteration 418|reward:  260.0|last_reward_at:  382|Elapsed Time: 0:00:22||\n",
      "Episode 7|Iteration 419|reward:  260.0|last_reward_at:  382|Elapsed Time: 0:00:22||\n",
      "Episode 7|Iteration 421|reward:  260.0|last_reward_at:  382|Elapsed Time: 0:00:22||\n",
      "Episode 7|Iteration 423|reward:  260.0|last_reward_at:  382|Elapsed Time: 0:00:22||\n",
      "Episode 7|Iteration 425|reward:  260.0|last_reward_at:  382|Elapsed Time: 0:00:22||\n",
      "Episode 7|Iteration 428|reward:  260.0|last_reward_at:  382|Elapsed Time: 0:00:23||\n",
      "Episode 7|Iteration 430|reward:  260.0|last_reward_at:  382|Elapsed Time: 0:00:23||\n",
      "Episode 7|Iteration 433|reward:  260.0|last_reward_at:  382|Elapsed Time: 0:00:23||\n",
      "Episode 7|Iteration 435|reward:  260.0|last_reward_at:  382|Elapsed Time: 0:00:23||\n",
      "Episode 7|Iteration 437|reward:  260.0|last_reward_at:  382|Elapsed Time: 0:00:23||\n",
      "Episode 7|Iteration 440|reward:  260.0|last_reward_at:  382|Elapsed Time: 0:00:23||\n",
      "Episode 7|Iteration 443|reward:  260.0|last_reward_at:  382|Elapsed Time: 0:00:23||\n",
      "Episode 7|Iteration 445|reward:  260.0|last_reward_at:  382|Elapsed Time: 0:00:24||\n",
      "Episode 7|Iteration 447|reward:  260.0|last_reward_at:  382|Elapsed Time: 0:00:24||\n",
      "Episode 7|Iteration 449|reward:  260.0|last_reward_at:  382|Elapsed Time: 0:00:24||\n",
      "Episode 7|Iteration 450|reward:  260.0|last_reward_at:  382|Elapsed Time: 0:00:24||\n",
      "Episode 7|Iteration 453|reward:  260.0|last_reward_at:  382|Elapsed Time: 0:00:24||\n",
      "Episode 7|Iteration 455|reward:  260.0|last_reward_at:  382|Elapsed Time: 0:00:24||\n",
      "Episode 7|Iteration 458|reward:  260.0|last_reward_at:  382|Elapsed Time: 0:00:24||\n",
      "Episode 7|Iteration 460|reward:  260.0|last_reward_at:  382|Elapsed Time: 0:00:24||\n",
      "Episode 7|Iteration 462|reward:  260.0|last_reward_at:  382|Elapsed Time: 0:00:24||\n",
      "Episode 7|Iteration 464|reward:  260.0|last_reward_at:  382|Elapsed Time: 0:00:25||\n",
      "Episode 7|Iteration 465|reward:  260.0|last_reward_at:  382|Elapsed Time: 0:00:25||\n",
      "Episode 7|Iteration 467|reward:  260.0|last_reward_at:  382|Elapsed Time: 0:00:25||\n",
      "Episode 7|Iteration 470|reward:  260.0|last_reward_at:  382|Elapsed Time: 0:00:25||\n",
      "Episode 7|Iteration 473|reward:  260.0|last_reward_at:  382|Elapsed Time: 0:00:25||\n",
      "Episode 7|Iteration 475|reward:  260.0|last_reward_at:  382|Elapsed Time: 0:00:25||\n",
      "Episode 7|Iteration 477|reward:  260.0|last_reward_at:  382|Elapsed Time: 0:00:25||\n",
      "Episode 7|Iteration 479|reward:  260.0|last_reward_at:  382|Elapsed Time: 0:00:25||\n",
      "Episode 7|Iteration 480|reward:  260.0|last_reward_at:  382|Elapsed Time: 0:00:26||\n",
      "Episode 7|Iteration 482|reward:  260.0|last_reward_at:  382|Elapsed Time: 0:00:26||\n",
      "Episode 7|Iteration 484|reward:  260.0|last_reward_at:  382|Elapsed Time: 0:00:26||\n",
      "Episode 7|Iteration 486|reward:  260.0|last_reward_at:  382|Elapsed Time: 0:00:26||\n",
      "Episode 7|Iteration 487|reward:  260.0|last_reward_at:  382|Elapsed Time: 0:00:26||\n",
      "Episode 7|Iteration 489|reward:  260.0|last_reward_at:  382|Elapsed Time: 0:00:26||\n",
      "Episode 7|Iteration 490|reward:  260.0|last_reward_at:  382|Elapsed Time: 0:00:26||\n",
      "Episode 7|Iteration 492|reward:  260.0|last_reward_at:  382|Elapsed Time: 0:00:26||\n",
      "Episode 7|Iteration 494|reward:  260.0|last_reward_at:  382|Elapsed Time: 0:00:26||\n",
      "Episode 7|Iteration 494|reward:  260.0|last_reward_at:  382|Elapsed Time: 0:00:27||\n",
      "Episode 7|Iteration 495|reward:  260.0|last_reward_at:  382|Elapsed Time: 0:00:27||\n",
      "Episode 7|Iteration 496|reward:  260.0|last_reward_at:  382|Elapsed Time: 0:00:27||\n",
      "Episode 7|Iteration 497|reward:  260.0|last_reward_at:  382|Elapsed Time: 0:00:27||\n",
      "Episode 7|Iteration 500|reward:  260.0|last_reward_at:  382|Elapsed Time: 0:00:27||\n",
      "Episode 7|Iteration 502|reward:  260.0|last_reward_at:  382|Elapsed Time: 0:00:27||\n",
      "Episode 7|Iteration 504|reward:  260.0|last_reward_at:  382|Elapsed Time: 0:00:27||\n",
      "Episode 7|Iteration 506|reward:  260.0|last_reward_at:  382|Elapsed Time: 0:00:28||\n",
      "Episode 7|Iteration 508|reward:  260.0|last_reward_at:  382|Elapsed Time: 0:00:28||\n",
      "Episode 7|Iteration 511|reward:  260.0|last_reward_at:  382|Elapsed Time: 0:00:28||\n",
      "Episode 7|Iteration 514|reward:  260.0|last_reward_at:  382|Elapsed Time: 0:00:28||\n",
      "Episode 7|Iteration 516|reward:  260.0|last_reward_at:  382|Elapsed Time: 0:00:28||\n",
      "Episode 7|Iteration 518|reward:  260.0|last_reward_at:  382|Elapsed Time: 0:00:28||\n",
      "Episode 7|Iteration 520|reward:  260.0|last_reward_at:  382|Elapsed Time: 0:00:28||\n",
      "Episode 7|Iteration 522|reward:  260.0|last_reward_at:  382|Elapsed Time: 0:00:28||\n",
      "Episode 7|Iteration 525|reward:  260.0|last_reward_at:  382|Elapsed Time: 0:00:28||\n",
      "Episode 7|Iteration 526|reward:  260.0|last_reward_at:  382|Elapsed Time: 0:00:29||\n",
      "Episode 7|Iteration 528|reward:  260.0|last_reward_at:  382|Elapsed Time: 0:00:29||\n",
      "Episode 7|Iteration 531|reward:  260.0|last_reward_at:  382|Elapsed Time: 0:00:29||\n",
      "Episode 7|Iteration 533|reward:  260.0|last_reward_at:  382|Elapsed Time: 0:00:29||\n",
      "Episode 7|Iteration 535|reward:  260.0|last_reward_at:  382|Elapsed Time: 0:00:29||\n",
      "Episode 7|Iteration 538|reward:  260.0|last_reward_at:  382|Elapsed Time: 0:00:29||\n",
      "Episode 7|Iteration 540|reward:  260.0|last_reward_at:  382|Elapsed Time: 0:00:29||\n",
      "Episode 7|Iteration 541|reward:  260.0|last_reward_at:  382|Elapsed Time: 0:00:29||\n",
      "Episode 7|Iteration 543|reward:  260.0|last_reward_at:  382|Elapsed Time: 0:00:29||\n",
      "Episode 7|Iteration 545|reward:  260.0|last_reward_at:  382|Elapsed Time: 0:00:30||\n",
      "Episode 7|Iteration 547|reward:  260.0|last_reward_at:  382|Elapsed Time: 0:00:30||\n",
      "Episode 7|Iteration 549|reward:  260.0|last_reward_at:  382|Elapsed Time: 0:00:30||\n",
      "Episode 7|Iteration 552|reward:  260.0|last_reward_at:  382|Elapsed Time: 0:00:30||\n",
      "Episode 7|Iteration 554|reward:  260.0|last_reward_at:  382|Elapsed Time: 0:00:30||\n",
      "Episode 7|Iteration 556|reward:  260.0|last_reward_at:  382|Elapsed Time: 0:00:30||\n",
      "Episode 7|Iteration 558|reward:  260.0|last_reward_at:  382|Elapsed Time: 0:00:30||\n",
      "Episode 7|Iteration 559|reward:  260.0|last_reward_at:  382|Elapsed Time: 0:00:30||\n",
      "Episode 7|Iteration 561|reward:  260.0|last_reward_at:  382|Elapsed Time: 0:00:31||\n",
      "Episode 7|Iteration 563|reward:  260.0|last_reward_at:  382|Elapsed Time: 0:00:31||\n",
      "Episode 7|Iteration 564|reward:  260.0|last_reward_at:  382|Elapsed Time: 0:00:31||\n",
      "Episode 7|Iteration 566|reward:  260.0|last_reward_at:  382|Elapsed Time: 0:00:31||\n",
      "Episode 7|Iteration 568|reward:  260.0|last_reward_at:  382|Elapsed Time: 0:00:31||\n",
      "Episode 7|Iteration 570|reward:  260.0|last_reward_at:  382|Elapsed Time: 0:00:31||\n",
      "Episode 7|Iteration 571|reward:  260.0|last_reward_at:  382|Elapsed Time: 0:00:31||\n",
      "Episode 7|Iteration 573|reward:  260.0|last_reward_at:  382|Elapsed Time: 0:00:31||\n",
      "Episode 7|Iteration 575|reward:  260.0|last_reward_at:  382|Elapsed Time: 0:00:32||\n",
      "Episode 7|Iteration 578|reward:  260.0|last_reward_at:  382|Elapsed Time: 0:00:32||\n",
      "Episode 7|Iteration 579|reward:  260.0|last_reward_at:  382|Elapsed Time: 0:00:32||\n",
      "Episode 7|Iteration 582|reward:  260.0|last_reward_at:  382|Elapsed Time: 0:00:32||\n",
      "Episode 7|Iteration 585|reward:  260.0|last_reward_at:  382|Elapsed Time: 0:00:32||\n",
      "Episode 7|Iteration 586|reward:  260.0|last_reward_at:  382|Elapsed Time: 0:00:32||\n",
      "Episode 7|Iteration 588|reward:  260.0|last_reward_at:  382|Elapsed Time: 0:00:32||\n",
      "Episode 7|Iteration 590|reward:  260.0|last_reward_at:  382|Elapsed Time: 0:00:32||\n",
      "Episode 7|Iteration 592|reward:  260.0|last_reward_at:  382|Elapsed Time: 0:00:33||\n",
      "Episode 7|Iteration 594|reward:  260.0|last_reward_at:  382|Elapsed Time: 0:00:33||\n",
      "Episode 7|Iteration 596|reward:  260.0|last_reward_at:  382|Elapsed Time: 0:00:33||\n",
      "Episode 7|Iteration 597|reward:  260.0|last_reward_at:  382|Elapsed Time: 0:00:33||\n",
      "Episode 7|Iteration 599|reward:  260.0|last_reward_at:  382|Elapsed Time: 0:00:33||\n",
      "Episode 7|Iteration 600|reward:  260.0|last_reward_at:  382|Elapsed Time: 0:00:33||\n"
     ]
    },
    {
     "name": "stdout",
     "output_type": "stream",
     "text": [
      "  Episode 7 stopped at t=600 \n",
      "  Breakdown [Reward/NoReward (Success rate)]\n",
      "    explore-local: 0/0 (NaN)\n",
      "    explore-remote: 0/2 (0.00)\n",
      "    explore-connect: 0/1 (0.00)\n",
      "    exploit-local: 2/2 (0.50)\n",
      "    exploit-remote: 6/524 (0.01)\n",
      "    exploit-connect: 3/60 (0.05)\n",
      "  exploit deflected to exploration: 3\n",
      "  ## Episode: 8/10 'Exploiting DQL' ϵ=0.0000, γ=0.15, lr=0.01, replaymemory=10000,\n",
      "batch=256, target_update=5\n"
     ]
    },
    {
     "name": "stderr",
     "output_type": "stream",
     "text": [
      "Episode 8|Iteration 0|reward: ------|last_reward_at: ----|Elapsed Time: 0:00:00||\n",
      "Episode 8|Iteration 1|reward:    6.0|last_reward_at: ----|Elapsed Time: 0:00:00||\n",
      "Episode 8|Iteration 1|reward:    6.0|last_reward_at:    1|Elapsed Time: 0:00:00||\n",
      "Episode 8|Iteration 3|reward:    6.0|last_reward_at:    1|Elapsed Time: 0:00:00||\n",
      "Episode 8|Iteration 6|reward:   12.0|last_reward_at:    1|Elapsed Time: 0:00:00||\n",
      "Episode 8|Iteration 6|reward:   12.0|last_reward_at:    6|Elapsed Time: 0:00:00||\n",
      "Episode 8|Iteration 7|reward:   18.0|last_reward_at:    6|Elapsed Time: 0:00:00||\n",
      "Episode 8|Iteration 7|reward:   18.0|last_reward_at:    7|Elapsed Time: 0:00:00||\n",
      "Episode 8|Iteration 9|reward:   18.0|last_reward_at:    7|Elapsed Time: 0:00:00||\n",
      "Episode 8|Iteration 10|reward:   27.0|last_reward_at:    7|Elapsed Time: 0:00:00||\n",
      "Episode 8|Iteration 10|reward:   27.0|last_reward_at:   10|Elapsed Time: 0:00:00||\n",
      "Episode 8|Iteration 13|reward:   27.0|last_reward_at:   10|Elapsed Time: 0:00:00||\n",
      "Episode 8|Iteration 16|reward:   27.0|last_reward_at:   10|Elapsed Time: 0:00:00||\n",
      "Episode 8|Iteration 16|reward:   36.0|last_reward_at:   10|Elapsed Time: 0:00:00||\n",
      "Episode 8|Iteration 16|reward:   36.0|last_reward_at:   16|Elapsed Time: 0:00:00||\n",
      "Episode 8|Iteration 18|reward:   36.0|last_reward_at:   16|Elapsed Time: 0:00:00||\n",
      "Episode 8|Iteration 20|reward:   36.0|last_reward_at:   16|Elapsed Time: 0:00:01||\n",
      "Episode 8|Iteration 21|reward:  136.0|last_reward_at:   16|Elapsed Time: 0:00:01||\n",
      "Episode 8|Iteration 21|reward:  136.0|last_reward_at:   21|Elapsed Time: 0:00:01||\n",
      "Episode 8|Iteration 22|reward:  145.0|last_reward_at:   21|Elapsed Time: 0:00:01||\n",
      "Episode 8|Iteration 22|reward:  145.0|last_reward_at:   22|Elapsed Time: 0:00:01||\n",
      "Episode 8|Iteration 24|reward:  145.0|last_reward_at:   22|Elapsed Time: 0:00:02||\n",
      "Episode 8|Iteration 27|reward:  145.0|last_reward_at:   22|Elapsed Time: 0:00:02||\n",
      "Episode 8|Iteration 28|reward:  195.0|last_reward_at:   22|Elapsed Time: 0:00:02||\n",
      "Episode 8|Iteration 28|reward:  195.0|last_reward_at:   28|Elapsed Time: 0:00:02||\n",
      "Episode 8|Iteration 30|reward:  195.0|last_reward_at:   28|Elapsed Time: 0:00:02||\n",
      "Episode 8|Iteration 33|reward:  195.0|last_reward_at:   28|Elapsed Time: 0:00:02||\n",
      "Episode 8|Iteration 35|reward:  195.0|last_reward_at:   28|Elapsed Time: 0:00:02||\n",
      "Episode 8|Iteration 37|reward:  195.0|last_reward_at:   28|Elapsed Time: 0:00:02||\n",
      "Episode 8|Iteration 40|reward:  195.0|last_reward_at:   28|Elapsed Time: 0:00:02||\n",
      "Episode 8|Iteration 42|reward:  195.0|last_reward_at:   28|Elapsed Time: 0:00:02||\n",
      "Episode 8|Iteration 45|reward:  195.0|last_reward_at:   28|Elapsed Time: 0:00:03||\n",
      "Episode 8|Iteration 47|reward:  195.0|last_reward_at:   28|Elapsed Time: 0:00:03||\n",
      "Episode 8|Iteration 49|reward:  195.0|last_reward_at:   28|Elapsed Time: 0:00:03||\n",
      "Episode 8|Iteration 51|reward:  195.0|last_reward_at:   28|Elapsed Time: 0:00:03||\n",
      "Episode 8|Iteration 53|reward:  195.0|last_reward_at:   28|Elapsed Time: 0:00:03||\n",
      "Episode 8|Iteration 55|reward:  195.0|last_reward_at:   28|Elapsed Time: 0:00:03||\n",
      "Episode 8|Iteration 58|reward:  195.0|last_reward_at:   28|Elapsed Time: 0:00:03||\n",
      "Episode 8|Iteration 60|reward:  195.0|last_reward_at:   28|Elapsed Time: 0:00:04||\n",
      "Episode 8|Iteration 62|reward:  195.0|last_reward_at:   28|Elapsed Time: 0:00:04||\n",
      "Episode 8|Iteration 64|reward:  195.0|last_reward_at:   28|Elapsed Time: 0:00:04||\n",
      "Episode 8|Iteration 66|reward:  195.0|last_reward_at:   28|Elapsed Time: 0:00:04||\n",
      "Episode 8|Iteration 68|reward:  195.0|last_reward_at:   28|Elapsed Time: 0:00:04||\n",
      "Episode 8|Iteration 70|reward:  195.0|last_reward_at:   28|Elapsed Time: 0:00:04||\n",
      "Episode 8|Iteration 72|reward:  195.0|last_reward_at:   28|Elapsed Time: 0:00:04||\n",
      "Episode 8|Iteration 73|reward:  195.0|last_reward_at:   28|Elapsed Time: 0:00:05||\n",
      "Episode 8|Iteration 76|reward:  195.0|last_reward_at:   28|Elapsed Time: 0:00:05||\n",
      "Episode 8|Iteration 76|reward:  195.0|last_reward_at:   28|Elapsed Time: 0:00:05||\n",
      "Episode 8|Iteration 78|reward:  195.0|last_reward_at:   28|Elapsed Time: 0:00:05||\n",
      "Episode 8|Iteration 79|reward:  195.0|last_reward_at:   28|Elapsed Time: 0:00:05||\n",
      "Episode 8|Iteration 80|reward:  195.0|last_reward_at:   28|Elapsed Time: 0:00:06||\n",
      "Episode 8|Iteration 81|reward:  195.0|last_reward_at:   28|Elapsed Time: 0:00:06||\n",
      "Episode 8|Iteration 83|reward:  195.0|last_reward_at:   28|Elapsed Time: 0:00:06||\n",
      "Episode 8|Iteration 84|reward:  195.0|last_reward_at:   28|Elapsed Time: 0:00:06||\n",
      "Episode 8|Iteration 85|reward:  195.0|last_reward_at:   28|Elapsed Time: 0:00:06||\n",
      "Episode 8|Iteration 87|reward:  195.0|last_reward_at:   28|Elapsed Time: 0:00:06||\n",
      "Episode 8|Iteration 88|reward:  195.0|last_reward_at:   28|Elapsed Time: 0:00:07||\n",
      "Episode 8|Iteration 90|reward:  195.0|last_reward_at:   28|Elapsed Time: 0:00:07||\n",
      "Episode 8|Iteration 92|reward:  195.0|last_reward_at:   28|Elapsed Time: 0:00:07||\n",
      "Episode 8|Iteration 93|reward:  195.0|last_reward_at:   28|Elapsed Time: 0:00:07||\n",
      "Episode 8|Iteration 95|reward:  195.0|last_reward_at:   28|Elapsed Time: 0:00:07||\n",
      "Episode 8|Iteration 97|reward:  195.0|last_reward_at:   28|Elapsed Time: 0:00:07||\n",
      "Episode 8|Iteration 99|reward:  195.0|last_reward_at:   28|Elapsed Time: 0:00:07||\n",
      "Episode 8|Iteration 99|reward:  195.0|last_reward_at:   28|Elapsed Time: 0:00:07||\n",
      "Episode 8|Iteration 101|reward:  195.0|last_reward_at:   28|Elapsed Time: 0:00:08||\n",
      "Episode 8|Iteration 103|reward:  195.0|last_reward_at:   28|Elapsed Time: 0:00:08||\n",
      "Episode 8|Iteration 104|reward:  195.0|last_reward_at:   28|Elapsed Time: 0:00:08||\n",
      "Episode 8|Iteration 105|reward:  195.0|last_reward_at:   28|Elapsed Time: 0:00:08||\n",
      "Episode 8|Iteration 106|reward:  195.0|last_reward_at:   28|Elapsed Time: 0:00:08||\n",
      "Episode 8|Iteration 108|reward:  195.0|last_reward_at:   28|Elapsed Time: 0:00:09||\n",
      "Episode 8|Iteration 111|reward:  195.0|last_reward_at:   28|Elapsed Time: 0:00:09||\n",
      "Episode 8|Iteration 113|reward:  195.0|last_reward_at:   28|Elapsed Time: 0:00:09||\n",
      "Episode 8|Iteration 115|reward:  195.0|last_reward_at:   28|Elapsed Time: 0:00:09||\n",
      "Episode 8|Iteration 117|reward:  195.0|last_reward_at:   28|Elapsed Time: 0:00:09||\n",
      "Episode 8|Iteration 118|reward:  201.0|last_reward_at:   28|Elapsed Time: 0:00:09||\n",
      "Episode 8|Iteration 118|reward:  201.0|last_reward_at:  118|Elapsed Time: 0:00:09||\n",
      "Episode 8|Iteration 120|reward:  210.0|last_reward_at:  118|Elapsed Time: 0:00:09||\n",
      "Episode 8|Iteration 120|reward:  210.0|last_reward_at:  120|Elapsed Time: 0:00:09||\n",
      "Episode 8|Iteration 122|reward:  210.0|last_reward_at:  120|Elapsed Time: 0:00:10||\n",
      "Episode 8|Iteration 122|reward:  210.0|last_reward_at:  120|Elapsed Time: 0:00:10||\n",
      "Episode 8|Iteration 124|reward:  260.0|last_reward_at:  120|Elapsed Time: 0:00:10||\n",
      "Episode 8|Iteration 124|reward:  260.0|last_reward_at:  124|Elapsed Time: 0:00:10||\n",
      "Episode 8|Iteration 126|reward:  260.0|last_reward_at:  124|Elapsed Time: 0:00:10||\n",
      "Episode 8|Iteration 127|reward:  260.0|last_reward_at:  124|Elapsed Time: 0:00:10||\n",
      "Episode 8|Iteration 130|reward:  260.0|last_reward_at:  124|Elapsed Time: 0:00:10||\n",
      "Episode 8|Iteration 131|reward:  260.0|last_reward_at:  124|Elapsed Time: 0:00:10||\n",
      "Episode 8|Iteration 133|reward:  260.0|last_reward_at:  124|Elapsed Time: 0:00:10||\n",
      "Episode 8|Iteration 135|reward:  260.0|last_reward_at:  124|Elapsed Time: 0:00:11||\n",
      "Episode 8|Iteration 137|reward:  260.0|last_reward_at:  124|Elapsed Time: 0:00:11||\n",
      "Episode 8|Iteration 138|reward:  260.0|last_reward_at:  124|Elapsed Time: 0:00:11||\n",
      "Episode 8|Iteration 141|reward:  260.0|last_reward_at:  124|Elapsed Time: 0:00:11||\n",
      "Episode 8|Iteration 143|reward:  260.0|last_reward_at:  124|Elapsed Time: 0:00:11||\n",
      "Episode 8|Iteration 144|reward:  260.0|last_reward_at:  124|Elapsed Time: 0:00:11||\n",
      "Episode 8|Iteration 145|reward:  260.0|last_reward_at:  124|Elapsed Time: 0:00:12||\n",
      "Episode 8|Iteration 147|reward:  260.0|last_reward_at:  124|Elapsed Time: 0:00:12||\n",
      "Episode 8|Iteration 150|reward:  260.0|last_reward_at:  124|Elapsed Time: 0:00:12||\n",
      "Episode 8|Iteration 151|reward:  260.0|last_reward_at:  124|Elapsed Time: 0:00:12||\n",
      "Episode 8|Iteration 152|reward:  260.0|last_reward_at:  124|Elapsed Time: 0:00:12||\n",
      "Episode 8|Iteration 153|reward:  260.0|last_reward_at:  124|Elapsed Time: 0:00:12||\n",
      "Episode 8|Iteration 154|reward:  260.0|last_reward_at:  124|Elapsed Time: 0:00:12||\n",
      "Episode 8|Iteration 155|reward:  260.0|last_reward_at:  124|Elapsed Time: 0:00:13||\n",
      "Episode 8|Iteration 156|reward:  260.0|last_reward_at:  124|Elapsed Time: 0:00:13||\n",
      "Episode 8|Iteration 157|reward:  260.0|last_reward_at:  124|Elapsed Time: 0:00:13||\n",
      "Episode 8|Iteration 158|reward:  260.0|last_reward_at:  124|Elapsed Time: 0:00:13||\n",
      "Episode 8|Iteration 159|reward:  260.0|last_reward_at:  124|Elapsed Time: 0:00:13||\n",
      "Episode 8|Iteration 160|reward:  260.0|last_reward_at:  124|Elapsed Time: 0:00:13||\n",
      "Episode 8|Iteration 161|reward:  260.0|last_reward_at:  124|Elapsed Time: 0:00:14||\n",
      "Episode 8|Iteration 162|reward:  260.0|last_reward_at:  124|Elapsed Time: 0:00:14||\n",
      "Episode 8|Iteration 163|reward:  260.0|last_reward_at:  124|Elapsed Time: 0:00:14||\n",
      "Episode 8|Iteration 164|reward:  260.0|last_reward_at:  124|Elapsed Time: 0:00:14||\n",
      "Episode 8|Iteration 165|reward:  260.0|last_reward_at:  124|Elapsed Time: 0:00:14||\n",
      "Episode 8|Iteration 166|reward:  260.0|last_reward_at:  124|Elapsed Time: 0:00:14||\n",
      "Episode 8|Iteration 167|reward:  260.0|last_reward_at:  124|Elapsed Time: 0:00:15||\n",
      "Episode 8|Iteration 170|reward:  260.0|last_reward_at:  124|Elapsed Time: 0:00:15||\n",
      "Episode 8|Iteration 171|reward:  260.0|last_reward_at:  124|Elapsed Time: 0:00:15||\n",
      "Episode 8|Iteration 172|reward:  260.0|last_reward_at:  124|Elapsed Time: 0:00:15||\n",
      "Episode 8|Iteration 173|reward:  260.0|last_reward_at:  124|Elapsed Time: 0:00:15||\n",
      "Episode 8|Iteration 174|reward:  260.0|last_reward_at:  124|Elapsed Time: 0:00:15||\n",
      "Episode 8|Iteration 175|reward:  260.0|last_reward_at:  124|Elapsed Time: 0:00:15||\n",
      "Episode 8|Iteration 176|reward:  260.0|last_reward_at:  124|Elapsed Time: 0:00:16||\n",
      "Episode 8|Iteration 177|reward:  260.0|last_reward_at:  124|Elapsed Time: 0:00:16||\n",
      "Episode 8|Iteration 179|reward:  260.0|last_reward_at:  124|Elapsed Time: 0:00:16||\n",
      "Episode 8|Iteration 181|reward:  260.0|last_reward_at:  124|Elapsed Time: 0:00:16||\n",
      "Episode 8|Iteration 183|reward:  260.0|last_reward_at:  124|Elapsed Time: 0:00:16||\n",
      "Episode 8|Iteration 184|reward:  260.0|last_reward_at:  124|Elapsed Time: 0:00:16||\n",
      "Episode 8|Iteration 185|reward:  260.0|last_reward_at:  124|Elapsed Time: 0:00:16||\n",
      "Episode 8|Iteration 187|reward:  266.0|last_reward_at:  124|Elapsed Time: 0:00:16||\n",
      "Episode 8|Iteration 187|reward:  266.0|last_reward_at:  187|Elapsed Time: 0:00:16||\n",
      "Episode 8|Iteration 189|reward:  266.0|last_reward_at:  187|Elapsed Time: 0:00:16||\n",
      "Episode 8|Iteration 191|reward:  266.0|last_reward_at:  187|Elapsed Time: 0:00:16||\n",
      "Episode 8|Iteration 193|reward:  266.0|last_reward_at:  187|Elapsed Time: 0:00:17||\n",
      "Episode 8|Iteration 195|reward:  266.0|last_reward_at:  187|Elapsed Time: 0:00:17||\n",
      "Episode 8|Iteration 198|reward:  266.0|last_reward_at:  187|Elapsed Time: 0:00:17||\n",
      "Episode 8|Iteration 200|reward:  266.0|last_reward_at:  187|Elapsed Time: 0:00:17||\n",
      "Episode 8|Iteration 201|reward:  266.0|last_reward_at:  187|Elapsed Time: 0:00:17||\n",
      "Episode 8|Iteration 203|reward:  266.0|last_reward_at:  187|Elapsed Time: 0:00:17||\n",
      "Episode 8|Iteration 206|reward:  266.0|last_reward_at:  187|Elapsed Time: 0:00:17||\n",
      "Episode 8|Iteration 207|reward:  266.0|last_reward_at:  187|Elapsed Time: 0:00:18||\n",
      "Episode 8|Iteration 209|reward:  266.0|last_reward_at:  187|Elapsed Time: 0:00:18||\n",
      "Episode 8|Iteration 210|reward:  266.0|last_reward_at:  187|Elapsed Time: 0:00:18||\n",
      "Episode 8|Iteration 211|reward:  266.0|last_reward_at:  187|Elapsed Time: 0:00:18||\n",
      "Episode 8|Iteration 212|reward:  266.0|last_reward_at:  187|Elapsed Time: 0:00:18||\n",
      "Episode 8|Iteration 215|reward:  266.0|last_reward_at:  187|Elapsed Time: 0:00:19||\n",
      "Episode 8|Iteration 217|reward:  266.0|last_reward_at:  187|Elapsed Time: 0:00:19||\n",
      "Episode 8|Iteration 219|reward:  266.0|last_reward_at:  187|Elapsed Time: 0:00:19||\n",
      "Episode 8|Iteration 221|reward:  266.0|last_reward_at:  187|Elapsed Time: 0:00:19||\n",
      "Episode 8|Iteration 222|reward:  266.0|last_reward_at:  187|Elapsed Time: 0:00:19||\n",
      "Episode 8|Iteration 224|reward:  266.0|last_reward_at:  187|Elapsed Time: 0:00:19||\n",
      "Episode 8|Iteration 226|reward:  266.0|last_reward_at:  187|Elapsed Time: 0:00:19||\n",
      "Episode 8|Iteration 228|reward:  266.0|last_reward_at:  187|Elapsed Time: 0:00:19||\n",
      "Episode 8|Iteration 229|reward:  266.0|last_reward_at:  187|Elapsed Time: 0:00:19||\n",
      "Episode 8|Iteration 231|reward:  266.0|last_reward_at:  187|Elapsed Time: 0:00:20||\n",
      "Episode 8|Iteration 233|reward:  266.0|last_reward_at:  187|Elapsed Time: 0:00:20||\n",
      "Episode 8|Iteration 234|reward:  266.0|last_reward_at:  187|Elapsed Time: 0:00:20||\n",
      "Episode 8|Iteration 235|reward:  266.0|last_reward_at:  187|Elapsed Time: 0:00:20||\n",
      "Episode 8|Iteration 236|reward:  266.0|last_reward_at:  187|Elapsed Time: 0:00:21||\n",
      "Episode 8|Iteration 238|reward:  266.0|last_reward_at:  187|Elapsed Time: 0:00:21||\n",
      "Episode 8|Iteration 239|reward:  266.0|last_reward_at:  187|Elapsed Time: 0:00:21||\n",
      "Episode 8|Iteration 240|reward:  266.0|last_reward_at:  187|Elapsed Time: 0:00:21||\n",
      "Episode 8|Iteration 241|reward:  266.0|last_reward_at:  187|Elapsed Time: 0:00:22||\n",
      "Episode 8|Iteration 242|reward:  266.0|last_reward_at:  187|Elapsed Time: 0:00:22||\n",
      "Episode 8|Iteration 243|reward:  266.0|last_reward_at:  187|Elapsed Time: 0:00:22||\n",
      "Episode 8|Iteration 244|reward:  266.0|last_reward_at:  187|Elapsed Time: 0:00:22||\n",
      "Episode 8|Iteration 245|reward:  266.0|last_reward_at:  187|Elapsed Time: 0:00:22||\n",
      "Episode 8|Iteration 246|reward:  266.0|last_reward_at:  187|Elapsed Time: 0:00:23||\n",
      "Episode 8|Iteration 247|reward:  266.0|last_reward_at:  187|Elapsed Time: 0:00:23||\n",
      "Episode 8|Iteration 248|reward:  266.0|last_reward_at:  187|Elapsed Time: 0:00:24||\n",
      "Episode 8|Iteration 250|reward:  266.0|last_reward_at:  187|Elapsed Time: 0:00:24||\n",
      "Episode 8|Iteration 253|reward:  266.0|last_reward_at:  187|Elapsed Time: 0:00:24||\n",
      "Episode 8|Iteration 256|reward:  266.0|last_reward_at:  187|Elapsed Time: 0:00:24||\n",
      "Episode 8|Iteration 259|reward:  266.0|last_reward_at:  187|Elapsed Time: 0:00:25||\n",
      "Episode 8|Iteration 260|reward:  266.0|last_reward_at:  187|Elapsed Time: 0:00:25||\n",
      "Episode 8|Iteration 261|reward:  266.0|last_reward_at:  187|Elapsed Time: 0:00:25||\n",
      "Episode 8|Iteration 262|reward:  266.0|last_reward_at:  187|Elapsed Time: 0:00:25||\n",
      "Episode 8|Iteration 264|reward:  266.0|last_reward_at:  187|Elapsed Time: 0:00:25||\n",
      "Episode 8|Iteration 266|reward:  266.0|last_reward_at:  187|Elapsed Time: 0:00:25||\n",
      "Episode 8|Iteration 267|reward:  266.0|last_reward_at:  187|Elapsed Time: 0:00:25||\n",
      "Episode 8|Iteration 269|reward:  266.0|last_reward_at:  187|Elapsed Time: 0:00:25||\n",
      "Episode 8|Iteration 271|reward:  266.0|last_reward_at:  187|Elapsed Time: 0:00:26||\n",
      "Episode 8|Iteration 274|reward:  266.0|last_reward_at:  187|Elapsed Time: 0:00:26||\n",
      "Episode 8|Iteration 276|reward:  266.0|last_reward_at:  187|Elapsed Time: 0:00:26||\n",
      "Episode 8|Iteration 279|reward:  266.0|last_reward_at:  187|Elapsed Time: 0:00:26||\n",
      "Episode 8|Iteration 280|reward:  266.0|last_reward_at:  187|Elapsed Time: 0:00:26||\n",
      "Episode 8|Iteration 282|reward:  266.0|last_reward_at:  187|Elapsed Time: 0:00:26||\n",
      "Episode 8|Iteration 284|reward:  266.0|last_reward_at:  187|Elapsed Time: 0:00:26||\n",
      "Episode 8|Iteration 286|reward:  266.0|last_reward_at:  187|Elapsed Time: 0:00:27||\n",
      "Episode 8|Iteration 288|reward:  266.0|last_reward_at:  187|Elapsed Time: 0:00:27||\n",
      "Episode 8|Iteration 290|reward:  266.0|last_reward_at:  187|Elapsed Time: 0:00:27||\n",
      "Episode 8|Iteration 293|reward:  266.0|last_reward_at:  187|Elapsed Time: 0:00:27||\n",
      "Episode 8|Iteration 295|reward:  266.0|last_reward_at:  187|Elapsed Time: 0:00:27||\n",
      "Episode 8|Iteration 298|reward:  266.0|last_reward_at:  187|Elapsed Time: 0:00:27||\n",
      "Episode 8|Iteration 301|reward:  266.0|last_reward_at:  187|Elapsed Time: 0:00:27||\n",
      "Episode 8|Iteration 304|reward:  266.0|last_reward_at:  187|Elapsed Time: 0:00:27||\n",
      "Episode 8|Iteration 306|reward:  266.0|last_reward_at:  187|Elapsed Time: 0:00:27||\n",
      "Episode 8|Iteration 307|reward:  266.0|last_reward_at:  187|Elapsed Time: 0:00:28||\n",
      "Episode 8|Iteration 309|reward:  266.0|last_reward_at:  187|Elapsed Time: 0:00:28||\n",
      "Episode 8|Iteration 310|reward:  266.0|last_reward_at:  187|Elapsed Time: 0:00:28||\n",
      "Episode 8|Iteration 312|reward:  266.0|last_reward_at:  187|Elapsed Time: 0:00:28||\n",
      "Episode 8|Iteration 314|reward:  266.0|last_reward_at:  187|Elapsed Time: 0:00:28||\n",
      "Episode 8|Iteration 318|reward:  266.0|last_reward_at:  187|Elapsed Time: 0:00:28||\n",
      "Episode 8|Iteration 320|reward:  266.0|last_reward_at:  187|Elapsed Time: 0:00:28||\n",
      "Episode 8|Iteration 323|reward:  266.0|last_reward_at:  187|Elapsed Time: 0:00:29||\n",
      "Episode 8|Iteration 326|reward:  266.0|last_reward_at:  187|Elapsed Time: 0:00:29||\n",
      "Episode 8|Iteration 328|reward:  266.0|last_reward_at:  187|Elapsed Time: 0:00:29||\n",
      "Episode 8|Iteration 331|reward:  266.0|last_reward_at:  187|Elapsed Time: 0:00:29||\n",
      "Episode 8|Iteration 335|reward:  266.0|last_reward_at:  187|Elapsed Time: 0:00:29||\n",
      "Episode 8|Iteration 337|reward:  266.0|last_reward_at:  187|Elapsed Time: 0:00:29||\n",
      "Episode 8|Iteration 339|reward:  266.0|last_reward_at:  187|Elapsed Time: 0:00:29||\n",
      "Episode 8|Iteration 341|reward:  266.0|last_reward_at:  187|Elapsed Time: 0:00:30||\n",
      "Episode 8|Iteration 345|reward:  266.0|last_reward_at:  187|Elapsed Time: 0:00:30||\n",
      "Episode 8|Iteration 348|reward:  272.0|last_reward_at:  187|Elapsed Time: 0:00:30||\n",
      "Episode 8|Iteration 348|reward:  272.0|last_reward_at:  348|Elapsed Time: 0:00:30||\n",
      "Episode 8|Iteration 352|reward:  272.0|last_reward_at:  348|Elapsed Time: 0:00:30||\n",
      "Episode 8|Iteration 353|reward:  272.0|last_reward_at:  348|Elapsed Time: 0:00:30||\n",
      "Episode 8|Iteration 357|reward:  272.0|last_reward_at:  348|Elapsed Time: 0:00:30||\n",
      "Episode 8|Iteration 360|reward:  272.0|last_reward_at:  348|Elapsed Time: 0:00:30||\n",
      "Episode 8|Iteration 364|reward:  272.0|last_reward_at:  348|Elapsed Time: 0:00:30||\n",
      "Episode 8|Iteration 368|reward:  272.0|last_reward_at:  348|Elapsed Time: 0:00:30||\n",
      "Episode 8|Iteration 371|reward:  272.0|last_reward_at:  348|Elapsed Time: 0:00:31||\n",
      "Episode 8|Iteration 375|reward:  272.0|last_reward_at:  348|Elapsed Time: 0:00:31||\n",
      "Episode 8|Iteration 379|reward:  272.0|last_reward_at:  348|Elapsed Time: 0:00:31||\n",
      "Episode 8|Iteration 383|reward:  272.0|last_reward_at:  348|Elapsed Time: 0:00:31||\n",
      "Episode 8|Iteration 386|reward:  272.0|last_reward_at:  348|Elapsed Time: 0:00:31||\n",
      "Episode 8|Iteration 388|reward:  272.0|last_reward_at:  348|Elapsed Time: 0:00:31||\n",
      "Episode 8|Iteration 388|reward:  272.0|last_reward_at:  348|Elapsed Time: 0:00:32||\n",
      "Episode 8|Iteration 391|reward:  272.0|last_reward_at:  348|Elapsed Time: 0:00:32||\n",
      "Episode 8|Iteration 393|reward:  272.0|last_reward_at:  348|Elapsed Time: 0:00:32||\n",
      "Episode 8|Iteration 395|reward:  272.0|last_reward_at:  348|Elapsed Time: 0:00:32||\n",
      "Episode 8|Iteration 397|reward:  272.0|last_reward_at:  348|Elapsed Time: 0:00:32||\n",
      "Episode 8|Iteration 400|reward:  272.0|last_reward_at:  348|Elapsed Time: 0:00:32||\n",
      "Episode 8|Iteration 401|reward:  272.0|last_reward_at:  348|Elapsed Time: 0:00:33||\n",
      "Episode 8|Iteration 406|reward:  272.0|last_reward_at:  348|Elapsed Time: 0:00:33||\n",
      "Episode 8|Iteration 410|reward:  272.0|last_reward_at:  348|Elapsed Time: 0:00:33||\n",
      "Episode 8|Iteration 414|reward:  272.0|last_reward_at:  348|Elapsed Time: 0:00:33||\n",
      "Episode 8|Iteration 417|reward:  272.0|last_reward_at:  348|Elapsed Time: 0:00:33||\n",
      "Episode 8|Iteration 421|reward:  272.0|last_reward_at:  348|Elapsed Time: 0:00:33||\n",
      "Episode 8|Iteration 425|reward:  272.0|last_reward_at:  348|Elapsed Time: 0:00:33||\n",
      "Episode 8|Iteration 428|reward:  272.0|last_reward_at:  348|Elapsed Time: 0:00:34||\n",
      "Episode 8|Iteration 431|reward:  272.0|last_reward_at:  348|Elapsed Time: 0:00:34||\n",
      "Episode 8|Iteration 434|reward:  272.0|last_reward_at:  348|Elapsed Time: 0:00:34||\n",
      "Episode 8|Iteration 436|reward:  272.0|last_reward_at:  348|Elapsed Time: 0:00:34||\n",
      "Episode 8|Iteration 438|reward:  272.0|last_reward_at:  348|Elapsed Time: 0:00:34||\n",
      "Episode 8|Iteration 440|reward:  272.0|last_reward_at:  348|Elapsed Time: 0:00:34||\n",
      "Episode 8|Iteration 444|reward:  272.0|last_reward_at:  348|Elapsed Time: 0:00:34||\n",
      "Episode 8|Iteration 447|reward:  272.0|last_reward_at:  348|Elapsed Time: 0:00:34||\n",
      "Episode 8|Iteration 449|reward:  272.0|last_reward_at:  348|Elapsed Time: 0:00:34||\n",
      "Episode 8|Iteration 453|reward:  272.0|last_reward_at:  348|Elapsed Time: 0:00:35||\n",
      "Episode 8|Iteration 456|reward:  272.0|last_reward_at:  348|Elapsed Time: 0:00:35||\n",
      "Episode 8|Iteration 459|reward:  272.0|last_reward_at:  348|Elapsed Time: 0:00:35||\n",
      "Episode 8|Iteration 462|reward:  272.0|last_reward_at:  348|Elapsed Time: 0:00:35||\n",
      "Episode 8|Iteration 464|reward:  272.0|last_reward_at:  348|Elapsed Time: 0:00:35||\n",
      "Episode 8|Iteration 465|reward:  272.0|last_reward_at:  348|Elapsed Time: 0:00:35||\n",
      "Episode 8|Iteration 468|reward:  272.0|last_reward_at:  348|Elapsed Time: 0:00:35||\n",
      "Episode 8|Iteration 470|reward:  272.0|last_reward_at:  348|Elapsed Time: 0:00:35||\n",
      "Episode 8|Iteration 473|reward:  272.0|last_reward_at:  348|Elapsed Time: 0:00:35||\n",
      "Episode 8|Iteration 476|reward:  272.0|last_reward_at:  348|Elapsed Time: 0:00:36||\n",
      "Episode 8|Iteration 479|reward:  272.0|last_reward_at:  348|Elapsed Time: 0:00:36||\n",
      "Episode 8|Iteration 481|reward:  272.0|last_reward_at:  348|Elapsed Time: 0:00:36||\n",
      "Episode 8|Iteration 484|reward:  272.0|last_reward_at:  348|Elapsed Time: 0:00:36||\n",
      "Episode 8|Iteration 487|reward:  272.0|last_reward_at:  348|Elapsed Time: 0:00:36||\n",
      "Episode 8|Iteration 489|reward:  272.0|last_reward_at:  348|Elapsed Time: 0:00:36||\n",
      "Episode 8|Iteration 493|reward:  272.0|last_reward_at:  348|Elapsed Time: 0:00:36||\n",
      "Episode 8|Iteration 497|reward:  272.0|last_reward_at:  348|Elapsed Time: 0:00:36||\n",
      "Episode 8|Iteration 500|reward:  272.0|last_reward_at:  348|Elapsed Time: 0:00:36||\n",
      "Episode 8|Iteration 504|reward:  272.0|last_reward_at:  348|Elapsed Time: 0:00:37||\n",
      "Episode 8|Iteration 507|reward:  272.0|last_reward_at:  348|Elapsed Time: 0:00:37||\n",
      "Episode 8|Iteration 509|reward:  272.0|last_reward_at:  348|Elapsed Time: 0:00:37||\n",
      "Episode 8|Iteration 511|reward:  272.0|last_reward_at:  348|Elapsed Time: 0:00:37||\n",
      "Episode 8|Iteration 515|reward:  272.0|last_reward_at:  348|Elapsed Time: 0:00:37||\n",
      "Episode 8|Iteration 518|reward:  272.0|last_reward_at:  348|Elapsed Time: 0:00:37||\n",
      "Episode 8|Iteration 522|reward:  272.0|last_reward_at:  348|Elapsed Time: 0:00:37||\n",
      "Episode 8|Iteration 525|reward:  272.0|last_reward_at:  348|Elapsed Time: 0:00:37||\n",
      "Episode 8|Iteration 527|reward:  272.0|last_reward_at:  348|Elapsed Time: 0:00:37||\n",
      "Episode 8|Iteration 531|reward:  272.0|last_reward_at:  348|Elapsed Time: 0:00:37||\n",
      "Episode 8|Iteration 534|reward:  272.0|last_reward_at:  348|Elapsed Time: 0:00:38||\n",
      "Episode 8|Iteration 537|reward:  272.0|last_reward_at:  348|Elapsed Time: 0:00:38||\n",
      "Episode 8|Iteration 540|reward:  272.0|last_reward_at:  348|Elapsed Time: 0:00:38||\n",
      "Episode 8|Iteration 543|reward:  272.0|last_reward_at:  348|Elapsed Time: 0:00:38||\n",
      "Episode 8|Iteration 547|reward:  272.0|last_reward_at:  348|Elapsed Time: 0:00:38||\n",
      "Episode 8|Iteration 548|reward:  272.0|last_reward_at:  348|Elapsed Time: 0:00:38||\n",
      "Episode 8|Iteration 551|reward:  272.0|last_reward_at:  348|Elapsed Time: 0:00:38||\n",
      "Episode 8|Iteration 555|reward:  272.0|last_reward_at:  348|Elapsed Time: 0:00:38||\n",
      "Episode 8|Iteration 558|reward:  272.0|last_reward_at:  348|Elapsed Time: 0:00:38||\n",
      "Episode 8|Iteration 561|reward:  272.0|last_reward_at:  348|Elapsed Time: 0:00:39||\n",
      "Episode 8|Iteration 564|reward:  272.0|last_reward_at:  348|Elapsed Time: 0:00:39||\n",
      "Episode 8|Iteration 566|reward:  272.0|last_reward_at:  348|Elapsed Time: 0:00:39||\n",
      "Episode 8|Iteration 569|reward:  272.0|last_reward_at:  348|Elapsed Time: 0:00:39||\n",
      "Episode 8|Iteration 572|reward:  272.0|last_reward_at:  348|Elapsed Time: 0:00:39||\n",
      "Episode 8|Iteration 576|reward:  272.0|last_reward_at:  348|Elapsed Time: 0:00:39||\n",
      "Episode 8|Iteration 580|reward:  272.0|last_reward_at:  348|Elapsed Time: 0:00:39||\n",
      "Episode 8|Iteration 584|reward:  272.0|last_reward_at:  348|Elapsed Time: 0:00:39||\n",
      "Episode 8|Iteration 588|reward:  272.0|last_reward_at:  348|Elapsed Time: 0:00:39||\n",
      "Episode 8|Iteration 591|reward:  272.0|last_reward_at:  348|Elapsed Time: 0:00:40||\n",
      "Episode 8|Iteration 593|reward:  272.0|last_reward_at:  348|Elapsed Time: 0:00:40||\n",
      "Episode 8|Iteration 594|reward:  272.0|last_reward_at:  348|Elapsed Time: 0:00:40||\n",
      "Episode 8|Iteration 599|reward:  272.0|last_reward_at:  348|Elapsed Time: 0:00:40||\n",
      "Episode 8|Iteration 600|reward:  272.0|last_reward_at:  348|Elapsed Time: 0:00:40||\n",
      "Episode 8|Iteration 600|reward:  272.0|last_reward_at:  348|Elapsed Time: 0:00:40||\n"
     ]
    },
    {
     "name": "stdout",
     "output_type": "stream",
     "text": [
      "  Episode 8 stopped at t=600 \n",
      "  Breakdown [Reward/NoReward (Success rate)]\n",
      "    explore-local: 0/4 (0.00)\n",
      "    explore-remote: 2/31 (0.06)\n",
      "    explore-connect: 0/33 (0.00)\n",
      "    exploit-local: 2/3 (0.40)\n",
      "    exploit-remote: 6/379 (0.02)\n",
      "    exploit-connect: 3/137 (0.02)\n",
      "  exploit deflected to exploration: 70\n",
      "  ## Episode: 9/10 'Exploiting DQL' ϵ=0.0000, γ=0.15, lr=0.01, replaymemory=10000,\n",
      "batch=256, target_update=5\n"
     ]
    },
    {
     "name": "stderr",
     "output_type": "stream",
     "text": [
      "Episode 9|Iteration 0|reward: ------|last_reward_at: ----|Elapsed Time: 0:00:00||\n",
      "Episode 9|Iteration 1|reward:    6.0|last_reward_at: ----|Elapsed Time: 0:00:00||\n",
      "Episode 9|Iteration 1|reward:    6.0|last_reward_at:    1|Elapsed Time: 0:00:00||\n",
      "Episode 9|Iteration 2|reward:    6.0|last_reward_at:    1|Elapsed Time: 0:00:00||\n",
      "Episode 9|Iteration 3|reward:   12.0|last_reward_at:    1|Elapsed Time: 0:00:00||\n",
      "Episode 9|Iteration 3|reward:   12.0|last_reward_at:    3|Elapsed Time: 0:00:00||\n",
      "Episode 9|Iteration 6|reward:   18.0|last_reward_at:    3|Elapsed Time: 0:00:00||\n",
      "Episode 9|Iteration 6|reward:   18.0|last_reward_at:    6|Elapsed Time: 0:00:00||\n",
      "Episode 9|Iteration 7|reward:   27.0|last_reward_at:    6|Elapsed Time: 0:00:00||\n",
      "Episode 9|Iteration 7|reward:   27.0|last_reward_at:    7|Elapsed Time: 0:00:00||\n",
      "Episode 9|Iteration 12|reward:   27.0|last_reward_at:    7|Elapsed Time: 0:00:00||\n",
      "Episode 9|Iteration 16|reward:   27.0|last_reward_at:    7|Elapsed Time: 0:00:00||\n",
      "Episode 9|Iteration 17|reward:   27.0|last_reward_at:    7|Elapsed Time: 0:00:00||\n",
      "Episode 9|Iteration 21|reward:   27.0|last_reward_at:    7|Elapsed Time: 0:00:00||\n",
      "Episode 9|Iteration 22|reward:  127.0|last_reward_at:    7|Elapsed Time: 0:00:00||\n",
      "Episode 9|Iteration 22|reward:  127.0|last_reward_at:   22|Elapsed Time: 0:00:00||\n",
      "Episode 9|Iteration 23|reward:  136.0|last_reward_at:   22|Elapsed Time: 0:00:00||\n",
      "Episode 9|Iteration 23|reward:  136.0|last_reward_at:   23|Elapsed Time: 0:00:00||\n",
      "Episode 9|Iteration 28|reward:  136.0|last_reward_at:   23|Elapsed Time: 0:00:00||\n",
      "Episode 9|Iteration 31|reward:  136.0|last_reward_at:   23|Elapsed Time: 0:00:01||\n",
      "Episode 9|Iteration 33|reward:  136.0|last_reward_at:   23|Elapsed Time: 0:00:01||\n",
      "Episode 9|Iteration 38|reward:  136.0|last_reward_at:   23|Elapsed Time: 0:00:01||\n",
      "Episode 9|Iteration 42|reward:  136.0|last_reward_at:   23|Elapsed Time: 0:00:01||\n",
      "Episode 9|Iteration 45|reward:  136.0|last_reward_at:   23|Elapsed Time: 0:00:01||\n",
      "Episode 9|Iteration 48|reward:  136.0|last_reward_at:   23|Elapsed Time: 0:00:01||\n",
      "Episode 9|Iteration 52|reward:  136.0|last_reward_at:   23|Elapsed Time: 0:00:01||\n",
      "Episode 9|Iteration 57|reward:  136.0|last_reward_at:   23|Elapsed Time: 0:00:01||\n",
      "Episode 9|Iteration 61|reward:  136.0|last_reward_at:   23|Elapsed Time: 0:00:02||\n",
      "Episode 9|Iteration 64|reward:  136.0|last_reward_at:   23|Elapsed Time: 0:00:02||\n",
      "Episode 9|Iteration 69|reward:  136.0|last_reward_at:   23|Elapsed Time: 0:00:02||\n",
      "Episode 9|Iteration 72|reward:  136.0|last_reward_at:   23|Elapsed Time: 0:00:02||\n",
      "Episode 9|Iteration 75|reward:  136.0|last_reward_at:   23|Elapsed Time: 0:00:02||\n",
      "Episode 9|Iteration 80|reward:  136.0|last_reward_at:   23|Elapsed Time: 0:00:02||\n",
      "Episode 9|Iteration 84|reward:  136.0|last_reward_at:   23|Elapsed Time: 0:00:02||\n",
      "Episode 9|Iteration 88|reward:  136.0|last_reward_at:   23|Elapsed Time: 0:00:02||\n",
      "Episode 9|Iteration 92|reward:  136.0|last_reward_at:   23|Elapsed Time: 0:00:02||\n",
      "Episode 9|Iteration 94|reward:  136.0|last_reward_at:   23|Elapsed Time: 0:00:03||\n",
      "Episode 9|Iteration 97|reward:  136.0|last_reward_at:   23|Elapsed Time: 0:00:03||\n",
      "Episode 9|Iteration 100|reward:  136.0|last_reward_at:   23|Elapsed Time: 0:00:03||\n",
      "Episode 9|Iteration 104|reward:  136.0|last_reward_at:   23|Elapsed Time: 0:00:03||\n",
      "Episode 9|Iteration 107|reward:  136.0|last_reward_at:   23|Elapsed Time: 0:00:03||\n",
      "Episode 9|Iteration 110|reward:  136.0|last_reward_at:   23|Elapsed Time: 0:00:03||\n",
      "Episode 9|Iteration 114|reward:  136.0|last_reward_at:   23|Elapsed Time: 0:00:03||\n",
      "Episode 9|Iteration 117|reward:  136.0|last_reward_at:   23|Elapsed Time: 0:00:03||\n",
      "Episode 9|Iteration 121|reward:  136.0|last_reward_at:   23|Elapsed Time: 0:00:03||\n",
      "Episode 9|Iteration 124|reward:  136.0|last_reward_at:   23|Elapsed Time: 0:00:03||\n",
      "Episode 9|Iteration 126|reward:  136.0|last_reward_at:   23|Elapsed Time: 0:00:04||\n",
      "Episode 9|Iteration 128|reward:  136.0|last_reward_at:   23|Elapsed Time: 0:00:04||\n",
      "Episode 9|Iteration 130|reward:  136.0|last_reward_at:   23|Elapsed Time: 0:00:04||\n",
      "Episode 9|Iteration 130|reward:  136.0|last_reward_at:   23|Elapsed Time: 0:00:05||\n",
      "Episode 9|Iteration 131|reward:  136.0|last_reward_at:   23|Elapsed Time: 0:00:05||\n",
      "Episode 9|Iteration 135|reward:  136.0|last_reward_at:   23|Elapsed Time: 0:00:05||\n",
      "Episode 9|Iteration 139|reward:  136.0|last_reward_at:   23|Elapsed Time: 0:00:05||\n",
      "Episode 9|Iteration 143|reward:  136.0|last_reward_at:   23|Elapsed Time: 0:00:05||\n",
      "Episode 9|Iteration 145|reward:  136.0|last_reward_at:   23|Elapsed Time: 0:00:05||\n",
      "Episode 9|Iteration 149|reward:  136.0|last_reward_at:   23|Elapsed Time: 0:00:05||\n",
      "Episode 9|Iteration 152|reward:  136.0|last_reward_at:   23|Elapsed Time: 0:00:05||\n",
      "Episode 9|Iteration 153|reward:  142.0|last_reward_at:   23|Elapsed Time: 0:00:06||\n",
      "Episode 9|Iteration 153|reward:  142.0|last_reward_at:  153|Elapsed Time: 0:00:06||\n",
      "Episode 9|Iteration 155|reward:  151.0|last_reward_at:  153|Elapsed Time: 0:00:06||\n",
      "Episode 9|Iteration 155|reward:  151.0|last_reward_at:  155|Elapsed Time: 0:00:06||\n",
      "Episode 9|Iteration 157|reward:  151.0|last_reward_at:  155|Elapsed Time: 0:00:06||\n",
      "Episode 9|Iteration 160|reward:  151.0|last_reward_at:  155|Elapsed Time: 0:00:06||\n",
      "Episode 9|Iteration 161|reward:  151.0|last_reward_at:  155|Elapsed Time: 0:00:06||\n",
      "Episode 9|Iteration 165|reward:  151.0|last_reward_at:  155|Elapsed Time: 0:00:06||\n",
      "Episode 9|Iteration 168|reward:  151.0|last_reward_at:  155|Elapsed Time: 0:00:06||\n",
      "Episode 9|Iteration 170|reward:  151.0|last_reward_at:  155|Elapsed Time: 0:00:06||\n",
      "Episode 9|Iteration 174|reward:  151.0|last_reward_at:  155|Elapsed Time: 0:00:06||\n",
      "Episode 9|Iteration 177|reward:  151.0|last_reward_at:  155|Elapsed Time: 0:00:06||\n",
      "Episode 9|Iteration 180|reward:  151.0|last_reward_at:  155|Elapsed Time: 0:00:07||\n",
      "Episode 9|Iteration 181|reward:  151.0|last_reward_at:  155|Elapsed Time: 0:00:07||\n",
      "Episode 9|Iteration 185|reward:  151.0|last_reward_at:  155|Elapsed Time: 0:00:07||\n",
      "Episode 9|Iteration 190|reward:  151.0|last_reward_at:  155|Elapsed Time: 0:00:07||\n",
      "Episode 9|Iteration 193|reward:  151.0|last_reward_at:  155|Elapsed Time: 0:00:07||\n",
      "Episode 9|Iteration 197|reward:  151.0|last_reward_at:  155|Elapsed Time: 0:00:07||\n",
      "Episode 9|Iteration 202|reward:  151.0|last_reward_at:  155|Elapsed Time: 0:00:07||\n",
      "Episode 9|Iteration 204|reward:  151.0|last_reward_at:  155|Elapsed Time: 0:00:08||\n",
      "Episode 9|Iteration 206|reward:  151.0|last_reward_at:  155|Elapsed Time: 0:00:08||\n",
      "Episode 9|Iteration 209|reward:  151.0|last_reward_at:  155|Elapsed Time: 0:00:08||\n",
      "Episode 9|Iteration 213|reward:  151.0|last_reward_at:  155|Elapsed Time: 0:00:08||\n",
      "Episode 9|Iteration 217|reward:  151.0|last_reward_at:  155|Elapsed Time: 0:00:08||\n",
      "Episode 9|Iteration 219|reward:  151.0|last_reward_at:  155|Elapsed Time: 0:00:08||\n",
      "Episode 9|Iteration 221|reward:  151.0|last_reward_at:  155|Elapsed Time: 0:00:08||\n",
      "Episode 9|Iteration 223|reward:  151.0|last_reward_at:  155|Elapsed Time: 0:00:08||\n",
      "Episode 9|Iteration 226|reward:  151.0|last_reward_at:  155|Elapsed Time: 0:00:08||\n",
      "Episode 9|Iteration 230|reward:  151.0|last_reward_at:  155|Elapsed Time: 0:00:09||\n",
      "Episode 9|Iteration 233|reward:  151.0|last_reward_at:  155|Elapsed Time: 0:00:09||\n",
      "Episode 9|Iteration 234|reward:  201.0|last_reward_at:  155|Elapsed Time: 0:00:09||\n",
      "Episode 9|Iteration 234|reward:  201.0|last_reward_at:  234|Elapsed Time: 0:00:09||\n",
      "Episode 9|Iteration 238|reward:  201.0|last_reward_at:  234|Elapsed Time: 0:00:09||\n",
      "Episode 9|Iteration 242|reward:  201.0|last_reward_at:  234|Elapsed Time: 0:00:09||\n",
      "Episode 9|Iteration 245|reward:  201.0|last_reward_at:  234|Elapsed Time: 0:00:09||\n",
      "Episode 9|Iteration 249|reward:  201.0|last_reward_at:  234|Elapsed Time: 0:00:09||\n",
      "Episode 9|Iteration 251|reward:  201.0|last_reward_at:  234|Elapsed Time: 0:00:09||\n",
      "Episode 9|Iteration 253|reward:  201.0|last_reward_at:  234|Elapsed Time: 0:00:09||\n",
      "Episode 9|Iteration 255|reward:  201.0|last_reward_at:  234|Elapsed Time: 0:00:10||\n",
      "Episode 9|Iteration 257|reward:  201.0|last_reward_at:  234|Elapsed Time: 0:00:10||\n",
      "Episode 9|Iteration 260|reward:  201.0|last_reward_at:  234|Elapsed Time: 0:00:10||\n",
      "Episode 9|Iteration 262|reward:  201.0|last_reward_at:  234|Elapsed Time: 0:00:10||\n",
      "Episode 9|Iteration 264|reward:  201.0|last_reward_at:  234|Elapsed Time: 0:00:10||\n",
      "Episode 9|Iteration 265|reward:  201.0|last_reward_at:  234|Elapsed Time: 0:00:10||\n",
      "Episode 9|Iteration 266|reward:  201.0|last_reward_at:  234|Elapsed Time: 0:00:11||\n",
      "Episode 9|Iteration 267|reward:  201.0|last_reward_at:  234|Elapsed Time: 0:00:11||\n",
      "Episode 9|Iteration 269|reward:  201.0|last_reward_at:  234|Elapsed Time: 0:00:11||\n",
      "Episode 9|Iteration 270|reward:  201.0|last_reward_at:  234|Elapsed Time: 0:00:11||\n",
      "Episode 9|Iteration 273|reward:  201.0|last_reward_at:  234|Elapsed Time: 0:00:11||\n",
      "Episode 9|Iteration 276|reward:  201.0|last_reward_at:  234|Elapsed Time: 0:00:12||\n",
      "Episode 9|Iteration 279|reward:  201.0|last_reward_at:  234|Elapsed Time: 0:00:12||\n",
      "Episode 9|Iteration 282|reward:  201.0|last_reward_at:  234|Elapsed Time: 0:00:12||\n",
      "Episode 9|Iteration 285|reward:  201.0|last_reward_at:  234|Elapsed Time: 0:00:12||\n",
      "Episode 9|Iteration 289|reward:  201.0|last_reward_at:  234|Elapsed Time: 0:00:12||\n",
      "Episode 9|Iteration 290|reward:  201.0|last_reward_at:  234|Elapsed Time: 0:00:12||\n",
      "Episode 9|Iteration 292|reward:  201.0|last_reward_at:  234|Elapsed Time: 0:00:12||\n",
      "Episode 9|Iteration 296|reward:  201.0|last_reward_at:  234|Elapsed Time: 0:00:12||\n",
      "Episode 9|Iteration 298|reward:  201.0|last_reward_at:  234|Elapsed Time: 0:00:12||\n",
      "Episode 9|Iteration 301|reward:  201.0|last_reward_at:  234|Elapsed Time: 0:00:13||\n",
      "Episode 9|Iteration 304|reward:  201.0|last_reward_at:  234|Elapsed Time: 0:00:13||\n",
      "Episode 9|Iteration 306|reward:  201.0|last_reward_at:  234|Elapsed Time: 0:00:13||\n",
      "Episode 9|Iteration 310|reward:  201.0|last_reward_at:  234|Elapsed Time: 0:00:13||\n",
      "Episode 9|Iteration 314|reward:  201.0|last_reward_at:  234|Elapsed Time: 0:00:13||\n",
      "Episode 9|Iteration 317|reward:  201.0|last_reward_at:  234|Elapsed Time: 0:00:13||\n",
      "Episode 9|Iteration 318|reward:  201.0|last_reward_at:  234|Elapsed Time: 0:00:13||\n",
      "Episode 9|Iteration 322|reward:  201.0|last_reward_at:  234|Elapsed Time: 0:00:14||\n",
      "Episode 9|Iteration 324|reward:  201.0|last_reward_at:  234|Elapsed Time: 0:00:14||\n",
      "Episode 9|Iteration 326|reward:  201.0|last_reward_at:  234|Elapsed Time: 0:00:14||\n",
      "Episode 9|Iteration 329|reward:  201.0|last_reward_at:  234|Elapsed Time: 0:00:14||\n",
      "Episode 9|Iteration 333|reward:  201.0|last_reward_at:  234|Elapsed Time: 0:00:14||\n",
      "Episode 9|Iteration 337|reward:  201.0|last_reward_at:  234|Elapsed Time: 0:00:14||\n",
      "Episode 9|Iteration 341|reward:  201.0|last_reward_at:  234|Elapsed Time: 0:00:14||\n",
      "Episode 9|Iteration 345|reward:  201.0|last_reward_at:  234|Elapsed Time: 0:00:14||\n",
      "Episode 9|Iteration 349|reward:  201.0|last_reward_at:  234|Elapsed Time: 0:00:14||\n",
      "Episode 9|Iteration 353|reward:  201.0|last_reward_at:  234|Elapsed Time: 0:00:15||\n",
      "Episode 9|Iteration 357|reward:  201.0|last_reward_at:  234|Elapsed Time: 0:00:15||\n",
      "Episode 9|Iteration 359|reward:  201.0|last_reward_at:  234|Elapsed Time: 0:00:15||\n",
      "Episode 9|Iteration 363|reward:  201.0|last_reward_at:  234|Elapsed Time: 0:00:15||\n",
      "Episode 9|Iteration 367|reward:  201.0|last_reward_at:  234|Elapsed Time: 0:00:15||\n",
      "Episode 9|Iteration 371|reward:  201.0|last_reward_at:  234|Elapsed Time: 0:00:15||\n",
      "Episode 9|Iteration 374|reward:  201.0|last_reward_at:  234|Elapsed Time: 0:00:15||\n",
      "Episode 9|Iteration 377|reward:  201.0|last_reward_at:  234|Elapsed Time: 0:00:15||\n",
      "Episode 9|Iteration 380|reward:  201.0|last_reward_at:  234|Elapsed Time: 0:00:15||\n",
      "Episode 9|Iteration 382|reward:  201.0|last_reward_at:  234|Elapsed Time: 0:00:15||\n",
      "Episode 9|Iteration 386|reward:  201.0|last_reward_at:  234|Elapsed Time: 0:00:16||\n",
      "Episode 9|Iteration 388|reward:  207.0|last_reward_at:  234|Elapsed Time: 0:00:16||\n",
      "Episode 9|Iteration 388|reward:  207.0|last_reward_at:  388|Elapsed Time: 0:00:16||\n",
      "Episode 9|Iteration 392|reward:  207.0|last_reward_at:  388|Elapsed Time: 0:00:16||\n",
      "Episode 9|Iteration 395|reward:  207.0|last_reward_at:  388|Elapsed Time: 0:00:16||\n",
      "Episode 9|Iteration 397|reward:  207.0|last_reward_at:  388|Elapsed Time: 0:00:16||\n",
      "Episode 9|Iteration 400|reward:  207.0|last_reward_at:  388|Elapsed Time: 0:00:16||\n",
      "Episode 9|Iteration 403|reward:  207.0|last_reward_at:  388|Elapsed Time: 0:00:16||\n",
      "Episode 9|Iteration 405|reward:  207.0|last_reward_at:  388|Elapsed Time: 0:00:16||\n",
      "Episode 9|Iteration 408|reward:  207.0|last_reward_at:  388|Elapsed Time: 0:00:16||\n",
      "Episode 9|Iteration 411|reward:  207.0|last_reward_at:  388|Elapsed Time: 0:00:16||\n",
      "Episode 9|Iteration 413|reward:  207.0|last_reward_at:  388|Elapsed Time: 0:00:17||\n",
      "Episode 9|Iteration 416|reward:  207.0|last_reward_at:  388|Elapsed Time: 0:00:17||\n",
      "Episode 9|Iteration 420|reward:  207.0|last_reward_at:  388|Elapsed Time: 0:00:17||\n",
      "Episode 9|Iteration 423|reward:  207.0|last_reward_at:  388|Elapsed Time: 0:00:17||\n",
      "Episode 9|Iteration 426|reward:  207.0|last_reward_at:  388|Elapsed Time: 0:00:17||\n",
      "Episode 9|Iteration 427|reward:  207.0|last_reward_at:  388|Elapsed Time: 0:00:17||\n",
      "Episode 9|Iteration 429|reward:  207.0|last_reward_at:  388|Elapsed Time: 0:00:17||\n",
      "Episode 9|Iteration 431|reward:  207.0|last_reward_at:  388|Elapsed Time: 0:00:17||\n",
      "Episode 9|Iteration 433|reward:  207.0|last_reward_at:  388|Elapsed Time: 0:00:18||\n",
      "Episode 9|Iteration 434|reward:  207.0|last_reward_at:  388|Elapsed Time: 0:00:18||\n",
      "Episode 9|Iteration 436|reward:  207.0|last_reward_at:  388|Elapsed Time: 0:00:18||\n",
      "Episode 9|Iteration 437|reward:  207.0|last_reward_at:  388|Elapsed Time: 0:00:18||\n",
      "Episode 9|Iteration 440|reward:  207.0|last_reward_at:  388|Elapsed Time: 0:00:18||\n",
      "Episode 9|Iteration 442|reward:  207.0|last_reward_at:  388|Elapsed Time: 0:00:18||\n",
      "Episode 9|Iteration 443|reward:  207.0|last_reward_at:  388|Elapsed Time: 0:00:18||\n",
      "Episode 9|Iteration 445|reward:  207.0|last_reward_at:  388|Elapsed Time: 0:00:18||\n",
      "Episode 9|Iteration 447|reward:  207.0|last_reward_at:  388|Elapsed Time: 0:00:19||\n",
      "Episode 9|Iteration 450|reward:  207.0|last_reward_at:  388|Elapsed Time: 0:00:19||\n",
      "Episode 9|Iteration 453|reward:  207.0|last_reward_at:  388|Elapsed Time: 0:00:19||\n",
      "Episode 9|Iteration 456|reward:  207.0|last_reward_at:  388|Elapsed Time: 0:00:19||\n",
      "Episode 9|Iteration 458|reward:  207.0|last_reward_at:  388|Elapsed Time: 0:00:19||\n",
      "Episode 9|Iteration 461|reward:  207.0|last_reward_at:  388|Elapsed Time: 0:00:19||\n",
      "Episode 9|Iteration 464|reward:  207.0|last_reward_at:  388|Elapsed Time: 0:00:19||\n",
      "Episode 9|Iteration 466|reward:  207.0|last_reward_at:  388|Elapsed Time: 0:00:19||\n",
      "Episode 9|Iteration 470|reward:  207.0|last_reward_at:  388|Elapsed Time: 0:00:19||\n",
      "Episode 9|Iteration 474|reward:  207.0|last_reward_at:  388|Elapsed Time: 0:00:20||\n",
      "Episode 9|Iteration 478|reward:  207.0|last_reward_at:  388|Elapsed Time: 0:00:20||\n",
      "Episode 9|Iteration 482|reward:  207.0|last_reward_at:  388|Elapsed Time: 0:00:20||\n",
      "Episode 9|Iteration 486|reward:  207.0|last_reward_at:  388|Elapsed Time: 0:00:20||\n",
      "Episode 9|Iteration 489|reward:  207.0|last_reward_at:  388|Elapsed Time: 0:00:20||\n",
      "Episode 9|Iteration 491|reward:  207.0|last_reward_at:  388|Elapsed Time: 0:00:20||\n",
      "Episode 9|Iteration 494|reward:  207.0|last_reward_at:  388|Elapsed Time: 0:00:20||\n",
      "Episode 9|Iteration 497|reward:  207.0|last_reward_at:  388|Elapsed Time: 0:00:20||\n",
      "Episode 9|Iteration 501|reward:  207.0|last_reward_at:  388|Elapsed Time: 0:00:20||\n",
      "Episode 9|Iteration 506|reward:  207.0|last_reward_at:  388|Elapsed Time: 0:00:21||\n",
      "Episode 9|Iteration 509|reward:  207.0|last_reward_at:  388|Elapsed Time: 0:00:21||\n",
      "Episode 9|Iteration 512|reward:  207.0|last_reward_at:  388|Elapsed Time: 0:00:21||\n",
      "Episode 9|Iteration 515|reward:  207.0|last_reward_at:  388|Elapsed Time: 0:00:21||\n",
      "Episode 9|Iteration 519|reward:  207.0|last_reward_at:  388|Elapsed Time: 0:00:21||\n",
      "Episode 9|Iteration 523|reward:  207.0|last_reward_at:  388|Elapsed Time: 0:00:21||\n",
      "Episode 9|Iteration 527|reward:  207.0|last_reward_at:  388|Elapsed Time: 0:00:21||\n",
      "Episode 9|Iteration 531|reward:  207.0|last_reward_at:  388|Elapsed Time: 0:00:21||\n",
      "Episode 9|Iteration 535|reward:  207.0|last_reward_at:  388|Elapsed Time: 0:00:21||\n",
      "Episode 9|Iteration 539|reward:  207.0|last_reward_at:  388|Elapsed Time: 0:00:22||\n",
      "Episode 9|Iteration 543|reward:  207.0|last_reward_at:  388|Elapsed Time: 0:00:22||\n",
      "Episode 9|Iteration 547|reward:  207.0|last_reward_at:  388|Elapsed Time: 0:00:22||\n",
      "Episode 9|Iteration 550|reward:  207.0|last_reward_at:  388|Elapsed Time: 0:00:22||\n",
      "Episode 9|Iteration 553|reward:  207.0|last_reward_at:  388|Elapsed Time: 0:00:22||\n",
      "Episode 9|Iteration 557|reward:  207.0|last_reward_at:  388|Elapsed Time: 0:00:22||\n",
      "Episode 9|Iteration 561|reward:  207.0|last_reward_at:  388|Elapsed Time: 0:00:22||\n",
      "Episode 9|Iteration 565|reward:  207.0|last_reward_at:  388|Elapsed Time: 0:00:22||\n",
      "Episode 9|Iteration 568|reward:  207.0|last_reward_at:  388|Elapsed Time: 0:00:23||\n",
      "Episode 9|Iteration 571|reward:  207.0|last_reward_at:  388|Elapsed Time: 0:00:23||\n",
      "Episode 9|Iteration 575|reward:  207.0|last_reward_at:  388|Elapsed Time: 0:00:23||\n",
      "Episode 9|Iteration 576|reward:  207.0|last_reward_at:  388|Elapsed Time: 0:00:23||\n",
      "Episode 9|Iteration 577|reward:  207.0|last_reward_at:  388|Elapsed Time: 0:00:23||\n",
      "Episode 9|Iteration 578|reward:  207.0|last_reward_at:  388|Elapsed Time: 0:00:23||\n",
      "Episode 9|Iteration 581|reward:  207.0|last_reward_at:  388|Elapsed Time: 0:00:23||\n",
      "Episode 9|Iteration 585|reward:  207.0|last_reward_at:  388|Elapsed Time: 0:00:23||\n",
      "Episode 9|Iteration 588|reward:  207.0|last_reward_at:  388|Elapsed Time: 0:00:23||\n",
      "Episode 9|Iteration 591|reward:  207.0|last_reward_at:  388|Elapsed Time: 0:00:24||\n",
      "Episode 9|Iteration 595|reward:  207.0|last_reward_at:  388|Elapsed Time: 0:00:24||\n",
      "Episode 9|Iteration 597|reward:  207.0|last_reward_at:  388|Elapsed Time: 0:00:24||\n",
      "Episode 9|Iteration 600|reward:  207.0|last_reward_at:  388|Elapsed Time: 0:00:24||\n",
      "Episode 9|Iteration 600|reward:  207.0|last_reward_at:  388|Elapsed Time: 0:00:24||\n"
     ]
    },
    {
     "name": "stdout",
     "output_type": "stream",
     "text": [
      "  Episode 9 stopped at t=600 \n",
      "  Breakdown [Reward/NoReward (Success rate)]\n",
      "    explore-local: 0/5 (0.00)\n",
      "    explore-remote: 3/14 (0.18)\n",
      "    explore-connect: 0/11 (0.00)\n",
      "    exploit-local: 2/3 (0.40)\n",
      "    exploit-remote: 3/471 (0.01)\n",
      "    exploit-connect: 2/86 (0.02)\n",
      "  exploit deflected to exploration: 33\n",
      "  ## Episode: 10/10 'Exploiting DQL' ϵ=0.0000, γ=0.15, lr=0.01, replaymemory=10000,\n",
      "batch=256, target_update=5\n"
     ]
    },
    {
     "name": "stderr",
     "output_type": "stream",
     "text": [
      "Episode 10|Iteration 0|reward: ------|last_reward_at: ----|Elapsed Time: 0:00:00||\n",
      "Episode 10|Iteration 1|reward:    6.0|last_reward_at: ----|Elapsed Time: 0:00:00||\n",
      "Episode 10|Iteration 1|reward:    6.0|last_reward_at:    1|Elapsed Time: 0:00:00||\n",
      "Episode 10|Iteration 4|reward:   12.0|last_reward_at:    1|Elapsed Time: 0:00:00||\n",
      "Episode 10|Iteration 4|reward:   12.0|last_reward_at:    4|Elapsed Time: 0:00:00||\n",
      "Episode 10|Iteration 6|reward:   21.0|last_reward_at:    4|Elapsed Time: 0:00:00||\n",
      "Episode 10|Iteration 6|reward:   21.0|last_reward_at:    6|Elapsed Time: 0:00:00||\n",
      "Episode 10|Iteration 7|reward:  121.0|last_reward_at:    6|Elapsed Time: 0:00:00||\n",
      "Episode 10|Iteration 7|reward:  121.0|last_reward_at:    7|Elapsed Time: 0:00:00||\n",
      "Episode 10|Iteration 8|reward:  130.0|last_reward_at:    7|Elapsed Time: 0:00:00||\n",
      "Episode 10|Iteration 8|reward:  130.0|last_reward_at:    8|Elapsed Time: 0:00:00||\n",
      "Episode 10|Iteration 11|reward:  130.0|last_reward_at:    8|Elapsed Time: 0:00:00||\n",
      "Episode 10|Iteration 15|reward:  130.0|last_reward_at:    8|Elapsed Time: 0:00:00||\n",
      "Episode 10|Iteration 18|reward:  130.0|last_reward_at:    8|Elapsed Time: 0:00:00||\n",
      "Episode 10|Iteration 22|reward:  130.0|last_reward_at:    8|Elapsed Time: 0:00:00||\n",
      "Episode 10|Iteration 25|reward:  130.0|last_reward_at:    8|Elapsed Time: 0:00:00||\n",
      "Episode 10|Iteration 27|reward:  130.0|last_reward_at:    8|Elapsed Time: 0:00:01||\n",
      "Episode 10|Iteration 31|reward:  130.0|last_reward_at:    8|Elapsed Time: 0:00:01||\n",
      "Episode 10|Iteration 34|reward:  130.0|last_reward_at:    8|Elapsed Time: 0:00:01||\n",
      "Episode 10|Iteration 38|reward:  130.0|last_reward_at:    8|Elapsed Time: 0:00:01||\n",
      "Episode 10|Iteration 41|reward:  130.0|last_reward_at:    8|Elapsed Time: 0:00:01||\n",
      "Episode 10|Iteration 45|reward:  130.0|last_reward_at:    8|Elapsed Time: 0:00:01||\n",
      "Episode 10|Iteration 49|reward:  130.0|last_reward_at:    8|Elapsed Time: 0:00:01||\n",
      "Episode 10|Iteration 53|reward:  130.0|last_reward_at:    8|Elapsed Time: 0:00:01||\n",
      "Episode 10|Iteration 54|reward:  136.0|last_reward_at:    8|Elapsed Time: 0:00:01||\n",
      "Episode 10|Iteration 54|reward:  136.0|last_reward_at:   54|Elapsed Time: 0:00:01||\n",
      "Episode 10|Iteration 57|reward:  136.0|last_reward_at:   54|Elapsed Time: 0:00:01||\n",
      "Episode 10|Iteration 60|reward:  136.0|last_reward_at:   54|Elapsed Time: 0:00:02||\n",
      "Episode 10|Iteration 64|reward:  136.0|last_reward_at:   54|Elapsed Time: 0:00:02||\n",
      "Episode 10|Iteration 68|reward:  136.0|last_reward_at:   54|Elapsed Time: 0:00:02||\n",
      "Episode 10|Iteration 72|reward:  136.0|last_reward_at:   54|Elapsed Time: 0:00:02||\n",
      "Episode 10|Iteration 75|reward:  136.0|last_reward_at:   54|Elapsed Time: 0:00:02||\n",
      "Episode 10|Iteration 77|reward:  145.0|last_reward_at:   54|Elapsed Time: 0:00:02||\n",
      "Episode 10|Iteration 77|reward:  145.0|last_reward_at:   77|Elapsed Time: 0:00:02||\n",
      "Episode 10|Iteration 79|reward:  145.0|last_reward_at:   77|Elapsed Time: 0:00:02||\n",
      "Episode 10|Iteration 80|reward:  145.0|last_reward_at:   77|Elapsed Time: 0:00:03||\n",
      "Episode 10|Iteration 81|reward:  145.0|last_reward_at:   77|Elapsed Time: 0:00:03||\n",
      "Episode 10|Iteration 82|reward:  145.0|last_reward_at:   77|Elapsed Time: 0:00:03||\n",
      "Episode 10|Iteration 84|reward:  145.0|last_reward_at:   77|Elapsed Time: 0:00:03||\n",
      "Episode 10|Iteration 85|reward:  145.0|last_reward_at:   77|Elapsed Time: 0:00:03||\n",
      "Episode 10|Iteration 89|reward:  145.0|last_reward_at:   77|Elapsed Time: 0:00:03||\n",
      "Episode 10|Iteration 91|reward:  151.0|last_reward_at:   77|Elapsed Time: 0:00:04||\n",
      "Episode 10|Iteration 91|reward:  151.0|last_reward_at:   91|Elapsed Time: 0:00:04||\n",
      "Episode 10|Iteration 92|reward:  201.0|last_reward_at:   91|Elapsed Time: 0:00:04||\n",
      "Episode 10|Iteration 92|reward:  201.0|last_reward_at:   92|Elapsed Time: 0:00:04||\n",
      "Episode 10|Iteration 94|reward:  201.0|last_reward_at:   92|Elapsed Time: 0:00:04||\n",
      "Episode 10|Iteration 96|reward:  201.0|last_reward_at:   92|Elapsed Time: 0:00:04||\n",
      "Episode 10|Iteration 99|reward:  201.0|last_reward_at:   92|Elapsed Time: 0:00:04||\n",
      "Episode 10|Iteration 102|reward:  201.0|last_reward_at:   92|Elapsed Time: 0:00:04||\n",
      "Episode 10|Iteration 105|reward:  201.0|last_reward_at:   92|Elapsed Time: 0:00:04||\n",
      "Episode 10|Iteration 109|reward:  201.0|last_reward_at:   92|Elapsed Time: 0:00:04||\n",
      "Episode 10|Iteration 112|reward:  201.0|last_reward_at:   92|Elapsed Time: 0:00:05||\n",
      "Episode 10|Iteration 113|reward:  210.0|last_reward_at:   92|Elapsed Time: 0:00:05||\n",
      "Episode 10|Iteration 113|reward:  210.0|last_reward_at:  113|Elapsed Time: 0:00:05||\n",
      "Episode 10|Iteration 116|reward:  260.0|last_reward_at:  113|Elapsed Time: 0:00:05||\n",
      "Episode 10|Iteration 116|reward:  260.0|last_reward_at:  116|Elapsed Time: 0:00:05||\n",
      "Episode 10|Iteration 119|reward:  260.0|last_reward_at:  116|Elapsed Time: 0:00:05||\n",
      "Episode 10|Iteration 122|reward:  260.0|last_reward_at:  116|Elapsed Time: 0:00:05||\n",
      "Episode 10|Iteration 125|reward:  260.0|last_reward_at:  116|Elapsed Time: 0:00:05||\n",
      "Episode 10|Iteration 129|reward:  260.0|last_reward_at:  116|Elapsed Time: 0:00:05||\n",
      "Episode 10|Iteration 133|reward:  260.0|last_reward_at:  116|Elapsed Time: 0:00:05||\n",
      "Episode 10|Iteration 136|reward:  260.0|last_reward_at:  116|Elapsed Time: 0:00:05||\n",
      "Episode 10|Iteration 140|reward:  260.0|last_reward_at:  116|Elapsed Time: 0:00:06||\n",
      "Episode 10|Iteration 143|reward:  260.0|last_reward_at:  116|Elapsed Time: 0:00:06||\n",
      "Episode 10|Iteration 145|reward:  260.0|last_reward_at:  116|Elapsed Time: 0:00:06||\n",
      "Episode 10|Iteration 149|reward:  260.0|last_reward_at:  116|Elapsed Time: 0:00:06||\n",
      "Episode 10|Iteration 152|reward:  260.0|last_reward_at:  116|Elapsed Time: 0:00:06||\n",
      "Episode 10|Iteration 154|reward:  260.0|last_reward_at:  116|Elapsed Time: 0:00:06||\n",
      "Episode 10|Iteration 155|reward:  260.0|last_reward_at:  116|Elapsed Time: 0:00:06||\n",
      "Episode 10|Iteration 158|reward:  260.0|last_reward_at:  116|Elapsed Time: 0:00:06||\n",
      "Episode 10|Iteration 161|reward:  260.0|last_reward_at:  116|Elapsed Time: 0:00:06||\n",
      "Episode 10|Iteration 163|reward:  260.0|last_reward_at:  116|Elapsed Time: 0:00:07||\n",
      "Episode 10|Iteration 164|reward:  260.0|last_reward_at:  116|Elapsed Time: 0:00:07||\n",
      "Episode 10|Iteration 167|reward:  260.0|last_reward_at:  116|Elapsed Time: 0:00:07||\n",
      "Episode 10|Iteration 171|reward:  260.0|last_reward_at:  116|Elapsed Time: 0:00:07||\n",
      "Episode 10|Iteration 175|reward:  260.0|last_reward_at:  116|Elapsed Time: 0:00:07||\n",
      "Episode 10|Iteration 178|reward:  260.0|last_reward_at:  116|Elapsed Time: 0:00:07||\n",
      "Episode 10|Iteration 181|reward:  260.0|last_reward_at:  116|Elapsed Time: 0:00:08||\n",
      "Episode 10|Iteration 183|reward:  260.0|last_reward_at:  116|Elapsed Time: 0:00:08||\n",
      "Episode 10|Iteration 185|reward:  260.0|last_reward_at:  116|Elapsed Time: 0:00:08||\n",
      "Episode 10|Iteration 187|reward:  266.0|last_reward_at:  116|Elapsed Time: 0:00:08||\n",
      "Episode 10|Iteration 187|reward:  266.0|last_reward_at:  187|Elapsed Time: 0:00:08||\n",
      "Episode 10|Iteration 188|reward:  266.0|last_reward_at:  187|Elapsed Time: 0:00:08||\n",
      "Episode 10|Iteration 190|reward:  266.0|last_reward_at:  187|Elapsed Time: 0:00:08||\n",
      "Episode 10|Iteration 192|reward:  266.0|last_reward_at:  187|Elapsed Time: 0:00:08||\n",
      "Episode 10|Iteration 195|reward:  266.0|last_reward_at:  187|Elapsed Time: 0:00:08||\n",
      "Episode 10|Iteration 198|reward:  266.0|last_reward_at:  187|Elapsed Time: 0:00:09||\n",
      "Episode 10|Iteration 201|reward:  266.0|last_reward_at:  187|Elapsed Time: 0:00:09||\n",
      "Episode 10|Iteration 205|reward:  266.0|last_reward_at:  187|Elapsed Time: 0:00:09||\n",
      "Episode 10|Iteration 209|reward:  266.0|last_reward_at:  187|Elapsed Time: 0:00:09||\n",
      "Episode 10|Iteration 212|reward:  266.0|last_reward_at:  187|Elapsed Time: 0:00:09||\n",
      "Episode 10|Iteration 216|reward:  266.0|last_reward_at:  187|Elapsed Time: 0:00:09||\n",
      "Episode 10|Iteration 219|reward:  266.0|last_reward_at:  187|Elapsed Time: 0:00:09||\n",
      "Episode 10|Iteration 223|reward:  266.0|last_reward_at:  187|Elapsed Time: 0:00:09||\n",
      "Episode 10|Iteration 227|reward:  266.0|last_reward_at:  187|Elapsed Time: 0:00:10||\n",
      "Episode 10|Iteration 231|reward:  266.0|last_reward_at:  187|Elapsed Time: 0:00:10||\n",
      "Episode 10|Iteration 234|reward:  266.0|last_reward_at:  187|Elapsed Time: 0:00:10||\n",
      "Episode 10|Iteration 238|reward:  266.0|last_reward_at:  187|Elapsed Time: 0:00:10||\n",
      "Episode 10|Iteration 242|reward:  266.0|last_reward_at:  187|Elapsed Time: 0:00:10||\n",
      "Episode 10|Iteration 246|reward:  266.0|last_reward_at:  187|Elapsed Time: 0:00:10||\n",
      "Episode 10|Iteration 250|reward:  266.0|last_reward_at:  187|Elapsed Time: 0:00:10||\n",
      "Episode 10|Iteration 254|reward:  266.0|last_reward_at:  187|Elapsed Time: 0:00:10||\n",
      "Episode 10|Iteration 256|reward:  266.0|last_reward_at:  187|Elapsed Time: 0:00:10||\n",
      "Episode 10|Iteration 259|reward:  266.0|last_reward_at:  187|Elapsed Time: 0:00:11||\n",
      "Episode 10|Iteration 261|reward:  266.0|last_reward_at:  187|Elapsed Time: 0:00:11||\n",
      "Episode 10|Iteration 265|reward:  266.0|last_reward_at:  187|Elapsed Time: 0:00:11||\n",
      "Episode 10|Iteration 268|reward:  266.0|last_reward_at:  187|Elapsed Time: 0:00:11||\n",
      "Episode 10|Iteration 271|reward:  266.0|last_reward_at:  187|Elapsed Time: 0:00:11||\n",
      "Episode 10|Iteration 274|reward:  266.0|last_reward_at:  187|Elapsed Time: 0:00:11||\n",
      "Episode 10|Iteration 276|reward:  266.0|last_reward_at:  187|Elapsed Time: 0:00:11||\n",
      "Episode 10|Iteration 280|reward:  266.0|last_reward_at:  187|Elapsed Time: 0:00:11||\n",
      "Episode 10|Iteration 284|reward:  266.0|last_reward_at:  187|Elapsed Time: 0:00:11||\n",
      "Episode 10|Iteration 288|reward:  266.0|last_reward_at:  187|Elapsed Time: 0:00:12||\n",
      "Episode 10|Iteration 292|reward:  266.0|last_reward_at:  187|Elapsed Time: 0:00:12||\n",
      "Episode 10|Iteration 296|reward:  266.0|last_reward_at:  187|Elapsed Time: 0:00:12||\n",
      "Episode 10|Iteration 299|reward:  266.0|last_reward_at:  187|Elapsed Time: 0:00:12||\n",
      "Episode 10|Iteration 302|reward:  266.0|last_reward_at:  187|Elapsed Time: 0:00:12||\n",
      "Episode 10|Iteration 304|reward:  266.0|last_reward_at:  187|Elapsed Time: 0:00:12||\n",
      "Episode 10|Iteration 306|reward:  266.0|last_reward_at:  187|Elapsed Time: 0:00:12||\n",
      "Episode 10|Iteration 309|reward:  266.0|last_reward_at:  187|Elapsed Time: 0:00:12||\n",
      "Episode 10|Iteration 311|reward:  266.0|last_reward_at:  187|Elapsed Time: 0:00:12||\n",
      "Episode 10|Iteration 313|reward:  266.0|last_reward_at:  187|Elapsed Time: 0:00:13||\n",
      "Episode 10|Iteration 316|reward:  266.0|last_reward_at:  187|Elapsed Time: 0:00:13||\n",
      "Episode 10|Iteration 318|reward:  266.0|last_reward_at:  187|Elapsed Time: 0:00:13||\n",
      "Episode 10|Iteration 321|reward:  266.0|last_reward_at:  187|Elapsed Time: 0:00:13||\n",
      "Episode 10|Iteration 324|reward:  266.0|last_reward_at:  187|Elapsed Time: 0:00:13||\n",
      "Episode 10|Iteration 327|reward:  266.0|last_reward_at:  187|Elapsed Time: 0:00:13||\n",
      "Episode 10|Iteration 329|reward:  266.0|last_reward_at:  187|Elapsed Time: 0:00:13||\n",
      "Episode 10|Iteration 331|reward:  266.0|last_reward_at:  187|Elapsed Time: 0:00:13||\n",
      "Episode 10|Iteration 334|reward:  266.0|last_reward_at:  187|Elapsed Time: 0:00:14||\n",
      "Episode 10|Iteration 335|reward:  266.0|last_reward_at:  187|Elapsed Time: 0:00:14||\n",
      "Episode 10|Iteration 336|reward:  266.0|last_reward_at:  187|Elapsed Time: 0:00:14||\n",
      "Episode 10|Iteration 339|reward:  266.0|last_reward_at:  187|Elapsed Time: 0:00:14||\n",
      "Episode 10|Iteration 342|reward:  266.0|last_reward_at:  187|Elapsed Time: 0:00:14||\n",
      "Episode 10|Iteration 344|reward:  266.0|last_reward_at:  187|Elapsed Time: 0:00:15||\n",
      "Episode 10|Iteration 347|reward:  266.0|last_reward_at:  187|Elapsed Time: 0:00:15||\n",
      "Episode 10|Iteration 349|reward:  266.0|last_reward_at:  187|Elapsed Time: 0:00:15||\n",
      "Episode 10|Iteration 351|reward:  266.0|last_reward_at:  187|Elapsed Time: 0:00:15||\n",
      "Episode 10|Iteration 354|reward:  266.0|last_reward_at:  187|Elapsed Time: 0:00:15||\n",
      "Episode 10|Iteration 357|reward:  266.0|last_reward_at:  187|Elapsed Time: 0:00:15||\n",
      "Episode 10|Iteration 360|reward:  266.0|last_reward_at:  187|Elapsed Time: 0:00:15||\n",
      "Episode 10|Iteration 363|reward:  266.0|last_reward_at:  187|Elapsed Time: 0:00:15||\n",
      "Episode 10|Iteration 366|reward:  266.0|last_reward_at:  187|Elapsed Time: 0:00:16||\n",
      "Episode 10|Iteration 369|reward:  266.0|last_reward_at:  187|Elapsed Time: 0:00:16||\n",
      "Episode 10|Iteration 372|reward:  266.0|last_reward_at:  187|Elapsed Time: 0:00:16||\n",
      "Episode 10|Iteration 375|reward:  266.0|last_reward_at:  187|Elapsed Time: 0:00:16||\n",
      "Episode 10|Iteration 379|reward:  266.0|last_reward_at:  187|Elapsed Time: 0:00:16||\n",
      "Episode 10|Iteration 382|reward:  266.0|last_reward_at:  187|Elapsed Time: 0:00:16||\n",
      "Episode 10|Iteration 386|reward:  266.0|last_reward_at:  187|Elapsed Time: 0:00:16||\n",
      "Episode 10|Iteration 389|reward:  266.0|last_reward_at:  187|Elapsed Time: 0:00:16||\n",
      "Episode 10|Iteration 392|reward:  266.0|last_reward_at:  187|Elapsed Time: 0:00:17||\n",
      "Episode 10|Iteration 395|reward:  266.0|last_reward_at:  187|Elapsed Time: 0:00:17||\n",
      "Episode 10|Iteration 398|reward:  266.0|last_reward_at:  187|Elapsed Time: 0:00:17||\n",
      "Episode 10|Iteration 402|reward:  266.0|last_reward_at:  187|Elapsed Time: 0:00:17||\n",
      "Episode 10|Iteration 406|reward:  266.0|last_reward_at:  187|Elapsed Time: 0:00:17||\n",
      "Episode 10|Iteration 410|reward:  266.0|last_reward_at:  187|Elapsed Time: 0:00:17||\n",
      "Episode 10|Iteration 414|reward:  266.0|last_reward_at:  187|Elapsed Time: 0:00:17||\n",
      "Episode 10|Iteration 417|reward:  266.0|last_reward_at:  187|Elapsed Time: 0:00:17||\n",
      "Episode 10|Iteration 420|reward:  266.0|last_reward_at:  187|Elapsed Time: 0:00:17||\n",
      "Episode 10|Iteration 424|reward:  266.0|last_reward_at:  187|Elapsed Time: 0:00:17||\n",
      "Episode 10|Iteration 426|reward:  266.0|last_reward_at:  187|Elapsed Time: 0:00:18||\n",
      "Episode 10|Iteration 429|reward:  266.0|last_reward_at:  187|Elapsed Time: 0:00:18||\n",
      "Episode 10|Iteration 433|reward:  266.0|last_reward_at:  187|Elapsed Time: 0:00:18||\n",
      "Episode 10|Iteration 436|reward:  266.0|last_reward_at:  187|Elapsed Time: 0:00:18||\n",
      "Episode 10|Iteration 439|reward:  266.0|last_reward_at:  187|Elapsed Time: 0:00:18||\n",
      "Episode 10|Iteration 443|reward:  266.0|last_reward_at:  187|Elapsed Time: 0:00:18||\n",
      "Episode 10|Iteration 447|reward:  266.0|last_reward_at:  187|Elapsed Time: 0:00:18||\n",
      "Episode 10|Iteration 451|reward:  266.0|last_reward_at:  187|Elapsed Time: 0:00:18||\n",
      "Episode 10|Iteration 455|reward:  266.0|last_reward_at:  187|Elapsed Time: 0:00:19||\n",
      "Episode 10|Iteration 458|reward:  266.0|last_reward_at:  187|Elapsed Time: 0:00:19||\n",
      "Episode 10|Iteration 461|reward:  266.0|last_reward_at:  187|Elapsed Time: 0:00:19||\n",
      "Episode 10|Iteration 464|reward:  266.0|last_reward_at:  187|Elapsed Time: 0:00:19||\n",
      "Episode 10|Iteration 467|reward:  266.0|last_reward_at:  187|Elapsed Time: 0:00:19||\n",
      "Episode 10|Iteration 469|reward:  266.0|last_reward_at:  187|Elapsed Time: 0:00:19||\n",
      "Episode 10|Iteration 472|reward:  266.0|last_reward_at:  187|Elapsed Time: 0:00:19||\n",
      "Episode 10|Iteration 476|reward:  266.0|last_reward_at:  187|Elapsed Time: 0:00:19||\n",
      "Episode 10|Iteration 479|reward:  266.0|last_reward_at:  187|Elapsed Time: 0:00:19||\n",
      "Episode 10|Iteration 482|reward:  266.0|last_reward_at:  187|Elapsed Time: 0:00:19||\n",
      "Episode 10|Iteration 486|reward:  266.0|last_reward_at:  187|Elapsed Time: 0:00:20||\n",
      "Episode 10|Iteration 488|reward:  266.0|last_reward_at:  187|Elapsed Time: 0:00:20||\n",
      "Episode 10|Iteration 489|reward:  266.0|last_reward_at:  187|Elapsed Time: 0:00:20||\n",
      "Episode 10|Iteration 490|reward:  266.0|last_reward_at:  187|Elapsed Time: 0:00:20||\n",
      "Episode 10|Iteration 493|reward:  266.0|last_reward_at:  187|Elapsed Time: 0:00:21||\n",
      "Episode 10|Iteration 497|reward:  266.0|last_reward_at:  187|Elapsed Time: 0:00:21||\n",
      "Episode 10|Iteration 501|reward:  266.0|last_reward_at:  187|Elapsed Time: 0:00:21||\n",
      "Episode 10|Iteration 505|reward:  266.0|last_reward_at:  187|Elapsed Time: 0:00:21||\n",
      "Episode 10|Iteration 509|reward:  266.0|last_reward_at:  187|Elapsed Time: 0:00:21||\n",
      "Episode 10|Iteration 512|reward:  266.0|last_reward_at:  187|Elapsed Time: 0:00:21||\n",
      "Episode 10|Iteration 516|reward:  266.0|last_reward_at:  187|Elapsed Time: 0:00:21||\n",
      "Episode 10|Iteration 520|reward:  266.0|last_reward_at:  187|Elapsed Time: 0:00:21||\n",
      "Episode 10|Iteration 524|reward:  272.0|last_reward_at:  187|Elapsed Time: 0:00:21||\n",
      "Episode 10|Iteration 524|reward:  272.0|last_reward_at:  524|Elapsed Time: 0:00:21||\n",
      "Episode 10|Iteration 528|reward:  272.0|last_reward_at:  524|Elapsed Time: 0:00:22||\n",
      "Episode 10|Iteration 531|reward:  272.0|last_reward_at:  524|Elapsed Time: 0:00:22||\n",
      "Episode 10|Iteration 534|reward:  272.0|last_reward_at:  524|Elapsed Time: 0:00:22||\n",
      "Episode 10|Iteration 536|reward:  272.0|last_reward_at:  524|Elapsed Time: 0:00:22||\n",
      "Episode 10|Iteration 539|reward:  272.0|last_reward_at:  524|Elapsed Time: 0:00:22||\n",
      "Episode 10|Iteration 541|reward:  272.0|last_reward_at:  524|Elapsed Time: 0:00:22||\n",
      "Episode 10|Iteration 545|reward:  272.0|last_reward_at:  524|Elapsed Time: 0:00:22||\n",
      "Episode 10|Iteration 549|reward:  272.0|last_reward_at:  524|Elapsed Time: 0:00:22||\n",
      "Episode 10|Iteration 550|reward:  272.0|last_reward_at:  524|Elapsed Time: 0:00:23||\n",
      "Episode 10|Iteration 554|reward:  272.0|last_reward_at:  524|Elapsed Time: 0:00:23||\n",
      "Episode 10|Iteration 558|reward:  272.0|last_reward_at:  524|Elapsed Time: 0:00:23||\n",
      "Episode 10|Iteration 562|reward:  272.0|last_reward_at:  524|Elapsed Time: 0:00:23||\n",
      "Episode 10|Iteration 566|reward:  272.0|last_reward_at:  524|Elapsed Time: 0:00:23||\n",
      "Episode 10|Iteration 569|reward:  272.0|last_reward_at:  524|Elapsed Time: 0:00:24||\n",
      "Episode 10|Iteration 570|reward:  272.0|last_reward_at:  524|Elapsed Time: 0:00:24||\n",
      "Episode 10|Iteration 574|reward:  272.0|last_reward_at:  524|Elapsed Time: 0:00:24||\n",
      "Episode 10|Iteration 578|reward:  272.0|last_reward_at:  524|Elapsed Time: 0:00:24||\n",
      "Episode 10|Iteration 581|reward:  272.0|last_reward_at:  524|Elapsed Time: 0:00:24||\n",
      "Episode 10|Iteration 585|reward:  272.0|last_reward_at:  524|Elapsed Time: 0:00:24||\n",
      "Episode 10|Iteration 588|reward:  272.0|last_reward_at:  524|Elapsed Time: 0:00:24||\n",
      "Episode 10|Iteration 592|reward:  272.0|last_reward_at:  524|Elapsed Time: 0:00:24||\n",
      "Episode 10|Iteration 596|reward:  272.0|last_reward_at:  524|Elapsed Time: 0:00:24||\n",
      "Episode 10|Iteration 600|reward:  272.0|last_reward_at:  524|Elapsed Time: 0:00:24||\n",
      "Episode 10|Iteration 600|reward:  272.0|last_reward_at:  524|Elapsed Time: 0:00:24||\n"
     ]
    },
    {
     "name": "stdout",
     "output_type": "stream",
     "text": [
      "  Episode 10 stopped at t=600 \n",
      "  Breakdown [Reward/NoReward (Success rate)]\n",
      "    explore-local: 0/5 (0.00)\n",
      "    explore-remote: 0/10 (0.00)\n",
      "    explore-connect: 0/13 (0.00)\n",
      "    exploit-local: 2/4 (0.33)\n",
      "    exploit-remote: 8/343 (0.02)\n",
      "    exploit-connect: 3/212 (0.01)\n",
      "  exploit deflected to exploration: 28\n",
      "simulation ended\n"
     ]
    },
    {
     "data": {
      "image/png": "[encoded data removed]",
      "text/plain": [
       "<Figure size 640x480 with 1 Axes>"
      ]
     },
     "metadata": {},
     "output_type": "display_data"
    }
   ],
   "source": [
    "dql_exploit_run = learner.epsilon_greedy_search(\n",
    "    cyberbattlechain_defender,\n",
    "    ep,\n",
    "    learner=dqn_with_defender['learner'],\n",
    "    episode_count=training_episode_count,\n",
    "    iteration_count=iteration_count,\n",
    "    epsilon=0.0,  # 0.35,\n",
    "    render=False,\n",
    "    # render_last_episode_rewards_to='images/chain10',\n",
    "    verbosity=Verbosity.Quiet,\n",
    "    title=\"Exploiting DQL\"\n",
    ")"
   ]
  },
  {
   "cell_type": "code",
   "execution_count": 5,
   "id": "canadian-newton",
   "metadata": {
    "execution": {
     "iopub.execute_input": "2021-09-06T21:31:36.354048Z",
     "iopub.status.busy": "2021-09-06T21:31:36.353431Z",
     "iopub.status.idle": "2021-09-06T21:31:45.689693Z",
     "shell.execute_reply": "2021-09-06T21:31:45.690187Z"
    },
    "lines_to_next_cell": 2,
    "papermill": {
     "duration": 9.770547,
     "end_time": "2021-09-06T21:31:45.690348",
     "exception": false,
     "start_time": "2021-09-06T21:31:35.919801",
     "status": "completed"
    },
    "tags": []
   },
   "outputs": [
    {
     "name": "stdout",
     "output_type": "stream",
     "text": [
      "###### Credential lookups (ϵ-greedy)\n",
      "Learning with: episode_count=10,iteration_count=600,ϵ=0.9,ϵ_min=0.1, ϵ_expdecay=10000,\n",
      "  ## Episode: 1/10 'Credential lookups (ϵ-greedy)' ϵ=0.9000, \n"
     ]
    },
    {
     "name": "stderr",
     "output_type": "stream",
     "text": [
      "\r\n",
      "Episode 1|Iteration 0|reward: ------|last_reward_at: ----|Elapsed Time: 0:00:00||"
     ]
    },
    {
     "name": "stderr",
     "output_type": "stream",
     "text": [
      "\r\n",
      "Episode 1|Iteration 1|reward:    0.0|last_reward_at: ----|Elapsed Time: 0:00:00||"
     ]
    },
    {
     "name": "stderr",
     "output_type": "stream",
     "text": [
      "\r\n",
      "Episode 1|Iteration 6|reward:    9.0|last_reward_at: ----|Elapsed Time: 0:00:00||"
     ]
    },
    {
     "name": "stderr",
     "output_type": "stream",
     "text": [
      "\r\n",
      "Episode 1|Iteration 6|reward:    9.0|last_reward_at:    6|Elapsed Time: 0:00:00||"
     ]
    },
    {
     "name": "stderr",
     "output_type": "stream",
     "text": [
      "\r\n",
      "Episode 1|Iteration 10|reward:   11.0|last_reward_at:    6|Elapsed Time: 0:00:00||"
     ]
    },
    {
     "name": "stderr",
     "output_type": "stream",
     "text": [
      "\r\n",
      "Episode 1|Iteration 10|reward:   11.0|last_reward_at:   10|Elapsed Time: 0:00:00||"
     ]
    },
    {
     "name": "stderr",
     "output_type": "stream",
     "text": [
      "\r\n",
      "Episode 1|Iteration 14|reward:  111.0|last_reward_at:   10|Elapsed Time: 0:00:00||"
     ]
    },
    {
     "name": "stderr",
     "output_type": "stream",
     "text": [
      "\r\n",
      "Episode 1|Iteration 14|reward:  111.0|last_reward_at:   14|Elapsed Time: 0:00:00||"
     ]
    },
    {
     "name": "stderr",
     "output_type": "stream",
     "text": [
      "\r\n",
      "Episode 1|Iteration 16|reward:  117.0|last_reward_at:   14|Elapsed Time: 0:00:00||"
     ]
    },
    {
     "name": "stderr",
     "output_type": "stream",
     "text": [
      "\r\n",
      "Episode 1|Iteration 16|reward:  117.0|last_reward_at:   16|Elapsed Time: 0:00:00||"
     ]
    },
    {
     "name": "stderr",
     "output_type": "stream",
     "text": [
      "\r\n",
      "Episode 1|Iteration 17|reward:  119.0|last_reward_at:   16|Elapsed Time: 0:00:00||"
     ]
    },
    {
     "name": "stderr",
     "output_type": "stream",
     "text": [
      "\r\n",
      "Episode 1|Iteration 17|reward:  119.0|last_reward_at:   17|Elapsed Time: 0:00:00||"
     ]
    },
    {
     "name": "stderr",
     "output_type": "stream",
     "text": [
      "\r\n",
      "Episode 1|Iteration 22|reward:  127.0|last_reward_at:   17|Elapsed Time: 0:00:00||"
     ]
    },
    {
     "name": "stderr",
     "output_type": "stream",
     "text": [
      "\r\n",
      "Episode 1|Iteration 22|reward:  127.0|last_reward_at:   22|Elapsed Time: 0:00:00||"
     ]
    },
    {
     "name": "stderr",
     "output_type": "stream",
     "text": [
      "\r\n",
      "Episode 1|Iteration 29|reward:  133.0|last_reward_at:   22|Elapsed Time: 0:00:00||"
     ]
    },
    {
     "name": "stderr",
     "output_type": "stream",
     "text": [
      "\r\n",
      "Episode 1|Iteration 29|reward:  133.0|last_reward_at:   29|Elapsed Time: 0:00:00||"
     ]
    },
    {
     "name": "stderr",
     "output_type": "stream",
     "text": [
      "\r\n",
      "Episode 1|Iteration 34|reward:  142.0|last_reward_at:   29|Elapsed Time: 0:00:00||"
     ]
    },
    {
     "name": "stderr",
     "output_type": "stream",
     "text": [
      "\r\n",
      "Episode 1|Iteration 34|reward:  142.0|last_reward_at:   34|Elapsed Time: 0:00:00||"
     ]
    },
    {
     "name": "stderr",
     "output_type": "stream",
     "text": [
      "\r\n",
      "Episode 1|Iteration 39|reward:  242.0|last_reward_at:   34|Elapsed Time: 0:00:00||"
     ]
    },
    {
     "name": "stderr",
     "output_type": "stream",
     "text": [
      "\r\n",
      "Episode 1|Iteration 39|reward:  242.0|last_reward_at:   39|Elapsed Time: 0:00:00||"
     ]
    },
    {
     "name": "stderr",
     "output_type": "stream",
     "text": [
      "\r\n",
      "Episode 1|Iteration 45|reward:  251.0|last_reward_at:   39|Elapsed Time: 0:00:00||"
     ]
    },
    {
     "name": "stderr",
     "output_type": "stream",
     "text": [
      "\r\n",
      "Episode 1|Iteration 45|reward:  251.0|last_reward_at:   45|Elapsed Time: 0:00:00||"
     ]
    },
    {
     "name": "stderr",
     "output_type": "stream",
     "text": [
      "\r\n",
      "Episode 1|Iteration 47|reward:  253.0|last_reward_at:   45|Elapsed Time: 0:00:00||"
     ]
    },
    {
     "name": "stderr",
     "output_type": "stream",
     "text": [
      "\r\n",
      "Episode 1|Iteration 47|reward:  253.0|last_reward_at:   47|Elapsed Time: 0:00:00||"
     ]
    },
    {
     "name": "stderr",
     "output_type": "stream",
     "text": [
      "\r\n",
      "Episode 1|Iteration 48|reward:  353.0|last_reward_at:   47|Elapsed Time: 0:00:00||"
     ]
    },
    {
     "name": "stderr",
     "output_type": "stream",
     "text": [
      "\r\n",
      "Episode 1|Iteration 48|reward:  353.0|last_reward_at:   48|Elapsed Time: 0:00:00||"
     ]
    },
    {
     "name": "stderr",
     "output_type": "stream",
     "text": [
      "\r\n",
      "Episode 1|Iteration 49|reward:  362.0|last_reward_at:   48|Elapsed Time: 0:00:00||"
     ]
    },
    {
     "name": "stderr",
     "output_type": "stream",
     "text": [
      "\r\n",
      "Episode 1|Iteration 49|reward:  362.0|last_reward_at:   49|Elapsed Time: 0:00:00||"
     ]
    },
    {
     "name": "stderr",
     "output_type": "stream",
     "text": [
      "\r\n",
      "Episode 1|Iteration 52|reward:  462.0|last_reward_at:   49|Elapsed Time: 0:00:00||"
     ]
    },
    {
     "name": "stderr",
     "output_type": "stream",
     "text": [
      "\r\n",
      "Episode 1|Iteration 52|reward:  462.0|last_reward_at:   52|Elapsed Time: 0:00:00||"
     ]
    },
    {
     "name": "stderr",
     "output_type": "stream",
     "text": [
      "\r\n",
      "Episode 1|Iteration 65|reward:  468.0|last_reward_at:   52|Elapsed Time: 0:00:00||"
     ]
    },
    {
     "name": "stderr",
     "output_type": "stream",
     "text": [
      "\r\n",
      "Episode 1|Iteration 65|reward:  468.0|last_reward_at:   65|Elapsed Time: 0:00:00||"
     ]
    },
    {
     "name": "stderr",
     "output_type": "stream",
     "text": [
      "\r\n",
      "Episode 1|Iteration 71|reward:  474.0|last_reward_at:   65|Elapsed Time: 0:00:00||"
     ]
    },
    {
     "name": "stderr",
     "output_type": "stream",
     "text": [
      "\r\n",
      "Episode 1|Iteration 71|reward:  474.0|last_reward_at:   71|Elapsed Time: 0:00:00||"
     ]
    },
    {
     "name": "stderr",
     "output_type": "stream",
     "text": [
      "\r\n",
      "Episode 1|Iteration 75|reward:  480.0|last_reward_at:   71|Elapsed Time: 0:00:00||"
     ]
    },
    {
     "name": "stderr",
     "output_type": "stream",
     "text": [
      "\r\n",
      "Episode 1|Iteration 75|reward:  480.0|last_reward_at:   75|Elapsed Time: 0:00:00||"
     ]
    },
    {
     "name": "stderr",
     "output_type": "stream",
     "text": [
      "\r\n",
      "Episode 1|Iteration 83|reward:  484.0|last_reward_at:   75|Elapsed Time: 0:00:00||"
     ]
    },
    {
     "name": "stderr",
     "output_type": "stream",
     "text": [
      "\r\n",
      "Episode 1|Iteration 83|reward:  484.0|last_reward_at:   83|Elapsed Time: 0:00:00||"
     ]
    },
    {
     "name": "stderr",
     "output_type": "stream",
     "text": [
      "\r\n",
      "Episode 1|Iteration 85|reward:  493.0|last_reward_at:   83|Elapsed Time: 0:00:00||"
     ]
    },
    {
     "name": "stderr",
     "output_type": "stream",
     "text": [
      "\r\n",
      "Episode 1|Iteration 85|reward:  493.0|last_reward_at:   85|Elapsed Time: 0:00:00||"
     ]
    },
    {
     "name": "stderr",
     "output_type": "stream",
     "text": [
      "\r\n",
      "Episode 1|Iteration 87|reward:  495.0|last_reward_at:   85|Elapsed Time: 0:00:00||"
     ]
    },
    {
     "name": "stderr",
     "output_type": "stream",
     "text": [
      "\r\n",
      "Episode 1|Iteration 87|reward:  495.0|last_reward_at:   87|Elapsed Time: 0:00:00||"
     ]
    },
    {
     "name": "stderr",
     "output_type": "stream",
     "text": [
      "\r\n",
      "Episode 1|Iteration 89|reward:  595.0|last_reward_at:   87|Elapsed Time: 0:00:00||"
     ]
    },
    {
     "name": "stderr",
     "output_type": "stream",
     "text": [
      "\r\n",
      "Episode 1|Iteration 89|reward:  595.0|last_reward_at:   89|Elapsed Time: 0:00:00||"
     ]
    },
    {
     "name": "stderr",
     "output_type": "stream",
     "text": [
      "\r\n",
      "Episode 1|Iteration 90|reward:  597.0|last_reward_at:   89|Elapsed Time: 0:00:00||"
     ]
    },
    {
     "name": "stderr",
     "output_type": "stream",
     "text": [
      "\r\n",
      "Episode 1|Iteration 90|reward:  597.0|last_reward_at:   90|Elapsed Time: 0:00:00||"
     ]
    },
    {
     "name": "stderr",
     "output_type": "stream",
     "text": [
      "\r\n",
      "Episode 1|Iteration 96|reward:  603.0|last_reward_at:   90|Elapsed Time: 0:00:00||"
     ]
    },
    {
     "name": "stderr",
     "output_type": "stream",
     "text": [
      "\r\n",
      "Episode 1|Iteration 96|reward:  603.0|last_reward_at:   96|Elapsed Time: 0:00:00||"
     ]
    },
    {
     "name": "stderr",
     "output_type": "stream",
     "text": [
      "\r\n",
      "Episode 1|Iteration 97|reward:  609.0|last_reward_at:   96|Elapsed Time: 0:00:00||"
     ]
    },
    {
     "name": "stderr",
     "output_type": "stream",
     "text": [
      "\r\n",
      "Episode 1|Iteration 97|reward:  609.0|last_reward_at:   97|Elapsed Time: 0:00:00||"
     ]
    },
    {
     "name": "stderr",
     "output_type": "stream",
     "text": [
      "\r\n",
      "Episode 1|Iteration 99|reward:  618.0|last_reward_at:   97|Elapsed Time: 0:00:00||"
     ]
    },
    {
     "name": "stderr",
     "output_type": "stream",
     "text": [
      "\r\n",
      "Episode 1|Iteration 99|reward:  618.0|last_reward_at:   99|Elapsed Time: 0:00:00||"
     ]
    },
    {
     "name": "stderr",
     "output_type": "stream",
     "text": [
      "\r\n",
      "Episode 1|Iteration 107|reward:  626.0|last_reward_at:   99|Elapsed Time: 0:00:00||"
     ]
    },
    {
     "name": "stderr",
     "output_type": "stream",
     "text": [
      "\r\n",
      "Episode 1|Iteration 107|reward:  626.0|last_reward_at:  107|Elapsed Time: 0:00:00||"
     ]
    },
    {
     "name": "stderr",
     "output_type": "stream",
     "text": [
      "\r\n",
      "Episode 1|Iteration 117|reward:  726.0|last_reward_at:  107|Elapsed Time: 0:00:00||"
     ]
    },
    {
     "name": "stderr",
     "output_type": "stream",
     "text": [
      "\r\n",
      "Episode 1|Iteration 117|reward:  726.0|last_reward_at:  117|Elapsed Time: 0:00:00||"
     ]
    },
    {
     "name": "stderr",
     "output_type": "stream",
     "text": [
      "\r\n",
      "Episode 1|Iteration 122|reward:  732.0|last_reward_at:  117|Elapsed Time: 0:00:00||"
     ]
    },
    {
     "name": "stderr",
     "output_type": "stream",
     "text": [
      "\r\n",
      "Episode 1|Iteration 122|reward:  732.0|last_reward_at:  122|Elapsed Time: 0:00:00||"
     ]
    },
    {
     "name": "stderr",
     "output_type": "stream",
     "text": [
      "\r\n",
      "Episode 1|Iteration 127|reward:  736.0|last_reward_at:  122|Elapsed Time: 0:00:00||"
     ]
    },
    {
     "name": "stderr",
     "output_type": "stream",
     "text": [
      "\r\n",
      "Episode 1|Iteration 127|reward:  736.0|last_reward_at:  127|Elapsed Time: 0:00:00||"
     ]
    },
    {
     "name": "stderr",
     "output_type": "stream",
     "text": [
      "\r\n",
      "Episode 1|Iteration 141|reward:  742.0|last_reward_at:  127|Elapsed Time: 0:00:00||"
     ]
    },
    {
     "name": "stderr",
     "output_type": "stream",
     "text": [
      "\r\n",
      "Episode 1|Iteration 141|reward:  742.0|last_reward_at:  141|Elapsed Time: 0:00:00||"
     ]
    },
    {
     "name": "stderr",
     "output_type": "stream",
     "text": [
      "\r\n",
      "Episode 1|Iteration 163|reward:  744.0|last_reward_at:  141|Elapsed Time: 0:00:00||"
     ]
    },
    {
     "name": "stderr",
     "output_type": "stream",
     "text": [
      "\r\n",
      "Episode 1|Iteration 163|reward:  744.0|last_reward_at:  163|Elapsed Time: 0:00:00||"
     ]
    },
    {
     "name": "stderr",
     "output_type": "stream",
     "text": [
      "\r\n",
      "Episode 1|Iteration 171|reward:  753.0|last_reward_at:  163|Elapsed Time: 0:00:00||"
     ]
    },
    {
     "name": "stderr",
     "output_type": "stream",
     "text": [
      "\r\n",
      "Episode 1|Iteration 171|reward:  753.0|last_reward_at:  171|Elapsed Time: 0:00:00||"
     ]
    },
    {
     "name": "stderr",
     "output_type": "stream",
     "text": [
      "\r\n",
      "Episode 1|Iteration 176|reward:  853.0|last_reward_at:  171|Elapsed Time: 0:00:00||"
     ]
    },
    {
     "name": "stderr",
     "output_type": "stream",
     "text": [
      "\r\n",
      "Episode 1|Iteration 176|reward:  853.0|last_reward_at:  176|Elapsed Time: 0:00:00||"
     ]
    },
    {
     "name": "stderr",
     "output_type": "stream",
     "text": [
      "\r\n",
      "Episode 1|Iteration 180|reward:  859.0|last_reward_at:  176|Elapsed Time: 0:00:00||"
     ]
    },
    {
     "name": "stderr",
     "output_type": "stream",
     "text": [
      "\r\n",
      "Episode 1|Iteration 180|reward:  859.0|last_reward_at:  180|Elapsed Time: 0:00:00||"
     ]
    },
    {
     "name": "stderr",
     "output_type": "stream",
     "text": [
      "\r\n",
      "Episode 1|Iteration 191|reward: 5859.0|last_reward_at:  180|Elapsed Time: 0:00:00||"
     ]
    },
    {
     "name": "stderr",
     "output_type": "stream",
     "text": [
      "\r\n",
      "Episode 1|Iteration 191|reward: 5859.0|last_reward_at:  191|Elapsed Time: 0:00:00||"
     ]
    },
    {
     "name": "stderr",
     "output_type": "stream",
     "text": [
      "\n"
     ]
    },
    {
     "name": "stdout",
     "output_type": "stream",
     "text": [
      "  Episode 1 ended at t=191 \n",
      "  Breakdown [Reward/NoReward (Success rate)]\n",
      "    explore-local: 14/55 (0.20)\n",
      "    explore-remote: 14/97 (0.13)\n",
      "    explore-connect: 0/0 (NaN)\n",
      "    exploit-local: 0/0 (NaN)\n",
      "    exploit-remote: 0/0 (NaN)\n",
      "    exploit-connect: 7/4 (0.64)\n",
      "  exploit deflected to exploration: 2\n",
      "  ## Episode: 2/10 'Credential lookups (ϵ-greedy)' ϵ=0.8849, \n"
     ]
    },
    {
     "name": "stderr",
     "output_type": "stream",
     "text": [
      "\r\n",
      "Episode 2|Iteration 0|reward: ------|last_reward_at: ----|Elapsed Time: 0:00:00||"
     ]
    },
    {
     "name": "stderr",
     "output_type": "stream",
     "text": [
      "\r\n",
      "Episode 2|Iteration 1|reward:    0.0|last_reward_at: ----|Elapsed Time: 0:00:00||"
     ]
    },
    {
     "name": "stderr",
     "output_type": "stream",
     "text": [
      "\r\n",
      "Episode 2|Iteration 10|reward:    9.0|last_reward_at: ----|Elapsed Time: 0:00:00||"
     ]
    },
    {
     "name": "stderr",
     "output_type": "stream",
     "text": [
      "\r\n",
      "Episode 2|Iteration 10|reward:    9.0|last_reward_at:   10|Elapsed Time: 0:00:00||"
     ]
    },
    {
     "name": "stderr",
     "output_type": "stream",
     "text": [
      "\r\n",
      "Episode 2|Iteration 11|reward:  109.0|last_reward_at:   10|Elapsed Time: 0:00:00||"
     ]
    },
    {
     "name": "stderr",
     "output_type": "stream",
     "text": [
      "\r\n",
      "Episode 2|Iteration 11|reward:  109.0|last_reward_at:   11|Elapsed Time: 0:00:00||"
     ]
    },
    {
     "name": "stderr",
     "output_type": "stream",
     "text": [
      "\r\n",
      "Episode 2|Iteration 12|reward:  118.0|last_reward_at:   11|Elapsed Time: 0:00:00||"
     ]
    },
    {
     "name": "stderr",
     "output_type": "stream",
     "text": [
      "\r\n",
      "Episode 2|Iteration 12|reward:  118.0|last_reward_at:   12|Elapsed Time: 0:00:00||"
     ]
    },
    {
     "name": "stderr",
     "output_type": "stream",
     "text": [
      "\r\n",
      "Episode 2|Iteration 13|reward:  126.0|last_reward_at:   12|Elapsed Time: 0:00:00||"
     ]
    },
    {
     "name": "stderr",
     "output_type": "stream",
     "text": [
      "\r\n",
      "Episode 2|Iteration 13|reward:  126.0|last_reward_at:   13|Elapsed Time: 0:00:00||"
     ]
    },
    {
     "name": "stderr",
     "output_type": "stream",
     "text": [
      "\r\n",
      "Episode 2|Iteration 16|reward:  128.0|last_reward_at:   13|Elapsed Time: 0:00:00||"
     ]
    },
    {
     "name": "stderr",
     "output_type": "stream",
     "text": [
      "\r\n",
      "Episode 2|Iteration 16|reward:  128.0|last_reward_at:   16|Elapsed Time: 0:00:00||"
     ]
    },
    {
     "name": "stderr",
     "output_type": "stream",
     "text": [
      "\r\n",
      "Episode 2|Iteration 17|reward:  130.0|last_reward_at:   16|Elapsed Time: 0:00:00||"
     ]
    },
    {
     "name": "stderr",
     "output_type": "stream",
     "text": [
      "\r\n",
      "Episode 2|Iteration 17|reward:  130.0|last_reward_at:   17|Elapsed Time: 0:00:00||"
     ]
    },
    {
     "name": "stderr",
     "output_type": "stream",
     "text": [
      "\r\n",
      "Episode 2|Iteration 32|reward:  136.0|last_reward_at:   17|Elapsed Time: 0:00:00||"
     ]
    },
    {
     "name": "stderr",
     "output_type": "stream",
     "text": [
      "\r\n",
      "Episode 2|Iteration 32|reward:  136.0|last_reward_at:   32|Elapsed Time: 0:00:00||"
     ]
    },
    {
     "name": "stderr",
     "output_type": "stream",
     "text": [
      "\r\n",
      "Episode 2|Iteration 36|reward:  236.0|last_reward_at:   32|Elapsed Time: 0:00:00||"
     ]
    },
    {
     "name": "stderr",
     "output_type": "stream",
     "text": [
      "\r\n",
      "Episode 2|Iteration 36|reward:  236.0|last_reward_at:   36|Elapsed Time: 0:00:00||"
     ]
    },
    {
     "name": "stderr",
     "output_type": "stream",
     "text": [
      "\r\n",
      "Episode 2|Iteration 49|reward:  242.0|last_reward_at:   36|Elapsed Time: 0:00:00||"
     ]
    },
    {
     "name": "stderr",
     "output_type": "stream",
     "text": [
      "\r\n",
      "Episode 2|Iteration 49|reward:  242.0|last_reward_at:   49|Elapsed Time: 0:00:00||"
     ]
    },
    {
     "name": "stderr",
     "output_type": "stream",
     "text": [
      "\r\n",
      "Episode 2|Iteration 58|reward:  251.0|last_reward_at:   49|Elapsed Time: 0:00:00||"
     ]
    },
    {
     "name": "stderr",
     "output_type": "stream",
     "text": [
      "\r\n",
      "Episode 2|Iteration 58|reward:  251.0|last_reward_at:   58|Elapsed Time: 0:00:00||"
     ]
    },
    {
     "name": "stderr",
     "output_type": "stream",
     "text": [
      "\r\n",
      "Episode 2|Iteration 63|reward:  257.0|last_reward_at:   58|Elapsed Time: 0:00:00||"
     ]
    },
    {
     "name": "stderr",
     "output_type": "stream",
     "text": [
      "\r\n",
      "Episode 2|Iteration 63|reward:  257.0|last_reward_at:   63|Elapsed Time: 0:00:00||"
     ]
    },
    {
     "name": "stderr",
     "output_type": "stream",
     "text": [
      "\r\n",
      "Episode 2|Iteration 68|reward:  357.0|last_reward_at:   63|Elapsed Time: 0:00:00||"
     ]
    },
    {
     "name": "stderr",
     "output_type": "stream",
     "text": [
      "\r\n",
      "Episode 2|Iteration 68|reward:  357.0|last_reward_at:   68|Elapsed Time: 0:00:00||"
     ]
    },
    {
     "name": "stderr",
     "output_type": "stream",
     "text": [
      "\r\n",
      "Episode 2|Iteration 70|reward:  359.0|last_reward_at:   68|Elapsed Time: 0:00:00||"
     ]
    },
    {
     "name": "stderr",
     "output_type": "stream",
     "text": [
      "\r\n",
      "Episode 2|Iteration 70|reward:  359.0|last_reward_at:   70|Elapsed Time: 0:00:00||"
     ]
    },
    {
     "name": "stderr",
     "output_type": "stream",
     "text": [
      "\r\n",
      "Episode 2|Iteration 81|reward:  365.0|last_reward_at:   70|Elapsed Time: 0:00:00||"
     ]
    },
    {
     "name": "stderr",
     "output_type": "stream",
     "text": [
      "\r\n",
      "Episode 2|Iteration 81|reward:  365.0|last_reward_at:   81|Elapsed Time: 0:00:00||"
     ]
    },
    {
     "name": "stderr",
     "output_type": "stream",
     "text": [
      "\r\n",
      "Episode 2|Iteration 82|reward:  371.0|last_reward_at:   81|Elapsed Time: 0:00:00||"
     ]
    },
    {
     "name": "stderr",
     "output_type": "stream",
     "text": [
      "\r\n",
      "Episode 2|Iteration 82|reward:  371.0|last_reward_at:   82|Elapsed Time: 0:00:00||"
     ]
    },
    {
     "name": "stderr",
     "output_type": "stream",
     "text": [
      "\r\n",
      "Episode 2|Iteration 107|reward:  379.0|last_reward_at:   82|Elapsed Time: 0:00:00||"
     ]
    },
    {
     "name": "stderr",
     "output_type": "stream",
     "text": [
      "\r\n",
      "Episode 2|Iteration 107|reward:  379.0|last_reward_at:  107|Elapsed Time: 0:00:00||"
     ]
    },
    {
     "name": "stderr",
     "output_type": "stream",
     "text": [
      "\r\n",
      "Episode 2|Iteration 110|reward:  381.0|last_reward_at:  107|Elapsed Time: 0:00:00||"
     ]
    },
    {
     "name": "stderr",
     "output_type": "stream",
     "text": [
      "\r\n",
      "Episode 2|Iteration 110|reward:  381.0|last_reward_at:  110|Elapsed Time: 0:00:00||"
     ]
    },
    {
     "name": "stderr",
     "output_type": "stream",
     "text": [
      "\r\n",
      "Episode 2|Iteration 145|reward:  381.0|last_reward_at:  110|Elapsed Time: 0:00:00||"
     ]
    },
    {
     "name": "stderr",
     "output_type": "stream",
     "text": [
      "\r\n",
      "Episode 2|Iteration 183|reward:  381.0|last_reward_at:  110|Elapsed Time: 0:00:00||"
     ]
    },
    {
     "name": "stderr",
     "output_type": "stream",
     "text": [
      "\r\n",
      "Episode 2|Iteration 221|reward:  381.0|last_reward_at:  110|Elapsed Time: 0:00:00||"
     ]
    },
    {
     "name": "stderr",
     "output_type": "stream",
     "text": [
      "\r\n",
      "Episode 2|Iteration 259|reward:  381.0|last_reward_at:  110|Elapsed Time: 0:00:00||"
     ]
    },
    {
     "name": "stderr",
     "output_type": "stream",
     "text": [
      "\r\n",
      "Episode 2|Iteration 297|reward:  381.0|last_reward_at:  110|Elapsed Time: 0:00:00||"
     ]
    },
    {
     "name": "stderr",
     "output_type": "stream",
     "text": [
      "\r\n",
      "Episode 2|Iteration 335|reward:  381.0|last_reward_at:  110|Elapsed Time: 0:00:00||"
     ]
    },
    {
     "name": "stderr",
     "output_type": "stream",
     "text": [
      "\r\n",
      "Episode 2|Iteration 373|reward:  381.0|last_reward_at:  110|Elapsed Time: 0:00:00||"
     ]
    },
    {
     "name": "stderr",
     "output_type": "stream",
     "text": [
      "\r\n",
      "Episode 2|Iteration 403|reward:  381.0|last_reward_at:  110|Elapsed Time: 0:00:00||"
     ]
    },
    {
     "name": "stderr",
     "output_type": "stream",
     "text": [
      "\r\n",
      "Episode 2|Iteration 433|reward:  381.0|last_reward_at:  110|Elapsed Time: 0:00:00||"
     ]
    },
    {
     "name": "stderr",
     "output_type": "stream",
     "text": [
      "\r\n",
      "Episode 2|Iteration 464|reward:  381.0|last_reward_at:  110|Elapsed Time: 0:00:00||"
     ]
    },
    {
     "name": "stderr",
     "output_type": "stream",
     "text": [
      "\r\n",
      "Episode 2|Iteration 502|reward:  381.0|last_reward_at:  110|Elapsed Time: 0:00:00||"
     ]
    },
    {
     "name": "stderr",
     "output_type": "stream",
     "text": [
      "\r\n",
      "Episode 2|Iteration 540|reward:  381.0|last_reward_at:  110|Elapsed Time: 0:00:00||"
     ]
    },
    {
     "name": "stderr",
     "output_type": "stream",
     "text": [
      "\r\n",
      "Episode 2|Iteration 570|reward:  381.0|last_reward_at:  110|Elapsed Time: 0:00:00||"
     ]
    },
    {
     "name": "stderr",
     "output_type": "stream",
     "text": [
      "\r\n",
      "Episode 2|Iteration 600|reward:  381.0|last_reward_at:  110|Elapsed Time: 0:00:01||"
     ]
    },
    {
     "name": "stderr",
     "output_type": "stream",
     "text": [
      "\n"
     ]
    },
    {
     "name": "stdout",
     "output_type": "stream",
     "text": [
      "  Episode 2 stopped at t=600 \n",
      "  Breakdown [Reward/NoReward (Success rate)]\n",
      "    explore-local: 6/109 (0.05)\n",
      "    explore-remote: 8/408 (0.02)\n",
      "    explore-connect: 0/0 (NaN)\n",
      "    exploit-local: 0/0 (NaN)\n",
      "    exploit-remote: 0/0 (NaN)\n",
      "    exploit-connect: 3/66 (0.04)\n",
      "  exploit deflected to exploration: 6\n",
      "  ## Episode: 3/10 'Credential lookups (ϵ-greedy)' ϵ=0.8392, \n"
     ]
    },
    {
     "name": "stderr",
     "output_type": "stream",
     "text": [
      "\r\n",
      "Episode 3|Iteration 0|reward: ------|last_reward_at: ----|Elapsed Time: 0:00:00||"
     ]
    },
    {
     "name": "stderr",
     "output_type": "stream",
     "text": [
      "\r\n",
      "Episode 3|Iteration 1|reward:    0.0|last_reward_at: ----|Elapsed Time: 0:00:00||"
     ]
    },
    {
     "name": "stderr",
     "output_type": "stream",
     "text": [
      "\r\n",
      "Episode 3|Iteration 10|reward:    9.0|last_reward_at: ----|Elapsed Time: 0:00:00||"
     ]
    },
    {
     "name": "stderr",
     "output_type": "stream",
     "text": [
      "\r\n",
      "Episode 3|Iteration 10|reward:    9.0|last_reward_at:   10|Elapsed Time: 0:00:00||"
     ]
    },
    {
     "name": "stderr",
     "output_type": "stream",
     "text": [
      "\r\n",
      "Episode 3|Iteration 11|reward:  109.0|last_reward_at:   10|Elapsed Time: 0:00:00||"
     ]
    },
    {
     "name": "stderr",
     "output_type": "stream",
     "text": [
      "\r\n",
      "Episode 3|Iteration 11|reward:  109.0|last_reward_at:   11|Elapsed Time: 0:00:00||"
     ]
    },
    {
     "name": "stderr",
     "output_type": "stream",
     "text": [
      "\r\n",
      "Episode 3|Iteration 12|reward:  111.0|last_reward_at:   11|Elapsed Time: 0:00:00||"
     ]
    },
    {
     "name": "stderr",
     "output_type": "stream",
     "text": [
      "\r\n",
      "Episode 3|Iteration 12|reward:  111.0|last_reward_at:   12|Elapsed Time: 0:00:00||"
     ]
    },
    {
     "name": "stderr",
     "output_type": "stream",
     "text": [
      "\r\n",
      "Episode 3|Iteration 13|reward:  113.0|last_reward_at:   12|Elapsed Time: 0:00:00||"
     ]
    },
    {
     "name": "stderr",
     "output_type": "stream",
     "text": [
      "\r\n",
      "Episode 3|Iteration 13|reward:  113.0|last_reward_at:   13|Elapsed Time: 0:00:00||"
     ]
    },
    {
     "name": "stderr",
     "output_type": "stream",
     "text": [
      "\r\n",
      "Episode 3|Iteration 18|reward:  119.0|last_reward_at:   13|Elapsed Time: 0:00:00||"
     ]
    },
    {
     "name": "stderr",
     "output_type": "stream",
     "text": [
      "\r\n",
      "Episode 3|Iteration 18|reward:  119.0|last_reward_at:   18|Elapsed Time: 0:00:00||"
     ]
    },
    {
     "name": "stderr",
     "output_type": "stream",
     "text": [
      "\r\n",
      "Episode 3|Iteration 23|reward:  127.0|last_reward_at:   18|Elapsed Time: 0:00:00||"
     ]
    },
    {
     "name": "stderr",
     "output_type": "stream",
     "text": [
      "\r\n",
      "Episode 3|Iteration 23|reward:  127.0|last_reward_at:   23|Elapsed Time: 0:00:00||"
     ]
    },
    {
     "name": "stderr",
     "output_type": "stream",
     "text": [
      "\r\n",
      "Episode 3|Iteration 55|reward:  133.0|last_reward_at:   23|Elapsed Time: 0:00:00||"
     ]
    },
    {
     "name": "stderr",
     "output_type": "stream",
     "text": [
      "\r\n",
      "Episode 3|Iteration 55|reward:  133.0|last_reward_at:   55|Elapsed Time: 0:00:00||"
     ]
    },
    {
     "name": "stderr",
     "output_type": "stream",
     "text": [
      "\r\n",
      "Episode 3|Iteration 92|reward:  133.0|last_reward_at:   55|Elapsed Time: 0:00:00||"
     ]
    },
    {
     "name": "stderr",
     "output_type": "stream",
     "text": [
      "\r\n",
      "Episode 3|Iteration 130|reward:  133.0|last_reward_at:   55|Elapsed Time: 0:00:00||"
     ]
    },
    {
     "name": "stderr",
     "output_type": "stream",
     "text": [
      "\r\n",
      "Episode 3|Iteration 168|reward:  133.0|last_reward_at:   55|Elapsed Time: 0:00:00||"
     ]
    },
    {
     "name": "stderr",
     "output_type": "stream",
     "text": [
      "\r\n",
      "Episode 3|Iteration 206|reward:  133.0|last_reward_at:   55|Elapsed Time: 0:00:00||"
     ]
    },
    {
     "name": "stderr",
     "output_type": "stream",
     "text": [
      "\r\n",
      "Episode 3|Iteration 244|reward:  133.0|last_reward_at:   55|Elapsed Time: 0:00:00||"
     ]
    },
    {
     "name": "stderr",
     "output_type": "stream",
     "text": [
      "\r\n",
      "Episode 3|Iteration 282|reward:  133.0|last_reward_at:   55|Elapsed Time: 0:00:00||"
     ]
    },
    {
     "name": "stderr",
     "output_type": "stream",
     "text": [
      "\r\n",
      "Episode 3|Iteration 319|reward:  133.0|last_reward_at:   55|Elapsed Time: 0:00:00||"
     ]
    },
    {
     "name": "stderr",
     "output_type": "stream",
     "text": [
      "\r\n",
      "Episode 3|Iteration 357|reward:  133.0|last_reward_at:   55|Elapsed Time: 0:00:00||"
     ]
    },
    {
     "name": "stderr",
     "output_type": "stream",
     "text": [
      "\r\n",
      "Episode 3|Iteration 395|reward:  133.0|last_reward_at:   55|Elapsed Time: 0:00:00||"
     ]
    },
    {
     "name": "stderr",
     "output_type": "stream",
     "text": [
      "\r\n",
      "Episode 3|Iteration 433|reward:  133.0|last_reward_at:   55|Elapsed Time: 0:00:00||"
     ]
    },
    {
     "name": "stderr",
     "output_type": "stream",
     "text": [
      "\r\n",
      "Episode 3|Iteration 471|reward:  133.0|last_reward_at:   55|Elapsed Time: 0:00:00||"
     ]
    },
    {
     "name": "stderr",
     "output_type": "stream",
     "text": [
      "\r\n",
      "Episode 3|Iteration 509|reward:  133.0|last_reward_at:   55|Elapsed Time: 0:00:00||"
     ]
    },
    {
     "name": "stderr",
     "output_type": "stream",
     "text": [
      "\r\n",
      "Episode 3|Iteration 547|reward:  133.0|last_reward_at:   55|Elapsed Time: 0:00:00||"
     ]
    },
    {
     "name": "stderr",
     "output_type": "stream",
     "text": [
      "\r\n",
      "Episode 3|Iteration 585|reward:  133.0|last_reward_at:   55|Elapsed Time: 0:00:00||"
     ]
    },
    {
     "name": "stderr",
     "output_type": "stream",
     "text": [
      "\r\n",
      "Episode 3|Iteration 600|reward:  133.0|last_reward_at:   55|Elapsed Time: 0:00:00||"
     ]
    },
    {
     "name": "stderr",
     "output_type": "stream",
     "text": [
      "\n"
     ]
    },
    {
     "name": "stdout",
     "output_type": "stream",
     "text": [
      "  Episode 3 stopped at t=600 \n",
      "  Breakdown [Reward/NoReward (Success rate)]\n",
      "    explore-local: 2/76 (0.03)\n",
      "    explore-remote: 4/408 (0.01)\n",
      "    explore-connect: 0/0 (NaN)\n",
      "    exploit-local: 0/0 (NaN)\n",
      "    exploit-remote: 0/0 (NaN)\n",
      "    exploit-connect: 1/109 (0.01)\n",
      "  exploit deflected to exploration: 4\n",
      "  ## Episode: 4/10 'Credential lookups (ϵ-greedy)' ϵ=0.7962, \n"
     ]
    },
    {
     "name": "stderr",
     "output_type": "stream",
     "text": [
      "\r\n",
      "Episode 4|Iteration 0|reward: ------|last_reward_at: ----|Elapsed Time: 0:00:00||"
     ]
    },
    {
     "name": "stderr",
     "output_type": "stream",
     "text": [
      "\r\n",
      "Episode 4|Iteration 1|reward:    9.0|last_reward_at: ----|Elapsed Time: 0:00:00||"
     ]
    },
    {
     "name": "stderr",
     "output_type": "stream",
     "text": [
      "\r\n",
      "Episode 4|Iteration 1|reward:    9.0|last_reward_at:    1|Elapsed Time: 0:00:00||"
     ]
    },
    {
     "name": "stderr",
     "output_type": "stream",
     "text": [
      "\r\n",
      "Episode 4|Iteration 2|reward:   13.0|last_reward_at:    1|Elapsed Time: 0:00:00||"
     ]
    },
    {
     "name": "stderr",
     "output_type": "stream",
     "text": [
      "\r\n",
      "Episode 4|Iteration 2|reward:   13.0|last_reward_at:    2|Elapsed Time: 0:00:00||"
     ]
    },
    {
     "name": "stderr",
     "output_type": "stream",
     "text": [
      "\r\n",
      "Episode 4|Iteration 4|reward:  113.0|last_reward_at:    2|Elapsed Time: 0:00:00||"
     ]
    },
    {
     "name": "stderr",
     "output_type": "stream",
     "text": [
      "\r\n",
      "Episode 4|Iteration 4|reward:  113.0|last_reward_at:    4|Elapsed Time: 0:00:00||"
     ]
    },
    {
     "name": "stderr",
     "output_type": "stream",
     "text": [
      "\r\n",
      "Episode 4|Iteration 15|reward:  115.0|last_reward_at:    4|Elapsed Time: 0:00:00||"
     ]
    },
    {
     "name": "stderr",
     "output_type": "stream",
     "text": [
      "\r\n",
      "Episode 4|Iteration 15|reward:  115.0|last_reward_at:   15|Elapsed Time: 0:00:00||"
     ]
    },
    {
     "name": "stderr",
     "output_type": "stream",
     "text": [
      "\r\n",
      "Episode 4|Iteration 21|reward:  124.0|last_reward_at:   15|Elapsed Time: 0:00:00||"
     ]
    },
    {
     "name": "stderr",
     "output_type": "stream",
     "text": [
      "\r\n",
      "Episode 4|Iteration 21|reward:  124.0|last_reward_at:   21|Elapsed Time: 0:00:00||"
     ]
    },
    {
     "name": "stderr",
     "output_type": "stream",
     "text": [
      "\r\n",
      "Episode 4|Iteration 22|reward:  130.0|last_reward_at:   21|Elapsed Time: 0:00:00||"
     ]
    },
    {
     "name": "stderr",
     "output_type": "stream",
     "text": [
      "\r\n",
      "Episode 4|Iteration 22|reward:  130.0|last_reward_at:   22|Elapsed Time: 0:00:00||"
     ]
    },
    {
     "name": "stderr",
     "output_type": "stream",
     "text": [
      "\r\n",
      "Episode 4|Iteration 23|reward:  230.0|last_reward_at:   22|Elapsed Time: 0:00:00||"
     ]
    },
    {
     "name": "stderr",
     "output_type": "stream",
     "text": [
      "\r\n",
      "Episode 4|Iteration 23|reward:  230.0|last_reward_at:   23|Elapsed Time: 0:00:00||"
     ]
    },
    {
     "name": "stderr",
     "output_type": "stream",
     "text": [
      "\r\n",
      "Episode 4|Iteration 30|reward:  236.0|last_reward_at:   23|Elapsed Time: 0:00:00||"
     ]
    },
    {
     "name": "stderr",
     "output_type": "stream",
     "text": [
      "\r\n",
      "Episode 4|Iteration 30|reward:  236.0|last_reward_at:   30|Elapsed Time: 0:00:00||"
     ]
    },
    {
     "name": "stderr",
     "output_type": "stream",
     "text": [
      "\r\n",
      "Episode 4|Iteration 36|reward:  242.0|last_reward_at:   30|Elapsed Time: 0:00:00||"
     ]
    },
    {
     "name": "stderr",
     "output_type": "stream",
     "text": [
      "\r\n",
      "Episode 4|Iteration 36|reward:  242.0|last_reward_at:   36|Elapsed Time: 0:00:00||"
     ]
    },
    {
     "name": "stderr",
     "output_type": "stream",
     "text": [
      "\r\n",
      "Episode 4|Iteration 50|reward:  246.0|last_reward_at:   36|Elapsed Time: 0:00:00||"
     ]
    },
    {
     "name": "stderr",
     "output_type": "stream",
     "text": [
      "\r\n",
      "Episode 4|Iteration 50|reward:  246.0|last_reward_at:   50|Elapsed Time: 0:00:00||"
     ]
    },
    {
     "name": "stderr",
     "output_type": "stream",
     "text": [
      "\r\n",
      "Episode 4|Iteration 71|reward:  248.0|last_reward_at:   50|Elapsed Time: 0:00:00||"
     ]
    },
    {
     "name": "stderr",
     "output_type": "stream",
     "text": [
      "\r\n",
      "Episode 4|Iteration 71|reward:  248.0|last_reward_at:   71|Elapsed Time: 0:00:00||"
     ]
    },
    {
     "name": "stderr",
     "output_type": "stream",
     "text": [
      "\r\n",
      "Episode 4|Iteration 107|reward:  248.0|last_reward_at:   71|Elapsed Time: 0:00:00||"
     ]
    },
    {
     "name": "stderr",
     "output_type": "stream",
     "text": [
      "\r\n",
      "Episode 4|Iteration 145|reward:  248.0|last_reward_at:   71|Elapsed Time: 0:00:00||"
     ]
    },
    {
     "name": "stderr",
     "output_type": "stream",
     "text": [
      "\r\n",
      "Episode 4|Iteration 183|reward:  248.0|last_reward_at:   71|Elapsed Time: 0:00:00||"
     ]
    },
    {
     "name": "stderr",
     "output_type": "stream",
     "text": [
      "\r\n",
      "Episode 4|Iteration 221|reward:  248.0|last_reward_at:   71|Elapsed Time: 0:00:00||"
     ]
    },
    {
     "name": "stderr",
     "output_type": "stream",
     "text": [
      "\r\n",
      "Episode 4|Iteration 251|reward:  248.0|last_reward_at:   71|Elapsed Time: 0:00:00||"
     ]
    },
    {
     "name": "stderr",
     "output_type": "stream",
     "text": [
      "\r\n",
      "Episode 4|Iteration 289|reward:  248.0|last_reward_at:   71|Elapsed Time: 0:00:00||"
     ]
    },
    {
     "name": "stderr",
     "output_type": "stream",
     "text": [
      "\r\n",
      "Episode 4|Iteration 327|reward:  248.0|last_reward_at:   71|Elapsed Time: 0:00:00||"
     ]
    },
    {
     "name": "stderr",
     "output_type": "stream",
     "text": [
      "\r\n",
      "Episode 4|Iteration 365|reward:  248.0|last_reward_at:   71|Elapsed Time: 0:00:00||"
     ]
    },
    {
     "name": "stderr",
     "output_type": "stream",
     "text": [
      "\r\n",
      "Episode 4|Iteration 403|reward:  248.0|last_reward_at:   71|Elapsed Time: 0:00:00||"
     ]
    },
    {
     "name": "stderr",
     "output_type": "stream",
     "text": [
      "\r\n",
      "Episode 4|Iteration 441|reward:  248.0|last_reward_at:   71|Elapsed Time: 0:00:00||"
     ]
    },
    {
     "name": "stderr",
     "output_type": "stream",
     "text": [
      "\r\n",
      "Episode 4|Iteration 479|reward:  248.0|last_reward_at:   71|Elapsed Time: 0:00:00||"
     ]
    },
    {
     "name": "stderr",
     "output_type": "stream",
     "text": [
      "\r\n",
      "Episode 4|Iteration 517|reward:  248.0|last_reward_at:   71|Elapsed Time: 0:00:00||"
     ]
    },
    {
     "name": "stderr",
     "output_type": "stream",
     "text": [
      "\r\n",
      "Episode 4|Iteration 555|reward:  248.0|last_reward_at:   71|Elapsed Time: 0:00:00||"
     ]
    },
    {
     "name": "stderr",
     "output_type": "stream",
     "text": [
      "\r\n",
      "Episode 4|Iteration 593|reward:  248.0|last_reward_at:   71|Elapsed Time: 0:00:00||"
     ]
    },
    {
     "name": "stderr",
     "output_type": "stream",
     "text": [
      "\r\n",
      "Episode 4|Iteration 600|reward:  248.0|last_reward_at:   71|Elapsed Time: 0:00:00||"
     ]
    },
    {
     "name": "stderr",
     "output_type": "stream",
     "text": [
      "\n"
     ]
    },
    {
     "name": "stdout",
     "output_type": "stream",
     "text": [
      "  Episode 4 stopped at t=600 \n",
      "  Breakdown [Reward/NoReward (Success rate)]\n",
      "    explore-local: 3/75 (0.04)\n",
      "    explore-remote: 6/391 (0.02)\n",
      "    explore-connect: 0/0 (NaN)\n",
      "    exploit-local: 0/0 (NaN)\n",
      "    exploit-remote: 0/0 (NaN)\n",
      "    exploit-connect: 2/123 (0.02)\n",
      "  exploit deflected to exploration: 6\n",
      "  ## Episode: 5/10 'Credential lookups (ϵ-greedy)' ϵ=0.7556, \n"
     ]
    },
    {
     "name": "stderr",
     "output_type": "stream",
     "text": [
      "\r\n",
      "Episode 5|Iteration 0|reward: ------|last_reward_at: ----|Elapsed Time: 0:00:00||"
     ]
    },
    {
     "name": "stderr",
     "output_type": "stream",
     "text": [
      "\r\n",
      "Episode 5|Iteration 1|reward:    0.0|last_reward_at: ----|Elapsed Time: 0:00:00||"
     ]
    },
    {
     "name": "stderr",
     "output_type": "stream",
     "text": [
      "\r\n",
      "Episode 5|Iteration 21|reward:    9.0|last_reward_at: ----|Elapsed Time: 0:00:00||"
     ]
    },
    {
     "name": "stderr",
     "output_type": "stream",
     "text": [
      "\r\n",
      "Episode 5|Iteration 21|reward:    9.0|last_reward_at:   21|Elapsed Time: 0:00:00||"
     ]
    },
    {
     "name": "stderr",
     "output_type": "stream",
     "text": [
      "\r\n",
      "Episode 5|Iteration 22|reward:   13.0|last_reward_at:   21|Elapsed Time: 0:00:00||"
     ]
    },
    {
     "name": "stderr",
     "output_type": "stream",
     "text": [
      "\r\n",
      "Episode 5|Iteration 22|reward:   13.0|last_reward_at:   22|Elapsed Time: 0:00:00||"
     ]
    },
    {
     "name": "stderr",
     "output_type": "stream",
     "text": [
      "\r\n",
      "Episode 5|Iteration 24|reward:   15.0|last_reward_at:   22|Elapsed Time: 0:00:00||"
     ]
    },
    {
     "name": "stderr",
     "output_type": "stream",
     "text": [
      "\r\n",
      "Episode 5|Iteration 24|reward:   15.0|last_reward_at:   24|Elapsed Time: 0:00:00||"
     ]
    },
    {
     "name": "stderr",
     "output_type": "stream",
     "text": [
      "\r\n",
      "Episode 5|Iteration 25|reward:  115.0|last_reward_at:   24|Elapsed Time: 0:00:00||"
     ]
    },
    {
     "name": "stderr",
     "output_type": "stream",
     "text": [
      "\r\n",
      "Episode 5|Iteration 25|reward:  115.0|last_reward_at:   25|Elapsed Time: 0:00:00||"
     ]
    },
    {
     "name": "stderr",
     "output_type": "stream",
     "text": [
      "\r\n",
      "Episode 5|Iteration 27|reward:  121.0|last_reward_at:   25|Elapsed Time: 0:00:00||"
     ]
    },
    {
     "name": "stderr",
     "output_type": "stream",
     "text": [
      "\r\n",
      "Episode 5|Iteration 27|reward:  121.0|last_reward_at:   27|Elapsed Time: 0:00:00||"
     ]
    },
    {
     "name": "stderr",
     "output_type": "stream",
     "text": [
      "\r\n",
      "Episode 5|Iteration 29|reward:  127.0|last_reward_at:   27|Elapsed Time: 0:00:00||"
     ]
    },
    {
     "name": "stderr",
     "output_type": "stream",
     "text": [
      "\r\n",
      "Episode 5|Iteration 29|reward:  127.0|last_reward_at:   29|Elapsed Time: 0:00:00||"
     ]
    },
    {
     "name": "stderr",
     "output_type": "stream",
     "text": [
      "\r\n",
      "Episode 5|Iteration 31|reward:  135.0|last_reward_at:   29|Elapsed Time: 0:00:00||"
     ]
    },
    {
     "name": "stderr",
     "output_type": "stream",
     "text": [
      "\r\n",
      "Episode 5|Iteration 31|reward:  135.0|last_reward_at:   31|Elapsed Time: 0:00:00||"
     ]
    },
    {
     "name": "stderr",
     "output_type": "stream",
     "text": [
      "\r\n",
      "Episode 5|Iteration 52|reward:  144.0|last_reward_at:   31|Elapsed Time: 0:00:00||"
     ]
    },
    {
     "name": "stderr",
     "output_type": "stream",
     "text": [
      "\r\n",
      "Episode 5|Iteration 52|reward:  144.0|last_reward_at:   52|Elapsed Time: 0:00:00||"
     ]
    },
    {
     "name": "stderr",
     "output_type": "stream",
     "text": [
      "\r\n",
      "Episode 5|Iteration 54|reward:  244.0|last_reward_at:   52|Elapsed Time: 0:00:00||"
     ]
    },
    {
     "name": "stderr",
     "output_type": "stream",
     "text": [
      "\r\n",
      "Episode 5|Iteration 54|reward:  244.0|last_reward_at:   54|Elapsed Time: 0:00:00||"
     ]
    },
    {
     "name": "stderr",
     "output_type": "stream",
     "text": [
      "\r\n",
      "Episode 5|Iteration 59|reward:  253.0|last_reward_at:   54|Elapsed Time: 0:00:00||"
     ]
    },
    {
     "name": "stderr",
     "output_type": "stream",
     "text": [
      "\r\n",
      "Episode 5|Iteration 59|reward:  253.0|last_reward_at:   59|Elapsed Time: 0:00:00||"
     ]
    },
    {
     "name": "stderr",
     "output_type": "stream",
     "text": [
      "\r\n",
      "Episode 5|Iteration 61|reward:  255.0|last_reward_at:   59|Elapsed Time: 0:00:00||"
     ]
    },
    {
     "name": "stderr",
     "output_type": "stream",
     "text": [
      "\r\n",
      "Episode 5|Iteration 61|reward:  255.0|last_reward_at:   61|Elapsed Time: 0:00:00||"
     ]
    },
    {
     "name": "stderr",
     "output_type": "stream",
     "text": [
      "\r\n",
      "Episode 5|Iteration 66|reward:  355.0|last_reward_at:   61|Elapsed Time: 0:00:00||"
     ]
    },
    {
     "name": "stderr",
     "output_type": "stream",
     "text": [
      "\r\n",
      "Episode 5|Iteration 66|reward:  355.0|last_reward_at:   66|Elapsed Time: 0:00:00||"
     ]
    },
    {
     "name": "stderr",
     "output_type": "stream",
     "text": [
      "\r\n",
      "Episode 5|Iteration 75|reward:  364.0|last_reward_at:   66|Elapsed Time: 0:00:00||"
     ]
    },
    {
     "name": "stderr",
     "output_type": "stream",
     "text": [
      "\r\n",
      "Episode 5|Iteration 75|reward:  364.0|last_reward_at:   75|Elapsed Time: 0:00:00||"
     ]
    },
    {
     "name": "stderr",
     "output_type": "stream",
     "text": [
      "\r\n",
      "Episode 5|Iteration 76|reward:  370.0|last_reward_at:   75|Elapsed Time: 0:00:00||"
     ]
    },
    {
     "name": "stderr",
     "output_type": "stream",
     "text": [
      "\r\n",
      "Episode 5|Iteration 76|reward:  370.0|last_reward_at:   76|Elapsed Time: 0:00:00||"
     ]
    },
    {
     "name": "stderr",
     "output_type": "stream",
     "text": [
      "\r\n",
      "Episode 5|Iteration 77|reward:  376.0|last_reward_at:   76|Elapsed Time: 0:00:00||"
     ]
    },
    {
     "name": "stderr",
     "output_type": "stream",
     "text": [
      "\r\n",
      "Episode 5|Iteration 77|reward:  376.0|last_reward_at:   77|Elapsed Time: 0:00:00||"
     ]
    },
    {
     "name": "stderr",
     "output_type": "stream",
     "text": [
      "\r\n",
      "Episode 5|Iteration 80|reward:  384.0|last_reward_at:   77|Elapsed Time: 0:00:00||"
     ]
    },
    {
     "name": "stderr",
     "output_type": "stream",
     "text": [
      "\r\n",
      "Episode 5|Iteration 80|reward:  384.0|last_reward_at:   80|Elapsed Time: 0:00:00||"
     ]
    },
    {
     "name": "stderr",
     "output_type": "stream",
     "text": [
      "\r\n",
      "Episode 5|Iteration 90|reward:  386.0|last_reward_at:   80|Elapsed Time: 0:00:00||"
     ]
    },
    {
     "name": "stderr",
     "output_type": "stream",
     "text": [
      "\r\n",
      "Episode 5|Iteration 90|reward:  386.0|last_reward_at:   90|Elapsed Time: 0:00:00||"
     ]
    },
    {
     "name": "stderr",
     "output_type": "stream",
     "text": [
      "\r\n",
      "Episode 5|Iteration 91|reward:  486.0|last_reward_at:   90|Elapsed Time: 0:00:00||"
     ]
    },
    {
     "name": "stderr",
     "output_type": "stream",
     "text": [
      "\r\n",
      "Episode 5|Iteration 91|reward:  486.0|last_reward_at:   91|Elapsed Time: 0:00:00||"
     ]
    },
    {
     "name": "stderr",
     "output_type": "stream",
     "text": [
      "\r\n",
      "Episode 5|Iteration 122|reward:  486.0|last_reward_at:   91|Elapsed Time: 0:00:00||"
     ]
    },
    {
     "name": "stderr",
     "output_type": "stream",
     "text": [
      "\r\n",
      "Episode 5|Iteration 137|reward:  492.0|last_reward_at:   91|Elapsed Time: 0:00:00||"
     ]
    },
    {
     "name": "stderr",
     "output_type": "stream",
     "text": [
      "\r\n",
      "Episode 5|Iteration 137|reward:  492.0|last_reward_at:  137|Elapsed Time: 0:00:00||"
     ]
    },
    {
     "name": "stderr",
     "output_type": "stream",
     "text": [
      "\r\n",
      "Episode 5|Iteration 168|reward:  492.0|last_reward_at:  137|Elapsed Time: 0:00:00||"
     ]
    },
    {
     "name": "stderr",
     "output_type": "stream",
     "text": [
      "\r\n",
      "Episode 5|Iteration 206|reward:  492.0|last_reward_at:  137|Elapsed Time: 0:00:00||"
     ]
    },
    {
     "name": "stderr",
     "output_type": "stream",
     "text": [
      "\r\n",
      "Episode 5|Iteration 228|reward:  492.0|last_reward_at:  137|Elapsed Time: 0:00:00||"
     ]
    },
    {
     "name": "stderr",
     "output_type": "stream",
     "text": [
      "\r\n",
      "Episode 5|Iteration 259|reward:  492.0|last_reward_at:  137|Elapsed Time: 0:00:00||"
     ]
    },
    {
     "name": "stderr",
     "output_type": "stream",
     "text": [
      "\r\n",
      "Episode 5|Iteration 297|reward:  492.0|last_reward_at:  137|Elapsed Time: 0:00:00||"
     ]
    },
    {
     "name": "stderr",
     "output_type": "stream",
     "text": [
      "\r\n",
      "Episode 5|Iteration 335|reward:  492.0|last_reward_at:  137|Elapsed Time: 0:00:00||"
     ]
    },
    {
     "name": "stderr",
     "output_type": "stream",
     "text": [
      "\r\n",
      "Episode 5|Iteration 373|reward:  492.0|last_reward_at:  137|Elapsed Time: 0:00:00||"
     ]
    },
    {
     "name": "stderr",
     "output_type": "stream",
     "text": [
      "\r\n",
      "Episode 5|Iteration 403|reward:  492.0|last_reward_at:  137|Elapsed Time: 0:00:00||"
     ]
    },
    {
     "name": "stderr",
     "output_type": "stream",
     "text": [
      "\r\n",
      "Episode 5|Iteration 441|reward:  492.0|last_reward_at:  137|Elapsed Time: 0:00:00||"
     ]
    },
    {
     "name": "stderr",
     "output_type": "stream",
     "text": [
      "\r\n",
      "Episode 5|Iteration 479|reward:  492.0|last_reward_at:  137|Elapsed Time: 0:00:00||"
     ]
    },
    {
     "name": "stderr",
     "output_type": "stream",
     "text": [
      "\r\n",
      "Episode 5|Iteration 517|reward:  492.0|last_reward_at:  137|Elapsed Time: 0:00:00||"
     ]
    },
    {
     "name": "stderr",
     "output_type": "stream",
     "text": [
      "\r\n",
      "Episode 5|Iteration 555|reward:  492.0|last_reward_at:  137|Elapsed Time: 0:00:00||"
     ]
    },
    {
     "name": "stderr",
     "output_type": "stream",
     "text": [
      "\r\n",
      "Episode 5|Iteration 585|reward:  492.0|last_reward_at:  137|Elapsed Time: 0:00:01||"
     ]
    },
    {
     "name": "stderr",
     "output_type": "stream",
     "text": [
      "\r\n",
      "Episode 5|Iteration 600|reward:  492.0|last_reward_at:  137|Elapsed Time: 0:00:01||"
     ]
    },
    {
     "name": "stderr",
     "output_type": "stream",
     "text": [
      "\n"
     ]
    },
    {
     "name": "stdout",
     "output_type": "stream",
     "text": [
      "  Episode 5 stopped at t=600 \n",
      "  Breakdown [Reward/NoReward (Success rate)]\n",
      "    explore-local: 7/82 (0.08)\n",
      "    explore-remote: 8/363 (0.02)\n",
      "    explore-connect: 0/0 (NaN)\n",
      "    exploit-local: 0/0 (NaN)\n",
      "    exploit-remote: 0/0 (NaN)\n",
      "    exploit-connect: 4/136 (0.03)\n",
      "  exploit deflected to exploration: 9\n",
      "  ## Episode: 6/10 'Credential lookups (ϵ-greedy)' ϵ=0.7175, \n"
     ]
    },
    {
     "name": "stderr",
     "output_type": "stream",
     "text": [
      "\r\n",
      "Episode 6|Iteration 0|reward: ------|last_reward_at: ----|Elapsed Time: 0:00:00||"
     ]
    },
    {
     "name": "stderr",
     "output_type": "stream",
     "text": [
      "\r\n",
      "Episode 6|Iteration 1|reward:    0.0|last_reward_at: ----|Elapsed Time: 0:00:00||"
     ]
    },
    {
     "name": "stderr",
     "output_type": "stream",
     "text": [
      "\r\n",
      "Episode 6|Iteration 8|reward:    9.0|last_reward_at: ----|Elapsed Time: 0:00:00||"
     ]
    },
    {
     "name": "stderr",
     "output_type": "stream",
     "text": [
      "\r\n",
      "Episode 6|Iteration 8|reward:    9.0|last_reward_at:    8|Elapsed Time: 0:00:00||"
     ]
    },
    {
     "name": "stderr",
     "output_type": "stream",
     "text": [
      "\r\n",
      "Episode 6|Iteration 9|reward:  109.0|last_reward_at:    8|Elapsed Time: 0:00:00||"
     ]
    },
    {
     "name": "stderr",
     "output_type": "stream",
     "text": [
      "\r\n",
      "Episode 6|Iteration 9|reward:  109.0|last_reward_at:    9|Elapsed Time: 0:00:00||"
     ]
    },
    {
     "name": "stderr",
     "output_type": "stream",
     "text": [
      "\r\n",
      "Episode 6|Iteration 12|reward:  111.0|last_reward_at:    9|Elapsed Time: 0:00:00||"
     ]
    },
    {
     "name": "stderr",
     "output_type": "stream",
     "text": [
      "\r\n",
      "Episode 6|Iteration 12|reward:  111.0|last_reward_at:   12|Elapsed Time: 0:00:00||"
     ]
    },
    {
     "name": "stderr",
     "output_type": "stream",
     "text": [
      "\r\n",
      "Episode 6|Iteration 13|reward:  113.0|last_reward_at:   12|Elapsed Time: 0:00:00||"
     ]
    },
    {
     "name": "stderr",
     "output_type": "stream",
     "text": [
      "\r\n",
      "Episode 6|Iteration 13|reward:  113.0|last_reward_at:   13|Elapsed Time: 0:00:00||"
     ]
    },
    {
     "name": "stderr",
     "output_type": "stream",
     "text": [
      "\r\n",
      "Episode 6|Iteration 15|reward:  119.0|last_reward_at:   13|Elapsed Time: 0:00:00||"
     ]
    },
    {
     "name": "stderr",
     "output_type": "stream",
     "text": [
      "\r\n",
      "Episode 6|Iteration 15|reward:  119.0|last_reward_at:   15|Elapsed Time: 0:00:00||"
     ]
    },
    {
     "name": "stderr",
     "output_type": "stream",
     "text": [
      "\r\n",
      "Episode 6|Iteration 20|reward:  125.0|last_reward_at:   15|Elapsed Time: 0:00:00||"
     ]
    },
    {
     "name": "stderr",
     "output_type": "stream",
     "text": [
      "\r\n",
      "Episode 6|Iteration 20|reward:  125.0|last_reward_at:   20|Elapsed Time: 0:00:00||"
     ]
    },
    {
     "name": "stderr",
     "output_type": "stream",
     "text": [
      "\r\n",
      "Episode 6|Iteration 24|reward:  133.0|last_reward_at:   20|Elapsed Time: 0:00:00||"
     ]
    },
    {
     "name": "stderr",
     "output_type": "stream",
     "text": [
      "\r\n",
      "Episode 6|Iteration 24|reward:  133.0|last_reward_at:   24|Elapsed Time: 0:00:00||"
     ]
    },
    {
     "name": "stderr",
     "output_type": "stream",
     "text": [
      "\r\n",
      "Episode 6|Iteration 35|reward:  142.0|last_reward_at:   24|Elapsed Time: 0:00:00||"
     ]
    },
    {
     "name": "stderr",
     "output_type": "stream",
     "text": [
      "\r\n",
      "Episode 6|Iteration 35|reward:  142.0|last_reward_at:   35|Elapsed Time: 0:00:00||"
     ]
    },
    {
     "name": "stderr",
     "output_type": "stream",
     "text": [
      "\r\n",
      "Episode 6|Iteration 37|reward:  242.0|last_reward_at:   35|Elapsed Time: 0:00:00||"
     ]
    },
    {
     "name": "stderr",
     "output_type": "stream",
     "text": [
      "\r\n",
      "Episode 6|Iteration 37|reward:  242.0|last_reward_at:   37|Elapsed Time: 0:00:00||"
     ]
    },
    {
     "name": "stderr",
     "output_type": "stream",
     "text": [
      "\r\n",
      "Episode 6|Iteration 40|reward:  248.0|last_reward_at:   37|Elapsed Time: 0:00:00||"
     ]
    },
    {
     "name": "stderr",
     "output_type": "stream",
     "text": [
      "\r\n",
      "Episode 6|Iteration 40|reward:  248.0|last_reward_at:   40|Elapsed Time: 0:00:00||"
     ]
    },
    {
     "name": "stderr",
     "output_type": "stream",
     "text": [
      "\r\n",
      "Episode 6|Iteration 56|reward:  250.0|last_reward_at:   40|Elapsed Time: 0:00:00||"
     ]
    },
    {
     "name": "stderr",
     "output_type": "stream",
     "text": [
      "\r\n",
      "Episode 6|Iteration 56|reward:  250.0|last_reward_at:   56|Elapsed Time: 0:00:00||"
     ]
    },
    {
     "name": "stderr",
     "output_type": "stream",
     "text": [
      "\r\n",
      "Episode 6|Iteration 65|reward:  254.0|last_reward_at:   56|Elapsed Time: 0:00:00||"
     ]
    },
    {
     "name": "stderr",
     "output_type": "stream",
     "text": [
      "\r\n",
      "Episode 6|Iteration 65|reward:  254.0|last_reward_at:   65|Elapsed Time: 0:00:00||"
     ]
    },
    {
     "name": "stderr",
     "output_type": "stream",
     "text": [
      "\r\n",
      "Episode 6|Iteration 77|reward:  263.0|last_reward_at:   65|Elapsed Time: 0:00:00||"
     ]
    },
    {
     "name": "stderr",
     "output_type": "stream",
     "text": [
      "\r\n",
      "Episode 6|Iteration 77|reward:  263.0|last_reward_at:   77|Elapsed Time: 0:00:00||"
     ]
    },
    {
     "name": "stderr",
     "output_type": "stream",
     "text": [
      "\r\n",
      "Episode 6|Iteration 80|reward:  363.0|last_reward_at:   77|Elapsed Time: 0:00:00||"
     ]
    },
    {
     "name": "stderr",
     "output_type": "stream",
     "text": [
      "\r\n",
      "Episode 6|Iteration 80|reward:  363.0|last_reward_at:   80|Elapsed Time: 0:00:00||"
     ]
    },
    {
     "name": "stderr",
     "output_type": "stream",
     "text": [
      "\r\n",
      "Episode 6|Iteration 81|reward:  369.0|last_reward_at:   80|Elapsed Time: 0:00:00||"
     ]
    },
    {
     "name": "stderr",
     "output_type": "stream",
     "text": [
      "\r\n",
      "Episode 6|Iteration 81|reward:  369.0|last_reward_at:   81|Elapsed Time: 0:00:00||"
     ]
    },
    {
     "name": "stderr",
     "output_type": "stream",
     "text": [
      "\r\n",
      "Episode 6|Iteration 93|reward:  377.0|last_reward_at:   81|Elapsed Time: 0:00:00||"
     ]
    },
    {
     "name": "stderr",
     "output_type": "stream",
     "text": [
      "\r\n",
      "Episode 6|Iteration 93|reward:  377.0|last_reward_at:   93|Elapsed Time: 0:00:00||"
     ]
    },
    {
     "name": "stderr",
     "output_type": "stream",
     "text": [
      "\r\n",
      "Episode 6|Iteration 105|reward:  383.0|last_reward_at:   93|Elapsed Time: 0:00:00||"
     ]
    },
    {
     "name": "stderr",
     "output_type": "stream",
     "text": [
      "\r\n",
      "Episode 6|Iteration 105|reward:  383.0|last_reward_at:  105|Elapsed Time: 0:00:00||"
     ]
    },
    {
     "name": "stderr",
     "output_type": "stream",
     "text": [
      "\r\n",
      "Episode 6|Iteration 137|reward:  383.0|last_reward_at:  105|Elapsed Time: 0:00:00||"
     ]
    },
    {
     "name": "stderr",
     "output_type": "stream",
     "text": [
      "\r\n",
      "Episode 6|Iteration 175|reward:  383.0|last_reward_at:  105|Elapsed Time: 0:00:00||"
     ]
    },
    {
     "name": "stderr",
     "output_type": "stream",
     "text": [
      "\r\n",
      "Episode 6|Iteration 213|reward:  383.0|last_reward_at:  105|Elapsed Time: 0:00:00||"
     ]
    },
    {
     "name": "stderr",
     "output_type": "stream",
     "text": [
      "\r\n",
      "Episode 6|Iteration 244|reward:  383.0|last_reward_at:  105|Elapsed Time: 0:00:00||"
     ]
    },
    {
     "name": "stderr",
     "output_type": "stream",
     "text": [
      "\r\n",
      "Episode 6|Iteration 274|reward:  383.0|last_reward_at:  105|Elapsed Time: 0:00:00||"
     ]
    },
    {
     "name": "stderr",
     "output_type": "stream",
     "text": [
      "\r\n",
      "Episode 6|Iteration 304|reward:  383.0|last_reward_at:  105|Elapsed Time: 0:00:00||"
     ]
    },
    {
     "name": "stderr",
     "output_type": "stream",
     "text": [
      "\r\n",
      "Episode 6|Iteration 335|reward:  383.0|last_reward_at:  105|Elapsed Time: 0:00:00||"
     ]
    },
    {
     "name": "stderr",
     "output_type": "stream",
     "text": [
      "\r\n",
      "Episode 6|Iteration 373|reward:  383.0|last_reward_at:  105|Elapsed Time: 0:00:00||"
     ]
    },
    {
     "name": "stderr",
     "output_type": "stream",
     "text": [
      "\r\n",
      "Episode 6|Iteration 411|reward:  383.0|last_reward_at:  105|Elapsed Time: 0:00:00||"
     ]
    },
    {
     "name": "stderr",
     "output_type": "stream",
     "text": [
      "\r\n",
      "Episode 6|Iteration 441|reward:  383.0|last_reward_at:  105|Elapsed Time: 0:00:00||"
     ]
    },
    {
     "name": "stderr",
     "output_type": "stream",
     "text": [
      "\r\n",
      "Episode 6|Iteration 479|reward:  383.0|last_reward_at:  105|Elapsed Time: 0:00:00||"
     ]
    },
    {
     "name": "stderr",
     "output_type": "stream",
     "text": [
      "\r\n",
      "Episode 6|Iteration 517|reward:  383.0|last_reward_at:  105|Elapsed Time: 0:00:00||"
     ]
    },
    {
     "name": "stderr",
     "output_type": "stream",
     "text": [
      "\r\n",
      "Episode 6|Iteration 555|reward:  383.0|last_reward_at:  105|Elapsed Time: 0:00:00||"
     ]
    },
    {
     "name": "stderr",
     "output_type": "stream",
     "text": [
      "\r\n",
      "Episode 6|Iteration 593|reward:  383.0|last_reward_at:  105|Elapsed Time: 0:00:01||"
     ]
    },
    {
     "name": "stderr",
     "output_type": "stream",
     "text": [
      "\r\n",
      "Episode 6|Iteration 600|reward:  383.0|last_reward_at:  105|Elapsed Time: 0:00:01||"
     ]
    },
    {
     "name": "stderr",
     "output_type": "stream",
     "text": [
      "\n"
     ]
    },
    {
     "name": "stdout",
     "output_type": "stream",
     "text": [
      "  Episode 6 stopped at t=600 \n",
      "  Breakdown [Reward/NoReward (Success rate)]\n",
      "    explore-local: 6/67 (0.08)\n",
      "    explore-remote: 8/343 (0.02)\n",
      "    explore-connect: 0/0 (NaN)\n",
      "    exploit-local: 0/0 (NaN)\n",
      "    exploit-remote: 0/0 (NaN)\n",
      "    exploit-connect: 3/173 (0.02)\n",
      "  exploit deflected to exploration: 10\n",
      "  ## Episode: 7/10 'Credential lookups (ϵ-greedy)' ϵ=0.6815, \n"
     ]
    },
    {
     "name": "stderr",
     "output_type": "stream",
     "text": [
      "\r\n",
      "Episode 7|Iteration 0|reward: ------|last_reward_at: ----|Elapsed Time: 0:00:00||"
     ]
    },
    {
     "name": "stderr",
     "output_type": "stream",
     "text": [
      "\r\n",
      "Episode 7|Iteration 1|reward:    0.0|last_reward_at: ----|Elapsed Time: 0:00:00||"
     ]
    },
    {
     "name": "stderr",
     "output_type": "stream",
     "text": [
      "\r\n",
      "Episode 7|Iteration 4|reward:    9.0|last_reward_at: ----|Elapsed Time: 0:00:00||"
     ]
    },
    {
     "name": "stderr",
     "output_type": "stream",
     "text": [
      "\r\n",
      "Episode 7|Iteration 4|reward:    9.0|last_reward_at:    4|Elapsed Time: 0:00:00||"
     ]
    },
    {
     "name": "stderr",
     "output_type": "stream",
     "text": [
      "\r\n",
      "Episode 7|Iteration 6|reward:  109.0|last_reward_at:    4|Elapsed Time: 0:00:00||"
     ]
    },
    {
     "name": "stderr",
     "output_type": "stream",
     "text": [
      "\r\n",
      "Episode 7|Iteration 6|reward:  109.0|last_reward_at:    6|Elapsed Time: 0:00:00||"
     ]
    },
    {
     "name": "stderr",
     "output_type": "stream",
     "text": [
      "\r\n",
      "Episode 7|Iteration 8|reward:  111.0|last_reward_at:    6|Elapsed Time: 0:00:00||"
     ]
    },
    {
     "name": "stderr",
     "output_type": "stream",
     "text": [
      "\r\n",
      "Episode 7|Iteration 8|reward:  111.0|last_reward_at:    8|Elapsed Time: 0:00:00||"
     ]
    },
    {
     "name": "stderr",
     "output_type": "stream",
     "text": [
      "\r\n",
      "Episode 7|Iteration 12|reward:  113.0|last_reward_at:    8|Elapsed Time: 0:00:00||"
     ]
    },
    {
     "name": "stderr",
     "output_type": "stream",
     "text": [
      "\r\n",
      "Episode 7|Iteration 12|reward:  113.0|last_reward_at:   12|Elapsed Time: 0:00:00||"
     ]
    },
    {
     "name": "stderr",
     "output_type": "stream",
     "text": [
      "\r\n",
      "Episode 7|Iteration 17|reward:  119.0|last_reward_at:   12|Elapsed Time: 0:00:00||"
     ]
    },
    {
     "name": "stderr",
     "output_type": "stream",
     "text": [
      "\r\n",
      "Episode 7|Iteration 17|reward:  119.0|last_reward_at:   17|Elapsed Time: 0:00:00||"
     ]
    },
    {
     "name": "stderr",
     "output_type": "stream",
     "text": [
      "\r\n",
      "Episode 7|Iteration 19|reward:  127.0|last_reward_at:   17|Elapsed Time: 0:00:00||"
     ]
    },
    {
     "name": "stderr",
     "output_type": "stream",
     "text": [
      "\r\n",
      "Episode 7|Iteration 19|reward:  127.0|last_reward_at:   19|Elapsed Time: 0:00:00||"
     ]
    },
    {
     "name": "stderr",
     "output_type": "stream",
     "text": [
      "\r\n",
      "Episode 7|Iteration 20|reward:  136.0|last_reward_at:   19|Elapsed Time: 0:00:00||"
     ]
    },
    {
     "name": "stderr",
     "output_type": "stream",
     "text": [
      "\r\n",
      "Episode 7|Iteration 20|reward:  136.0|last_reward_at:   20|Elapsed Time: 0:00:00||"
     ]
    },
    {
     "name": "stderr",
     "output_type": "stream",
     "text": [
      "\r\n",
      "Episode 7|Iteration 21|reward:  236.0|last_reward_at:   20|Elapsed Time: 0:00:00||"
     ]
    },
    {
     "name": "stderr",
     "output_type": "stream",
     "text": [
      "\r\n",
      "Episode 7|Iteration 21|reward:  236.0|last_reward_at:   21|Elapsed Time: 0:00:00||"
     ]
    },
    {
     "name": "stderr",
     "output_type": "stream",
     "text": [
      "\r\n",
      "Episode 7|Iteration 25|reward:  242.0|last_reward_at:   21|Elapsed Time: 0:00:00||"
     ]
    },
    {
     "name": "stderr",
     "output_type": "stream",
     "text": [
      "\r\n",
      "Episode 7|Iteration 25|reward:  242.0|last_reward_at:   25|Elapsed Time: 0:00:00||"
     ]
    },
    {
     "name": "stderr",
     "output_type": "stream",
     "text": [
      "\r\n",
      "Episode 7|Iteration 69|reward:  242.0|last_reward_at:   25|Elapsed Time: 0:00:00||"
     ]
    },
    {
     "name": "stderr",
     "output_type": "stream",
     "text": [
      "\r\n",
      "Episode 7|Iteration 107|reward:  242.0|last_reward_at:   25|Elapsed Time: 0:00:00||"
     ]
    },
    {
     "name": "stderr",
     "output_type": "stream",
     "text": [
      "\r\n",
      "Episode 7|Iteration 145|reward:  242.0|last_reward_at:   25|Elapsed Time: 0:00:00||"
     ]
    },
    {
     "name": "stderr",
     "output_type": "stream",
     "text": [
      "\r\n",
      "Episode 7|Iteration 183|reward:  242.0|last_reward_at:   25|Elapsed Time: 0:00:00||"
     ]
    },
    {
     "name": "stderr",
     "output_type": "stream",
     "text": [
      "\r\n",
      "Episode 7|Iteration 221|reward:  242.0|last_reward_at:   25|Elapsed Time: 0:00:00||"
     ]
    },
    {
     "name": "stderr",
     "output_type": "stream",
     "text": [
      "\r\n",
      "Episode 7|Iteration 259|reward:  242.0|last_reward_at:   25|Elapsed Time: 0:00:00||"
     ]
    },
    {
     "name": "stderr",
     "output_type": "stream",
     "text": [
      "\r\n",
      "Episode 7|Iteration 297|reward:  242.0|last_reward_at:   25|Elapsed Time: 0:00:00||"
     ]
    },
    {
     "name": "stderr",
     "output_type": "stream",
     "text": [
      "\r\n",
      "Episode 7|Iteration 335|reward:  242.0|last_reward_at:   25|Elapsed Time: 0:00:00||"
     ]
    },
    {
     "name": "stderr",
     "output_type": "stream",
     "text": [
      "\r\n",
      "Episode 7|Iteration 365|reward:  242.0|last_reward_at:   25|Elapsed Time: 0:00:00||"
     ]
    },
    {
     "name": "stderr",
     "output_type": "stream",
     "text": [
      "\r\n",
      "Episode 7|Iteration 403|reward:  242.0|last_reward_at:   25|Elapsed Time: 0:00:00||"
     ]
    },
    {
     "name": "stderr",
     "output_type": "stream",
     "text": [
      "\r\n",
      "Episode 7|Iteration 441|reward:  242.0|last_reward_at:   25|Elapsed Time: 0:00:00||"
     ]
    },
    {
     "name": "stderr",
     "output_type": "stream",
     "text": [
      "\r\n",
      "Episode 7|Iteration 479|reward:  242.0|last_reward_at:   25|Elapsed Time: 0:00:00||"
     ]
    },
    {
     "name": "stderr",
     "output_type": "stream",
     "text": [
      "\r\n",
      "Episode 7|Iteration 517|reward:  242.0|last_reward_at:   25|Elapsed Time: 0:00:00||"
     ]
    },
    {
     "name": "stderr",
     "output_type": "stream",
     "text": [
      "\r\n",
      "Episode 7|Iteration 555|reward:  242.0|last_reward_at:   25|Elapsed Time: 0:00:00||"
     ]
    },
    {
     "name": "stderr",
     "output_type": "stream",
     "text": [
      "\r\n",
      "Episode 7|Iteration 593|reward:  242.0|last_reward_at:   25|Elapsed Time: 0:00:00||"
     ]
    },
    {
     "name": "stderr",
     "output_type": "stream",
     "text": [
      "\r\n",
      "Episode 7|Iteration 600|reward:  242.0|last_reward_at:   25|Elapsed Time: 0:00:00||"
     ]
    },
    {
     "name": "stderr",
     "output_type": "stream",
     "text": [
      "\n"
     ]
    },
    {
     "name": "stdout",
     "output_type": "stream",
     "text": [
      "  Episode 7 stopped at t=600 \n",
      "  Breakdown [Reward/NoReward (Success rate)]\n",
      "    explore-local: 3/47 (0.06)\n",
      "    explore-remote: 4/352 (0.01)\n",
      "    explore-connect: 0/0 (NaN)\n",
      "    exploit-local: 0/0 (NaN)\n",
      "    exploit-remote: 0/0 (NaN)\n",
      "    exploit-connect: 2/192 (0.01)\n",
      "  exploit deflected to exploration: 14\n",
      "  ## Episode: 8/10 'Credential lookups (ϵ-greedy)' ϵ=0.6476, \n"
     ]
    },
    {
     "name": "stderr",
     "output_type": "stream",
     "text": [
      "\r\n",
      "Episode 8|Iteration 0|reward: ------|last_reward_at: ----|Elapsed Time: 0:00:00||"
     ]
    },
    {
     "name": "stderr",
     "output_type": "stream",
     "text": [
      "\r\n",
      "Episode 8|Iteration 1|reward:    9.0|last_reward_at: ----|Elapsed Time: 0:00:00||"
     ]
    },
    {
     "name": "stderr",
     "output_type": "stream",
     "text": [
      "\r\n",
      "Episode 8|Iteration 1|reward:    9.0|last_reward_at:    1|Elapsed Time: 0:00:00||"
     ]
    },
    {
     "name": "stderr",
     "output_type": "stream",
     "text": [
      "\r\n",
      "Episode 8|Iteration 6|reward:  109.0|last_reward_at:    1|Elapsed Time: 0:00:00||"
     ]
    },
    {
     "name": "stderr",
     "output_type": "stream",
     "text": [
      "\r\n",
      "Episode 8|Iteration 6|reward:  109.0|last_reward_at:    6|Elapsed Time: 0:00:00||"
     ]
    },
    {
     "name": "stderr",
     "output_type": "stream",
     "text": [
      "\r\n",
      "Episode 8|Iteration 9|reward:  118.0|last_reward_at:    6|Elapsed Time: 0:00:00||"
     ]
    },
    {
     "name": "stderr",
     "output_type": "stream",
     "text": [
      "\r\n",
      "Episode 8|Iteration 9|reward:  118.0|last_reward_at:    9|Elapsed Time: 0:00:00||"
     ]
    },
    {
     "name": "stderr",
     "output_type": "stream",
     "text": [
      "\r\n",
      "Episode 8|Iteration 10|reward:  218.0|last_reward_at:    9|Elapsed Time: 0:00:00||"
     ]
    },
    {
     "name": "stderr",
     "output_type": "stream",
     "text": [
      "\r\n",
      "Episode 8|Iteration 10|reward:  218.0|last_reward_at:   10|Elapsed Time: 0:00:00||"
     ]
    },
    {
     "name": "stderr",
     "output_type": "stream",
     "text": [
      "\r\n",
      "Episode 8|Iteration 11|reward:  220.0|last_reward_at:   10|Elapsed Time: 0:00:00||"
     ]
    },
    {
     "name": "stderr",
     "output_type": "stream",
     "text": [
      "\r\n",
      "Episode 8|Iteration 11|reward:  220.0|last_reward_at:   11|Elapsed Time: 0:00:00||"
     ]
    },
    {
     "name": "stderr",
     "output_type": "stream",
     "text": [
      "\r\n",
      "Episode 8|Iteration 13|reward:  226.0|last_reward_at:   11|Elapsed Time: 0:00:00||"
     ]
    },
    {
     "name": "stderr",
     "output_type": "stream",
     "text": [
      "\r\n",
      "Episode 8|Iteration 13|reward:  226.0|last_reward_at:   13|Elapsed Time: 0:00:00||"
     ]
    },
    {
     "name": "stderr",
     "output_type": "stream",
     "text": [
      "\r\n",
      "Episode 8|Iteration 15|reward:  228.0|last_reward_at:   13|Elapsed Time: 0:00:00||"
     ]
    },
    {
     "name": "stderr",
     "output_type": "stream",
     "text": [
      "\r\n",
      "Episode 8|Iteration 15|reward:  228.0|last_reward_at:   15|Elapsed Time: 0:00:00||"
     ]
    },
    {
     "name": "stderr",
     "output_type": "stream",
     "text": [
      "\r\n",
      "Episode 8|Iteration 27|reward:  234.0|last_reward_at:   15|Elapsed Time: 0:00:00||"
     ]
    },
    {
     "name": "stderr",
     "output_type": "stream",
     "text": [
      "\r\n",
      "Episode 8|Iteration 27|reward:  234.0|last_reward_at:   27|Elapsed Time: 0:00:00||"
     ]
    },
    {
     "name": "stderr",
     "output_type": "stream",
     "text": [
      "\r\n",
      "Episode 8|Iteration 29|reward:  240.0|last_reward_at:   27|Elapsed Time: 0:00:00||"
     ]
    },
    {
     "name": "stderr",
     "output_type": "stream",
     "text": [
      "\r\n",
      "Episode 8|Iteration 29|reward:  240.0|last_reward_at:   29|Elapsed Time: 0:00:00||"
     ]
    },
    {
     "name": "stderr",
     "output_type": "stream",
     "text": [
      "\r\n",
      "Episode 8|Iteration 69|reward:  240.0|last_reward_at:   29|Elapsed Time: 0:00:00||"
     ]
    },
    {
     "name": "stderr",
     "output_type": "stream",
     "text": [
      "\r\n",
      "Episode 8|Iteration 107|reward:  240.0|last_reward_at:   29|Elapsed Time: 0:00:00||"
     ]
    },
    {
     "name": "stderr",
     "output_type": "stream",
     "text": [
      "\r\n",
      "Episode 8|Iteration 145|reward:  240.0|last_reward_at:   29|Elapsed Time: 0:00:00||"
     ]
    },
    {
     "name": "stderr",
     "output_type": "stream",
     "text": [
      "\r\n",
      "Episode 8|Iteration 183|reward:  240.0|last_reward_at:   29|Elapsed Time: 0:00:00||"
     ]
    },
    {
     "name": "stderr",
     "output_type": "stream",
     "text": [
      "\r\n",
      "Episode 8|Iteration 221|reward:  240.0|last_reward_at:   29|Elapsed Time: 0:00:00||"
     ]
    },
    {
     "name": "stderr",
     "output_type": "stream",
     "text": [
      "\r\n",
      "Episode 8|Iteration 266|reward:  240.0|last_reward_at:   29|Elapsed Time: 0:00:00||"
     ]
    },
    {
     "name": "stderr",
     "output_type": "stream",
     "text": [
      "\r\n",
      "Episode 8|Iteration 304|reward:  240.0|last_reward_at:   29|Elapsed Time: 0:00:00||"
     ]
    },
    {
     "name": "stderr",
     "output_type": "stream",
     "text": [
      "\r\n",
      "Episode 8|Iteration 342|reward:  240.0|last_reward_at:   29|Elapsed Time: 0:00:00||"
     ]
    },
    {
     "name": "stderr",
     "output_type": "stream",
     "text": [
      "\r\n",
      "Episode 8|Iteration 380|reward:  240.0|last_reward_at:   29|Elapsed Time: 0:00:00||"
     ]
    },
    {
     "name": "stderr",
     "output_type": "stream",
     "text": [
      "\r\n",
      "Episode 8|Iteration 418|reward:  240.0|last_reward_at:   29|Elapsed Time: 0:00:00||"
     ]
    },
    {
     "name": "stderr",
     "output_type": "stream",
     "text": [
      "\r\n",
      "Episode 8|Iteration 456|reward:  240.0|last_reward_at:   29|Elapsed Time: 0:00:00||"
     ]
    },
    {
     "name": "stderr",
     "output_type": "stream",
     "text": [
      "\r\n",
      "Episode 8|Iteration 494|reward:  240.0|last_reward_at:   29|Elapsed Time: 0:00:00||"
     ]
    },
    {
     "name": "stderr",
     "output_type": "stream",
     "text": [
      "\r\n",
      "Episode 8|Iteration 532|reward:  240.0|last_reward_at:   29|Elapsed Time: 0:00:00||"
     ]
    },
    {
     "name": "stderr",
     "output_type": "stream",
     "text": [
      "\r\n",
      "Episode 8|Iteration 570|reward:  240.0|last_reward_at:   29|Elapsed Time: 0:00:00||"
     ]
    },
    {
     "name": "stderr",
     "output_type": "stream",
     "text": [
      "\r\n",
      "Episode 8|Iteration 600|reward:  240.0|last_reward_at:   29|Elapsed Time: 0:00:00||"
     ]
    },
    {
     "name": "stderr",
     "output_type": "stream",
     "text": [
      "\n"
     ]
    },
    {
     "name": "stdout",
     "output_type": "stream",
     "text": [
      "  Episode 8 stopped at t=600 \n",
      "  Breakdown [Reward/NoReward (Success rate)]\n",
      "    explore-local: 3/92 (0.03)\n",
      "    explore-remote: 4/288 (0.01)\n",
      "    explore-connect: 0/0 (NaN)\n",
      "    exploit-local: 0/0 (NaN)\n",
      "    exploit-remote: 0/0 (NaN)\n",
      "    exploit-connect: 2/211 (0.01)\n",
      "  exploit deflected to exploration: 2\n",
      "  ## Episode: 9/10 'Credential lookups (ϵ-greedy)' ϵ=0.6157, \n"
     ]
    },
    {
     "name": "stderr",
     "output_type": "stream",
     "text": [
      "\r\n",
      "Episode 9|Iteration 0|reward: ------|last_reward_at: ----|Elapsed Time: 0:00:00||"
     ]
    },
    {
     "name": "stderr",
     "output_type": "stream",
     "text": [
      "\r\n",
      "Episode 9|Iteration 1|reward:    0.0|last_reward_at: ----|Elapsed Time: 0:00:00||"
     ]
    },
    {
     "name": "stderr",
     "output_type": "stream",
     "text": [
      "\r\n",
      "Episode 9|Iteration 2|reward:    9.0|last_reward_at: ----|Elapsed Time: 0:00:00||"
     ]
    },
    {
     "name": "stderr",
     "output_type": "stream",
     "text": [
      "\r\n",
      "Episode 9|Iteration 2|reward:    9.0|last_reward_at:    2|Elapsed Time: 0:00:00||"
     ]
    },
    {
     "name": "stderr",
     "output_type": "stream",
     "text": [
      "\r\n",
      "Episode 9|Iteration 3|reward:  109.0|last_reward_at:    2|Elapsed Time: 0:00:00||"
     ]
    },
    {
     "name": "stderr",
     "output_type": "stream",
     "text": [
      "\r\n",
      "Episode 9|Iteration 3|reward:  109.0|last_reward_at:    3|Elapsed Time: 0:00:00||"
     ]
    },
    {
     "name": "stderr",
     "output_type": "stream",
     "text": [
      "\r\n",
      "Episode 9|Iteration 4|reward:  115.0|last_reward_at:    3|Elapsed Time: 0:00:00||"
     ]
    },
    {
     "name": "stderr",
     "output_type": "stream",
     "text": [
      "\r\n",
      "Episode 9|Iteration 4|reward:  115.0|last_reward_at:    4|Elapsed Time: 0:00:00||"
     ]
    },
    {
     "name": "stderr",
     "output_type": "stream",
     "text": [
      "\r\n",
      "Episode 9|Iteration 5|reward:  123.0|last_reward_at:    4|Elapsed Time: 0:00:00||"
     ]
    },
    {
     "name": "stderr",
     "output_type": "stream",
     "text": [
      "\r\n",
      "Episode 9|Iteration 5|reward:  123.0|last_reward_at:    5|Elapsed Time: 0:00:00||"
     ]
    },
    {
     "name": "stderr",
     "output_type": "stream",
     "text": [
      "\r\n",
      "Episode 9|Iteration 6|reward:  132.0|last_reward_at:    5|Elapsed Time: 0:00:00||"
     ]
    },
    {
     "name": "stderr",
     "output_type": "stream",
     "text": [
      "\r\n",
      "Episode 9|Iteration 6|reward:  132.0|last_reward_at:    6|Elapsed Time: 0:00:00||"
     ]
    },
    {
     "name": "stderr",
     "output_type": "stream",
     "text": [
      "\r\n",
      "Episode 9|Iteration 7|reward:  232.0|last_reward_at:    6|Elapsed Time: 0:00:00||"
     ]
    },
    {
     "name": "stderr",
     "output_type": "stream",
     "text": [
      "\r\n",
      "Episode 9|Iteration 7|reward:  232.0|last_reward_at:    7|Elapsed Time: 0:00:00||"
     ]
    },
    {
     "name": "stderr",
     "output_type": "stream",
     "text": [
      "\r\n",
      "Episode 9|Iteration 11|reward:  238.0|last_reward_at:    7|Elapsed Time: 0:00:00||"
     ]
    },
    {
     "name": "stderr",
     "output_type": "stream",
     "text": [
      "\r\n",
      "Episode 9|Iteration 11|reward:  238.0|last_reward_at:   11|Elapsed Time: 0:00:00||"
     ]
    },
    {
     "name": "stderr",
     "output_type": "stream",
     "text": [
      "\r\n",
      "Episode 9|Iteration 16|reward:  240.0|last_reward_at:   11|Elapsed Time: 0:00:00||"
     ]
    },
    {
     "name": "stderr",
     "output_type": "stream",
     "text": [
      "\r\n",
      "Episode 9|Iteration 16|reward:  240.0|last_reward_at:   16|Elapsed Time: 0:00:00||"
     ]
    },
    {
     "name": "stderr",
     "output_type": "stream",
     "text": [
      "\r\n",
      "Episode 9|Iteration 28|reward:  242.0|last_reward_at:   16|Elapsed Time: 0:00:00||"
     ]
    },
    {
     "name": "stderr",
     "output_type": "stream",
     "text": [
      "\r\n",
      "Episode 9|Iteration 28|reward:  242.0|last_reward_at:   28|Elapsed Time: 0:00:00||"
     ]
    },
    {
     "name": "stderr",
     "output_type": "stream",
     "text": [
      "\r\n",
      "Episode 9|Iteration 31|reward:  251.0|last_reward_at:   28|Elapsed Time: 0:00:00||"
     ]
    },
    {
     "name": "stderr",
     "output_type": "stream",
     "text": [
      "\r\n",
      "Episode 9|Iteration 31|reward:  251.0|last_reward_at:   31|Elapsed Time: 0:00:00||"
     ]
    },
    {
     "name": "stderr",
     "output_type": "stream",
     "text": [
      "\r\n",
      "Episode 9|Iteration 33|reward:  351.0|last_reward_at:   31|Elapsed Time: 0:00:00||"
     ]
    },
    {
     "name": "stderr",
     "output_type": "stream",
     "text": [
      "\r\n",
      "Episode 9|Iteration 33|reward:  351.0|last_reward_at:   33|Elapsed Time: 0:00:00||"
     ]
    },
    {
     "name": "stderr",
     "output_type": "stream",
     "text": [
      "\r\n",
      "Episode 9|Iteration 34|reward:  353.0|last_reward_at:   33|Elapsed Time: 0:00:00||"
     ]
    },
    {
     "name": "stderr",
     "output_type": "stream",
     "text": [
      "\r\n",
      "Episode 9|Iteration 34|reward:  353.0|last_reward_at:   34|Elapsed Time: 0:00:00||"
     ]
    },
    {
     "name": "stderr",
     "output_type": "stream",
     "text": [
      "\r\n",
      "Episode 9|Iteration 37|reward:  359.0|last_reward_at:   34|Elapsed Time: 0:00:00||"
     ]
    },
    {
     "name": "stderr",
     "output_type": "stream",
     "text": [
      "\r\n",
      "Episode 9|Iteration 37|reward:  359.0|last_reward_at:   37|Elapsed Time: 0:00:00||"
     ]
    },
    {
     "name": "stderr",
     "output_type": "stream",
     "text": [
      "\r\n",
      "Episode 9|Iteration 42|reward:  365.0|last_reward_at:   37|Elapsed Time: 0:00:00||"
     ]
    },
    {
     "name": "stderr",
     "output_type": "stream",
     "text": [
      "\r\n",
      "Episode 9|Iteration 42|reward:  365.0|last_reward_at:   42|Elapsed Time: 0:00:00||"
     ]
    },
    {
     "name": "stderr",
     "output_type": "stream",
     "text": [
      "\r\n",
      "Episode 9|Iteration 63|reward:  367.0|last_reward_at:   42|Elapsed Time: 0:00:00||"
     ]
    },
    {
     "name": "stderr",
     "output_type": "stream",
     "text": [
      "\r\n",
      "Episode 9|Iteration 63|reward:  367.0|last_reward_at:   63|Elapsed Time: 0:00:00||"
     ]
    },
    {
     "name": "stderr",
     "output_type": "stream",
     "text": [
      "\r\n",
      "Episode 9|Iteration 65|reward:  376.0|last_reward_at:   63|Elapsed Time: 0:00:00||"
     ]
    },
    {
     "name": "stderr",
     "output_type": "stream",
     "text": [
      "\r\n",
      "Episode 9|Iteration 65|reward:  376.0|last_reward_at:   65|Elapsed Time: 0:00:00||"
     ]
    },
    {
     "name": "stderr",
     "output_type": "stream",
     "text": [
      "\r\n",
      "Episode 9|Iteration 71|reward:  476.0|last_reward_at:   65|Elapsed Time: 0:00:00||"
     ]
    },
    {
     "name": "stderr",
     "output_type": "stream",
     "text": [
      "\r\n",
      "Episode 9|Iteration 71|reward:  476.0|last_reward_at:   71|Elapsed Time: 0:00:00||"
     ]
    },
    {
     "name": "stderr",
     "output_type": "stream",
     "text": [
      "\r\n",
      "Episode 9|Iteration 73|reward:  482.0|last_reward_at:   71|Elapsed Time: 0:00:00||"
     ]
    },
    {
     "name": "stderr",
     "output_type": "stream",
     "text": [
      "\r\n",
      "Episode 9|Iteration 73|reward:  482.0|last_reward_at:   73|Elapsed Time: 0:00:00||"
     ]
    },
    {
     "name": "stderr",
     "output_type": "stream",
     "text": [
      "\r\n",
      "Episode 9|Iteration 80|reward:  491.0|last_reward_at:   73|Elapsed Time: 0:00:00||"
     ]
    },
    {
     "name": "stderr",
     "output_type": "stream",
     "text": [
      "\r\n",
      "Episode 9|Iteration 80|reward:  491.0|last_reward_at:   80|Elapsed Time: 0:00:00||"
     ]
    },
    {
     "name": "stderr",
     "output_type": "stream",
     "text": [
      "\r\n",
      "Episode 9|Iteration 82|reward:  497.0|last_reward_at:   80|Elapsed Time: 0:00:00||"
     ]
    },
    {
     "name": "stderr",
     "output_type": "stream",
     "text": [
      "\r\n",
      "Episode 9|Iteration 82|reward:  497.0|last_reward_at:   82|Elapsed Time: 0:00:00||"
     ]
    },
    {
     "name": "stderr",
     "output_type": "stream",
     "text": [
      "\r\n",
      "Episode 9|Iteration 94|reward:  501.0|last_reward_at:   82|Elapsed Time: 0:00:00||"
     ]
    },
    {
     "name": "stderr",
     "output_type": "stream",
     "text": [
      "\r\n",
      "Episode 9|Iteration 94|reward:  501.0|last_reward_at:   94|Elapsed Time: 0:00:00||"
     ]
    },
    {
     "name": "stderr",
     "output_type": "stream",
     "text": [
      "\r\n",
      "Episode 9|Iteration 100|reward:  601.0|last_reward_at:   94|Elapsed Time: 0:00:00||"
     ]
    },
    {
     "name": "stderr",
     "output_type": "stream",
     "text": [
      "\r\n",
      "Episode 9|Iteration 100|reward:  601.0|last_reward_at:  100|Elapsed Time: 0:00:00||"
     ]
    },
    {
     "name": "stderr",
     "output_type": "stream",
     "text": [
      "\r\n",
      "Episode 9|Iteration 102|reward:  610.0|last_reward_at:  100|Elapsed Time: 0:00:00||"
     ]
    },
    {
     "name": "stderr",
     "output_type": "stream",
     "text": [
      "\r\n",
      "Episode 9|Iteration 102|reward:  610.0|last_reward_at:  102|Elapsed Time: 0:00:00||"
     ]
    },
    {
     "name": "stderr",
     "output_type": "stream",
     "text": [
      "\r\n",
      "Episode 9|Iteration 103|reward:  710.0|last_reward_at:  102|Elapsed Time: 0:00:00||"
     ]
    },
    {
     "name": "stderr",
     "output_type": "stream",
     "text": [
      "\r\n",
      "Episode 9|Iteration 103|reward:  710.0|last_reward_at:  103|Elapsed Time: 0:00:00||"
     ]
    },
    {
     "name": "stderr",
     "output_type": "stream",
     "text": [
      "\r\n",
      "Episode 9|Iteration 109|reward:  712.0|last_reward_at:  103|Elapsed Time: 0:00:00||"
     ]
    },
    {
     "name": "stderr",
     "output_type": "stream",
     "text": [
      "\r\n",
      "Episode 9|Iteration 109|reward:  712.0|last_reward_at:  109|Elapsed Time: 0:00:00||"
     ]
    },
    {
     "name": "stderr",
     "output_type": "stream",
     "text": [
      "\r\n",
      "Episode 9|Iteration 116|reward:  718.0|last_reward_at:  109|Elapsed Time: 0:00:00||"
     ]
    },
    {
     "name": "stderr",
     "output_type": "stream",
     "text": [
      "\r\n",
      "Episode 9|Iteration 116|reward:  718.0|last_reward_at:  116|Elapsed Time: 0:00:00||"
     ]
    },
    {
     "name": "stderr",
     "output_type": "stream",
     "text": [
      "\r\n",
      "Episode 9|Iteration 130|reward:  724.0|last_reward_at:  116|Elapsed Time: 0:00:00||"
     ]
    },
    {
     "name": "stderr",
     "output_type": "stream",
     "text": [
      "\r\n",
      "Episode 9|Iteration 130|reward:  724.0|last_reward_at:  130|Elapsed Time: 0:00:00||"
     ]
    },
    {
     "name": "stderr",
     "output_type": "stream",
     "text": [
      "\r\n",
      "Episode 9|Iteration 168|reward:  724.0|last_reward_at:  130|Elapsed Time: 0:00:00||"
     ]
    },
    {
     "name": "stderr",
     "output_type": "stream",
     "text": [
      "\r\n",
      "Episode 9|Iteration 173|reward:  730.0|last_reward_at:  130|Elapsed Time: 0:00:00||"
     ]
    },
    {
     "name": "stderr",
     "output_type": "stream",
     "text": [
      "\r\n",
      "Episode 9|Iteration 173|reward:  730.0|last_reward_at:  173|Elapsed Time: 0:00:00||"
     ]
    },
    {
     "name": "stderr",
     "output_type": "stream",
     "text": [
      "\r\n",
      "Episode 9|Iteration 206|reward:  730.0|last_reward_at:  173|Elapsed Time: 0:00:00||"
     ]
    },
    {
     "name": "stderr",
     "output_type": "stream",
     "text": [
      "\r\n",
      "Episode 9|Iteration 236|reward:  730.0|last_reward_at:  173|Elapsed Time: 0:00:00||"
     ]
    },
    {
     "name": "stderr",
     "output_type": "stream",
     "text": [
      "\r\n",
      "Episode 9|Iteration 266|reward:  730.0|last_reward_at:  173|Elapsed Time: 0:00:00||"
     ]
    },
    {
     "name": "stderr",
     "output_type": "stream",
     "text": [
      "\r\n",
      "Episode 9|Iteration 297|reward:  730.0|last_reward_at:  173|Elapsed Time: 0:00:00||"
     ]
    },
    {
     "name": "stderr",
     "output_type": "stream",
     "text": [
      "\r\n",
      "Episode 9|Iteration 327|reward:  730.0|last_reward_at:  173|Elapsed Time: 0:00:00||"
     ]
    },
    {
     "name": "stderr",
     "output_type": "stream",
     "text": [
      "\r\n",
      "Episode 9|Iteration 357|reward:  730.0|last_reward_at:  173|Elapsed Time: 0:00:00||"
     ]
    },
    {
     "name": "stderr",
     "output_type": "stream",
     "text": [
      "\r\n",
      "Episode 9|Iteration 388|reward:  730.0|last_reward_at:  173|Elapsed Time: 0:00:00||"
     ]
    },
    {
     "name": "stderr",
     "output_type": "stream",
     "text": [
      "\r\n",
      "Episode 9|Iteration 418|reward:  730.0|last_reward_at:  173|Elapsed Time: 0:00:00||"
     ]
    },
    {
     "name": "stderr",
     "output_type": "stream",
     "text": [
      "\r\n",
      "Episode 9|Iteration 449|reward:  730.0|last_reward_at:  173|Elapsed Time: 0:00:00||"
     ]
    },
    {
     "name": "stderr",
     "output_type": "stream",
     "text": [
      "\r\n",
      "Episode 9|Iteration 479|reward:  730.0|last_reward_at:  173|Elapsed Time: 0:00:00||"
     ]
    },
    {
     "name": "stderr",
     "output_type": "stream",
     "text": [
      "\r\n",
      "Episode 9|Iteration 509|reward:  730.0|last_reward_at:  173|Elapsed Time: 0:00:00||"
     ]
    },
    {
     "name": "stderr",
     "output_type": "stream",
     "text": [
      "\r\n",
      "Episode 9|Iteration 532|reward:  730.0|last_reward_at:  173|Elapsed Time: 0:00:01||"
     ]
    },
    {
     "name": "stderr",
     "output_type": "stream",
     "text": [
      "\r\n",
      "Episode 9|Iteration 563|reward:  730.0|last_reward_at:  173|Elapsed Time: 0:00:01||"
     ]
    },
    {
     "name": "stderr",
     "output_type": "stream",
     "text": [
      "\r\n",
      "Episode 9|Iteration 600|reward:  730.0|last_reward_at:  173|Elapsed Time: 0:00:01||"
     ]
    },
    {
     "name": "stderr",
     "output_type": "stream",
     "text": [
      "\r\n",
      "Episode 9|Iteration 600|reward:  730.0|last_reward_at:  173|Elapsed Time: 0:00:01||"
     ]
    },
    {
     "name": "stderr",
     "output_type": "stream",
     "text": [
      "\n"
     ]
    },
    {
     "name": "stdout",
     "output_type": "stream",
     "text": [
      "  Episode 9 stopped at t=600 \n",
      "  Breakdown [Reward/NoReward (Success rate)]\n",
      "    explore-local: 10/74 (0.12)\n",
      "    explore-remote: 12/278 (0.04)\n",
      "    explore-connect: 0/0 (NaN)\n",
      "    exploit-local: 0/0 (NaN)\n",
      "    exploit-remote: 0/0 (NaN)\n",
      "    exploit-connect: 6/220 (0.03)\n",
      "  exploit deflected to exploration: 20\n",
      "  ## Episode: 10/10 'Credential lookups (ϵ-greedy)' ϵ=0.5857, \n"
     ]
    },
    {
     "name": "stderr",
     "output_type": "stream",
     "text": [
      "\r\n",
      "Episode 10|Iteration 0|reward: ------|last_reward_at: ----|Elapsed Time: 0:00:00||"
     ]
    },
    {
     "name": "stderr",
     "output_type": "stream",
     "text": [
      "\r\n",
      "Episode 10|Iteration 1|reward:    0.0|last_reward_at: ----|Elapsed Time: 0:00:00||"
     ]
    },
    {
     "name": "stderr",
     "output_type": "stream",
     "text": [
      "\r\n",
      "Episode 10|Iteration 13|reward:    9.0|last_reward_at: ----|Elapsed Time: 0:00:00||"
     ]
    },
    {
     "name": "stderr",
     "output_type": "stream",
     "text": [
      "\r\n",
      "Episode 10|Iteration 13|reward:    9.0|last_reward_at:   13|Elapsed Time: 0:00:00||"
     ]
    },
    {
     "name": "stderr",
     "output_type": "stream",
     "text": [
      "\r\n",
      "Episode 10|Iteration 14|reward:  109.0|last_reward_at:   13|Elapsed Time: 0:00:00||"
     ]
    },
    {
     "name": "stderr",
     "output_type": "stream",
     "text": [
      "\r\n",
      "Episode 10|Iteration 14|reward:  109.0|last_reward_at:   14|Elapsed Time: 0:00:00||"
     ]
    },
    {
     "name": "stderr",
     "output_type": "stream",
     "text": [
      "\r\n",
      "Episode 10|Iteration 16|reward:  118.0|last_reward_at:   14|Elapsed Time: 0:00:00||"
     ]
    },
    {
     "name": "stderr",
     "output_type": "stream",
     "text": [
      "\r\n",
      "Episode 10|Iteration 16|reward:  118.0|last_reward_at:   16|Elapsed Time: 0:00:00||"
     ]
    },
    {
     "name": "stderr",
     "output_type": "stream",
     "text": [
      "\r\n",
      "Episode 10|Iteration 17|reward:  126.0|last_reward_at:   16|Elapsed Time: 0:00:00||"
     ]
    },
    {
     "name": "stderr",
     "output_type": "stream",
     "text": [
      "\r\n",
      "Episode 10|Iteration 17|reward:  126.0|last_reward_at:   17|Elapsed Time: 0:00:00||"
     ]
    },
    {
     "name": "stderr",
     "output_type": "stream",
     "text": [
      "\r\n",
      "Episode 10|Iteration 18|reward:  226.0|last_reward_at:   17|Elapsed Time: 0:00:00||"
     ]
    },
    {
     "name": "stderr",
     "output_type": "stream",
     "text": [
      "\r\n",
      "Episode 10|Iteration 18|reward:  226.0|last_reward_at:   18|Elapsed Time: 0:00:00||"
     ]
    },
    {
     "name": "stderr",
     "output_type": "stream",
     "text": [
      "\r\n",
      "Episode 10|Iteration 19|reward:  232.0|last_reward_at:   18|Elapsed Time: 0:00:00||"
     ]
    },
    {
     "name": "stderr",
     "output_type": "stream",
     "text": [
      "\r\n",
      "Episode 10|Iteration 19|reward:  232.0|last_reward_at:   19|Elapsed Time: 0:00:00||"
     ]
    },
    {
     "name": "stderr",
     "output_type": "stream",
     "text": [
      "\r\n",
      "Episode 10|Iteration 21|reward:  234.0|last_reward_at:   19|Elapsed Time: 0:00:00||"
     ]
    },
    {
     "name": "stderr",
     "output_type": "stream",
     "text": [
      "\r\n",
      "Episode 10|Iteration 21|reward:  234.0|last_reward_at:   21|Elapsed Time: 0:00:00||"
     ]
    },
    {
     "name": "stderr",
     "output_type": "stream",
     "text": [
      "\r\n",
      "Episode 10|Iteration 22|reward:  236.0|last_reward_at:   21|Elapsed Time: 0:00:00||"
     ]
    },
    {
     "name": "stderr",
     "output_type": "stream",
     "text": [
      "\r\n",
      "Episode 10|Iteration 22|reward:  236.0|last_reward_at:   22|Elapsed Time: 0:00:00||"
     ]
    },
    {
     "name": "stderr",
     "output_type": "stream",
     "text": [
      "\r\n",
      "Episode 10|Iteration 49|reward:  242.0|last_reward_at:   22|Elapsed Time: 0:00:00||"
     ]
    },
    {
     "name": "stderr",
     "output_type": "stream",
     "text": [
      "\r\n",
      "Episode 10|Iteration 49|reward:  242.0|last_reward_at:   49|Elapsed Time: 0:00:00||"
     ]
    },
    {
     "name": "stderr",
     "output_type": "stream",
     "text": [
      "\r\n",
      "Episode 10|Iteration 92|reward:  242.0|last_reward_at:   49|Elapsed Time: 0:00:00||"
     ]
    },
    {
     "name": "stderr",
     "output_type": "stream",
     "text": [
      "\r\n",
      "Episode 10|Iteration 130|reward:  242.0|last_reward_at:   49|Elapsed Time: 0:00:00||"
     ]
    },
    {
     "name": "stderr",
     "output_type": "stream",
     "text": [
      "\r\n",
      "Episode 10|Iteration 168|reward:  242.0|last_reward_at:   49|Elapsed Time: 0:00:00||"
     ]
    },
    {
     "name": "stderr",
     "output_type": "stream",
     "text": [
      "\r\n",
      "Episode 10|Iteration 213|reward:  242.0|last_reward_at:   49|Elapsed Time: 0:00:00||"
     ]
    },
    {
     "name": "stderr",
     "output_type": "stream",
     "text": [
      "\r\n",
      "Episode 10|Iteration 251|reward:  242.0|last_reward_at:   49|Elapsed Time: 0:00:00||"
     ]
    },
    {
     "name": "stderr",
     "output_type": "stream",
     "text": [
      "\r\n",
      "Episode 10|Iteration 289|reward:  242.0|last_reward_at:   49|Elapsed Time: 0:00:00||"
     ]
    },
    {
     "name": "stderr",
     "output_type": "stream",
     "text": [
      "\r\n",
      "Episode 10|Iteration 327|reward:  242.0|last_reward_at:   49|Elapsed Time: 0:00:00||"
     ]
    },
    {
     "name": "stderr",
     "output_type": "stream",
     "text": [
      "\r\n",
      "Episode 10|Iteration 365|reward:  242.0|last_reward_at:   49|Elapsed Time: 0:00:00||"
     ]
    },
    {
     "name": "stderr",
     "output_type": "stream",
     "text": [
      "\r\n",
      "Episode 10|Iteration 403|reward:  242.0|last_reward_at:   49|Elapsed Time: 0:00:00||"
     ]
    },
    {
     "name": "stderr",
     "output_type": "stream",
     "text": [
      "\r\n",
      "Episode 10|Iteration 441|reward:  242.0|last_reward_at:   49|Elapsed Time: 0:00:00||"
     ]
    },
    {
     "name": "stderr",
     "output_type": "stream",
     "text": [
      "\r\n",
      "Episode 10|Iteration 487|reward:  242.0|last_reward_at:   49|Elapsed Time: 0:00:00||"
     ]
    },
    {
     "name": "stderr",
     "output_type": "stream",
     "text": [
      "\r\n",
      "Episode 10|Iteration 525|reward:  242.0|last_reward_at:   49|Elapsed Time: 0:00:00||"
     ]
    },
    {
     "name": "stderr",
     "output_type": "stream",
     "text": [
      "\r\n",
      "Episode 10|Iteration 570|reward:  242.0|last_reward_at:   49|Elapsed Time: 0:00:00||"
     ]
    },
    {
     "name": "stderr",
     "output_type": "stream",
     "text": [
      "\r\n",
      "Episode 10|Iteration 600|reward:  242.0|last_reward_at:   49|Elapsed Time: 0:00:00||"
     ]
    },
    {
     "name": "stderr",
     "output_type": "stream",
     "text": [
      "\r\n",
      "Episode 10|Iteration 600|reward:  242.0|last_reward_at:   49|Elapsed Time: 0:00:00||"
     ]
    },
    {
     "name": "stderr",
     "output_type": "stream",
     "text": [
      "\n"
     ]
    },
    {
     "name": "stdout",
     "output_type": "stream",
     "text": [
      "  Episode 10 stopped at t=600 \n",
      "  Breakdown [Reward/NoReward (Success rate)]\n",
      "    explore-local: 3/56 (0.05)\n",
      "    explore-remote: 4/269 (0.01)\n",
      "    explore-connect: 0/0 (NaN)\n",
      "    exploit-local: 0/0 (NaN)\n",
      "    exploit-remote: 0/0 (NaN)\n",
      "    exploit-connect: 2/266 (0.01)\n",
      "  exploit deflected to exploration: 11\n",
      "simulation ended\n"
     ]
    },
    {
     "data": {
      "image/png": "[encoded data removed]",
      "text/plain": [
       "<Figure size 432x288 with 1 Axes>"
      ]
     },
     "metadata": {
      "needs_background": "light"
     },
     "output_type": "display_data"
    }
   ],
   "source": [
    "credlookup_run = learner.epsilon_greedy_search(\n",
    "    cyberbattlechain_defender,\n",
    "    ep,\n",
    "    learner=rca.CredentialCacheExploiter(),\n",
    "    episode_count=10,\n",
    "    iteration_count=iteration_count,\n",
    "    epsilon=0.90,\n",
    "    render=False,\n",
    "    epsilon_exponential_decay=10000,\n",
    "    epsilon_minimum=0.10,\n",
    "    verbosity=Verbosity.Quiet,\n",
    "    title=\"Credential lookups (ϵ-greedy)\"\n",
    ")"
   ]
  },
  {
   "cell_type": "code",
   "execution_count": 6,
   "id": "straight-plenty",
   "metadata": {
    "execution": {
     "iopub.execute_input": "2021-09-06T21:31:46.796127Z",
     "iopub.status.busy": "2021-09-06T21:31:46.795214Z",
     "iopub.status.idle": "2021-09-06T21:31:47.329682Z",
     "shell.execute_reply": "2021-09-06T21:31:47.330174Z"
    },
    "papermill": {
     "duration": 1.098617,
     "end_time": "2021-09-06T21:31:47.330365",
     "exception": false,
     "start_time": "2021-09-06T21:31:46.231748",
     "status": "completed"
    },
    "tags": []
   },
   "outputs": [
    {
     "ename": "NameError",
     "evalue": "name 'credlookup_run' is not defined",
     "output_type": "error",
     "traceback": [
      "\u001b[0;31m---------------------------------------------------------------------------\u001b[0m",
      "\u001b[0;31mNameError\u001b[0m                                 Traceback (most recent call last)",
      "Cell \u001b[0;32mIn[6], line 3\u001b[0m\n\u001b[1;32m      1\u001b[0m \u001b[38;5;66;03m# Plots\u001b[39;00m\n\u001b[1;32m      2\u001b[0m all_runs \u001b[38;5;241m=\u001b[39m [\n\u001b[0;32m----> 3\u001b[0m     \u001b[43mcredlookup_run\u001b[49m,\n\u001b[1;32m      4\u001b[0m     dqn_with_defender,\n\u001b[1;32m      5\u001b[0m     dql_exploit_run\n\u001b[1;32m      6\u001b[0m ]\n\u001b[1;32m      7\u001b[0m p\u001b[38;5;241m.\u001b[39mplot_averaged_cummulative_rewards(\n\u001b[1;32m      8\u001b[0m     all_runs\u001b[38;5;241m=\u001b[39mall_runs,\n\u001b[1;32m      9\u001b[0m     title\u001b[38;5;241m=\u001b[39m\u001b[38;5;124mf\u001b[39m\u001b[38;5;124m'\u001b[39m\u001b[38;5;124mAttacker agents vs Basic Defender -- rewards\u001b[39m\u001b[38;5;130;01m\\n\u001b[39;00m\u001b[38;5;124m env=\u001b[39m\u001b[38;5;132;01m{\u001b[39;00mcyberbattlechain_defender\u001b[38;5;241m.\u001b[39mname\u001b[38;5;132;01m}\u001b[39;00m\u001b[38;5;124m, episodes=\u001b[39m\u001b[38;5;132;01m{\u001b[39;00mtraining_episode_count\u001b[38;5;132;01m}\u001b[39;00m\u001b[38;5;124m'\u001b[39m\n\u001b[1;32m     10\u001b[0m )\n\u001b[1;32m     12\u001b[0m \u001b[38;5;66;03m# p.plot_episodes_length(all_runs)\u001b[39;00m\n",
      "\u001b[0;31mNameError\u001b[0m: name 'credlookup_run' is not defined"
     ]
    }
   ],
   "source": [
    "# Plots\n",
    "all_runs = [\n",
    "    credlookup_run,\n",
    "    dqn_with_defender,\n",
    "    dql_exploit_run\n",
    "]\n",
    "p.plot_averaged_cummulative_rewards(\n",
    "    all_runs=all_runs,\n",
    "    title=f'Attacker agents vs Basic Defender -- rewards\\n env={cyberbattlechain_defender.name}, episodes={training_episode_count}'\n",
    ")\n",
    "\n",
    "# p.plot_episodes_length(all_runs)\n",
    "p.plot_averaged_availability(title=f\"Attacker agents vs Basic Defender -- availability\\n env={cyberbattlechain_defender.name}, episodes={training_episode_count}\", all_runs=all_runs)"
   ]
  },
  {
   "cell_type": "code",
   "execution_count": null,
   "id": "imposed-vietnam",
   "metadata": {
    "papermill": {
     "duration": 0.572345,
     "end_time": "2021-09-06T21:31:48.457429",
     "exception": false,
     "start_time": "2021-09-06T21:31:47.885084",
     "status": "completed"
    },
    "tags": []
   },
   "outputs": [],
   "source": []
  },
  {
   "cell_type": "code",
   "execution_count": null,
   "id": "august-quest",
   "metadata": {
    "papermill": {
     "duration": 0.542453,
     "end_time": "2021-09-06T21:31:49.551296",
     "exception": false,
     "start_time": "2021-09-06T21:31:49.008843",
     "status": "completed"
    },
    "tags": []
   },
   "outputs": [],
   "source": []
  },
  {
   "cell_type": "code",
   "execution_count": null,
   "id": "acceptable-killer",
   "metadata": {
    "papermill": {
     "duration": 0.562564,
     "end_time": "2021-09-06T21:31:50.669670",
     "exception": false,
     "start_time": "2021-09-06T21:31:50.107106",
     "status": "completed"
    },
    "tags": []
   },
   "outputs": [],
   "source": []
  },
  {
   "cell_type": "code",
   "execution_count": null,
   "id": "australian-pantyhose",
   "metadata": {
    "papermill": {
     "duration": 0.570383,
     "end_time": "2021-09-06T21:31:51.803874",
     "exception": false,
     "start_time": "2021-09-06T21:31:51.233491",
     "status": "completed"
    },
    "tags": []
   },
   "outputs": [],
   "source": []
  }
 ],
 "metadata": {
  "jupytext": {
   "cell_metadata_filter": "-all"
  },
  "kernelspec": {
   "display_name": "cyberbattle",
   "language": "python",
   "name": "python3"
  },
  "language_info": {
   "codemirror_mode": {
    "name": "ipython",
    "version": 3
   },
   "file_extension": ".py",
   "mimetype": "text/x-python",
   "name": "python",
   "nbconvert_exporter": "python",
   "pygments_lexer": "ipython3",
   "version": "3.8.18"
  },
  "papermill": {
   "default_parameters": {},
   "duration": 87.973455,
   "end_time": "2021-09-06T21:31:53.090053",
   "environment_variables": {},
   "exception": null,
   "input_path": "-",
   "output_path": "../../../../notebooks/notebook_withdefender.ipynb",
   "parameters": {},
   "start_time": "2021-09-06T21:30:25.116598",
   "version": "2.3.3"
  }
 },
 "nbformat": 4,
 "nbformat_minor": 5
}
